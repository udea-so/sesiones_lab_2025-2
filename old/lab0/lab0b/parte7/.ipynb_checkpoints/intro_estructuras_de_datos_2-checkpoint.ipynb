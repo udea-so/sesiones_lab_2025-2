{
 "cells": [
  {
   "cell_type": "markdown",
   "metadata": {},
   "source": [
    "[![Open In Colab](https://colab.research.google.com/assets/colab-badge.svg)](https://colab.research.google.com/github/dannymrock/UdeA-SO-Lab/blob/master/lab0/lab0b/parte7/intro_estructuras_de_datos.ipynb)"
   ]
  },
  {
   "cell_type": "code",
   "execution_count": 1,
   "metadata": {},
   "outputs": [
    {
     "name": "stdout",
     "output_type": "stream",
     "text": [
      "Requirement already satisfied: tutormagic in /home/tigarto/miniconda3/lib/python3.7/site-packages (0.3.0)\n",
      "Requirement already satisfied: notebook>=3.0 in /home/tigarto/miniconda3/lib/python3.7/site-packages (from tutormagic) (6.0.1)\n",
      "Requirement already satisfied: ipykernel in /home/tigarto/miniconda3/lib/python3.7/site-packages (from notebook>=3.0->tutormagic) (5.1.3)\n",
      "Requirement already satisfied: nbconvert in /home/tigarto/miniconda3/lib/python3.7/site-packages (from notebook>=3.0->tutormagic) (5.6.1)\n",
      "Requirement already satisfied: terminado>=0.8.1 in /home/tigarto/miniconda3/lib/python3.7/site-packages (from notebook>=3.0->tutormagic) (0.8.3)\n",
      "Requirement already satisfied: jinja2 in /home/tigarto/miniconda3/lib/python3.7/site-packages (from notebook>=3.0->tutormagic) (2.10.3)\n",
      "Requirement already satisfied: jupyter-core>=4.4.0 in /home/tigarto/miniconda3/lib/python3.7/site-packages (from notebook>=3.0->tutormagic) (4.6.1)\n",
      "Requirement already satisfied: prometheus-client in /home/tigarto/miniconda3/lib/python3.7/site-packages (from notebook>=3.0->tutormagic) (0.7.1)\n",
      "Requirement already satisfied: jupyter-client>=5.3.1 in /home/tigarto/miniconda3/lib/python3.7/site-packages (from notebook>=3.0->tutormagic) (5.3.3)\n",
      "Requirement already satisfied: nbformat in /home/tigarto/miniconda3/lib/python3.7/site-packages (from notebook>=3.0->tutormagic) (4.4.0)\n",
      "Requirement already satisfied: traitlets>=4.2.1 in /home/tigarto/miniconda3/lib/python3.7/site-packages (from notebook>=3.0->tutormagic) (4.3.3)\n",
      "Requirement already satisfied: ipython-genutils in /home/tigarto/miniconda3/lib/python3.7/site-packages (from notebook>=3.0->tutormagic) (0.2.0)\n",
      "Requirement already satisfied: pyzmq>=17 in /home/tigarto/miniconda3/lib/python3.7/site-packages (from notebook>=3.0->tutormagic) (18.1.1)\n",
      "Requirement already satisfied: tornado>=5.0 in /home/tigarto/miniconda3/lib/python3.7/site-packages (from notebook>=3.0->tutormagic) (6.0.3)\n",
      "Requirement already satisfied: Send2Trash in /home/tigarto/miniconda3/lib/python3.7/site-packages (from notebook>=3.0->tutormagic) (1.5.0)\n",
      "Requirement already satisfied: ipython>=5.0.0 in /home/tigarto/miniconda3/lib/python3.7/site-packages (from ipykernel->notebook>=3.0->tutormagic) (7.11.1)\n",
      "Requirement already satisfied: mistune<2,>=0.8.1 in /home/tigarto/miniconda3/lib/python3.7/site-packages (from nbconvert->notebook>=3.0->tutormagic) (0.8.4)\n",
      "Requirement already satisfied: testpath in /home/tigarto/miniconda3/lib/python3.7/site-packages (from nbconvert->notebook>=3.0->tutormagic) (0.4.4)\n",
      "Requirement already satisfied: defusedxml in /home/tigarto/miniconda3/lib/python3.7/site-packages (from nbconvert->notebook>=3.0->tutormagic) (0.6.0)\n",
      "Requirement already satisfied: entrypoints>=0.2.2 in /home/tigarto/miniconda3/lib/python3.7/site-packages (from nbconvert->notebook>=3.0->tutormagic) (0.3)\n",
      "Requirement already satisfied: pandocfilters>=1.4.1 in /home/tigarto/miniconda3/lib/python3.7/site-packages (from nbconvert->notebook>=3.0->tutormagic) (1.4.2)\n",
      "Requirement already satisfied: pygments in /home/tigarto/miniconda3/lib/python3.7/site-packages (from nbconvert->notebook>=3.0->tutormagic) (2.5.2)\n",
      "Requirement already satisfied: bleach in /home/tigarto/miniconda3/lib/python3.7/site-packages (from nbconvert->notebook>=3.0->tutormagic) (3.1.0)\n",
      "Requirement already satisfied: MarkupSafe>=0.23 in /home/tigarto/miniconda3/lib/python3.7/site-packages (from jinja2->notebook>=3.0->tutormagic) (1.1.1)\n",
      "Requirement already satisfied: python-dateutil>=2.1 in /home/tigarto/miniconda3/lib/python3.7/site-packages (from jupyter-client>=5.3.1->notebook>=3.0->tutormagic) (2.8.1)\n",
      "Requirement already satisfied: jsonschema!=2.5.0,>=2.4 in /home/tigarto/miniconda3/lib/python3.7/site-packages (from nbformat->notebook>=3.0->tutormagic) (3.2.0)\n",
      "Requirement already satisfied: six in /home/tigarto/miniconda3/lib/python3.7/site-packages (from traitlets>=4.2.1->notebook>=3.0->tutormagic) (1.12.0)\n",
      "Requirement already satisfied: decorator in /home/tigarto/miniconda3/lib/python3.7/site-packages (from traitlets>=4.2.1->notebook>=3.0->tutormagic) (4.4.1)\n",
      "Requirement already satisfied: backcall in /home/tigarto/miniconda3/lib/python3.7/site-packages (from ipython>=5.0.0->ipykernel->notebook>=3.0->tutormagic) (0.1.0)\n",
      "Requirement already satisfied: setuptools>=18.5 in /home/tigarto/miniconda3/lib/python3.7/site-packages (from ipython>=5.0.0->ipykernel->notebook>=3.0->tutormagic) (45.2.0)\n",
      "Requirement already satisfied: prompt-toolkit!=3.0.0,!=3.0.1,<3.1.0,>=2.0.0 in /home/tigarto/miniconda3/lib/python3.7/site-packages (from ipython>=5.0.0->ipykernel->notebook>=3.0->tutormagic) (3.0.2)\n",
      "Requirement already satisfied: jedi>=0.10 in /home/tigarto/miniconda3/lib/python3.7/site-packages (from ipython>=5.0.0->ipykernel->notebook>=3.0->tutormagic) (0.15.2)\n",
      "Requirement already satisfied: pexpect; sys_platform != \"win32\" in /home/tigarto/miniconda3/lib/python3.7/site-packages (from ipython>=5.0.0->ipykernel->notebook>=3.0->tutormagic) (4.7.0)\n",
      "Requirement already satisfied: pickleshare in /home/tigarto/miniconda3/lib/python3.7/site-packages (from ipython>=5.0.0->ipykernel->notebook>=3.0->tutormagic) (0.7.5)\n",
      "Requirement already satisfied: webencodings in /home/tigarto/miniconda3/lib/python3.7/site-packages (from bleach->nbconvert->notebook>=3.0->tutormagic) (0.5.1)\n",
      "Requirement already satisfied: pyrsistent>=0.14.0 in /home/tigarto/miniconda3/lib/python3.7/site-packages (from jsonschema!=2.5.0,>=2.4->nbformat->notebook>=3.0->tutormagic) (0.15.6)\n",
      "Requirement already satisfied: importlib-metadata; python_version < \"3.8\" in /home/tigarto/miniconda3/lib/python3.7/site-packages (from jsonschema!=2.5.0,>=2.4->nbformat->notebook>=3.0->tutormagic) (1.3.0)\n",
      "Requirement already satisfied: attrs>=17.4.0 in /home/tigarto/miniconda3/lib/python3.7/site-packages (from jsonschema!=2.5.0,>=2.4->nbformat->notebook>=3.0->tutormagic) (19.3.0)\n",
      "Requirement already satisfied: wcwidth in /home/tigarto/miniconda3/lib/python3.7/site-packages (from prompt-toolkit!=3.0.0,!=3.0.1,<3.1.0,>=2.0.0->ipython>=5.0.0->ipykernel->notebook>=3.0->tutormagic) (0.1.8)\n",
      "Requirement already satisfied: parso>=0.5.2 in /home/tigarto/miniconda3/lib/python3.7/site-packages (from jedi>=0.10->ipython>=5.0.0->ipykernel->notebook>=3.0->tutormagic) (0.5.2)\n",
      "Requirement already satisfied: ptyprocess>=0.5 in /home/tigarto/miniconda3/lib/python3.7/site-packages (from pexpect; sys_platform != \"win32\"->ipython>=5.0.0->ipykernel->notebook>=3.0->tutormagic) (0.6.0)\n",
      "Requirement already satisfied: zipp>=0.5 in /home/tigarto/miniconda3/lib/python3.7/site-packages (from importlib-metadata; python_version < \"3.8\"->jsonschema!=2.5.0,>=2.4->nbformat->notebook>=3.0->tutormagic) (0.6.0)\n",
      "Requirement already satisfied: more-itertools in /home/tigarto/miniconda3/lib/python3.7/site-packages (from zipp>=0.5->importlib-metadata; python_version < \"3.8\"->jsonschema!=2.5.0,>=2.4->nbformat->notebook>=3.0->tutormagic) (8.0.2)\n"
     ]
    }
   ],
   "source": [
    "!pip install tutormagic\n",
    "%load_ext tutormagic"
   ]
  },
  {
   "cell_type": "markdown",
   "metadata": {},
   "source": [
    "# Conceptos previos - Repaso #"
   ]
  },
  {
   "cell_type": "markdown",
   "metadata": {},
   "source": [
    "## Apuntadores ##"
   ]
  },
  {
   "cell_type": "code",
   "execution_count": 8,
   "metadata": {},
   "outputs": [
    {
     "data": {
      "text/html": [
       "<div class=\"text-center\"><strong><a style=\"box-sizing: border-box; padding: 0 5px; border: 1px solid #CFCFCF;\" target=\"_\" href=http://pythontutor.com/iframe-embed.html#code=%23include%20%3Cstdio.h%3E%0A%0Aint%20main%28%29%20%7B%0A%20%20%20%20int%20a%20%3D%200%3B%0A%20%20%20%20int%20%2AaPtr%3B%0A%20%20%20%20aPtr%20%3D%20%26a%3B%0A%20%20%20%20%2AaPtr%20%3D%203%3B%0A%20%20%20%20return%200%3B%0A%7D%0A&origin=opt-frontend.js&cumulative=false&heapPrimitives=false&textReferences=false&curInstr=0&&verticalStack=false&py=c&rawInputLstJSON=%5B%5D&codeDivWidth=50%25&codeDivHeight=100%25>Python Tutor</a></strong></div>"
      ],
      "text/plain": [
       "<IPython.core.display.HTML object>"
      ]
     },
     "metadata": {},
     "output_type": "display_data"
    }
   ],
   "source": [
    "%%tutor -l c -k\n",
    "#include <stdio.h>\n",
    "\n",
    "int main() {\n",
    "    int a = 0;\n",
    "    int *aPtr;\n",
    "    aPtr = &a;\n",
    "    *aPtr = 3;\n",
    "    return 0;\n",
    "}\n"
   ]
  },
  {
   "cell_type": "code",
   "execution_count": 17,
   "metadata": {},
   "outputs": [
    {
     "data": {
      "text/html": [
       "<div class=\"text-center\"><strong><a style=\"box-sizing: border-box; padding: 0 5px; border: 1px solid #CFCFCF;\" target=\"_\" href=http://pythontutor.com/iframe-embed.html#code=%23include%20%3Cstdio.h%3E%0A%0A%23define%20NULL%200%0A%0Aint%20main%28%29%20%7B%0A%20%20%20%20int%20a%20%3D%203%2C%20b%20%3D%204%3B%0A%20%20%20%20int%20%2Ap%20%3D%20%26a%3B%0A%20%20%20%20int%20%2A%2App%20%3D%20%26p%3B%0A%20%20%20%20int%20%2A%2A%2Appp%20%3D%20%26pp%3B%0A%20%20%20%20%2A%2A%2Appp%20%3D%205%3B%0A%20%20%20%20%2A%2Appp%20%3D%20%26b%3B%0A%20%20%20%20%2A%2App%20%3D%206%3B%0A%20%20%20%20return%200%3B%0A%7D%0A&origin=opt-frontend.js&cumulative=false&heapPrimitives=false&textReferences=false&curInstr=0&&verticalStack=false&py=c&rawInputLstJSON=%5B%5D&codeDivWidth=50%25&codeDivHeight=100%25>Python Tutor</a></strong></div>"
      ],
      "text/plain": [
       "<IPython.core.display.HTML object>"
      ]
     },
     "metadata": {},
     "output_type": "display_data"
    }
   ],
   "source": [
    "%%tutor -l c -k\n",
    "#include <stdio.h>\n",
    "\n",
    "#define NULL 0\n",
    "\n",
    "int main() {\n",
    "    int a = 3, b = 4;\n",
    "    int *p = &a;\n",
    "    int **pp = &p;\n",
    "    int ***ppp = &pp;\n",
    "    ***ppp = 5;\n",
    "    **ppp = &b;\n",
    "    **pp = 6;\n",
    "    return 0;\n",
    "}"
   ]
  },
  {
   "cell_type": "markdown",
   "metadata": {},
   "source": [
    "## Reserva dinámica de memoria ##"
   ]
  },
  {
   "cell_type": "code",
   "execution_count": 15,
   "metadata": {},
   "outputs": [
    {
     "data": {
      "text/html": [
       "<div class=\"text-center\"><strong><a style=\"box-sizing: border-box; padding: 0 5px; border: 1px solid #CFCFCF;\" target=\"_\" href=http://pythontutor.com/iframe-embed.html#code=%23include%20%3Cstdio.h%3E%0A%0A%23define%20NULL%200%0Aint%20main%28%29%20%7B%0A%20%20%20%20int%20%2Aptr1%20%3D%20%28int%20%2A%29malloc%28sizeof%28int%29%29%3B%0A%20%20%20%20int%20%2Aptr2%20%3D%20NULL%3B%0A%20%20%20%20ptr2%20%3D%20%28int%20%2A%29malloc%283%2Asizeof%28int%29%29%3B%0A%20%20%20%20%2Aptr1%20%3D%203%3B%0A%20%20%20%20%2Aptr2%20%3D%20%2Aptr1%20%2B%201%3B%0A%20%20%20%20%2A%28ptr2%20%2B%201%29%20%3D%20%2Aptr1%20%2B%202%3B%0A%20%20%20%20%2A%28ptr2%20%2B%202%29%20%3D%20%2Aptr1%20%2B%203%3B%0A%20%20%20%20free%28ptr1%29%3B%0A%20%20%20%20ptr1%20%3D%20NULL%3B%0A%20%20%20%20free%28ptr2%29%3B%20%0A%20%20%20%20ptr2%20%3D%20NULL%3B%0A%20%20%20%20return%200%3B%0A%7D%0A&origin=opt-frontend.js&cumulative=false&heapPrimitives=false&textReferences=false&curInstr=0&&verticalStack=false&py=c&rawInputLstJSON=%5B%5D&codeDivWidth=50%25&codeDivHeight=100%25>Python Tutor</a></strong></div>"
      ],
      "text/plain": [
       "<IPython.core.display.HTML object>"
      ]
     },
     "metadata": {},
     "output_type": "display_data"
    }
   ],
   "source": [
    "%%tutor -l c -k\n",
    "#include <stdio.h>\n",
    "\n",
    "#define NULL 0\n",
    "int main() {\n",
    "    int *ptr1 = (int *)malloc(sizeof(int));\n",
    "    int *ptr2 = NULL;\n",
    "    ptr2 = (int *)malloc(3*sizeof(int));\n",
    "    *ptr1 = 3;\n",
    "    *ptr2 = *ptr1 + 1;\n",
    "    *(ptr2 + 1) = *ptr1 + 2;\n",
    "    *(ptr2 + 2) = *ptr1 + 3;\n",
    "    free(ptr1);\n",
    "    ptr1 = NULL;\n",
    "    free(ptr2); \n",
    "    ptr2 = NULL;\n",
    "    return 0;\n",
    "}\n"
   ]
  },
  {
   "cell_type": "code",
   "execution_count": 63,
   "metadata": {},
   "outputs": [
    {
     "data": {
      "text/html": [
       "<div class=\"text-center\"><strong><a style=\"box-sizing: border-box; padding: 0 5px; border: 1px solid #CFCFCF;\" target=\"_\" href=http://pythontutor.com/iframe-embed.html#code=%23include%20%3Cstdio.h%3E%0A%0A%23define%20NULL%200%0A%0Aint%20main%28%29%20%7B%0A%20%20%20%20int%20%2Aarr%5B2%5D%3B%0A%20%20%20%20arr%5B0%5D%20%3D%20%28int%2A%29calloc%284%2Csizeof%28int%29%29%3B%20%0A%20%20%20%20arr%5B1%5D%20%3D%20%28int%2A%29calloc%285%2Csizeof%28int%29%29%3B%20%0A%20%20%20%20int%20%2A%2App%3B%0A%20%20%20%20pp%20%3D%20%26arr%5B0%5D%3B%0A%20%20%20%20%2A%28arr%5B0%5D%20%2B%203%29%20%3D%202%3B%20%20%0A%20%20%20%20arr%5B0%5D%5B1%5D%20%3D%205%3B%0A%20%20%20%20%2A%28%2App%20%2B%202%29%20%3D%20-3%3B%0A%20%20%20%20pp%20%3D%20%26arr%5B1%5D%3B%0A%20%20%20%20%2A%28%2App%20%2B%201%29%20%3D%203%3B%0A%20%20%20%20%2A%28%2A%28arr%20%2B%201%29%20%2B%204%29%20%3D%2010%3B%0A%20%20%20%20free%28arr%5B0%5D%29%3B%0A%20%20%20%20free%28arr%5B1%5D%29%3B%0A%20%20%20%20arr%5B0%5D%20%3D%20NULL%3B%0A%20%20%20%20arr%5B1%5D%20%3D%20NULL%3B%0A%20%20%20%20pp%20%3D%20NULL%3B%0A%20%20%20%20return%200%3B%20%0A%7D%0A&origin=opt-frontend.js&cumulative=false&heapPrimitives=false&textReferences=false&curInstr=0&&verticalStack=false&py=c&rawInputLstJSON=%5B%5D&codeDivWidth=50%25&codeDivHeight=100%25>Python Tutor</a></strong></div>"
      ],
      "text/plain": [
       "<IPython.core.display.HTML object>"
      ]
     },
     "metadata": {},
     "output_type": "display_data"
    }
   ],
   "source": [
    "%%tutor -l c -k\n",
    "#include <stdio.h>\n",
    "\n",
    "#define NULL 0\n",
    "\n",
    "int main() {\n",
    "    int *arr[2];\n",
    "    arr[0] = (int*)calloc(4,sizeof(int)); \n",
    "    arr[1] = (int*)calloc(5,sizeof(int)); \n",
    "    int **pp;\n",
    "    pp = &arr[0];\n",
    "    *(arr[0] + 3) = 2;  \n",
    "    arr[0][1] = 5;\n",
    "    *(*pp + 2) = -3;\n",
    "    pp = &arr[1];\n",
    "    *(*pp + 1) = 3;\n",
    "    *(*(arr + 1) + 4) = 10;\n",
    "    free(arr[0]);\n",
    "    free(arr[1]);\n",
    "    arr[0] = NULL;\n",
    "    arr[1] = NULL;\n",
    "    pp = NULL;\n",
    "    return 0; \n",
    "}"
   ]
  },
  {
   "cell_type": "code",
   "execution_count": 71,
   "metadata": {},
   "outputs": [
    {
     "data": {
      "text/html": [
       "<div class=\"text-center\"><strong><a style=\"box-sizing: border-box; padding: 0 5px; border: 1px solid #CFCFCF;\" target=\"_\" href=http://pythontutor.com/iframe-embed.html#code=%23include%20%3Cstdio.h%3E%0A%0A%0A%23define%20NULL%200%0A%0Aint%20main%28%29%20%7B%0A%20%20%20%20int%20%2A%2App%20%3D%20%28int%20%2A%2A%29malloc%282%2Asizeof%28int%2A%2A%29%29%3B%20%0A%20%20%20%20%2A%28pp%20%2B%201%29%20%3D%20%28int%20%2A%29malloc%283%2Asizeof%28int%29%29%3B%0A%20%20%20%20pp%5B0%5D%20%3D%20%28int%20%2A%29malloc%284%2Asizeof%28int%29%29%3B%0A%20%20%20%20pp%5B0%5D%5B3%5D%20%3D%203%3B%0A%20%20%20%20%2A%28%2App%20%2B%202%29%20%3D%20-2%3B%0A%20%20%20%20%2A%28pp%5B1%5D%20%2B%201%29%20%3D%2010%3B%0A%20%20%20%20%2A%28%2A%28pp%20%2B%201%29%20%2B%202%29%20%3D%2030%3B%0A%20%20%20%20%2A%28%2App%20%2B%201%29%20%3D%20-12%3B%20%20%0A%20%20%20%20free%28pp%5B0%5D%29%3B%0A%20%20%20%20pp%5B0%5D%20%3D%20NULL%3B%0A%20%20%20%20free%28%2A%28pp%20%2B%201%29%29%3B%0A%20%20%20%20pp%5B1%5D%20%3D%20NULL%3B%0A%20%20%20%20pp%20%3D%20NULL%3B%0A%20%20%20%20return%200%3B%0A%7D%0A&origin=opt-frontend.js&cumulative=false&heapPrimitives=false&textReferences=false&curInstr=0&&verticalStack=false&py=c&rawInputLstJSON=%5B%5D&codeDivWidth=50%25&codeDivHeight=100%25>Python Tutor</a></strong></div>"
      ],
      "text/plain": [
       "<IPython.core.display.HTML object>"
      ]
     },
     "metadata": {},
     "output_type": "display_data"
    }
   ],
   "source": [
    "%%tutor -l c -k\n",
    "#include <stdio.h>\n",
    "\n",
    "\n",
    "#define NULL 0\n",
    "\n",
    "int main() {\n",
    "    int **pp = (int **)malloc(2*sizeof(int**)); \n",
    "    *(pp + 1) = (int *)malloc(3*sizeof(int));\n",
    "    pp[0] = (int *)malloc(4*sizeof(int));\n",
    "    pp[0][3] = 3;\n",
    "    *(*pp + 2) = -2;\n",
    "    *(pp[1] + 1) = 10;\n",
    "    *(*(pp + 1) + 2) = 30;\n",
    "    *(*pp + 1) = -12;  \n",
    "    free(pp[0]);\n",
    "    pp[0] = NULL;\n",
    "    free(*(pp + 1));\n",
    "    pp[1] = NULL;\n",
    "    pp = NULL;\n",
    "    return 0;\n",
    "}"
   ]
  },
  {
   "cell_type": "code",
   "execution_count": 115,
   "metadata": {},
   "outputs": [
    {
     "data": {
      "text/html": [
       "<div class=\"text-center\"><strong><a style=\"box-sizing: border-box; padding: 0 5px; border: 1px solid #CFCFCF;\" target=\"_\" href=http://pythontutor.com/iframe-embed.html#code=%23include%20%3Cstdio.h%3E%0A%0A%23define%20NULL%200%0A%0Astruct%20nodo%7B%0A%20%20%20%20char%20%2Acad%3B%0A%20%20%20%20struct%20nodo%20%2A%2Anext_nodo%3B%20%20%20%20%0A%7D%3B%0A%0Atypedef%20struct%20nodo%20nodo%3B%0A%0Aint%20main%28%29%20%7B%0A%20%20%20%20nodo%20%2Anodo1%20%3D%20%28nodo%20%2A%29malloc%28sizeof%28nodo%29%29%3B%0A%20%20%20%20nodo1-%3Ecad%20%3D%20%28char%2A%29malloc%2820%2Asizeof%28char%29%29%3B%0A%20%20%20%20strcpy%28nodo1-%3Ecad%2C%20%22Lenguaje%20C%22%29%3B%0A%20%20%20%20nodo1-%3Enext_nodo%20%3D%20NULL%3B%0A%20%20%20%20nodo%20%2Anodo2%20%3D%20%28nodo%20%2A%29malloc%28sizeof%28nodo%29%29%3B%0A%20%20%20%20nodo2-%3Enext_nodo%20%3D%20NULL%3B%0A%20%20%20%20nodo1-%3Enext_nodo%20%3D%20%26nodo2%3B%0A%20%20%20%20nodo2-%3Ecad%20%3D%20%28char%2A%29malloc%2820%2Asizeof%28char%29%29%3B%0A%20%20%20%20strcpy%28nodo2-%3Ecad%2C%20%22Lenguaje%20Java%22%29%3B%0A%20%20%20%20nodo%20%2Anodo3%20%3D%20%28nodo%20%2A%29malloc%28sizeof%28nodo%29%29%3B%0A%20%20%20%20nodo3-%3Ecad%20%3D%20%28char%2A%29malloc%2820%2Asizeof%28char%29%29%3B%0A%20%20%20%20strcpy%28nodo3-%3Ecad%2C%20%22Lenguaje%20Python%22%29%3B%0A%20%20%20%20nodo3-%3Enext_nodo%20%3D%20%26nodo2%3B%0A%20%20%20%20nodo1-%3Enext_nodo%20%3D%20%26nodo3%3B%0A%20%20%20%20nodo%20%2Atemp%20%3D%20nodo1%3B%0A%20%20%20%20while%28temp-%3Enext_nodo%20%21%3D%20NULL%29%20%7B%0A%20%20%20%20%20%20%20%20printf%28%22%25s%20---%3E%20%22%2Ctemp-%3Ecad%29%3B%0A%20%20%20%20%20%20%20%20temp%20%3D%20%2Atemp-%3Enext_nodo%3B%20%20%20%20%20%20%0A%20%20%20%20%7D%0A%20%20%20%20printf%28%22%20%25s%20---%3E%20NULL%5Cn%22%2Ctemp-%3Ecad%29%3B%0A%20%20%20%20//%20Eliminando%20el%20nodo%203%20%28Mitad%29%0A%20%20%20%20nodo1-%3Enext_nodo%20%3D%20%26nodo2%3B%0A%20%20%20%20nodo3-%3Enext_nodo%20%3D%20NULL%3B%20%20%20%20%0A%20%20%20%20free%28nodo3%29%3B%0A%20%20%20%20nodo3%20%3D%20NULL%3B%0A%20%20%20%20//%20Volviendo%20a%20imprimir%20lo%20que%20quedo%0A%20%20%20%20temp%20%3D%20nodo1%3B%0A%20%20%20%20while%28temp-%3Enext_nodo%20%21%3D%20NULL%29%20%7B%0A%20%20%20%20%20%20%20%20printf%28%22%25s%20---%3E%20%22%2Ctemp-%3Ecad%29%3B%0A%20%20%20%20%20%20%20%20temp%20%3D%20%2Atemp-%3Enext_nodo%3B%20%20%20%20%20%20%0A%20%20%20%20%7D%0A%20%20%20%20printf%28%22%20%25s%20---%3E%20NULL%5Cn%22%2Ctemp-%3Ecad%29%3B%0A%20%20%20%20//%20Eliminando%20los%20elementos%20restantes%0A%20%20%20%20temp%20%3D%20nodo1%3B%0A%20%20%20%20while%28%2Atemp-%3Enext_nodo%20%21%3D%20NULL%29%20%7B%0A%20%20%20%20%20%20%20%20free%28%2Atemp-%3Enext_nodo%29%3B%20%0A%20%20%20%20%20%20%20%20%2Atemp-%3Enext_nodo%20%3D%20NULL%3B%0A%20%20%20%20%7D%0A%20%20%20%20temp%20%3D%20nodo1%3B%20%20%20%20%0A%20%20%20%20free%28temp%29%3B%0A%20%20%20%20nodo1%20%3D%20NULL%3B%0A%20%20%20%20temp%20%3D%20NULL%3B%0A%20%20%20%20return%200%3B%0A%7D%0A&origin=opt-frontend.js&cumulative=false&heapPrimitives=false&textReferences=false&curInstr=0&&verticalStack=false&py=c&rawInputLstJSON=%5B%5D&codeDivWidth=50%25&codeDivHeight=100%25>Python Tutor</a></strong></div>"
      ],
      "text/plain": [
       "<IPython.core.display.HTML object>"
      ]
     },
     "metadata": {},
     "output_type": "display_data"
    }
   ],
   "source": [
    "%%tutor -l c -k\n",
    "#include <stdio.h>\n",
    "\n",
    "#define NULL 0\n",
    "\n",
    "struct nodo{\n",
    "    char *cad;\n",
    "    struct nodo **next_nodo;    \n",
    "};\n",
    "\n",
    "typedef struct nodo nodo;\n",
    "\n",
    "int main() {\n",
    "    nodo *nodo1 = (nodo *)malloc(sizeof(nodo));\n",
    "    nodo1->cad = (char*)malloc(20*sizeof(char));\n",
    "    strcpy(nodo1->cad, \"Lenguaje C\");\n",
    "    nodo1->next_nodo = NULL;\n",
    "    nodo *nodo2 = (nodo *)malloc(sizeof(nodo));\n",
    "    nodo2->next_nodo = NULL;\n",
    "    nodo1->next_nodo = &nodo2;\n",
    "    nodo2->cad = (char*)malloc(20*sizeof(char));\n",
    "    strcpy(nodo2->cad, \"Lenguaje Java\");\n",
    "    nodo *nodo3 = (nodo *)malloc(sizeof(nodo));\n",
    "    nodo3->cad = (char*)malloc(20*sizeof(char));\n",
    "    strcpy(nodo3->cad, \"Lenguaje Python\");\n",
    "    nodo3->next_nodo = &nodo2;\n",
    "    nodo1->next_nodo = &nodo3;\n",
    "    nodo *temp = nodo1;\n",
    "    while(temp->next_nodo != NULL) {\n",
    "        printf(\"%s ---> \",temp->cad);\n",
    "        temp = *temp->next_nodo;      \n",
    "    }\n",
    "    printf(\" %s ---> NULL\\n\",temp->cad);\n",
    "    // Eliminando el nodo 3 (Mitad)\n",
    "    nodo1->next_nodo = &nodo2;\n",
    "    nodo3->next_nodo = NULL;    \n",
    "    free(nodo3);\n",
    "    nodo3 = NULL;\n",
    "    // Volviendo a imprimir lo que quedo\n",
    "    temp = nodo1;\n",
    "    while(temp->next_nodo != NULL) {\n",
    "        printf(\"%s ---> \",temp->cad);\n",
    "        temp = *temp->next_nodo;      \n",
    "    }\n",
    "    printf(\" %s ---> NULL\\n\",temp->cad);\n",
    "    // Eliminando los elementos restantes\n",
    "    temp = nodo1;\n",
    "    while(*temp->next_nodo != NULL) {\n",
    "        free(*temp->next_nodo); \n",
    "        *temp->next_nodo = NULL;\n",
    "    }\n",
    "    temp = nodo1;    \n",
    "    free(temp);\n",
    "    nodo1 = NULL;\n",
    "    temp = NULL;\n",
    "    return 0;\n",
    "}"
   ]
  },
  {
   "cell_type": "code",
   "execution_count": null,
   "metadata": {},
   "outputs": [],
   "source": []
  },
  {
   "cell_type": "markdown",
   "metadata": {},
   "source": [
    "# Estructuras de datos dinamicas #"
   ]
  },
  {
   "cell_type": "markdown",
   "metadata": {},
   "source": [
    "## Listas enladas ##"
   ]
  },
  {
   "cell_type": "markdown",
   "metadata": {},
   "source": [
    "Operaciones elementales"
   ]
  },
  {
   "cell_type": "markdown",
   "metadata": {},
   "source": [
    "* Código tomado del libro de deitel y deitel.\n",
    "* Colocar el enlace en la nube."
   ]
  },
  {
   "cell_type": "code",
   "execution_count": 7,
   "metadata": {},
   "outputs": [
    {
     "data": {
      "text/html": [
       "<div class=\"text-center\"><strong><a style=\"box-sizing: border-box; padding: 0 5px; border: 1px solid #CFCFCF;\" target=\"_\" href=http://pythontutor.com/iframe-embed.html#code=%0A%23define%20NULL%200%0A%0A//%20self-referential%20structure%20%20%20%20%20%20%20%20%20%20%20%20%20%20%20%20%20%20%20%20%20%20%20%0Astruct%20listNode%20%7B%20%20%20%20%20%20%20%20%20%20%20%20%20%20%20%20%20%20%20%20%20%20%20%20%20%20%20%20%20%20%20%20%20%20%20%20%20%20%0A%20%20%20char%20data%3B%20//%20each%20listNode%20contains%20a%20character%20%0A%20%20%20struct%20listNode%20%2AnextPtr%3B%20//%20pointer%20to%20next%20node%0A%7D%3B%20%0A%0Atypedef%20struct%20listNode%20ListNode%3B%20//%20synonym%20for%20struct%20listNode%0Atypedef%20ListNode%20%2AListNodePtr%3B%20//%20synonym%20for%20ListNode%2A%0A%0A//%20prototypes%0Avoid%20insert%28ListNodePtr%20%2AsPtr%2C%20char%20value%29%3B%0Achar%20delete%28ListNodePtr%20%2AsPtr%2C%20char%20value%29%3B%0Aint%20isEmpty%28ListNodePtr%20sPtr%29%3B%0Avoid%20printList%28ListNodePtr%20currentPtr%29%3B%0Avoid%20instructions%28void%29%3B%0A%0Aint%20main%28void%29%0A%7B%20%0A%20%20%20ListNodePtr%20startPtr%20%3D%20NULL%3B%20//%20initially%20there%20are%20no%20nodes%0A%20%20%20int%20empty%20%3D%20isEmpty%28startPtr%29%3B%0A%20%20%20if%28empty%20%3D%3D%201%29%20%7B%0A%20%20%20%20%20%20%20puts%28%22Empty%20List%22%29%3B%0A%20%20%20%7D%0A%20%20%20puts%28%22Add%20elements%20to%20list%22%29%3B%0A%20%20%20insert%28%26startPtr%2C%20%27A%27%29%3B%20%20//%20Add%20A%3A%20A%0A%20%20%20insert%28%26startPtr%2C%20%27B%27%29%3B%20%20//%20Add%20B%3A%20A%20--%20B%20%0A%20%20%20insert%28%26startPtr%2C%20%27X%27%29%3B%20%20//%20Add%20X%3A%20A%20--%20B%20--%20X%0A%20%20%20printList%28startPtr%29%3B%20%20%20%20%20//%20Print%20list%27s%20elements%0A%20%20%20insert%28%26startPtr%2C%20%27Z%27%29%3B%20%20//%20Add%20Z%3A%20A%20--%20B%20--%20X%20--%20Z%0A%20%20%20printList%28startPtr%29%3B%20%20%20%20%20//%20Print%20list%27s%20elements%0A%20%20%20delete%28%26startPtr%2C%27B%27%29%3B%20%20%20//%20Delete%20B%3A%20A%20--%20X%20--%20Z%20%0A%20%20%20delete%28%26startPtr%2C%27Z%27%29%3B%20%20%20//%20Delete%20Z%3A%20A%20--%20X%20%20%0A%20%20%20printList%28startPtr%29%3B%20%20%20%20%20//%20Print%20list%27s%20elements%0A%20%20%20return%200%3B%0A%7D%20%0A%0A%0A%0A//%20insert%20a%20new%20value%20into%20the%20list%20in%20sorted%20order%0Avoid%20insert%28ListNodePtr%20%2AsPtr%2C%20char%20value%29%0A%7B%20%0A%20%20%20ListNodePtr%20newPtr%20%3D%20malloc%28sizeof%28ListNode%29%29%3B%20//%20create%20node%0A%0A%20%20%20if%20%28newPtr%20%21%3D%20NULL%29%20%7B%20//%20is%20space%20available%0A%20%20%20%20%20%20newPtr-%3Edata%20%3D%20value%3B%20//%20place%20value%20in%20node%0A%20%20%20%20%20%20newPtr-%3EnextPtr%20%3D%20NULL%3B%20//%20node%20does%20not%20link%20to%20another%20node%0A%0A%20%20%20%20%20%20ListNodePtr%20previousPtr%20%3D%20NULL%3B%0A%20%20%20%20%20%20ListNodePtr%20currentPtr%20%3D%20%2AsPtr%3B%0A%0A%20%20%20%20%20%20//%20loop%20to%20find%20the%20correct%20location%20in%20the%20list%20%20%20%20%20%20%20%0A%20%20%20%20%20%20while%20%28currentPtr%20%21%3D%20NULL%20%26%26%20value%20%3E%20currentPtr-%3Edata%29%20%7B%0A%20%20%20%20%20%20%20%20%20previousPtr%20%3D%20currentPtr%3B%20//%20walk%20to%20...%20%20%20%20%20%20%20%20%20%20%20%20%20%20%20%0A%20%20%20%20%20%20%20%20%20currentPtr%20%3D%20currentPtr-%3EnextPtr%3B%20//%20...%20next%20node%20%0A%20%20%20%20%20%20%7D%20%20%20%20%20%20%20%20%20%20%20%20%20%20%20%20%20%20%20%20%20%20%20%20%20%20%20%20%20%20%20%20%20%20%20%20%20%20%20%20%20%20%0A%0A%20%20%20%20%20%20//%20insert%20new%20node%20at%20beginning%20of%20list%0A%20%20%20%20%20%20if%20%28previousPtr%20%3D%3D%20NULL%29%20%7B%20%0A%20%20%20%20%20%20%20%20%20newPtr-%3EnextPtr%20%3D%20%2AsPtr%3B%0A%20%20%20%20%20%20%20%20%20%2AsPtr%20%3D%20newPtr%3B%0A%20%20%20%20%20%20%7D%20%0A%20%20%20%20%20%20else%20%7B%20//%20insert%20new%20node%20between%20previousPtr%20and%20currentPtr%0A%20%20%20%20%20%20%20%20%20previousPtr-%3EnextPtr%20%3D%20newPtr%3B%0A%20%20%20%20%20%20%20%20%20newPtr-%3EnextPtr%20%3D%20currentPtr%3B%0A%20%20%20%20%20%20%7D%20%0A%20%20%20%7D%20%0A%20%20%20else%20%7B%0A%20%20%20%20%20%20printf%28%22%25c%20not%20inserted.%20No%20memory%20available.%5Cn%22%2C%20value%29%3B%0A%20%20%20%7D%20%0A%7D%20%0A%0A//%20delete%20a%20list%20element%0Achar%20delete%28ListNodePtr%20%2AsPtr%2C%20char%20value%29%0A%7B%20%0A%20%20%20//%20delete%20first%20node%20if%20a%20match%20is%20found%0A%20%20%20if%20%28value%20%3D%3D%20%28%2AsPtr%29-%3Edata%29%20%7B%20%0A%20%20%20%20%20%20ListNodePtr%20tempPtr%20%3D%20%2AsPtr%3B%20//%20hold%20onto%20node%20being%20removed%0A%20%20%20%20%20%20%2AsPtr%20%3D%20%28%2AsPtr%29-%3EnextPtr%3B%20//%20de-thread%20the%20node%0A%20%20%20%20%20%20free%28tempPtr%29%3B%20//%20free%20the%20de-threaded%20node%0A%20%20%20%20%20%20return%20value%3B%0A%20%20%20%7D%20%0A%20%20%20else%20%7B%20%0A%20%20%20%20%20%20ListNodePtr%20previousPtr%20%3D%20%2AsPtr%3B%0A%20%20%20%20%20%20ListNodePtr%20currentPtr%20%3D%20%28%2AsPtr%29-%3EnextPtr%3B%0A%0A%20%20%20%20%20%20//%20loop%20to%20find%20the%20correct%20location%20in%20the%20list%0A%20%20%20%20%20%20while%20%28currentPtr%20%21%3D%20NULL%20%26%26%20currentPtr-%3Edata%20%21%3D%20value%29%20%7B%20%0A%20%20%20%20%20%20%20%20%20previousPtr%20%3D%20currentPtr%3B%20//%20walk%20to%20...%20%20%0A%20%20%20%20%20%20%20%20%20currentPtr%20%3D%20currentPtr-%3EnextPtr%3B%20//%20...%20next%20node%20%20%0A%20%20%20%20%20%20%7D%20%0A%0A%20%20%20%20%20%20//%20delete%20node%20at%20currentPtr%0A%20%20%20%20%20%20if%20%28currentPtr%20%21%3D%20NULL%29%20%7B%20%0A%20%20%20%20%20%20%20%20%20ListNodePtr%20tempPtr%20%3D%20currentPtr%3B%0A%20%20%20%20%20%20%20%20%20previousPtr-%3EnextPtr%20%3D%20currentPtr-%3EnextPtr%3B%0A%20%20%20%20%20%20%20%20%20free%28tempPtr%29%3B%0A%20%20%20%20%20%20%20%20%20return%20value%3B%0A%20%20%20%20%20%20%7D%20%0A%20%20%20%7D%20%0A%0A%20%20%20return%20%27%5C0%27%3B%0A%7D%20%0A%0A//%20return%201%20if%20the%20list%20is%20empty%2C%200%20otherwise%0Aint%20isEmpty%28ListNodePtr%20sPtr%29%0A%7B%20%0A%20%20%20return%20sPtr%20%3D%3D%20NULL%3B%0A%7D%20%0A%0A//%20print%20the%20list%0Avoid%20printList%28ListNodePtr%20currentPtr%29%0A%7B%20%0A%20%20%20//%20if%20list%20is%20empty%0A%20%20%20if%20%28isEmpty%28currentPtr%29%29%20%7B%0A%20%20%20%20%20%20puts%28%22List%20is%20empty.%5Cn%22%29%3B%0A%20%20%20%7D%20%0A%20%20%20else%20%7B%20%0A%20%20%20%20%20%20puts%28%22The%20list%20is%3A%22%29%3B%0A%0A%20%20%20%20%20%20//%20while%20not%20the%20end%20of%20the%20list%0A%20%20%20%20%20%20while%20%28currentPtr%20%21%3D%20NULL%29%20%7B%20%0A%20%20%20%20%20%20%20%20%20printf%28%22%25c%20--%3E%20%22%2C%20currentPtr-%3Edata%29%3B%0A%20%20%20%20%20%20%20%20%20currentPtr%20%3D%20currentPtr-%3EnextPtr%3B%20%20%20%0A%20%20%20%20%20%20%7D%20%0A%0A%20%20%20%20%20%20puts%28%22NULL%5Cn%22%29%3B%0A%20%20%20%7D%20%0A%7D%20%0A%0A&origin=opt-frontend.js&cumulative=false&heapPrimitives=false&textReferences=false&curInstr=0&&verticalStack=false&py=c&rawInputLstJSON=%5B%5D&codeDivWidth=50%25&codeDivHeight=100%25>Python Tutor</a></strong></div>"
      ],
      "text/plain": [
       "<IPython.core.display.HTML object>"
      ]
     },
     "metadata": {},
     "output_type": "display_data"
    }
   ],
   "source": [
    "%%tutor -l c -k\n",
    "#include <stdio.h>\n",
    "\n",
    "\n",
    "#define NULL 0\n",
    "\n",
    "// self-referential structure                       \n",
    "struct listNode {                                      \n",
    "   char data; // each listNode contains a character \n",
    "   struct listNode *nextPtr; // pointer to next node\n",
    "}; \n",
    "\n",
    "typedef struct listNode ListNode; // synonym for struct listNode\n",
    "typedef ListNode *ListNodePtr; // synonym for ListNode*\n",
    "\n",
    "// prototypes\n",
    "void insert(ListNodePtr *sPtr, char value);\n",
    "char delete(ListNodePtr *sPtr, char value);\n",
    "int isEmpty(ListNodePtr sPtr);\n",
    "void printList(ListNodePtr currentPtr);\n",
    "void instructions(void);\n",
    "\n",
    "int main(void)\n",
    "{ \n",
    "   ListNodePtr startPtr = NULL; // initially there are no nodes\n",
    "   int empty = isEmpty(startPtr);\n",
    "   if(empty == 1) {\n",
    "       puts(\"Empty List\");\n",
    "   }\n",
    "   puts(\"Add elements to list\");\n",
    "   insert(&startPtr, 'A');  // Add A: A\n",
    "   insert(&startPtr, 'B');  // Add B: A -- B \n",
    "   insert(&startPtr, 'X');  // Add X: A -- B -- X\n",
    "   printList(startPtr);     // Print list's elements\n",
    "   insert(&startPtr, 'Z');  // Add Z: A -- B -- X -- Z\n",
    "   printList(startPtr);     // Print list's elements\n",
    "   delete(&startPtr,'B');   // Delete B: A -- X -- Z \n",
    "   delete(&startPtr,'Z');   // Delete Z: A -- X  \n",
    "   printList(startPtr);     // Print list's elements\n",
    "   return 0;\n",
    "} \n",
    "\n",
    "\n",
    "\n",
    "// insert a new value into the list in sorted order\n",
    "void insert(ListNodePtr *sPtr, char value)\n",
    "{ \n",
    "   ListNodePtr newPtr = malloc(sizeof(ListNode)); // create node\n",
    "\n",
    "   if (newPtr != NULL) { // is space available\n",
    "      newPtr->data = value; // place value in node\n",
    "      newPtr->nextPtr = NULL; // node does not link to another node\n",
    "\n",
    "      ListNodePtr previousPtr = NULL;\n",
    "      ListNodePtr currentPtr = *sPtr;\n",
    "\n",
    "      // loop to find the correct location in the list       \n",
    "      while (currentPtr != NULL && value > currentPtr->data) {\n",
    "         previousPtr = currentPtr; // walk to ...               \n",
    "         currentPtr = currentPtr->nextPtr; // ... next node \n",
    "      }                                          \n",
    "\n",
    "      // insert new node at beginning of list\n",
    "      if (previousPtr == NULL) { \n",
    "         newPtr->nextPtr = *sPtr;\n",
    "         *sPtr = newPtr;\n",
    "      } \n",
    "      else { // insert new node between previousPtr and currentPtr\n",
    "         previousPtr->nextPtr = newPtr;\n",
    "         newPtr->nextPtr = currentPtr;\n",
    "      } \n",
    "   } \n",
    "   else {\n",
    "      printf(\"%c not inserted. No memory available.\\n\", value);\n",
    "   } \n",
    "} \n",
    "\n",
    "// delete a list element\n",
    "char delete(ListNodePtr *sPtr, char value)\n",
    "{ \n",
    "   // delete first node if a match is found\n",
    "   if (value == (*sPtr)->data) { \n",
    "      ListNodePtr tempPtr = *sPtr; // hold onto node being removed\n",
    "      *sPtr = (*sPtr)->nextPtr; // de-thread the node\n",
    "      free(tempPtr); // free the de-threaded node\n",
    "      return value;\n",
    "   } \n",
    "   else { \n",
    "      ListNodePtr previousPtr = *sPtr;\n",
    "      ListNodePtr currentPtr = (*sPtr)->nextPtr;\n",
    "\n",
    "      // loop to find the correct location in the list\n",
    "      while (currentPtr != NULL && currentPtr->data != value) { \n",
    "         previousPtr = currentPtr; // walk to ...  \n",
    "         currentPtr = currentPtr->nextPtr; // ... next node  \n",
    "      } \n",
    "\n",
    "      // delete node at currentPtr\n",
    "      if (currentPtr != NULL) { \n",
    "         ListNodePtr tempPtr = currentPtr;\n",
    "         previousPtr->nextPtr = currentPtr->nextPtr;\n",
    "         free(tempPtr);\n",
    "         return value;\n",
    "      } \n",
    "   } \n",
    "\n",
    "   return '\\0';\n",
    "} \n",
    "\n",
    "// return 1 if the list is empty, 0 otherwise\n",
    "int isEmpty(ListNodePtr sPtr)\n",
    "{ \n",
    "   return sPtr == NULL;\n",
    "} \n",
    "\n",
    "// print the list\n",
    "void printList(ListNodePtr currentPtr)\n",
    "{ \n",
    "   // if list is empty\n",
    "   if (isEmpty(currentPtr)) {\n",
    "      puts(\"List is empty.\\n\");\n",
    "   } \n",
    "   else { \n",
    "      puts(\"The list is:\");\n",
    "\n",
    "      // while not the end of the list\n",
    "      while (currentPtr != NULL) { \n",
    "         printf(\"%c --> \", currentPtr->data);\n",
    "         currentPtr = currentPtr->nextPtr;   \n",
    "      } \n",
    "\n",
    "      puts(\"NULL\\n\");\n",
    "   } \n",
    "} \n",
    "\n"
   ]
  },
  {
   "cell_type": "code",
   "execution_count": null,
   "metadata": {},
   "outputs": [],
   "source": []
  }
 ],
 "metadata": {
  "kernelspec": {
   "display_name": "Python 3",
   "language": "python",
   "name": "python3"
  },
  "language_info": {
   "codemirror_mode": {
    "name": "ipython",
    "version": 3
   },
   "file_extension": ".py",
   "mimetype": "text/x-python",
   "name": "python",
   "nbconvert_exporter": "python",
   "pygments_lexer": "ipython3",
   "version": "3.7.4"
  }
 },
 "nbformat": 4,
 "nbformat_minor": 2
}
