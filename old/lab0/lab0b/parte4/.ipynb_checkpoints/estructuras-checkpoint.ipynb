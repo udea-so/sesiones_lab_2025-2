{
 "cells": [
  {
   "cell_type": "markdown",
   "metadata": {},
   "source": [
    "[![Open In Colab](https://colab.research.google.com/assets/colab-badge.svg)](https://colab.research.google.com/github/dannymrock/UdeA-SO-Lab/blob/master/lab0/lab0b/parte4/estructuras.ipynb)"
   ]
  },
  {
   "cell_type": "code",
   "execution_count": 0,
   "metadata": {
    "colab": {
     "autoexec": {
      "startup": false,
      "wait_interval": 0
     }
    },
    "colab_type": "code",
    "id": "5cTaG42eEakO"
   },
   "outputs": [],
   "source": [
    "!pip3 install tutormagic"
   ]
  },
  {
   "cell_type": "code",
   "execution_count": 20,
   "metadata": {
    "colab": {
     "autoexec": {
      "startup": false,
      "wait_interval": 0
     },
     "base_uri": "https://localhost:8080/",
     "height": 53
    },
    "colab_type": "code",
    "executionInfo": {
     "elapsed": 415,
     "status": "ok",
     "timestamp": 1531522467329,
     "user": {
      "displayName": "HENRY ALBERTO ARCILA RAMIREZ",
      "photoUrl": "https://lh3.googleusercontent.com/a/default-user=s128",
      "userId": "101819781408374541388"
     },
     "user_tz": 300
    },
    "id": "K-oLGZl8EdN9",
    "outputId": "83b940f9-8f43-4bb9-d9e8-749e5efbb88a"
   },
   "outputs": [
    {
     "name": "stdout",
     "output_type": "stream",
     "text": [
      "The tutormagic extension is already loaded. To reload it, use:\n",
      "  %reload_ext tutormagic\n"
     ]
    }
   ],
   "source": [
    "%load_ext tutormagic"
   ]
  },
  {
   "cell_type": "markdown",
   "metadata": {
    "colab_type": "text",
    "id": "NwBc3Ji23Xo3"
   },
   "source": [
    "# Estructuras en C\n",
    "\n"
   ]
  },
  {
   "cell_type": "markdown",
   "metadata": {
    "colab_type": "text",
    "id": "QdOxXHUk3cH7"
   },
   "source": [
    "---\n",
    "> **Objetivos**\n",
    "> * xxx.\n",
    "> * yyy\n",
    "\n",
    "---"
   ]
  },
  {
   "cell_type": "markdown",
   "metadata": {
    "colab_type": "text",
    "id": "5v8FIbjV3jrr"
   },
   "source": [
    "## 1. Conceptualizacion\n",
    "\n",
    "Anteriormente vimos que los **arrays** esta una coleccion de datos de un mismo tipo agrupados bajo un mismo nombre. C, pese a no ser un lenguaje de programacion orientado a objetos maneja un tipo de dato compuesto conocido como **estructura**. En si, una estructura es lo mas cercano a la definición que conocemos de **clase** en los lenguajes de programación, la unica diferencia respecto a las clases (sin hablar en el sentido estricto de la palabra), es que una estructura es como una clase con miembros pero sin metodos.\n",
    "\n",
    "La mayor ventaja de estas, es que permiten la creacion de **nuevos tipos de datos**, liberando al programador de tener que restringirse \n",
    "al uso de los tipos de datos tipicos ofrecidos por el lenguaje como tal (int, double, float, etc.) lo cual hace posible organizar datos complicados, particularmente en largos programas.\n",
    "\n",
    "Una **estructura**, es una coleccion de uno o más tipos de datos denominados **miembros**, cada uno de los cuales (como se dijo antes) puede ser de un tipo diferente. \n",
    "\n",
    "## 2. Trabajando con estructuras\n",
    "\n",
    "### 2.1. Declaración de una estructura\n",
    "\n",
    "La declaración de una estructura tiene la siguiente sintaxis:\n",
    "\n",
    "```C\n",
    "struct nombre-estructura {\n",
    "  tipo_1 miembro_1;\n",
    "  tipo_2 miembro_2;\n",
    "  tipo_3 miembro_3;\n",
    "  ...\n",
    "  tipo_N miembro_N;\n",
    "};\n",
    "```\n",
    "\n"
   ]
  },
  {
   "cell_type": "markdown",
   "metadata": {
    "colab_type": "text",
    "id": "3JN6W1dSr8NO"
   },
   "source": [
    "**Ejemplos**\n",
    "\n",
    "1. Definir una estructura asociada a un punto en el plano cartesiano.\n",
    "\n",
    "![fig1](https://github.com/repos-SO-UdeA/laboratorios/blob/master/lab1/teoria/parte4/imagenes/punto.png?raw=true)\n",
    "\n",
    "**Figura 1**. Punto.\n",
    "\n",
    "```C\n",
    "struct Punto2D {\n",
    "  float x;\n",
    "  float y;\n",
    "};\n",
    "```\n",
    "\n",
    "2. Definir una estructura asociada a una fecha.\n",
    "\n",
    "![fig2](https://github.com/repos-SO-UdeA/laboratorios/blob/master/lab1/teoria/parte4/imagenes/fecha.png?raw=true)\n",
    "\n",
    "**Figura 2**. Fecha.\n",
    "\n",
    "```C\n",
    "struct Date {\n",
    "  unsigned year;\n",
    "  unsigned month;\n",
    "  unsigned day;\n",
    "};\n",
    "```\n",
    "\n",
    "3. Definir una estructura asociada a una hora.\n",
    "\n",
    "![fig3](https://github.com/repos-SO-UdeA/laboratorios/blob/master/lab1/teoria/parte4/imagenes/hora.png?raw=true)\n",
    "\n",
    "**Figura 3**. Tiempo\n",
    "\n",
    "```C\n",
    "struct Tiempo {\n",
    "  unsigned int hr;\n",
    "  unsigned int min;\n",
    "  unsigned int sec;\n",
    "};\n",
    "```\n",
    "\n",
    "4. Definir una estructura asociada a un album musical\n",
    "\n",
    "![fig4](https://github.com/repos-SO-UdeA/laboratorios/blob/master/lab1/teoria/parte4/imagenes/album.png?raw=true)\n",
    "\n",
    "**Figura 4**. Album\n",
    "\n",
    "```C\n",
    "struct Album {\n",
    "  char titulo[64];\n",
    "  char artista[32];\n",
    "  char genero[32];\n",
    "  char *canciones;\n",
    "};\n",
    "```\n",
    "\n",
    "5. Definir una estructura asociada a una cancion.\n",
    "\n",
    "![fig5](https://github.com/repos-SO-UdeA/laboratorios/blob/master/lab1/teoria/parte4/imagenes/cancion.png?raw=true)\n",
    "\n",
    "**Figura 5**. Cancion.\n",
    "\n",
    "```C\n",
    "struct Cancion {\n",
    "  char titulo[64];\n",
    "  char artista[32];\n",
    "  char compositor[32];\n",
    "  short duracion;\n",
    "  struct fecha f_publicacion;\n",
    "};\n",
    "```\n",
    "\n",
    "6. Definir una estructura asociada a un libro.\n",
    "\n",
    "![fig6](https://github.com/repos-SO-UdeA/laboratorios/blob/master/lab1/teoria/parte4/imagenes/libro.png?raw=true)\n",
    "\n",
    "**Figura 6**. Libro.\n",
    "\n",
    "```C\n",
    "struct Book  {\n",
    "   int  book_id;\n",
    "   char title[50]; \n",
    "   char author[40]; \n",
    "   int pages;\n",
    "   float price;\n",
    "};\n",
    "\n",
    "```\n"
   ]
  },
  {
   "cell_type": "markdown",
   "metadata": {
    "colab_type": "text",
    "id": "qxLQEx8asg68"
   },
   "source": [
    "### 2.2. Definición de variables tipo struct\n",
    "\n",
    "Las variables de estructuras se pueden definir de dos formas:\n",
    "1. Listándolas inmediatamente después de la llave de cierre de la llave de cierre de la declaración de la estructura, algo como esto tal y como se muestra en el siguiente codigo en el cual se declaran dos variables (**book1** y **book2**) tipo **struct Book**:"
   ]
  },
  {
   "cell_type": "code",
   "execution_count": 21,
   "metadata": {
    "colab": {
     "autoexec": {
      "startup": false,
      "wait_interval": 0
     },
     "base_uri": "https://localhost:8080/",
     "height": 34
    },
    "colab_type": "code",
    "executionInfo": {
     "elapsed": 377,
     "status": "ok",
     "timestamp": 1531522467826,
     "user": {
      "displayName": "HENRY ALBERTO ARCILA RAMIREZ",
      "photoUrl": "https://lh3.googleusercontent.com/a/default-user=s128",
      "userId": "101819781408374541388"
     },
     "user_tz": 300
    },
    "id": "H9T6fNL5RdtR",
    "outputId": "05c31cbf-5804-4695-ebdd-812980ff6fe7"
   },
   "outputs": [
    {
     "data": {
      "text/html": [
       "<div class=\"text-center\"><strong><a style=\"box-sizing: border-box; padding: 0 5px; border: 1px solid #CFCFCF;\" target=\"_\" href=http://pythontutor.com/iframe-embed.html#code=struct%20Book%20%20%7B%0A%20%20%20int%20%20book_id%3B%0A%20%20%20char%20title%5B30%5D%3B%20%0A%20%20%20char%20author%5B20%5D%3B%20%0A%20%20%20int%20pages%3B%0A%20%20%20float%20price%3B%0A%7D%20book1%2C%20book2%3B%0A%0Aint%20main%28%29%20%7B%0A%20%20return%200%3B%0A%7D&origin=opt-frontend.js&cumulative=false&heapPrimitives=false&textReferences=false&curInstr=0&&verticalStack=false&py=c&rawInputLstJSON=%5B%5D&codeDivWidth=50%25&codeDivHeight=100%25>Python Tutor</a></strong></div>"
      ],
      "text/plain": [
       "<IPython.core.display.HTML object>"
      ]
     },
     "metadata": {
      "tags": []
     },
     "output_type": "display_data"
    }
   ],
   "source": [
    "%%tutor -l c -k\n",
    "struct Book  {\n",
    "   int  book_id;\n",
    "   char title[30]; \n",
    "   char author[20]; \n",
    "   int pages;\n",
    "   float price;\n",
    "} book1, book2;\n",
    "\n",
    "int main() {\n",
    "  return 0;\n",
    "}"
   ]
  },
  {
   "cell_type": "markdown",
   "metadata": {
    "colab_type": "text",
    "id": "A5iUGLvfCdC0"
   },
   "source": [
    "2. Listando el tipo de la estructura seguida por las variables correspondientes en cualquier lugar del programa antes de utilizarlas, así, asumiendo que la estructura está declarada. El siguiente codigo muestra esto, notese que la declaración de las variables (**book1** y **book2**)  es similar a la declaración para datos no estructurados (**int**, **double**, etc), aquí, la unica difetencia es que estas serán para el caso datos tipo **struct Book**:\n"
   ]
  },
  {
   "cell_type": "code",
   "execution_count": 22,
   "metadata": {
    "colab": {
     "autoexec": {
      "startup": false,
      "wait_interval": 0
     },
     "base_uri": "https://localhost:8080/",
     "height": 34
    },
    "colab_type": "code",
    "executionInfo": {
     "elapsed": 481,
     "status": "ok",
     "timestamp": 1531522468434,
     "user": {
      "displayName": "HENRY ALBERTO ARCILA RAMIREZ",
      "photoUrl": "https://lh3.googleusercontent.com/a/default-user=s128",
      "userId": "101819781408374541388"
     },
     "user_tz": 300
    },
    "id": "-ENxNz-DSVdP",
    "outputId": "97e74e08-bef7-45af-c697-669e5b7a1874"
   },
   "outputs": [
    {
     "data": {
      "text/html": [
       "<div class=\"text-center\"><strong><a style=\"box-sizing: border-box; padding: 0 5px; border: 1px solid #CFCFCF;\" target=\"_\" href=http://pythontutor.com/iframe-embed.html#code=struct%20Book%20%20%7B%0A%20%20%20int%20%20book_id%3B%0A%20%20%20char%20title%5B30%5D%3B%20%0A%20%20%20char%20author%5B20%5D%3B%20%0A%20%20%20int%20pages%3B%0A%20%20%20float%20price%3B%0A%7D%3B%0A%0Astruct%20Book%20book1%2C%20book2%3B%0A%0Aint%20main%28%29%20%7B%0A%20%20return%200%3B%0A%7D&origin=opt-frontend.js&cumulative=false&heapPrimitives=false&textReferences=false&curInstr=0&&verticalStack=false&py=c&rawInputLstJSON=%5B%5D&codeDivWidth=50%25&codeDivHeight=100%25>Python Tutor</a></strong></div>"
      ],
      "text/plain": [
       "<IPython.core.display.HTML object>"
      ]
     },
     "metadata": {
      "tags": []
     },
     "output_type": "display_data"
    }
   ],
   "source": [
    "%%tutor -l c -k\n",
    "struct Book  {\n",
    "   int  book_id;\n",
    "   char title[30]; \n",
    "   char author[20]; \n",
    "   int pages;\n",
    "   float price;\n",
    "};\n",
    "\n",
    "struct Book book1, book2;\n",
    "\n",
    "int main() {\n",
    "  return 0;\n",
    "}"
   ]
  },
  {
   "cell_type": "markdown",
   "metadata": {
    "colab_type": "text",
    "id": "Bs1a6d1_DQCl"
   },
   "source": [
    "La salida sea para uno u otro caso se muestra a continuación:\n",
    "\n",
    "\n",
    "![fig7](https://github.com/repos-SO-UdeA/laboratorios/blob/master/lab1/teoria/parte4/imagenes/declaracion_books.png?raw=true)\n",
    "\n",
    "**Figura 7**. Estructuras tipo libro.\n",
    "\n",
    "\n",
    "Adicionalmente, los conceptos aplicados para los tipos de datos simples aplican para estructuras tambien; esto es, es posible crear variables normales, arrays, matrices y apuntadores de estructuras entre otros. Veamos:"
   ]
  },
  {
   "cell_type": "markdown",
   "metadata": {
    "colab_type": "text",
    "id": "v0ROLXLHENGf"
   },
   "source": [
    "**Ejemplo**:\n",
    "Empleando la estructura tipo Punto2D crear las siguientes variables:\n",
    "* Dos variables llamadas p1 y p2 (local).\n",
    "* Un array de 3 elementos llamado vP (local).\n",
    "* Un apuntador llamado *ptrP que apunte a p[1] (global).\n",
    "* Una matrix de 2x2 llamada mP (global).\n",
    "\n",
    "La solución se muestra a continuación:\n"
   ]
  },
  {
   "cell_type": "code",
   "execution_count": 23,
   "metadata": {
    "colab": {
     "autoexec": {
      "startup": false,
      "wait_interval": 0
     },
     "base_uri": "https://localhost:8080/",
     "height": 34
    },
    "colab_type": "code",
    "executionInfo": {
     "elapsed": 434,
     "status": "ok",
     "timestamp": 1531522468989,
     "user": {
      "displayName": "HENRY ALBERTO ARCILA RAMIREZ",
      "photoUrl": "https://lh3.googleusercontent.com/a/default-user=s128",
      "userId": "101819781408374541388"
     },
     "user_tz": 300
    },
    "id": "p1R5KExCTD1D",
    "outputId": "71f5710e-ad5f-4e6b-e3ec-c8bbb9dbf8e2"
   },
   "outputs": [
    {
     "data": {
      "text/html": [
       "<div class=\"text-center\"><strong><a style=\"box-sizing: border-box; padding: 0 5px; border: 1px solid #CFCFCF;\" target=\"_\" href=http://pythontutor.com/iframe-embed.html#code=%23include%20%3Cstdio.h%3E%0A%0Astruct%20Punto2D%20%7B%0A%20%20float%20x%3B%0A%20%20float%20y%3B%0A%7D%3B%0A%0Astruct%20Punto2D%20vP%5B3%5D%3B%0Astruct%20Punto2D%20mP%5B2%5D%5B2%5D%3B%0Aint%20main%28%29%20%7B%0A%20%20//%20Los%20datos%20tipo%20Punto2D%20seran%20locales%0A%20%20struct%20Punto2D%20p1%2C%20p2%3B%20%20%0A%20%20struct%20Punto2D%20%2AptrP%20%3D%20%26vP%5B1%5D%3B%20%20%0A%20%20return%200%3B%0A%7D&origin=opt-frontend.js&cumulative=false&heapPrimitives=false&textReferences=false&curInstr=0&&verticalStack=false&py=c&rawInputLstJSON=%5B%5D&codeDivWidth=50%25&codeDivHeight=100%25>Python Tutor</a></strong></div>"
      ],
      "text/plain": [
       "<IPython.core.display.HTML object>"
      ]
     },
     "metadata": {
      "tags": []
     },
     "output_type": "display_data"
    }
   ],
   "source": [
    "%%tutor -l c -k\n",
    "#include <stdio.h>\n",
    "\n",
    "struct Punto2D {\n",
    "  float x;\n",
    "  float y;\n",
    "};\n",
    "\n",
    "struct Punto2D vP[3];\n",
    "struct Punto2D mP[2][2];\n",
    "int main() {\n",
    "  // Los datos tipo Punto2D seran locales\n",
    "  struct Punto2D p1, p2;  \n",
    "  struct Punto2D *ptrP = &vP[1];  \n",
    "  return 0;\n",
    "}"
   ]
  },
  {
   "cell_type": "markdown",
   "metadata": {
    "colab_type": "text",
    "id": "UzO3eQl5uAQ_"
   },
   "source": [
    "A continuacion se muestra el resultado en memoria de la ejecución del codigo anterior:\n",
    "\n",
    "![fig8](https://github.com/repos-SO-UdeA/laboratorios/blob/master/lab1/teoria/parte4/imagenes/declaracion_point.png?raw=true)\n",
    "\n",
    "**Figura 8**. Estructuras tipo punto.\n"
   ]
  },
  {
   "cell_type": "markdown",
   "metadata": {
    "colab_type": "text",
    "id": "TjiwVc0PFK8X"
   },
   "source": [
    "### 2.3. Inicializacion de variables tipo struct\n",
    "\n",
    "Al igual que para el caso de las variables simples, las estructuras pueden tener valores iniciales una vez se declaran. Como estas con estructuras compuestas, lo que se hace para inicializar estas, es inicializar miembro por miembro. A continuacion se describen las dos formas de llevar a cabo esto:\n",
    "\n",
    "#### 2.3.1. Usando una lista de inicialización\n",
    "Esta es similar a la empleada para los arrays, y lo que se hace es inicializar cada miembro de la estructura con el correspondiente valor inicial asociado. Cada valor inicial es separado por coma (,). Veamos.\n",
    "\n",
    "**Ejemplo** \n",
    "Iniciar la estructura Cancion con la siguiente informacion asociada a una cancion de [Billie Holiday](https://es.wikipedia.org/wiki/Billie_Holiday). A continuacion se muestra el codigo:\n"
   ]
  },
  {
   "cell_type": "code",
   "execution_count": 24,
   "metadata": {
    "colab": {
     "autoexec": {
      "startup": false,
      "wait_interval": 0
     },
     "base_uri": "https://localhost:8080/",
     "height": 34
    },
    "colab_type": "code",
    "executionInfo": {
     "elapsed": 657,
     "status": "ok",
     "timestamp": 1531522469744,
     "user": {
      "displayName": "HENRY ALBERTO ARCILA RAMIREZ",
      "photoUrl": "https://lh3.googleusercontent.com/a/default-user=s128",
      "userId": "101819781408374541388"
     },
     "user_tz": 300
    },
    "id": "8FAWHHdHuPyB",
    "outputId": "f7b2999c-7088-4ef8-b95b-b78c133e549f"
   },
   "outputs": [
    {
     "data": {
      "text/html": [
       "<div class=\"text-center\"><strong><a style=\"box-sizing: border-box; padding: 0 5px; border: 1px solid #CFCFCF;\" target=\"_\" href=http://pythontutor.com/iframe-embed.html#code=%0A//%20Declaracion%20de%20la%20estructura%0Astruct%20Cancion%20%7B%0A%20%20char%20titulo%5B20%5D%3B%0A%20%20char%20artista%5B32%5D%3B%0A%20%20char%20compositor%5B32%5D%3B%0A%20%20short%20duracion%3B%0A%20%20char%20URL%5B32%5D%3B%0A%7D%3B%0A%20%20%20%20%20%20%20%20%20%20%20%20%20%20%20%20%20%20%20%20%20%20%20%20%20%0A//%20Funcion%20main%20%20%20%20%20%20%20%20%20%20%20%20%20%20%20%20%20%20%20%20%20%20%20%20%20%0Aint%20main%28%29%20%7B%0A%20%20//%20Inicializacion%20de%20la%20variable%20%28sadSong%29%20tipo%20struct%20Cancion%20%0A%20%20struct%20Cancion%20sadSong%20%3D%20%7B%0A%20%20%20%20%20%20%20%20%20%20%20%20%20%20%20%20%20%20%20%20%20%20%20%20%20%20%20%20%20%20%22Strange%20fruit%22%2C%0A%20%20%20%20%20%20%20%20%20%20%20%20%20%20%20%20%20%20%20%20%20%20%20%20%20%20%20%20%20%20%22Billie%20Holiday%22%2C%0A%20%20%20%20%20%20%20%20%20%20%20%20%20%20%20%20%20%20%20%20%20%20%20%20%20%20%20%20%20%20%22Abel%20Meeropol%22%2C%0A%20%20%20%20%20%20%20%20%20%20%20%20%20%20%20%20%20%20%20%20%20%20%20%20%20%20%20%20%20%20164%2C%0A%20%20%20%20%20%20%20%20%20%20%20%20%20%20%20%20%20%20%20%20%20%20%20%20%20%20%20%20%20%20%22http%3A//bit.ly/1mU1gBT%22%0A%20%20%20%20%20%20%20%20%20%20%20%20%20%20%20%20%20%20%20%20%20%20%20%20%20%20%20%7D%3B%20%0A%20%20return%200%3B%0A%7D&origin=opt-frontend.js&cumulative=false&heapPrimitives=false&textReferences=false&curInstr=0&&verticalStack=false&py=c&rawInputLstJSON=%5B%5D&codeDivWidth=50%25&codeDivHeight=100%25>Python Tutor</a></strong></div>"
      ],
      "text/plain": [
       "<IPython.core.display.HTML object>"
      ]
     },
     "metadata": {
      "tags": []
     },
     "output_type": "display_data"
    }
   ],
   "source": [
    "%%tutor -l c -k\n",
    "\n",
    "// Declaracion de la estructura\n",
    "struct Cancion {\n",
    "  char titulo[20];\n",
    "  char artista[32];\n",
    "  char compositor[32];\n",
    "  short duracion;\n",
    "  char URL[32];\n",
    "};\n",
    "                         \n",
    "// Funcion main                         \n",
    "int main() {\n",
    "  // Inicializacion de la variable (sadSong) tipo struct Cancion \n",
    "  struct Cancion sadSong = {\n",
    "                              \"Strange fruit\",\n",
    "                              \"Billie Holiday\",\n",
    "                              \"Abel Meeropol\",\n",
    "                              164,\n",
    "                              \"http://bit.ly/1mU1gBT\"\n",
    "                           }; \n",
    "  return 0;\n",
    "}"
   ]
  },
  {
   "cell_type": "markdown",
   "metadata": {
    "colab_type": "text",
    "id": "i5yv4A2IFVZ0"
   },
   "source": [
    "A continuacion se muestra como quedan las estructura tipo Cancion (sadSong) al ejecutarse el codigo:\n",
    "\n",
    "![fig9](https://github.com/repos-SO-UdeA/laboratorios/blob/master/lab1/teoria/parte4/imagenes/var_song1.png?raw=true)\n",
    "\n",
    "**Figura 9**. Estructuras tipo cancion (variable sadSong).\n"
   ]
  },
  {
   "cell_type": "markdown",
   "metadata": {
    "colab_type": "text",
    "id": "PD8CQL0cuzoM"
   },
   "source": [
    "#### 2.3.2. Inicialización específica de cada uno de los miembros\n",
    "Básicamente, consiste en la designación de cada uno de los miembros siguiendo la siguiente forma.\n",
    "\n",
    "```C\n",
    ".miembro = valor; // designador\n",
    "```"
   ]
  },
  {
   "cell_type": "markdown",
   "metadata": {
    "colab_type": "text",
    "id": "UCKHY3tPu1WJ"
   },
   "source": [
    "**Ejemplo** \n",
    "Realizar la misma inicilizacion del caso anterior, pero en este caso emplear la inicializacion especifica de miembros:\n"
   ]
  },
  {
   "cell_type": "code",
   "execution_count": 25,
   "metadata": {
    "colab": {
     "autoexec": {
      "startup": false,
      "wait_interval": 0
     },
     "base_uri": "https://localhost:8080/",
     "height": 34
    },
    "colab_type": "code",
    "executionInfo": {
     "elapsed": 697,
     "status": "ok",
     "timestamp": 1531522470519,
     "user": {
      "displayName": "HENRY ALBERTO ARCILA RAMIREZ",
      "photoUrl": "https://lh3.googleusercontent.com/a/default-user=s128",
      "userId": "101819781408374541388"
     },
     "user_tz": 300
    },
    "id": "AXws0zFOTv_I",
    "outputId": "eed84a91-d016-4545-bcaf-500b3d013b42"
   },
   "outputs": [
    {
     "data": {
      "text/html": [
       "<div class=\"text-center\"><strong><a style=\"box-sizing: border-box; padding: 0 5px; border: 1px solid #CFCFCF;\" target=\"_\" href=http://pythontutor.com/iframe-embed.html#code=%23include%20%3Cstdio.h%3E%0A%0A//%20Declaracion%20de%20la%20estructura%0Astruct%20Cancion%20%7B%0A%20%20char%20titulo%5B20%5D%3B%0A%20%20char%20artista%5B32%5D%3B%0A%20%20char%20compositor%5B32%5D%3B%0A%20%20short%20duracion%3B%0A%20%20char%20URL%5B32%5D%3B%0A%7D%3B%0A%20%20%20%20%20%20%20%20%20%20%20%20%20%20%20%20%20%20%20%20%20%20%20%20%20%0A//%20Funcion%20main%20%20%20%20%20%20%20%20%20%20%20%20%20%20%20%20%20%20%20%20%20%20%20%20%20%0Aint%20main%28%29%20%7B%0A%20%20//%20Inicializacion%20de%20la%20variable%20%28sadSong%29%20tipo%20struct%20Cancion%20%0A%20%20struct%20Cancion%20sadSong%20%3D%20%7B%0A%20%20%20%20%20%20%20%20%20%20%20%20%20%20%20%20%20%20%20%20%20%20%20%20%20%20%20%20%20.titulo%20%3D%20%22Strange%20fruit%22%2C%0A%20%20%20%20%20%20%20%20%20%20%20%20%20%20%20%20%20%20%20%20%20%20%20%20%20%20%20%20%20.artista%20%3D%20%22Billie%20Holiday%22%2C%0A%20%20%20%20%20%20%20%20%20%20%20%20%20%20%20%20%20%20%20%20%20%20%20%20%20%20%20%20%20.compositor%20%3D%20%22Abel%20Meeropol%22%2C%0A%20%20%20%20%20%20%20%20%20%20%20%20%20%20%20%20%20%20%20%20%20%20%20%20%20%20%20%20%20.duracion%20%3D%20164%2C%0A%20%20%20%20%20%20%20%20%20%20%20%20%20%20%20%20%20%20%20%20%20%20%20%20%20%20%20%20%20.URL%20%3D%20%22http%3A//bit.ly/1mU1gBT%22%0A%20%20%20%20%20%20%20%20%20%20%20%20%20%20%20%20%20%20%20%20%20%20%20%20%20%20%20%7D%3B%0A%20%20return%200%3B%0A%7D&origin=opt-frontend.js&cumulative=false&heapPrimitives=false&textReferences=false&curInstr=0&&verticalStack=false&py=c&rawInputLstJSON=%5B%5D&codeDivWidth=50%25&codeDivHeight=100%25>Python Tutor</a></strong></div>"
      ],
      "text/plain": [
       "<IPython.core.display.HTML object>"
      ]
     },
     "metadata": {
      "tags": []
     },
     "output_type": "display_data"
    }
   ],
   "source": [
    "%%tutor -l c -k\n",
    "#include <stdio.h>\n",
    "\n",
    "// Declaracion de la estructura\n",
    "struct Cancion {\n",
    "  char titulo[20];\n",
    "  char artista[32];\n",
    "  char compositor[32];\n",
    "  short duracion;\n",
    "  char URL[32];\n",
    "};\n",
    "                         \n",
    "// Funcion main                         \n",
    "int main() {\n",
    "  // Inicializacion de la variable (sadSong) tipo struct Cancion \n",
    "  struct Cancion sadSong = {\n",
    "                             .titulo = \"Strange fruit\",\n",
    "                             .artista = \"Billie Holiday\",\n",
    "                             .compositor = \"Abel Meeropol\",\n",
    "                             .duracion = 164,\n",
    "                             .URL = \"http://bit.ly/1mU1gBT\"\n",
    "                           };\n",
    "  return 0;\n",
    "}"
   ]
  },
  {
   "cell_type": "markdown",
   "metadata": {
    "colab_type": "text",
    "id": "I4gGqDvtvBTS"
   },
   "source": [
    "El resultado de ejecutar el codigo anterior, es el mismo que el mostrado en la **figura 9**."
   ]
  },
  {
   "cell_type": "markdown",
   "metadata": {
    "colab_type": "text",
    "id": "9XBcJcU1vHOZ"
   },
   "source": [
    "#### 2.3.3. Caso en el que no se inicializan todos lo miembros\n",
    "Ya sea que se emplee una u otra de las formas anteriormente mencionadas, es posible inicializar parcialmente una variable tipo estructura, para ello, basta con no pasar todos los elementos que puede contener la lista de inicialización. A continuación se muestra un ejemplo:\n",
    "\n",
    "**Ejemplo**\n",
    "Crear dos variables tipo struct Cancion, estas variables no tendran todos los parametros inicialidos:"
   ]
  },
  {
   "cell_type": "code",
   "execution_count": 26,
   "metadata": {
    "colab": {
     "autoexec": {
      "startup": false,
      "wait_interval": 0
     },
     "base_uri": "https://localhost:8080/",
     "height": 34
    },
    "colab_type": "code",
    "executionInfo": {
     "elapsed": 431,
     "status": "ok",
     "timestamp": 1531522471038,
     "user": {
      "displayName": "HENRY ALBERTO ARCILA RAMIREZ",
      "photoUrl": "https://lh3.googleusercontent.com/a/default-user=s128",
      "userId": "101819781408374541388"
     },
     "user_tz": 300
    },
    "id": "ELmR6B3pT80l",
    "outputId": "a5d85e3b-2357-41c2-e795-8e84161db2f0"
   },
   "outputs": [
    {
     "data": {
      "text/html": [
       "<div class=\"text-center\"><strong><a style=\"box-sizing: border-box; padding: 0 5px; border: 1px solid #CFCFCF;\" target=\"_\" href=http://pythontutor.com/iframe-embed.html#code=%23include%20%3Cstdio.h%3E%0A%0A//%20Declaracion%20de%20la%20estructura%0Astruct%20Cancion%20%7B%0A%20%20char%20titulo%5B20%5D%3B%0A%20%20char%20artista%5B32%5D%3B%0A%20%20char%20compositor%5B32%5D%3B%0A%20%20short%20duracion%3B%0A%20%20char%20URL%5B32%5D%3B%0A%7D%3B%0A%0A//%20Variables%20globales%20tipo%20struct%20Cancion%0Astruct%20Cancion%20song1%20%3D%20%7B%22Mi%20cerebro%20esta%20boca%20abajo%22%7D%3B%0Astruct%20Cancion%20song2%20%3D%20%7B%20%0A%20%20%20%20%20%20%20%20%20%20%20%20%20%20%20%20%20%20%20%20%20%20%20%20%20.titulo%20%3D%20%22Noches%20de%20Hungria%22%2C%0A%20%20%20%20%20%20%20%20%20%20%20%20%20%20%20%20%20%20%20%20%20%20%20%20%20.compositor%20%3D%20%22Julio%20Jaramillo%22%2C%0A%20%20%20%20%20%20%20%20%20%20%20%20%20%20%20%20%20%20%20%20%20%20%20%20%20.duracion%20%3D%20127%0A%7D%3B%0A%0A//%20Funcion%20main%20%20%20%20%20%20%20%20%20%20%20%20%20%20%20%20%20%20%20%20%20%20%20%20%20%0Aint%20main%28%29%20%7B%0A%20%20return%200%3B%0A%7D&origin=opt-frontend.js&cumulative=false&heapPrimitives=false&textReferences=false&curInstr=0&&verticalStack=false&py=c&rawInputLstJSON=%5B%5D&codeDivWidth=50%25&codeDivHeight=100%25>Python Tutor</a></strong></div>"
      ],
      "text/plain": [
       "<IPython.core.display.HTML object>"
      ]
     },
     "metadata": {
      "tags": []
     },
     "output_type": "display_data"
    }
   ],
   "source": [
    "%%tutor -l c -k\n",
    "#include <stdio.h>\n",
    "\n",
    "// Declaracion de la estructura\n",
    "struct Cancion {\n",
    "  char titulo[20];\n",
    "  char artista[32];\n",
    "  char compositor[32];\n",
    "  short duracion;\n",
    "  char URL[32];\n",
    "};\n",
    "\n",
    "// Variables globales tipo struct Cancion\n",
    "struct Cancion song1 = {\"Mi cerebro esta boca abajo\"};\n",
    "struct Cancion song2 = { \n",
    "                         .titulo = \"Noches de Hungria\",\n",
    "                         .compositor = \"Julio Jaramillo\",\n",
    "                         .duracion = 127\n",
    "};\n",
    "\n",
    "// Funcion main                         \n",
    "int main() {\n",
    "  return 0;\n",
    "}"
   ]
  },
  {
   "cell_type": "markdown",
   "metadata": {
    "colab_type": "text",
    "id": "QbHd_qmVGb9c"
   },
   "source": [
    "En la siguiente figura se muestra el resultado del codigo anterior, notese lo que sucede como quedan los miembros que no fueron inicializados.\n",
    "\n",
    "![fig10](https://github.com/repos-SO-UdeA/laboratorios/blob/master/lab1/teoria/parte4/imagenes/var_song2.png?raw=true)\n",
    "\n",
    "**Figura 10**. Variables tipo cancion sin inicializar todos sus miembros.\n"
   ]
  },
  {
   "cell_type": "markdown",
   "metadata": {
    "colab_type": "text",
    "id": "K8s2csH0vi2q"
   },
   "source": [
    "### 2.4. Empleo de la palabra clave typedef para crear alias (tocayos)\n",
    "La palabra reservada ```typedef``` permite a un programador crear un sinónimo de un tipo de dato definido por el usuario o de un tipo ya existente. La sintaxis para usar esta palabra clave es la siguiente:\n",
    "\n",
    "```C\n",
    "tipo_dato typedef nombre_alias;\n",
    "```\n",
    "\n",
    "**Ejemplo**\n",
    "Dada la siguiente declaracion de variables:\n",
    "\n",
    "```C\n",
    "double alto, ancho;\n",
    "```\n",
    "\n",
    "Teniendo en cuenta que **alto** y **ancho** son medidas de longitud, podemos crear un alias para una variable tipo double llamado **longitud** y el efecto será el mismo que el del caso anterior, el código para el caso sera el siguiente:\n",
    "\n",
    "```C\n",
    "typedef double longitud;\n",
    "longitud alto, ancho;\n",
    "```\n",
    "\n",
    "El resultado se muestra a continuacion:\n",
    "\n",
    "![fig11](https://github.com/repos-SO-UdeA/laboratorios/blob/master/lab1/teoria/parte4/imagenes/type_def1.png?raw=true)\n",
    "\n",
    "**Figura 11**. Uso de typedef para la creacion de alias."
   ]
  },
  {
   "cell_type": "markdown",
   "metadata": {
    "colab_type": "text",
    "id": "lAsqqZOyvr8B"
   },
   "source": [
    "**Ejemplo**\n",
    "La mayor ventaja del uso de esta palabra clave se ve con las estructuras. A continuación se muestra el resultado:\n",
    "\n",
    "1. Cree dos variables tipo Punto2D llamadas P1 y P2 con valores (2,3) y (-1,6). No emplee typedef:"
   ]
  },
  {
   "cell_type": "code",
   "execution_count": 27,
   "metadata": {
    "colab": {
     "autoexec": {
      "startup": false,
      "wait_interval": 0
     },
     "base_uri": "https://localhost:8080/",
     "height": 34
    },
    "colab_type": "code",
    "executionInfo": {
     "elapsed": 366,
     "status": "ok",
     "timestamp": 1531522471490,
     "user": {
      "displayName": "HENRY ALBERTO ARCILA RAMIREZ",
      "photoUrl": "https://lh3.googleusercontent.com/a/default-user=s128",
      "userId": "101819781408374541388"
     },
     "user_tz": 300
    },
    "id": "C8t2qaIvGTEt",
    "outputId": "0ee7dd2c-9df1-43a0-87c0-b8634710bd7b"
   },
   "outputs": [
    {
     "data": {
      "text/html": [
       "<div class=\"text-center\"><strong><a style=\"box-sizing: border-box; padding: 0 5px; border: 1px solid #CFCFCF;\" target=\"_\" href=http://pythontutor.com/iframe-embed.html#code=%23include%20%3Cstdio.h%3E%0A%0A//%20Declaracion%20de%20las%20estructura%0Astruct%20Punto2D%20%7B%0A%20%20float%20x%3B%0A%20%20float%20y%3B%0A%7D%3B%0A%0A%0A//%20Funcion%20main%20%20%20%20%20%20%20%20%20%20%20%20%20%20%20%20%20%20%20%20%20%20%20%20%20%0Aint%20main%28%29%20%7B%20%0A%20%20//%20Declaracion%20de%20variables%0A%20%20struct%20Punto2D%20P1%20%3D%20%7B%0A%20%20%20%20%20%20%20%20%20%20%20%20%20%20%20%20%20%20%20%20%20%20%20%202%2C%0A%20%20%20%20%20%20%20%20%20%20%20%20%20%20%20%20%20%20%20%20%20%20%20%203%0A%20%20%20%20%20%20%20%20%20%20%20%20%20%20%20%20%20%20%20%20%20%20%7D%3B%0A%0A%20%20struct%20Punto2D%20P2%20%3D%20%7B%0A%20%20%20%20%20%20%20%20%20%20%20%20%20%20%20%20%20%20%20%20%20%20%20%20.x%20%3D%20-1%2C%0A%20%20%20%20%20%20%20%20%20%20%20%20%20%20%20%20%20%20%20%20%20%20%20%20.y%20%3D%206%0A%20%20%20%20%20%20%20%20%20%20%20%20%20%20%20%20%20%20%20%20%20%20%7D%3B%0A%20%20return%200%3B%0A%7D&origin=opt-frontend.js&cumulative=false&heapPrimitives=false&textReferences=false&curInstr=0&&verticalStack=false&py=c&rawInputLstJSON=%5B%5D&codeDivWidth=50%25&codeDivHeight=100%25>Python Tutor</a></strong></div>"
      ],
      "text/plain": [
       "<IPython.core.display.HTML object>"
      ]
     },
     "metadata": {
      "tags": []
     },
     "output_type": "display_data"
    }
   ],
   "source": [
    "%%tutor -l c -k\n",
    "#include <stdio.h>\n",
    "\n",
    "// Declaracion de las estructura\n",
    "struct Punto2D {\n",
    "  float x;\n",
    "  float y;\n",
    "};\n",
    "\n",
    "\n",
    "// Funcion main                         \n",
    "int main() { \n",
    "  // Declaracion de variables\n",
    "  struct Punto2D P1 = {\n",
    "                        2,\n",
    "                        3\n",
    "                      };\n",
    "\n",
    "  struct Punto2D P2 = {\n",
    "                        .x = -1,\n",
    "                        .y = 6\n",
    "                      };\n",
    "  return 0;\n",
    "}"
   ]
  },
  {
   "cell_type": "markdown",
   "metadata": {
    "colab_type": "text",
    "id": "yL5Vhj7dv1pp"
   },
   "source": [
    "La salida del programa anterior es:\n",
    "\n",
    "![fig12](https://github.com/repos-SO-UdeA/laboratorios/blob/master/lab1/teoria/parte4/imagenes/point_sin_typedef.png?raw=true)\n",
    "\n",
    "**Figura 11**. Uso variables tipo struct Punto2D sin usar typedef.\n"
   ]
  },
  {
   "cell_type": "markdown",
   "metadata": {
    "colab_type": "text",
    "id": "HsTI-0B0wAjK"
   },
   "source": [
    "2. Realice lo mismo que en el punto anterior, pero esta vez haga uso de la palabra clave **typedef** para crear un alias son **struct Punto2d** llamado **Punto2D**:"
   ]
  },
  {
   "cell_type": "code",
   "execution_count": 28,
   "metadata": {
    "colab": {
     "autoexec": {
      "startup": false,
      "wait_interval": 0
     },
     "base_uri": "https://localhost:8080/",
     "height": 34
    },
    "colab_type": "code",
    "executionInfo": {
     "elapsed": 391,
     "status": "ok",
     "timestamp": 1531522471965,
     "user": {
      "displayName": "HENRY ALBERTO ARCILA RAMIREZ",
      "photoUrl": "https://lh3.googleusercontent.com/a/default-user=s128",
      "userId": "101819781408374541388"
     },
     "user_tz": 300
    },
    "id": "4nSMwfmawEug",
    "outputId": "1378b991-056e-4761-a817-c71321c4d10a"
   },
   "outputs": [
    {
     "data": {
      "text/html": [
       "<div class=\"text-center\"><strong><a style=\"box-sizing: border-box; padding: 0 5px; border: 1px solid #CFCFCF;\" target=\"_\" href=http://pythontutor.com/iframe-embed.html#code=%23include%20%3Cstdio.h%3E%0A%0A//%20Declaracion%20de%20las%20estructura%0Astruct%20Punto2D%20%7B%0A%20%20float%20x%3B%0A%20%20float%20y%3B%0A%7D%3B%0A%0A//%20Creacion%20del%20alias%0Atypedef%20struct%20Punto2D%20Punto2D%3B%0A%0A//%20Funcion%20main%20%20%20%20%20%20%20%20%20%20%20%20%20%20%20%20%20%20%20%20%20%20%20%20%20%0Aint%20main%28%29%20%7B%20%0A%20%20//%20Declaracion%20de%20variables%0A%20%20Punto2D%20P1%20%3D%20%7B%0A%20%20%20%20%20%20%20%20%20%20%20%20%20%20%20%20%20%20%20%20%20%20%20%202%2C%0A%20%20%20%20%20%20%20%20%20%20%20%20%20%20%20%20%20%20%20%20%20%20%20%203%0A%20%20%20%20%20%20%20%20%20%20%20%20%20%20%20%20%20%20%20%20%20%20%7D%3B%0A%0A%20%20Punto2D%20P2%20%3D%20%7B%0A%20%20%20%20%20%20%20%20%20%20%20%20%20%20%20%20%20%20%20%20%20%20%20%20.x%20%3D%20-1%2C%0A%20%20%20%20%20%20%20%20%20%20%20%20%20%20%20%20%20%20%20%20%20%20%20%20.y%20%3D%206%0A%20%20%20%20%20%20%20%20%20%20%20%20%20%20%20%20%20%20%20%20%20%20%7D%3B%0A%20%20return%200%3B%0A%7D&origin=opt-frontend.js&cumulative=false&heapPrimitives=false&textReferences=false&curInstr=0&&verticalStack=false&py=c&rawInputLstJSON=%5B%5D&codeDivWidth=50%25&codeDivHeight=100%25>Python Tutor</a></strong></div>"
      ],
      "text/plain": [
       "<IPython.core.display.HTML object>"
      ]
     },
     "metadata": {
      "tags": []
     },
     "output_type": "display_data"
    }
   ],
   "source": [
    "%%tutor -l c -k\n",
    "#include <stdio.h>\n",
    "\n",
    "// Declaracion de las estructura\n",
    "struct Punto2D {\n",
    "  float x;\n",
    "  float y;\n",
    "};\n",
    "\n",
    "// Creacion del alias\n",
    "typedef struct Punto2D Punto2D;\n",
    "\n",
    "// Funcion main                         \n",
    "int main() { \n",
    "  // Declaracion de variables\n",
    "  Punto2D P1 = {\n",
    "                        2,\n",
    "                        3\n",
    "                      };\n",
    "\n",
    "  Punto2D P2 = {\n",
    "                        .x = -1,\n",
    "                        .y = 6\n",
    "                      };\n",
    "  return 0;\n",
    "}"
   ]
  },
  {
   "cell_type": "markdown",
   "metadata": {
    "colab_type": "text",
    "id": "Fkv3_XVRwbE0"
   },
   "source": [
    "La salida del programa anterior (observe en que se diferencia respecto al anterior) es:\n",
    "\n",
    "![fig12](https://github.com/repos-SO-UdeA/laboratorios/blob/master/lab1/teoria/parte4/imagenes/point_con_typedef.png?raw=true)\n",
    "\n",
    "**Figura 12**. Uso variables tipo struct Punto2D usando typedef."
   ]
  },
  {
   "cell_type": "markdown",
   "metadata": {
    "colab_type": "text",
    "id": "Bmv_C3Miwi2y"
   },
   "source": [
    "### 2.5. Manipulando estructuras\n",
    "Por manipulacion de la estructuras (dentro de este contexto) nos queremos referir al acceso a los miembros de esta, tal y como sucede cuando se accede a los miembros de un objeto en el caso de la POO. Para el caso de las estructuras en particulas, existen dos formas de acceder:\n",
    "* Empleando el operador punto (.)\n",
    "* Emplenando el operador flecha (->)\n",
    "\n",
    "#### 2.5.1 Usando el operador punto (.)\n",
    "Usado cuando se definen variables del tipo de la estructura. Básicamente tiene la siguiente sintaxis:\n",
    "\n",
    "```C\n",
    "<nombre_variable_estructura>.<nombre_miembro> = datos;\n",
    "```"
   ]
  },
  {
   "cell_type": "markdown",
   "metadata": {
    "colab_type": "text",
    "id": "nDpGLGPfwjvF"
   },
   "source": [
    "**Ejemplos**\n",
    "1. Crear dos puntos P1 y P2. Luego de su declaracion inicialicelos con los siguientes valores: (1,1) y (10,3). En el siguiente [enlace](https://goo.gl/XzWLMR) se encuentra el codigo.\n",
    "\n",
    "```\n",
    "// Declaracion de las estructura\n",
    "struct Punto2D {\n",
    "  ...\n",
    "};\n",
    "\n",
    "// Creacion del alias\n",
    "struct Punto2D Punto2D;\n",
    "\n",
    "// Declaracion de los puntos\n",
    "Punto2D P1, P2;\n",
    "\n",
    "// Manipulacion (acceso a los miembros)\n",
    "P1.x = 1;\n",
    "P1.y = 1;\n",
    "P2.x = 10, P2.y = 3;\n",
    "```\n",
    "\n",
    "Observe como quedan los campos de las variables P1 y P2 despues de la ejecucion del codigo anterior.\n",
    "\n",
    "![fig13](https://github.com/repos-SO-UdeA/laboratorios/blob/master/lab1/teoria/parte4/imagenes/acceso_struct_punto.png?raw=true)\n",
    "\n",
    "**Figura 13**. Manipulando variables tipo Punto2D.\n",
    "\n",
    "2. Crear una estructura asociada a un libro y porteriormente declarar dos libros (como un array) con la siguiente informacion.\n",
    "\n",
    "![fig13](https://github.com/repos-SO-UdeA/laboratorios/blob/master/lab1/teoria/parte4/imagenes/libros.png?raw=true)\n",
    "\n",
    "**Figura 13**. Libros.\n",
    "\n",
    "<table style=\"width: 91px;\">\n",
    "<tbody>\n",
    "<tr>\n",
    "<td style=\"width: 15px;\">#</td>\n",
    "<td style=\"width: 15px;\">BookID</td>\n",
    "<td style=\"width: 15px;\">Title</td>\n",
    "<td style=\"width: 15px;\">Author</td>\n",
    "<td style=\"width: 15px;\">Pages</td>\n",
    "<td style=\"width: 15px;\">Price</td>\n",
    "</tr>\n",
    "<tr>\n",
    "<td style=\"width: 15px;\">1</td>\n",
    "<td style=\"width: 15px;\">1211</td>\n",
    "<td style=\"width: 15px;\">C Primer Plus</td>\n",
    "<td style=\"width: 15px;\">Stephen Prata</td>\n",
    "<td style=\"width: 15px;\">984</td>\n",
    "<td style=\"width: 15px;\">585.00</td>\n",
    "</tr>\n",
    "<tr>\n",
    "<td style=\"width: 15px;\">2</td>\n",
    "<td style=\"width: 15px;\">1212</td>\n",
    "<td style=\"width: 15px;\">The ANSI C Programming</td>\n",
    "<td style=\"width: 15px;\">Dennis Ritchie</td>\n",
    "<td style=\"width: 15px;\">214</td>\n",
    "<td style=\"width: 15px;\">125.00</td>\n",
    "</tr>\n",
    "</tbody>\n",
    "</table>\n",
    "\n",
    "El [código](https://goo.gl/dbjcTF) solucion se muestra a continuación, note que la forma como se accede a la variable tipo ```Book``` en el correspondiente arreglo es ```book[i]``` para el caso, por ende la forma de acceder a cada uno de los miembros del array en cuestion será ```book[i].miembro```\n",
    "\n",
    "```C\n",
    "#include <stdio.h>\n",
    "#include <string.h>\n",
    "\n",
    "// Declaracion de las estructura\n",
    "struct Book  {\n",
    "   int  book_id;\n",
    "   char title[24]; \n",
    "   char author[20]; \n",
    "   int pages;\n",
    "   float price;\n",
    "};\n",
    "\n",
    "// Creacion del alias\n",
    "typedef struct Book Book;\n",
    "\n",
    "// Declaracion del array de libros\n",
    "Book books[2];\n",
    "\n",
    "int main() {\n",
    "  // Manipulacion (acceso a los miembros)\n",
    "\n",
    "  // Libro # 1\n",
    "  books[0].book_id = 1211;\n",
    "  //OJO: books[0].title = \"C Primer Plus\" es un ERROR \n",
    "  strcpy(books[0].title,\"C Primer Plus\");    \n",
    "  strcpy(books[0].author,\"Stephen Prata\"); \n",
    "  books[0].pages = 984;\n",
    "  books[0].price = 585.00;\n",
    "\n",
    "  // Libro #2\n",
    "  books[1].book_id = 1212;\n",
    "  strcpy(books[1].title,\"The ANSI C Programming\"); \n",
    "  strcpy(books[1].author,\"Dennis Ritchie\"); \n",
    "  books[1].pages = 214;\n",
    "  books[1].price = 125.00;\n",
    "\n",
    "  return 0;\n",
    "}\n",
    "```\n",
    "\n",
    "A continuacion se muestra el resultado en memoria.:\n",
    "\n",
    "![fig14](https://github.com/repos-SO-UdeA/laboratorios/blob/master/lab1/teoria/parte4/imagenes/declaracion_books.png?raw=true)\n",
    "\n",
    "**Figura 14**. Resultado en memoria para variables asociadas a los libros."
   ]
  },
  {
   "cell_type": "markdown",
   "metadata": {
    "colab_type": "text",
    "id": "lAeH37EdxP_L"
   },
   "source": [
    "2.5.2 Usando el operador flecha (->)\n",
    "Es empleado cuando se hace uso de punteros a estructuras, su sintaxis es de la siguiente forma:\n",
    "\n",
    "```C\n",
    "<puntero_estructura>-><nombre_miembro> = datos;\n",
    "```\n"
   ]
  },
  {
   "cell_type": "markdown",
   "metadata": {
    "colab_type": "text",
    "id": "oAQAUn4fxSlJ"
   },
   "source": [
    "**Ejemplos**\n",
    "1. Suponga que se tiene una estructura asociada a las fechas. Tambien, suponga que tiene una variable llamada diaDestino cuyo valor asociado es el 5 de noviembre de 1955 (primer viaje en el tiempo de Marty MacFly). Luego cree una variable tipo apuntador a esta este tipo de estructura y modifique a traves de este el valor de diaDestino al 21 de octubre de 2015 (fecha a la cual viaja Marty MacFly al futuro). Imprima los valores en cada caso.\n",
    "\n",
    "El código solucion se muestra a continuacion:\n"
   ]
  },
  {
   "cell_type": "code",
   "execution_count": 29,
   "metadata": {
    "colab": {
     "autoexec": {
      "startup": false,
      "wait_interval": 0
     },
     "base_uri": "https://localhost:8080/",
     "height": 34
    },
    "colab_type": "code",
    "executionInfo": {
     "elapsed": 351,
     "status": "ok",
     "timestamp": 1531522472766,
     "user": {
      "displayName": "HENRY ALBERTO ARCILA RAMIREZ",
      "photoUrl": "https://lh3.googleusercontent.com/a/default-user=s128",
      "userId": "101819781408374541388"
     },
     "user_tz": 300
    },
    "id": "GejDajlqxUON",
    "outputId": "177940eb-2ae1-4d59-83c1-9b1580a2bcaf"
   },
   "outputs": [
    {
     "data": {
      "text/html": [
       "<div class=\"text-center\"><strong><a style=\"box-sizing: border-box; padding: 0 5px; border: 1px solid #CFCFCF;\" target=\"_\" href=http://pythontutor.com/iframe-embed.html#code=%23include%20%3Cstdio.h%3E%0A%0Astruct%20Date%20%7B%0A%20%20unsigned%20year%3B%0A%20%20unsigned%20month%3B%0A%20%20unsigned%20day%3B%0A%7D%3B%0A%0Atypedef%20struct%20Date%20Fecha%3B%0A%0Aint%20main%28%29%20%7B%0A%20%20/%2A%20Declaracion%20de%20variables%20%2A/%0A%20%20Fecha%20diaDestino%3B%20//%20Varible%20tipo%20fecha%0A%20%20Fecha%20%2AdiaPtr%3B%20%20%20%20//%20Variable%20tipo%20apuntador%20a%20fecha%0A%20%20diaPtr%20%3D%20%26diaDestino%3B%20%20//%20Inicializacion%20del%20apuntador%0A%20%20%0A%20%20/%2A%20Viaje%20al%20pasado%20%2A/%0A%20%20//%20Fijando%20por%20medio%20del%20operador%20punto%20%28.%29%20los%20valores%20%0A%20%20//%20de%20dia%20destino%20al%205%20de%20noviembre%20de%201955%20%0A%20%20diaDestino.year%20%3D%201955%3B%0A%20%20diaDestino.month%20%3D%2011%3B%0A%20%20diaDestino.day%20%3D%205%3B%0A%20%20printf%28%22Destination%20time%3A%20%25d/%25d/%25d%5Cn%22%2C%20%0A%20%20%20%20%20%20%20%20%20diaDestino.day%2C%20diaDestino.month%2C%20diaDestino.year%29%3B%0A%20%20%0A%20%20/%2AViaje%20al%20futuro%20%2A/%0A%20%20//%20Fijando%20por%20medio%20del%20operador%20flecha%20%28-%3E%29%20los%20valores%20%0A%20%20//%20de%20dia%20destino%20al%2021%20de%20octubre%20de%202015%0A%20%20diaPtr-%3Eyear%20%3D%202015%3B%0A%20%20diaPtr-%3Emonth%20%3D%2010%3B%0A%20%20diaPtr-%3Eday%20%3D%2021%3B%0A%20%20printf%28%22Destination%20time%3A%20%25d/%25d/%25d%5Cn%22%2C%20%0A%20%20%20%20%20%20%20%20%20diaPtr-%3Eyear%2C%20diaPtr-%3Emonth%2C%20diaPtr-%3Eyear%29%3B%0A%20%20return%200%3B%0A%7D&origin=opt-frontend.js&cumulative=false&heapPrimitives=false&textReferences=false&curInstr=0&&verticalStack=false&py=c&rawInputLstJSON=%5B%5D&codeDivWidth=50%25&codeDivHeight=100%25>Python Tutor</a></strong></div>"
      ],
      "text/plain": [
       "<IPython.core.display.HTML object>"
      ]
     },
     "metadata": {
      "tags": []
     },
     "output_type": "display_data"
    }
   ],
   "source": [
    "%%tutor -l c -k\n",
    "#include <stdio.h>\n",
    "\n",
    "struct Date {\n",
    "  unsigned year;\n",
    "  unsigned month;\n",
    "  unsigned day;\n",
    "};\n",
    "\n",
    "typedef struct Date Fecha;\n",
    "\n",
    "int main() {\n",
    "  /* Declaracion de variables */\n",
    "  Fecha diaDestino; // Varible tipo fecha\n",
    "  Fecha *diaPtr;    // Variable tipo apuntador a fecha\n",
    "  diaPtr = &diaDestino;  // Inicializacion del apuntador\n",
    "  \n",
    "  /* Viaje al pasado */\n",
    "  // Fijando por medio del operador punto (.) los valores \n",
    "  // de dia destino al 5 de noviembre de 1955 \n",
    "  diaDestino.year = 1955;\n",
    "  diaDestino.month = 11;\n",
    "  diaDestino.day = 5;\n",
    "  printf(\"Destination time: %d/%d/%d\\n\", \n",
    "         diaDestino.day, diaDestino.month, diaDestino.year);\n",
    "  \n",
    "  /*Viaje al futuro */\n",
    "  // Fijando por medio del operador flecha (->) los valores \n",
    "  // de dia destino al 21 de octubre de 2015\n",
    "  diaPtr->year = 2015;\n",
    "  diaPtr->month = 10;\n",
    "  diaPtr->day = 21;\n",
    "  printf(\"Destination time: %d/%d/%d\\n\", \n",
    "         diaPtr->year, diaPtr->month, diaPtr->year);\n",
    "  return 0;\n",
    "}"
   ]
  },
  {
   "cell_type": "markdown",
   "metadata": {
    "colab_type": "text",
    "id": "PsTULrswxhgp"
   },
   "source": [
    "Hay que aclarar que el uso del operador punto (.) tambien puede ser empleado con variables tipo apuntador, para ello se sigue la siguiente forma:"
   ]
  },
  {
   "cell_type": "markdown",
   "metadata": {
    "colab_type": "text",
    "id": "O-s4vO_ByQF5"
   },
   "source": [
    "**Ejemplos**\n",
    "1. Implemente el mismo ejemplo anterior, pero esta vez use el operador punto (.) para modificar los miembros de la variable tipo Date a traves del apuntador.\n",
    "\n",
    "El codigo solución se muestra a continuacion:"
   ]
  },
  {
   "cell_type": "code",
   "execution_count": 30,
   "metadata": {
    "colab": {
     "autoexec": {
      "startup": false,
      "wait_interval": 0
     },
     "base_uri": "https://localhost:8080/",
     "height": 34
    },
    "colab_type": "code",
    "executionInfo": {
     "elapsed": 357,
     "status": "ok",
     "timestamp": 1531522473229,
     "user": {
      "displayName": "HENRY ALBERTO ARCILA RAMIREZ",
      "photoUrl": "https://lh3.googleusercontent.com/a/default-user=s128",
      "userId": "101819781408374541388"
     },
     "user_tz": 300
    },
    "id": "Gdm1S0-dyROy",
    "outputId": "7803fe37-d092-49a8-97de-9aca9d618f0f"
   },
   "outputs": [
    {
     "data": {
      "text/html": [
       "<div class=\"text-center\"><strong><a style=\"box-sizing: border-box; padding: 0 5px; border: 1px solid #CFCFCF;\" target=\"_\" href=http://pythontutor.com/iframe-embed.html#code=%23include%20%3Cstdio.h%3E%0A%0Astruct%20Date%20%7B%0A%20%20unsigned%20year%3B%0A%20%20unsigned%20month%3B%0A%20%20unsigned%20day%3B%0A%7D%3B%0A%0Atypedef%20struct%20Date%20Fecha%3B%0A%0Aint%20main%28%29%20%7B%0A%20%20/%2A%20Declaracion%20de%20variables%20%2A/%0A%20%20Fecha%20diaDestino%3B%20//%20Varible%20tipo%20fecha%0A%20%20Fecha%20%2AdiaPtr%3B%20%20%20%20//%20Variable%20tipo%20apuntador%20a%20fecha%0A%20%20diaPtr%20%3D%20%26diaDestino%3B%20%20//%20Inicializacion%20del%20apuntador%0A%20%20%0A%20%20/%2A%20Viaje%20al%20pasado%20%2A/%0A%20%20//%20Fijando%20por%20medio%20del%20operador%20punto%20%28.%29%20los%20valores%20%0A%20%20//%20de%20dia%20destino%20al%205%20de%20noviembre%20de%201955%20%0A%20%20diaDestino.year%20%3D%201955%3B%0A%20%20diaDestino.month%20%3D%2011%3B%0A%20%20diaDestino.day%20%3D%205%3B%0A%20%20printf%28%22Destination%20time%3A%20%25d/%25d/%25d%5Cn%22%2C%20%0A%20%20%20%20%20%20%20%20%20diaDestino.day%2C%20diaDestino.month%2C%20diaDestino.year%29%3B%0A%20%20%0A%20%20/%2AViaje%20al%20futuro%20%2A/%0A%20%20//%20Fijando%20por%20medio%20del%20operador%20flecha%20%28-%3E%29%20los%20valores%20%0A%20%20//%20de%20dia%20destino%20al%2021%20de%20octubre%20de%202015%0A%20%20%28%2AdiaPtr%29.year%20%3D%202015%3B%0A%20%20%28%2AdiaPtr%29.month%20%3D%2010%3B%0A%20%20%28%2AdiaPtr%29.day%20%3D%2021%3B%0A%20%20printf%28%22Destination%20time%3A%20%25d/%25d/%25d%5Cn%22%2C%20%0A%20%20%20%20%20%20%20%20%20diaPtr-%3Eyear%2C%20diaPtr-%3Emonth%2C%20diaPtr-%3Eyear%29%3B%0A%20%20return%200%3B%0A%7D&origin=opt-frontend.js&cumulative=false&heapPrimitives=false&textReferences=false&curInstr=0&&verticalStack=false&py=c&rawInputLstJSON=%5B%5D&codeDivWidth=50%25&codeDivHeight=100%25>Python Tutor</a></strong></div>"
      ],
      "text/plain": [
       "<IPython.core.display.HTML object>"
      ]
     },
     "metadata": {
      "tags": []
     },
     "output_type": "display_data"
    }
   ],
   "source": [
    "%%tutor -l c -k\n",
    "#include <stdio.h>\n",
    "\n",
    "struct Date {\n",
    "  unsigned year;\n",
    "  unsigned month;\n",
    "  unsigned day;\n",
    "};\n",
    "\n",
    "typedef struct Date Fecha;\n",
    "\n",
    "int main() {\n",
    "  /* Declaracion de variables */\n",
    "  Fecha diaDestino; // Varible tipo fecha\n",
    "  Fecha *diaPtr;    // Variable tipo apuntador a fecha\n",
    "  diaPtr = &diaDestino;  // Inicializacion del apuntador\n",
    "  \n",
    "  /* Viaje al pasado */\n",
    "  // Fijando por medio del operador punto (.) los valores \n",
    "  // de dia destino al 5 de noviembre de 1955 \n",
    "  diaDestino.year = 1955;\n",
    "  diaDestino.month = 11;\n",
    "  diaDestino.day = 5;\n",
    "  printf(\"Destination time: %d/%d/%d\\n\", \n",
    "         diaDestino.day, diaDestino.month, diaDestino.year);\n",
    "  \n",
    "  /*Viaje al futuro */\n",
    "  // Fijando por medio del operador flecha (->) los valores \n",
    "  // de dia destino al 21 de octubre de 2015\n",
    "  (*diaPtr).year = 2015;\n",
    "  (*diaPtr).month = 10;\n",
    "  (*diaPtr).day = 21;\n",
    "  printf(\"Destination time: %d/%d/%d\\n\", \n",
    "         diaPtr->year, diaPtr->month, diaPtr->year);\n",
    "  return 0;\n",
    "}"
   ]
  },
  {
   "cell_type": "markdown",
   "metadata": {
    "colab_type": "text",
    "id": "XaEQOVXvylwL"
   },
   "source": [
    "Si lo simula, podrá notar que la salida es exactamente la misma que la del ejemplo anterior."
   ]
  },
  {
   "cell_type": "markdown",
   "metadata": {
    "colab_type": "text",
    "id": "71OxP8MHyoEz"
   },
   "source": [
    "### 2.6. Estructuras anidadas\n",
    "Una estructura puede tener a su vez otra estructura como miembro. A continuacion se muestra un ejemplo para ello.\n"
   ]
  },
  {
   "cell_type": "markdown",
   "metadata": {
    "colab_type": "text",
    "id": "JV58NvQQypL4"
   },
   "source": [
    "**Ejemplos**\n",
    "1. Suponga que se tiene la siguiente tabla asociada a personajes historicos.\n",
    "\n",
    "![fig16](https://github.com/repos-SO-UdeA/laboratorios/blob/master/lab1/teoria/parte4/imagenes/personajes.png?raw=true)\n",
    "\n",
    "**Figura 16**. Personajes\n",
    "\n",
    "<table>\n",
    "<tbody>\n",
    "<tr>\n",
    "<td>Nombre</td>\n",
    "<td>Nacimiento</td>\n",
    "<td>Muerte</td>\n",
    "<td>Profesion</td>\n",
    "</tr>\n",
    "<tr>\n",
    "<td>Ernest Hemingway</td>\n",
    "<td>21/07/1899</td>\n",
    "<td>02/07/1961</td>\n",
    "<td>Escritor</td>\n",
    "</tr>\n",
    "<tr>\n",
    "<td>Albert Einstein</td>\n",
    "<td>14/03/1879</td>\n",
    "<td>18/04/1955</td>\n",
    "<td>Fisico</td>\n",
    "</tr>\n",
    "</tbody>\n",
    "</table>\n",
    "\n",
    "Note que para el problema podemos crear dos estructuras, una asociada al personaje y otra asociada a las fechas. Asi mismo, podemos ver que las fechas pueden ser tratadas como estructuras del personaje. A continuacion vamos a mostrar el código que define ambas estructuras:\n",
    "\n",
    "```C\n",
    "struct date {\n",
    "  unsigned year;\n",
    "  unsigned month;\n",
    "  unsigned day;\n",
    "};\n",
    "\n",
    "typedef struct date fecha;\n",
    "\n",
    "struct personajeHistorico {\n",
    "  char nombre[21];\n",
    "  fecha nacimiento;\n",
    "  fecha muerte;\n",
    "  char profesion[21];\n",
    "};\n",
    "\n",
    "typedef struct personajeHistorico personaje;\n",
    "\n",
    "\n",
    "int main() {\n",
    "  \n",
    "  personaje per1 = {\n",
    "                     .nombre = \"Ernest Hemingway\",\n",
    "                     .nacimiento = {\n",
    "                       .year = 21, \n",
    "                       .month = 07,\n",
    "                       .day =  1899,\n",
    "                      },\n",
    "                     .muerte = { 02, 07, 1961 },\n",
    "                     .profesion = \"Escritor\"                  \n",
    "                   };\n",
    "  personaje per2, *ptr;\n",
    "  fecha d = {14, 03, 1879};  \n",
    "  ptr = &per2;\n",
    "  strcpy(per2.nombre,\"Albert Einstein\");\n",
    "  strcpy(ptr->profesion,\"Fisico\");\n",
    "  (*ptr).nacimiento = d;\n",
    "  per2.muerte.year = 1955;\n",
    "  per2.muerte.month = 4;\n",
    "  per2.muerte.day = 18;\n",
    "  return 0;\n",
    "}\n",
    "```\n",
    "\n",
    "Notese que en el anterior [ejemplo](https://goo.gl/wFkkgf), se combinan varias de las cosas que hemos discutido previamente. El resultado en memoria se muestra a continuacion:\n",
    "\n",
    "![fig17](https://github.com/repos-SO-UdeA/laboratorios/blob/master/lab1/teoria/parte4/imagenes/struct_personajes.png?raw=true)\n",
    "\n",
    "**Figura 17**. Resultado en memoria cuando existen estructuras anidadas."
   ]
  },
  {
   "cell_type": "markdown",
   "metadata": {
    "colab_type": "text",
    "id": "Ip9b_SaFy7uU"
   },
   "source": [
    "### 2.6. Estructuras y funciones\n",
    "Los conceptos vistos hasta el momento sobre funciones tambien aplican a las estructuras ya que las estructuras pueden ser usadas como parametros y valores de retorno por citar unos cuantos casos. La unica cosa adicional, respecto a las funciones que trabajan con variables normales, es que las funciones con estructuras hacen uso de los operadores de acceso para la manipulacion y el procesamiento de los datos de acuerdo a lo que se desea que haga la funcion. Como en el caso tradicional, las funciones en las que se emplean estructuras pueden ser pasadas por valor y por referencia. A continuacion se describe cada caso:\n",
    "\n",
    "### 2.6.1. Paso de estructuras por valor\n",
    "En este caso la estructura pasada como argumento a la funcion es copiada al parametro de la funcion, de modo que el procesamiento se hace sobre la copia y no sobre la estructura pasada como argumento.\n"
   ]
  },
  {
   "cell_type": "markdown",
   "metadata": {
    "colab_type": "text",
    "id": "7DlKfYgfy8xD"
   },
   "source": [
    "**Ejemplos**\n",
    "1. Definir una estructura que este asociada a un numero completo. Luego haga una funcion que imprima el numero complejo en cuestion en la forma **parteReal + parteImaginaria*i**. Luego probar el programa para imprimir los numeros: 2, -3*i, -2.3 + 10.5*i, 1.23 - 3.67*i\n",
    "\n",
    "El codigo solucion se muestra a continuación:"
   ]
  },
  {
   "cell_type": "code",
   "execution_count": 31,
   "metadata": {
    "colab": {
     "autoexec": {
      "startup": false,
      "wait_interval": 0
     },
     "base_uri": "https://localhost:8080/",
     "height": 34
    },
    "colab_type": "code",
    "executionInfo": {
     "elapsed": 585,
     "status": "ok",
     "timestamp": 1531522473919,
     "user": {
      "displayName": "HENRY ALBERTO ARCILA RAMIREZ",
      "photoUrl": "https://lh3.googleusercontent.com/a/default-user=s128",
      "userId": "101819781408374541388"
     },
     "user_tz": 300
    },
    "id": "8gnpNTApzALG",
    "outputId": "4575e546-c40b-4a3e-8d09-9e35dc410bfa"
   },
   "outputs": [
    {
     "data": {
      "text/html": [
       "<div class=\"text-center\"><strong><a style=\"box-sizing: border-box; padding: 0 5px; border: 1px solid #CFCFCF;\" target=\"_\" href=http://pythontutor.com/iframe-embed.html#code=%23include%20%3Cstdio.h%3E%0A%0A/%2A%2A%20Declaracion%20de%20%20estructuras%20%2A/%0Atypedef%20struct%20complejo%20%7B%0A%20%20float%20re%3B%0A%20%20float%20im%3B%0A%7D%20complejo%3B%0A%0A/%2A%2A%20Declaracion%20de%20funciones%20%2A/%0Avoid%20imprimirComplejo%28complejo%29%3B%20//%20void%20imprimirComplejo%28complejo%20num%29%0A%0A/%2A%2A%20Funcion%20main%20%2A/%0Aint%20main%28%29%20%7B%0A%20%20/%2A%20Creando%20los%20numeros%20%2A/%0A%20%20complejo%20n1%20%3D%20%7B2%2C%200%7D%3B%20//%202%0A%20%20complejo%20n2%20%3D%20%7B.re%20%3D%200%2C%20.im%20%3D%20-3%7D%3B%20//%20-3%2Ai%0A%20%20complejo%20n3%2C%20n4%3B%0A%20%20n3.re%20%3D%20-2.3%3B%20//%20-2.3%20%2B%2010.5%2Ai%0A%20%20n3.im%20%3D%2010.5%3B%0A%20%20n4.re%20%3D%201.23%3B%20//%20%201.23%20-%203.67%2Ai%0A%20%20n4.im%20%3D%20-3.67%3B%0A%20%20/%2A%20Llamando%20las%20funciones%20para%20imprimir%20%2A/%0A%20%20imprimirComplejo%28n1%29%3B%0A%20%20printf%28%22%5Cn%22%29%3B%0A%20%20imprimirComplejo%28n2%29%3B%0A%20%20printf%28%22%5Cn%22%29%3B%0A%20%20imprimirComplejo%28n3%29%3B%0A%20%20printf%28%22%5Cn%22%29%3B%0A%20%20imprimirComplejo%28n4%29%3B%0A%20%20printf%28%22%5Cn%22%29%3B%0A%20%20return%200%3B%0A%7D%0A%0A/%2A%2A%20Definicion%20de%20funciones%20%2A/%0Avoid%20imprimirComplejo%28complejo%20num%29%20%7B%0A%20%20if%20%28num.im%20%3D%3D%200%29%20%7B%0A%20%20%20%20//%20Real%20puro%0A%20%20%20%20printf%28%22%25.2f%22%2Cnum.re%29%3B%0A%20%20%7D%0A%20%20else%20if%20%28num.re%20%3D%3D%200%29%20%7B%0A%20%20%20%20//%20Imaginario%20puro%0A%20%20%20%20printf%28%22%25.2f%2Ai%22%2Cnum.im%29%3B%0A%20%20%7D%0A%20%20else%20if%20%28num.im%20%3C%200%29%20%7B%0A%20%20%20%20//%20Complejo%20con%20parte%20imaginaria%20negativa%0A%20%20%20%20printf%28%22%25.2f%20-%20%25.2f%2Ai%22%2Cnum.re%2C%28-1%29%2Anum.im%29%3B%0A%20%20%7D%0A%20%20else%20%7B%0A%20%20%20%20//%20Complejo%20con%20parte%20imaginaria%20positiva%0A%20%20%20%20printf%28%22%25.2f%20%2B%20%25.2f%2Ai%22%2Cnum.re%2Cnum.im%29%3B%0A%20%20%7D%20%20%0A%7D&origin=opt-frontend.js&cumulative=false&heapPrimitives=false&textReferences=false&curInstr=0&&verticalStack=false&py=c&rawInputLstJSON=%5B%5D&codeDivWidth=50%25&codeDivHeight=100%25>Python Tutor</a></strong></div>"
      ],
      "text/plain": [
       "<IPython.core.display.HTML object>"
      ]
     },
     "metadata": {
      "tags": []
     },
     "output_type": "display_data"
    }
   ],
   "source": [
    "%%tutor -l c -k\n",
    "#include <stdio.h>\n",
    "\n",
    "/** Declaracion de  estructuras */\n",
    "typedef struct complejo {\n",
    "  float re;\n",
    "  float im;\n",
    "} complejo;\n",
    "\n",
    "/** Declaracion de funciones */\n",
    "void imprimirComplejo(complejo); // void imprimirComplejo(complejo num)\n",
    "\n",
    "/** Funcion main */\n",
    "int main() {\n",
    "  /* Creando los numeros */\n",
    "  complejo n1 = {2, 0}; // 2\n",
    "  complejo n2 = {.re = 0, .im = -3}; // -3*i\n",
    "  complejo n3, n4;\n",
    "  n3.re = -2.3; // -2.3 + 10.5*i\n",
    "  n3.im = 10.5;\n",
    "  n4.re = 1.23; //  1.23 - 3.67*i\n",
    "  n4.im = -3.67;\n",
    "  /* Llamando las funciones para imprimir */\n",
    "  imprimirComplejo(n1);\n",
    "  printf(\"\\n\");\n",
    "  imprimirComplejo(n2);\n",
    "  printf(\"\\n\");\n",
    "  imprimirComplejo(n3);\n",
    "  printf(\"\\n\");\n",
    "  imprimirComplejo(n4);\n",
    "  printf(\"\\n\");\n",
    "  return 0;\n",
    "}\n",
    "\n",
    "/** Definicion de funciones */\n",
    "void imprimirComplejo(complejo num) {\n",
    "  if (num.im == 0) {\n",
    "    // Real puro\n",
    "    printf(\"%.2f\",num.re);\n",
    "  }\n",
    "  else if (num.re == 0) {\n",
    "    // Imaginario puro\n",
    "    printf(\"%.2f*i\",num.im);\n",
    "  }\n",
    "  else if (num.im < 0) {\n",
    "    // Complejo con parte imaginaria negativa\n",
    "    printf(\"%.2f - %.2f*i\",num.re,(-1)*num.im);\n",
    "  }\n",
    "  else {\n",
    "    // Complejo con parte imaginaria positiva\n",
    "    printf(\"%.2f + %.2f*i\",num.re,num.im);\n",
    "  }  \n",
    "}"
   ]
  },
  {
   "cell_type": "markdown",
   "metadata": {
    "colab_type": "text",
    "id": "Gwx7mqQMzNdq"
   },
   "source": [
    "Notese que en el anterior codigo se empleo ```typedef``` al declarar la estructura para definir de una vez el alias. La salida en pantalla y la representacion en memoria del programa anterior se muestra a continuacion."
   ]
  },
  {
   "cell_type": "markdown",
   "metadata": {
    "colab_type": "text",
    "id": "baVobKVZzPPx"
   },
   "source": [
    "2. En la anterior funcion se un numero complejo como parametro, sin embargo tambien es posible retornar otras estructuras variables de retorno. Para ello en el siguiente ejemplo:\n",
    "> * Hacer una funcion que sume dos numeros complejos y retorne el resultado de realizar la suma como otro complejo.\n",
    "> * Hacer un test sumando los numeros: 2 - 11*i y 8 + 9*i\n",
    "\n",
    "A continuación se muestra el código solución:\n"
   ]
  },
  {
   "cell_type": "code",
   "execution_count": 32,
   "metadata": {
    "colab": {
     "autoexec": {
      "startup": false,
      "wait_interval": 0
     },
     "base_uri": "https://localhost:8080/",
     "height": 34
    },
    "colab_type": "code",
    "executionInfo": {
     "elapsed": 392,
     "status": "ok",
     "timestamp": 1531522474458,
     "user": {
      "displayName": "HENRY ALBERTO ARCILA RAMIREZ",
      "photoUrl": "https://lh3.googleusercontent.com/a/default-user=s128",
      "userId": "101819781408374541388"
     },
     "user_tz": 300
    },
    "id": "9lcwxcGxzgeb",
    "outputId": "d1044e96-95e5-4d4f-f6ea-b5176d1a6c82"
   },
   "outputs": [
    {
     "data": {
      "text/html": [
       "<div class=\"text-center\"><strong><a style=\"box-sizing: border-box; padding: 0 5px; border: 1px solid #CFCFCF;\" target=\"_\" href=http://pythontutor.com/iframe-embed.html#code=%23include%20%3Cstdio.h%3E%0A%0A/%2A%2A%20Declaracion%20de%20%20estructuras%20%2A/%0Atypedef%20struct%20complejo%20%7B%0A%20%20float%20re%3B%0A%20%20float%20im%3B%0A%7D%20complejo%3B%0A%0A/%2A%2A%20Declaracion%20de%20las%20funciones%20%20%2A/%0Avoid%20imprimirComplejo%28complejo%29%3B%0Acomplejo%20sumarComplejos%28complejo%2C%20complejo%29%3B%0Avoid%20test%28void%29%3B%20//%20Funcion%20para%20testing%0A%0A/%2A%2A%20Funcion%20main%20%2A/%0Aint%20main%28%29%20%7B%0A%20%20/%2A%20Probando%20todo%20mediante%20la%20funcion%20test%20%2A/%0A%20%20test%28%29%3B%0A%20%20return%200%3B%0A%7D%0A%0A/%2A%2A%20Definicion%20de%20funciones%20%2A/%0Avoid%20imprimirComplejo%28complejo%20num%29%20%7B%0A%20%20if%20%28num.im%20%3D%3D%200%29%20%7B%0A%20%20%20%20//%20Real%20puro%0A%20%20%20%20printf%28%22%25.2f%22%2Cnum.re%29%3B%0A%20%20%7D%0A%20%20else%20if%20%28num.re%20%3D%3D%200%29%20%7B%0A%20%20%20%20//%20Imaginario%20puro%0A%20%20%20%20printf%28%22%25.2f%2Ai%22%2Cnum.im%29%3B%0A%20%20%7D%0A%20%20else%20if%20%28num.im%20%3C%200%29%20%7B%0A%20%20%20%20//%20Complejo%20con%20parte%20imaginaria%20negativa%0A%20%20%20%20printf%28%22%25.2f%20-%20%25.2f%2Ai%22%2Cnum.re%2C%28-1%29%2Anum.im%29%3B%0A%20%20%7D%0A%20%20else%20%7B%0A%20%20%20%20//%20Complejo%20con%20parte%20imaginaria%20positiva%0A%20%20%20%20printf%28%22%25.2f%20%2B%20%25.2f%2Ai%22%2Cnum.re%2Cnum.im%29%3B%0A%20%20%7D%20%20%0A%7D%0A%0Acomplejo%20sumarComplejos%28complejo%20c1%2C%20complejo%20c2%29%20%7B%0A%20%20%20%20complejo%20solucion%3B%0A%20%20%20%20solucion.re%20%3D%20c1.re%20%2B%20c2.re%3B%0A%20%20%20%20solucion.im%20%3D%20c1.im%20%2B%20c2.im%3B%0A%20%20%20%20return%20solucion%3B%0A%7D%0A%0Avoid%20test%28void%29%20%7B%0A%20%20complejo%20c1%20%3D%20%7B2%2C%20-11%7D%2C%20c2%20%3D%20%7B8%2C%209%7D%3B%0A%20%20complejo%20c3%20%3D%20sumarComplejos%28c1%2Cc2%29%3B%0A%20%20imprimirComplejo%28c1%29%3B%0A%20%20printf%28%22%5Cn%22%29%3B%0A%20%20imprimirComplejo%28c2%29%3B%0A%20%20printf%28%22%20%2B%20%5Cn---------%5Cn%22%29%3B%0A%20%20imprimirComplejo%28c3%29%3B%0A%7D&origin=opt-frontend.js&cumulative=false&heapPrimitives=false&textReferences=false&curInstr=0&&verticalStack=false&py=c&rawInputLstJSON=%5B%5D&codeDivWidth=50%25&codeDivHeight=100%25>Python Tutor</a></strong></div>"
      ],
      "text/plain": [
       "<IPython.core.display.HTML object>"
      ]
     },
     "metadata": {
      "tags": []
     },
     "output_type": "display_data"
    }
   ],
   "source": [
    "%%tutor -l c -k\n",
    "#include <stdio.h>\n",
    "\n",
    "/** Declaracion de  estructuras */\n",
    "typedef struct complejo {\n",
    "  float re;\n",
    "  float im;\n",
    "} complejo;\n",
    "\n",
    "/** Declaracion de las funciones  */\n",
    "void imprimirComplejo(complejo);\n",
    "complejo sumarComplejos(complejo, complejo);\n",
    "void test(void); // Funcion para testing\n",
    "\n",
    "/** Funcion main */\n",
    "int main() {\n",
    "  /* Probando todo mediante la funcion test */\n",
    "  test();\n",
    "  return 0;\n",
    "}\n",
    "\n",
    "/** Definicion de funciones */\n",
    "void imprimirComplejo(complejo num) {\n",
    "  if (num.im == 0) {\n",
    "    // Real puro\n",
    "    printf(\"%.2f\",num.re);\n",
    "  }\n",
    "  else if (num.re == 0) {\n",
    "    // Imaginario puro\n",
    "    printf(\"%.2f*i\",num.im);\n",
    "  }\n",
    "  else if (num.im < 0) {\n",
    "    // Complejo con parte imaginaria negativa\n",
    "    printf(\"%.2f - %.2f*i\",num.re,(-1)*num.im);\n",
    "  }\n",
    "  else {\n",
    "    // Complejo con parte imaginaria positiva\n",
    "    printf(\"%.2f + %.2f*i\",num.re,num.im);\n",
    "  }  \n",
    "}\n",
    "\n",
    "complejo sumarComplejos(complejo c1, complejo c2) {\n",
    "    complejo solucion;\n",
    "    solucion.re = c1.re + c2.re;\n",
    "    solucion.im = c1.im + c2.im;\n",
    "    return solucion;\n",
    "}\n",
    "\n",
    "void test(void) {\n",
    "  complejo c1 = {2, -11}, c2 = {8, 9};\n",
    "  complejo c3 = sumarComplejos(c1,c2);\n",
    "  imprimirComplejo(c1);\n",
    "  printf(\"\\n\");\n",
    "  imprimirComplejo(c2);\n",
    "  printf(\" + \\n---------\\n\");\n",
    "  imprimirComplejo(c3);\n",
    "}"
   ]
  },
  {
   "cell_type": "markdown",
   "metadata": {
    "colab_type": "text",
    "id": "3zn9TUB7zRCq"
   },
   "source": [
    "3. Mejorar el codigo anterior agregando dos funciones que hagan lo siguiente:\n",
    "> * Calcule la magnitud de un numero complejo.\n",
    "> * Calcule el angulo de un numero complejo.\n",
    "\n",
    "El codigo anterior se mejoro quedando de la siguiente manera:"
   ]
  },
  {
   "cell_type": "code",
   "execution_count": 33,
   "metadata": {
    "colab": {
     "autoexec": {
      "startup": false,
      "wait_interval": 0
     },
     "base_uri": "https://localhost:8080/",
     "height": 34
    },
    "colab_type": "code",
    "executionInfo": {
     "elapsed": 386,
     "status": "ok",
     "timestamp": 1531522474927,
     "user": {
      "displayName": "HENRY ALBERTO ARCILA RAMIREZ",
      "photoUrl": "https://lh3.googleusercontent.com/a/default-user=s128",
      "userId": "101819781408374541388"
     },
     "user_tz": 300
    },
    "id": "ubIz_PyXztNw",
    "outputId": "3242c15c-6e33-462f-9920-8a8c44b0da67"
   },
   "outputs": [
    {
     "data": {
      "text/html": [
       "<div class=\"text-center\"><strong><a style=\"box-sizing: border-box; padding: 0 5px; border: 1px solid #CFCFCF;\" target=\"_\" href=http://pythontutor.com/iframe-embed.html#code=%23include%20%3Cstdio.h%3E%0A%23include%20%3Cmath.h%3E%0A%0A/%2A%2A%20Macros%20%2A/%0A%23define%20PI%203.14%0A%0A//%20Converts%20degrees%20to%20radians.%0A%23define%20degreesToRadians%28angleDegrees%29%20%28angleDegrees%20%2A%20PI%20/%20180.0%29%0A%0A//%20Converts%20radians%20to%20degrees.%0A%23define%20radiansToDegrees%28angleRadians%29%20%28angleRadians%20%2A%20180.0%20/%20PI%29%0A%0A/%2A%2A%20Declaracion%20de%20%20estructuras%20%2A/%0Atypedef%20struct%20complejo%20%7B%0A%20%20float%20re%3B%0A%20%20float%20im%3B%0A%7D%20complejo%3B%0A%0A/%2A%2A%20Declaracion%20de%20funciones%20%2A/%0Avoid%20imprimirComplejo%28complejo%29%3B%20//%20void%20imprimirComplejo%28complejo%20num%29%0Adouble%20calcularMagnitud%28complejo%29%3B%0Acomplejo%20sumarComplejos%28complejo%20c1%2C%20complejo%20c2%29%3B%0Avoid%20test1%28void%29%3B%0Avoid%20test2%28void%29%3B%0A%0A/%2A%2A%20Funcion%20main%20%2A/%0Aint%20main%28%29%20%7B%0A%20%20/%2A%20Creando%20los%20numeros%20%2A/%0A%20%20//%20test1%28%29%3B%20%20---%3E%20Comentado%20por%20que%20ya%20se%20probo%20que%20dio%20bien%0A%20%20test2%28%29%3B%0A%20%20return%200%3B%0A%7D%0A%0A/%2A%2A%20Definicion%20de%20funciones%20%2A/%0Avoid%20imprimirComplejo%28complejo%20num%29%20%7B%0A%20%20if%20%28num.im%20%3D%3D%200%29%20%7B%0A%20%20%20%20//%20Real%20puro%0A%20%20%20%20printf%28%22%25.2f%22%2Cnum.re%29%3B%0A%20%20%7D%0A%20%20else%20if%20%28num.re%20%3D%3D%200%29%20%7B%0A%20%20%20%20//%20Imaginario%20puro%0A%20%20%20%20printf%28%22%25.2f%2Ai%22%2Cnum.im%29%3B%0A%20%20%7D%0A%20%20else%20if%20%28num.im%20%3C%200%29%20%7B%0A%20%20%20%20//%20Complejo%20con%20parte%20imaginaria%20negativa%0A%20%20%20%20printf%28%22%25.2f%20-%20%25.2f%2Ai%22%2Cnum.re%2C%28-1%29%2Anum.im%29%3B%0A%20%20%7D%0A%20%20else%20%7B%0A%20%20%20%20//%20Complejo%20con%20parte%20imaginaria%20positiva%0A%20%20%20%20printf%28%22%25.2f%20%2B%20%25.2f%2Ai%22%2Cnum.re%2Cnum.im%29%3B%0A%20%20%7D%20%20%0A%7D%0A%0Adouble%20calcularMagnitud%28complejo%20num%29%20%7B%0A%20%20return%20sqrt%28pow%28num.re%2C2%29%20%2B%20pow%28num.im%2C2%29%29%3B%0A%7D%0A%0Adouble%20obtenerAngulo%28complejo%20num%29%20%7B%0A%20%20if%20%28num.re%20%3E%3D%200%20%26%20num.im%20%3E%3D%200%29%20%7B%0A%20%20%20%20//%20Cuadrante%20I%0A%20%20%20%20return%20radiansToDegrees%28atan2%28num.im%2Cnum.re%29%29%3B%0A%20%20%7D%0A%20%20else%20if%28num.re%20%3C%200%20%26%20num.im%20%3E%3D%200%29%20%7B%0A%20%20%20%20//%20Cuadrante%20II%0A%20%20%20%20return%20180%20-%20radiansToDegrees%28atan2%28-num.im%2Cnum.re%29%29%3B%0A%20%20%7D%0A%20%20else%20if%28num.re%20%3C%200%20%26%20num.im%20%3C%200%29%20%7B%0A%20%20%20%20//%20Cuadrante%20III%0A%20%20%20%20return%20180%20%2B%20radiansToDegrees%28atan2%28-num.im%2C-num.re%29%29%3B%0A%20%20%7D%0A%20%20else%20%7B%0A%20%20%20%20//%20Cuadrante%20IV%0A%20%20%20%20return%20360%20-%20radiansToDegrees%28atan2%28-num.im%2Cnum.re%29%29%3B%0A%20%20%7D%20%20%0A%7D%0A%0Acomplejo%20sumarComplejos%28complejo%20c1%2C%20complejo%20c2%29%20%7B%0A%20%20%20%20complejo%20solucion%3B%0A%20%20%20%20solucion.re%20%3D%20c1.re%20%2B%20c2.re%3B%0A%20%20%20%20solucion.im%20%3D%20c1.im%20%2B%20c2.im%3B%0A%20%20%20%20return%20solucion%3B%0A%7D%0A%0Avoid%20test1%28void%29%20%7B%0A%20%20complejo%20c1%20%3D%20%7B2%2C%20-11%7D%2C%20c2%20%3D%20%7B8%2C%209%7D%3B%0A%20%20complejo%20c3%20%3D%20sumarComplejos%28c1%2Cc2%29%3B%0A%20%20imprimirComplejo%28c1%29%3B%0A%20%20printf%28%22%5Cn%22%29%3B%0A%20%20imprimirComplejo%28c2%29%3B%0A%20%20printf%28%22%20%2B%20%5Cn-------------------%5Cn%22%29%3B%0A%20%20imprimirComplejo%28c3%29%3B%0A%7D%0A%0Avoid%20test2%28void%29%20%7B%0A%20%20complejo%20c1%20%3D%20%7Bsqrt%283%29%2C1%7D%3B%0A%20%20complejo%20c2%20%3D%20%7B-1%2C1%7D%3B%0A%20%20complejo%20c3%20%3D%20%7B-sqrt%283%29%2C-1%7D%3B%0A%20%20complejo%20c4%20%3D%20%7B1%2C-1%7D%3B%0A%20%20printf%28%22mag%28c1%29%20%3D%20%25.1lf%2C%20ang%28c1%29%20%3D%20%25.1lf%5Cn%22%2CcalcularMagnitud%28c1%29%2CobtenerAngulo%28c1%29%29%3B%0A%20%20printf%28%22mag%28c2%29%20%3D%20%25.1lf%2C%20ang%28c2%29%20%3D%20%25.1lf%5Cn%22%2CcalcularMagnitud%28c2%29%2CobtenerAngulo%28c2%29%29%3B%0A%20%20printf%28%22mag%28c3%29%20%3D%20%25.1lf%2C%20ang%28c3%29%20%3D%20%25.1lf%5Cn%22%2CcalcularMagnitud%28c3%29%2CobtenerAngulo%28c3%29%29%3B%0A%20%20printf%28%22mag%28c4%29%20%3D%20%25.1lf%2C%20ang%28c4%29%20%3D%20%25.1lf%5Cn%22%2CcalcularMagnitud%28c4%29%2CobtenerAngulo%28c4%29%29%3B%0A%7D&origin=opt-frontend.js&cumulative=false&heapPrimitives=false&textReferences=false&curInstr=0&&verticalStack=false&py=c&rawInputLstJSON=%5B%5D&codeDivWidth=50%25&codeDivHeight=100%25>Python Tutor</a></strong></div>"
      ],
      "text/plain": [
       "<IPython.core.display.HTML object>"
      ]
     },
     "metadata": {
      "tags": []
     },
     "output_type": "display_data"
    }
   ],
   "source": [
    "%%tutor -l c -k\n",
    "#include <stdio.h>\n",
    "#include <math.h>\n",
    "\n",
    "/** Macros */\n",
    "#define PI 3.14\n",
    "\n",
    "// Converts degrees to radians.\n",
    "#define degreesToRadians(angleDegrees) (angleDegrees * PI / 180.0)\n",
    "\n",
    "// Converts radians to degrees.\n",
    "#define radiansToDegrees(angleRadians) (angleRadians * 180.0 / PI)\n",
    "\n",
    "/** Declaracion de  estructuras */\n",
    "typedef struct complejo {\n",
    "  float re;\n",
    "  float im;\n",
    "} complejo;\n",
    "\n",
    "/** Declaracion de funciones */\n",
    "void imprimirComplejo(complejo); // void imprimirComplejo(complejo num)\n",
    "double calcularMagnitud(complejo);\n",
    "complejo sumarComplejos(complejo c1, complejo c2);\n",
    "void test1(void);\n",
    "void test2(void);\n",
    "\n",
    "/** Funcion main */\n",
    "int main() {\n",
    "  /* Creando los numeros */\n",
    "  // test1();  ---> Comentado por que ya se probo que dio bien\n",
    "  test2();\n",
    "  return 0;\n",
    "}\n",
    "\n",
    "/** Definicion de funciones */\n",
    "void imprimirComplejo(complejo num) {\n",
    "  if (num.im == 0) {\n",
    "    // Real puro\n",
    "    printf(\"%.2f\",num.re);\n",
    "  }\n",
    "  else if (num.re == 0) {\n",
    "    // Imaginario puro\n",
    "    printf(\"%.2f*i\",num.im);\n",
    "  }\n",
    "  else if (num.im < 0) {\n",
    "    // Complejo con parte imaginaria negativa\n",
    "    printf(\"%.2f - %.2f*i\",num.re,(-1)*num.im);\n",
    "  }\n",
    "  else {\n",
    "    // Complejo con parte imaginaria positiva\n",
    "    printf(\"%.2f + %.2f*i\",num.re,num.im);\n",
    "  }  \n",
    "}\n",
    "\n",
    "double calcularMagnitud(complejo num) {\n",
    "  return sqrt(pow(num.re,2) + pow(num.im,2));\n",
    "}\n",
    "\n",
    "double obtenerAngulo(complejo num) {\n",
    "  if (num.re >= 0 & num.im >= 0) {\n",
    "    // Cuadrante I\n",
    "    return radiansToDegrees(atan2(num.im,num.re));\n",
    "  }\n",
    "  else if(num.re < 0 & num.im >= 0) {\n",
    "    // Cuadrante II\n",
    "    return 180 - radiansToDegrees(atan2(-num.im,num.re));\n",
    "  }\n",
    "  else if(num.re < 0 & num.im < 0) {\n",
    "    // Cuadrante III\n",
    "    return 180 + radiansToDegrees(atan2(-num.im,-num.re));\n",
    "  }\n",
    "  else {\n",
    "    // Cuadrante IV\n",
    "    return 360 - radiansToDegrees(atan2(-num.im,num.re));\n",
    "  }  \n",
    "}\n",
    "\n",
    "complejo sumarComplejos(complejo c1, complejo c2) {\n",
    "    complejo solucion;\n",
    "    solucion.re = c1.re + c2.re;\n",
    "    solucion.im = c1.im + c2.im;\n",
    "    return solucion;\n",
    "}\n",
    "\n",
    "void test1(void) {\n",
    "  complejo c1 = {2, -11}, c2 = {8, 9};\n",
    "  complejo c3 = sumarComplejos(c1,c2);\n",
    "  imprimirComplejo(c1);\n",
    "  printf(\"\\n\");\n",
    "  imprimirComplejo(c2);\n",
    "  printf(\" + \\n-------------------\\n\");\n",
    "  imprimirComplejo(c3);\n",
    "}\n",
    "\n",
    "void test2(void) {\n",
    "  complejo c1 = {sqrt(3),1};\n",
    "  complejo c2 = {-1,1};\n",
    "  complejo c3 = {-sqrt(3),-1};\n",
    "  complejo c4 = {1,-1};\n",
    "  printf(\"mag(c1) = %.1lf, ang(c1) = %.1lf\\n\",calcularMagnitud(c1),obtenerAngulo(c1));\n",
    "  printf(\"mag(c2) = %.1lf, ang(c2) = %.1lf\\n\",calcularMagnitud(c2),obtenerAngulo(c2));\n",
    "  printf(\"mag(c3) = %.1lf, ang(c3) = %.1lf\\n\",calcularMagnitud(c3),obtenerAngulo(c3));\n",
    "  printf(\"mag(c4) = %.1lf, ang(c4) = %.1lf\\n\",calcularMagnitud(c4),obtenerAngulo(c4));\n",
    "}"
   ]
  },
  {
   "cell_type": "markdown",
   "metadata": {
    "colab_type": "text",
    "id": "em8mQ_Fzz3dA"
   },
   "source": [
    "La salida en pantalla del programa anterior es:\n",
    "\n",
    "```\n",
    "mag(c1) = 2.0, ang(c1) = 30.0                                                                                                  \n",
    "mag(c2) = 1.4, ang(c2) = 315.1                                                                                                 \n",
    "mag(c3) = 2.0, ang(c3) = 210.0                                                                                                 \n",
    "mag(c4) = 1.4, ang(c4) = 315.0\n",
    "```"
   ]
  },
  {
   "cell_type": "markdown",
   "metadata": {
    "colab_type": "text",
    "id": "CsJGowr2z9kD"
   },
   "source": [
    "### 2.6.2. Paso de estructuras por referencia\n",
    "En este caso, los parametros pasados a la funcion seran apuntadores a la estructura a pasar. El comportamiento es como el que se da en el caso de las funciones con datos tradicionales. \n"
   ]
  },
  {
   "cell_type": "markdown",
   "metadata": {
    "colab_type": "text",
    "id": "1InrTU0H0AZB"
   },
   "source": [
    "**Ejemplos**\n",
    "1. Tome la estructura asociada a los libros y realice una funcion que permita imprimir en pantalla la informacion asociada a un libro. El llamado para la funcion sera por referencia. A continuación se muestra el código solución:"
   ]
  },
  {
   "cell_type": "code",
   "execution_count": 34,
   "metadata": {
    "colab": {
     "autoexec": {
      "startup": false,
      "wait_interval": 0
     },
     "base_uri": "https://localhost:8080/",
     "height": 34
    },
    "colab_type": "code",
    "executionInfo": {
     "elapsed": 402,
     "status": "ok",
     "timestamp": 1531522475427,
     "user": {
      "displayName": "HENRY ALBERTO ARCILA RAMIREZ",
      "photoUrl": "https://lh3.googleusercontent.com/a/default-user=s128",
      "userId": "101819781408374541388"
     },
     "user_tz": 300
    },
    "id": "DtFCp6xx0FMu",
    "outputId": "078ab267-ff78-4443-960f-e8813629f97c"
   },
   "outputs": [
    {
     "data": {
      "text/html": [
       "<div class=\"text-center\"><strong><a style=\"box-sizing: border-box; padding: 0 5px; border: 1px solid #CFCFCF;\" target=\"_\" href=http://pythontutor.com/iframe-embed.html#code=%23include%20%3Cstdio.h%3E%0A%0A//%20Declaracion%20de%20las%20estructura%0Astruct%20Book%20%20%7B%0A%20%20%20int%20%20book_id%3B%0A%20%20%20char%20title%5B24%5D%3B%20%0A%20%20%20char%20author%5B20%5D%3B%20%0A%20%20%20int%20pages%3B%0A%20%20%20float%20price%3B%0A%7D%3B%0A%0A/%2A%2A%20Declaracion%20de%20funciones%20%2A/%0Avoid%20printBookInfo%28struct%20Book%20%2Alptr%29%3B%0A%0A//%20Declaracion%20del%20array%20de%20libros%0A//%20Notese%20que%20no%20se%20usaron%20alias%0Astruct%20Book%20books%5B2%5D%3B%0A%0A/%2A%2A%20Funcion%20principal%20%2A/%0Aint%20main%28%29%20%7B%0A%20%20//%20Manipulacion%20%28acceso%20a%20los%20miembros%29%0A%0A%20%20//%20Libro%20%23%201%0A%20%20books%5B0%5D.book_id%20%3D%201211%3B%0A%20%20//OJO%3A%20books%5B0%5D.title%20%3D%20%22C%20Primer%20Plus%22%20es%20un%20ERROR%20%0A%20%20strcpy%28books%5B0%5D.title%2C%22C%20Primer%20Plus%22%29%3B%20%20%20%20%0A%20%20strcpy%28books%5B0%5D.author%2C%22Stephen%20Prata%22%29%3B%20%0A%20%20books%5B0%5D.pages%20%3D%20984%3B%0A%20%20books%5B0%5D.price%20%3D%20585.00%3B%0A%0A%20%20//%20Libro%20%232%0A%20%20books%5B1%5D.book_id%20%3D%201212%3B%0A%20%20strcpy%28books%5B1%5D.title%2C%22The%20ANSI%20C%20Programming%22%29%3B%20%0A%20%20strcpy%28books%5B1%5D.author%2C%22Dennis%20Ritchie%22%29%3B%20%0A%20%20books%5B1%5D.pages%20%3D%20214%3B%0A%20%20books%5B1%5D.price%20%3D%20125.00%3B%0A%20%20%0A%20%20//%20Imprimiendo%20la%20informacion%20de%20los%20libros%0A%20%20for%28int%20i%20%3D%200%3B%20i%20%3C%202%3B%20i%2B%2B%29%20%7B%0A%20%20%20%20printBookInfo%28%26books%5Bi%5D%29%3B%0A%20%20%20%20printf%28%22%5Cn%22%29%3B%0A%20%20%7D%20%0A%20%20return%200%3B%0A%7D%0A%0A/%2A%2A%20Definicion%20de%20funciones%20%2A/%0Avoid%20printBookInfo%28struct%20Book%20%2Alptr%29%20%7B%0A%20%20printf%28%22Book%20name%3A%20%25s%5Cn%22%2C%20lptr-%3Etitle%29%3B%0A%20%20printf%28%22Author%3A%20%25s%5Cn%22%2C%20lptr-%3Eauthor%29%3B%0A%20%20printf%28%22Pages%3A%20%25d%5Cn%22%2C%20lptr-%3Epages%29%3B%20%20%0A%7D&origin=opt-frontend.js&cumulative=false&heapPrimitives=false&textReferences=false&curInstr=0&&verticalStack=false&py=c&rawInputLstJSON=%5B%5D&codeDivWidth=50%25&codeDivHeight=100%25>Python Tutor</a></strong></div>"
      ],
      "text/plain": [
       "<IPython.core.display.HTML object>"
      ]
     },
     "metadata": {
      "tags": []
     },
     "output_type": "display_data"
    }
   ],
   "source": [
    "%%tutor -l c -k\n",
    "#include <stdio.h>\n",
    "\n",
    "// Declaracion de las estructura\n",
    "struct Book  {\n",
    "   int  book_id;\n",
    "   char title[24]; \n",
    "   char author[20]; \n",
    "   int pages;\n",
    "   float price;\n",
    "};\n",
    "\n",
    "/** Declaracion de funciones */\n",
    "void printBookInfo(struct Book *lptr);\n",
    "\n",
    "// Declaracion del array de libros\n",
    "// Notese que no se usaron alias\n",
    "struct Book books[2];\n",
    "\n",
    "/** Funcion principal */\n",
    "int main() {\n",
    "  // Manipulacion (acceso a los miembros)\n",
    "\n",
    "  // Libro # 1\n",
    "  books[0].book_id = 1211;\n",
    "  //OJO: books[0].title = \"C Primer Plus\" es un ERROR \n",
    "  strcpy(books[0].title,\"C Primer Plus\");    \n",
    "  strcpy(books[0].author,\"Stephen Prata\"); \n",
    "  books[0].pages = 984;\n",
    "  books[0].price = 585.00;\n",
    "\n",
    "  // Libro #2\n",
    "  books[1].book_id = 1212;\n",
    "  strcpy(books[1].title,\"The ANSI C Programming\"); \n",
    "  strcpy(books[1].author,\"Dennis Ritchie\"); \n",
    "  books[1].pages = 214;\n",
    "  books[1].price = 125.00;\n",
    "  \n",
    "  // Imprimiendo la informacion de los libros\n",
    "  for(int i = 0; i < 2; i++) {\n",
    "    printBookInfo(&books[i]);\n",
    "    printf(\"\\n\");\n",
    "  } \n",
    "  return 0;\n",
    "}\n",
    "\n",
    "/** Definicion de funciones */\n",
    "void printBookInfo(struct Book *lptr) {\n",
    "  printf(\"Book name: %s\\n\", lptr->title);\n",
    "  printf(\"Author: %s\\n\", lptr->author);\n",
    "  printf(\"Pages: %d\\n\", lptr->pages);  \n",
    "}"
   ]
  },
  {
   "cell_type": "markdown",
   "metadata": {
    "colab_type": "text",
    "id": "61uBHBCl0UcE"
   },
   "source": [
    "La salida en pantalla se muestra a continuacion:\n",
    "\n",
    "```\n",
    "Book name: C Primer Plus\n",
    "Author: Stephen Prata\n",
    "Pages: 984\n",
    "\n",
    "Book name: The ANSI C Programming\n",
    "Author: Dennis Ritchie\n",
    "Pages: 214\n",
    "```"
   ]
  },
  {
   "cell_type": "markdown",
   "metadata": {
    "colab_type": "text",
    "id": "CDW_GtdJ0WGh"
   },
   "source": [
    "2. Hacer un programa que defina un vector tridimensional como una estructura. El programa tambien debera implementar las siguientes funciones para la manipulacion de vectores:\n",
    "* Imprimir vector.\n",
    "* Calcular suma.\n",
    "* Calcular resta.\n",
    "* Calcular producto escalar.\n",
    "\n",
    "Una vez hecho lo anterior probar el programa con los vectores [1,3,0] y [2,5,-4].\n",
    "\n",
    "El codigo solución se muestra a continuacion:"
   ]
  },
  {
   "cell_type": "code",
   "execution_count": 35,
   "metadata": {
    "colab": {
     "autoexec": {
      "startup": false,
      "wait_interval": 0
     },
     "base_uri": "https://localhost:8080/",
     "height": 34
    },
    "colab_type": "code",
    "executionInfo": {
     "elapsed": 368,
     "status": "ok",
     "timestamp": 1531522476034,
     "user": {
      "displayName": "HENRY ALBERTO ARCILA RAMIREZ",
      "photoUrl": "https://lh3.googleusercontent.com/a/default-user=s128",
      "userId": "101819781408374541388"
     },
     "user_tz": 300
    },
    "id": "3w3TvgK11CxI",
    "outputId": "951a1cc4-a0c9-414a-a7a0-9cdfdb901283"
   },
   "outputs": [
    {
     "data": {
      "text/html": [
       "<div class=\"text-center\"><strong><a style=\"box-sizing: border-box; padding: 0 5px; border: 1px solid #CFCFCF;\" target=\"_\" href=http://pythontutor.com/iframe-embed.html#code=%23include%20%3Cstdio.h%3E%0A%0A/%2A%2A%20Declaracion%20de%20%20estructuras%20%2A/%0Atypedef%20struct%20vector3D%20%7B%0A%20%20float%20x%3B%0A%20%20float%20y%3B%0A%20%20float%20z%3B%0A%7D%20vector3D%3B%0A%0A/%2A%2A%20Declaracion%20de%20las%20funciones%20%20%2A/%0Avoid%20imprimirVector3D%28vector3D%20%2AvPrt%29%3B%20%0Avector3D%20sumarVector3D%28vector3D%20%2Av1P%2C%20vector3D%20%2Av2P%29%3B%0Avector3D%20restarVector3D%28vector3D%20%2Av1P%2C%20vector3D%20%2Av2P%29%3B%0Adouble%20pEscalar%28vector3D%20%2Av1P%2C%20vector3D%20%2Av2P%29%3B%0Avoid%20test%28void%29%3B%20//%20Funcion%20para%20testing%0A%0A/%2A%2A%20Funcion%20main%20%2A/%0Aint%20main%28%29%20%7B%0A%20%20/%2A%20Probando%20todo%20mediante%20la%20funcion%20test%20%2A/%0A%20%20test%28%29%3B%0A%20%20return%200%3B%0A%7D%0A%0A/%2A%2A%20Definicion%20de%20funciones%20%2A/%0Avoid%20imprimirVector3D%28vector3D%20%2AvPtr%29%20%7B%0A%20%20%20printf%28%22%5B%25.1f%2C%25.1f%2C%25.1f%5D%22%2C%28%2AvPtr%29.x%2C%20%28%2AvPtr%29.y%2C%20%28%2AvPtr%29.z%29%3B%20%20%20%0A%7D%0A%0Avector3D%20sumarVector3D%28vector3D%20%2Av1P%2C%20vector3D%20%2Av2P%29%20%7B%0A%20%20vector3D%20r%3B%0A%20%20r.x%20%3D%20v1P-%3Ex%20%2B%20v2P-%3Ex%3B%0A%20%20r.y%20%3D%20v1P-%3Ey%20%2B%20v2P-%3Ey%3B%0A%20%20r.z%20%3D%20v1P-%3Ez%20%2B%20v2P-%3Ez%3B%0A%20%20return%20r%3B%0A%7D%0A%0Avector3D%20restarVector3D%28vector3D%20%2Av1P%2C%20vector3D%20%2Av2P%29%20%7B%0A%20%20vector3D%20r%3B%0A%20%20r.x%20%3D%20v1P-%3Ex%20-%20v2P-%3Ex%3B%0A%20%20r.y%20%3D%20v1P-%3Ey%20-%20v2P-%3Ey%3B%0A%20%20r.z%20%3D%20v1P-%3Ez%20-%20v2P-%3Ez%3B%0A%20%20return%20r%3B%0A%7D%0A%0Adouble%20pEscalar%28vector3D%20%2Av1P%2C%20vector3D%20%2Av2P%29%20%7B%0A%20%20return%28v1P-%3Ex%2Av2P-%3Ex%20%2B%20v1P-%3Ey%2Av2P-%3Ey%20%2B%20v1P-%3Ez%2Av2P-%3Ez%29%3B%0A%7D%0A%0A%0Avoid%20test%28void%29%20%7B%0A%20%20vector3D%20v1%20%3D%20%7B1%2C3%2C0%7D%2C%20v2%20%3D%20%7B2%2C5%2C-4%7D%2C%20vSum%2C%20vRes%3B%0A%20%20double%20p_esc%3B%0A%20%20vSum%20%3D%20sumarVector3D%28%26v1%2C%26v2%29%3B%0A%20%20vRes%20%3D%20restarVector3D%28%26v1%2C%26v2%29%3B%0A%20%20p_esc%20%3D%20pEscalar%28%26v1%2C%26v2%29%3B%20%0A%20%20printf%28%22Suma%20-%3E%20%5Cn%22%29%3B%0A%20%20imprimirVector3D%28%26v1%29%3B%0A%20%20printf%28%22%20%2B%20%22%29%3B%0A%20%20imprimirVector3D%28%26v2%29%3B%0A%20%20printf%28%22%20%3D%20%22%29%3B%0A%20%20imprimirVector3D%28%26vSum%29%3B%0A%20%20printf%28%22%5Cn%5Cn%22%29%3B%0A%20%20printf%28%22Resta%20-%3E%20%5Cn%22%29%3B%0A%20%20imprimirVector3D%28%26v1%29%3B%0A%20%20printf%28%22%20-%20%22%29%3B%0A%20%20imprimirVector3D%28%26v2%29%3B%0A%20%20printf%28%22%20%3D%20%22%29%3B%0A%20%20imprimirVector3D%28%26vRes%29%3B%0A%20%20printf%28%22%5Cn%5Cn%22%29%3B%0A%20%20printf%28%22Producto%20escalar%20-%3E%20%5Cn%22%29%3B%0A%20%20imprimirVector3D%28%26v1%29%3B%0A%20%20printf%28%22%20%2A%20%22%29%3B%0A%20%20imprimirVector3D%28%26v2%29%3B%0A%20%20printf%28%22%20%3D%20%25.1f%5Cn%22%2Cp_esc%29%3B%20%20%0A%7D&origin=opt-frontend.js&cumulative=false&heapPrimitives=false&textReferences=false&curInstr=0&&verticalStack=false&py=c&rawInputLstJSON=%5B%5D&codeDivWidth=50%25&codeDivHeight=100%25>Python Tutor</a></strong></div>"
      ],
      "text/plain": [
       "<IPython.core.display.HTML object>"
      ]
     },
     "metadata": {
      "tags": []
     },
     "output_type": "display_data"
    }
   ],
   "source": [
    "%%tutor -l c -k\n",
    "#include <stdio.h>\n",
    "\n",
    "/** Declaracion de  estructuras */\n",
    "typedef struct vector3D {\n",
    "  float x;\n",
    "  float y;\n",
    "  float z;\n",
    "} vector3D;\n",
    "\n",
    "/** Declaracion de las funciones  */\n",
    "void imprimirVector3D(vector3D *vPrt); \n",
    "vector3D sumarVector3D(vector3D *v1P, vector3D *v2P);\n",
    "vector3D restarVector3D(vector3D *v1P, vector3D *v2P);\n",
    "double pEscalar(vector3D *v1P, vector3D *v2P);\n",
    "void test(void); // Funcion para testing\n",
    "\n",
    "/** Funcion main */\n",
    "int main() {\n",
    "  /* Probando todo mediante la funcion test */\n",
    "  test();\n",
    "  return 0;\n",
    "}\n",
    "\n",
    "/** Definicion de funciones */\n",
    "void imprimirVector3D(vector3D *vPtr) {\n",
    "   printf(\"[%.1f,%.1f,%.1f]\",(*vPtr).x, (*vPtr).y, (*vPtr).z);   \n",
    "}\n",
    "\n",
    "vector3D sumarVector3D(vector3D *v1P, vector3D *v2P) {\n",
    "  vector3D r;\n",
    "  r.x = v1P->x + v2P->x;\n",
    "  r.y = v1P->y + v2P->y;\n",
    "  r.z = v1P->z + v2P->z;\n",
    "  return r;\n",
    "}\n",
    "\n",
    "vector3D restarVector3D(vector3D *v1P, vector3D *v2P) {\n",
    "  vector3D r;\n",
    "  r.x = v1P->x - v2P->x;\n",
    "  r.y = v1P->y - v2P->y;\n",
    "  r.z = v1P->z - v2P->z;\n",
    "  return r;\n",
    "}\n",
    "\n",
    "double pEscalar(vector3D *v1P, vector3D *v2P) {\n",
    "  return(v1P->x*v2P->x + v1P->y*v2P->y + v1P->z*v2P->z);\n",
    "}\n",
    "\n",
    "\n",
    "void test(void) {\n",
    "  vector3D v1 = {1,3,0}, v2 = {2,5,-4}, vSum, vRes;\n",
    "  double p_esc;\n",
    "  vSum = sumarVector3D(&v1,&v2);\n",
    "  vRes = restarVector3D(&v1,&v2);\n",
    "  p_esc = pEscalar(&v1,&v2); \n",
    "  printf(\"Suma -> \\n\");\n",
    "  imprimirVector3D(&v1);\n",
    "  printf(\" + \");\n",
    "  imprimirVector3D(&v2);\n",
    "  printf(\" = \");\n",
    "  imprimirVector3D(&vSum);\n",
    "  printf(\"\\n\\n\");\n",
    "  printf(\"Resta -> \\n\");\n",
    "  imprimirVector3D(&v1);\n",
    "  printf(\" - \");\n",
    "  imprimirVector3D(&v2);\n",
    "  printf(\" = \");\n",
    "  imprimirVector3D(&vRes);\n",
    "  printf(\"\\n\\n\");\n",
    "  printf(\"Producto escalar -> \\n\");\n",
    "  imprimirVector3D(&v1);\n",
    "  printf(\" * \");\n",
    "  imprimirVector3D(&v2);\n",
    "  printf(\" = %.1f\\n\",p_esc);  \n",
    "}"
   ]
  },
  {
   "cell_type": "markdown",
   "metadata": {
    "colab_type": "text",
    "id": "gGHfmTBf1L1S"
   },
   "source": [
    "La salida del programa anterior se muestra a continuacion:\n",
    "```\n",
    "Suma -> \n",
    "[1.0,3.0,0.0] + [2.0,5.0,-4.0] = [3.0,8.0,-4.0]\n",
    "\n",
    "Resta -> \n",
    "[1.0,3.0,0.0] - [2.0,5.0,-4.0] = [-1.0,-2.0,4.0]\n",
    "\n",
    "Producto escalar -> \n",
    "[1.0,3.0,0.0] * [2.0,5.0,-4.0] = 17.0\n",
    "```"
   ]
  },
  {
   "cell_type": "markdown",
   "metadata": {
    "colab_type": "text",
    "id": "R_G5Ddg61fP0"
   },
   "source": [
    "3. Emplando llamados por referencia es posible pasar a funciones arreglos y matrices tal como se analizo en algun momento. Por ejemplo supongase que un caminante esta registrando las coordenadas (x,y) de diferentes puntos en los cuales realiza su caminata. Supongase, que el sistema de registro de datos registra 5 coordenadas. Teniendo en cuenta la siguiente estructura para las coordenadas:\n",
    "\n",
    "```C\n",
    "typedef struct coordenadas2D {\n",
    "  float x;\n",
    "  float y;\n",
    "} coord2D;\n",
    "```\n",
    "\n",
    "Implementar las siguientes funciones:\n",
    "* Una funcion para desplegar una coordenada, esta seguira el siguiente prototipo:\n",
    "\n",
    "```C\n",
    "void printCoord2D(coord2D *c);\n",
    "```\n",
    "\n",
    "* Una funcion para desplegar el contenido de un vector de coordenadas:\n",
    "\n",
    "```C\n",
    "void printCoord2DVector(coord2D *v, int tam);\n",
    "```\n",
    "\n",
    "* Una funcion que calcule la distancia entre dos coordenadas:\n",
    "\n",
    "```C\n",
    "double calcularDistancia(coord2D *pStart, coord2D *pEnd);\n",
    "```\n",
    "\n",
    "* Obtener la distancia total recorrida (suma de la distancia de todos lo puntos):\n",
    "\n",
    "```C\n",
    "double calcularDistanciaTotal(coord2D *vecPuntos, int N);\n",
    "```\n",
    "\n",
    "* Obtener la distancia del tramo mayor y la del tramo menor.\n",
    "\n",
    "```C\n",
    "void obtenerDistanciasExtremas(coord2D *vecPuntos, int N, double *disMin, double *disMax);\n",
    "```\n",
    "\n",
    "* Probar las funciones anteriores con una funcion llamada  ```caso_de_uso``` para la cual se definen las siguientes coordenadas: P1(0,0), P2(3,2), P3(-4,5), P4(-6,-2) y P5(-6,-3)."
   ]
  },
  {
   "cell_type": "markdown",
   "metadata": {
    "colab_type": "text",
    "id": "5CPnY87A1kQq"
   },
   "source": [
    "**Solucion**: En el [codigo](https://onlinegdb.com/r13uPE9wM) mostrado abajo se definen los puntos anteriormente mostrados y se verifican que los resultados del programa sean los arrojados anteriormente de manera manual. Si todo esta bien se tendrán resultados simulares a los siguiente:\n",
    "\n",
    "Distancia entre los puntos sera:\n",
    "* d(P1,P2) = 3.61\n",
    "* d(P2,P3) = 7.62\n",
    "* d(P3,P4) = 7.28\n",
    "* d(P4,P5) = 1\n",
    "\n",
    "Salidas a desplegar:\n",
    "* d_total = 19.5\n",
    "* d_min = 1\n",
    "* d_max = 7.62\n",
    "\n",
    "\n",
    "A continuación se muestra el código:\n",
    "\n",
    "```\n",
    "#include <stdio.h>\n",
    "#include <math.h>\n",
    "\n",
    "/** Declaracion de  estructuras */\n",
    "typedef struct coordenadas2D {\n",
    "  float x;\n",
    "  float y;\n",
    "} coord2D;\n",
    "\n",
    "\n",
    "/** Declaracion de las funciones  */\n",
    "void printCoord2D(coord2D *c);\n",
    "void printCoord2DVector(coord2D *v, int tam);\n",
    "double calcularDistancia(coord2D *pStart, coord2D *pEnd);\n",
    "double calcularDistanciaTotal(coord2D *vecPuntos, int N);\n",
    "void obtenerDistanciasExtremas(coord2D *vecPuntos, int N, double *disMin, double *disMax);\n",
    "void caso_de_uso(void);\n",
    "\n",
    "/** Funcion main */\n",
    "int main() {\n",
    "\tcaso_de_uso();\n",
    "\treturn 0;\n",
    "}\n",
    "\n",
    "/** Definicion de las funciones  */\n",
    "\n",
    "void printCoord2D(coord2D *c) {\n",
    "    printf(\"(%.2f,%.2f)\",(*c).x,(*c).y);\n",
    "}\n",
    "\n",
    "void printCoord2DVector(coord2D *v, int tam) {\n",
    "    for(int i = 0; i < tam; i++) {\n",
    "        printCoord2D(v++);\n",
    "        printf(\"\\n\");\n",
    "    }\n",
    "}\n",
    "\n",
    "double calcularDistancia(coord2D *pStart, coord2D *pEnd) {\n",
    "  double dist;\n",
    "  double dx = pEnd->x - pStart->x;\n",
    "  double dy = pEnd->y - pStart->y;  \n",
    "  dist = sqrt(pow(dx,2) + pow(dy,2));\n",
    "  return dist;\n",
    "}\n",
    "\n",
    "\n",
    "double calcularDistanciaTotal(coord2D *vecPuntos, int N) {\n",
    "  // Code\n",
    "  coord2D pIni, pFin;\n",
    "  double d_total = 0;\n",
    "  pIni = *vecPuntos; // *vecPuntos = vecPuntos[0];\n",
    "  for(int i = 1; i < N; i++) {\n",
    "\tpFin = *(vecPuntos + i); // *(vecPuntos + i) = vecPuntos[i];\n",
    "\t// printf(\"%.2lf\\n\",calcularDistancia(&pIni, &pFin));\n",
    "\td_total +=  calcularDistancia(&pIni, &pFin); \n",
    "\tpIni = pFin;\n",
    "  }\n",
    "  return d_total;  \n",
    "}\n",
    "\n",
    "void obtenerDistanciasExtremas(coord2D *vecPuntos, int N, double *disMin, double *disMax) {\n",
    "  // Code\n",
    "  coord2D *pIni, *pFin;\n",
    "  pIni = &vecPuntos[0];\n",
    "  pFin = &vecPuntos[1];\n",
    "  double d = calcularDistancia(pIni, pFin);\n",
    "  double d_min = d, d_max = d;\n",
    "  calcularDistancia(pIni,pFin);\n",
    "  pIni = vecPuntos;\n",
    "  for(int i = 2; i < N; i++) {\n",
    "\t  pIni = pFin;\n",
    "\t  pFin = vecPuntos + i; // vecPuntos + i = &vecPuntos[i]; \n",
    "\t  d = calcularDistancia(pIni, pFin);\n",
    "\t  if(d <= d_min) {\n",
    "\t\t  d_min = d;\n",
    "\t  }\n",
    "\t  else if(d >= d_max) {\n",
    "\t\t  d_max = d;\n",
    "\t  }\t  \n",
    "  }\n",
    "  *disMin = d_min;\n",
    "  *disMax = d_max;\n",
    "}\n",
    "\n",
    "void caso_de_uso(void) {\n",
    "    printf(\"Puntos registrados\\n\");\n",
    "    double m, M;\n",
    "    coord2D coords[5] = {\n",
    "                         {0,0},\n",
    "                         {3,2},\n",
    "                         {-4,5},\n",
    "                         {-6,-2},\n",
    "                         {-6,-3}\n",
    "                        };\n",
    "    printCoord2DVector(coords, 5);\n",
    "    printf(\"\\n\");\n",
    "    printf(\"-> Distancia total: %.2lf\\n\",calcularDistanciaTotal(coords,5));\n",
    "    obtenerDistanciasExtremas(coords, 5, &m, &M);\n",
    "    printf(\"-> Distancia minima: %.2lf\\n\",m);\n",
    "    printf(\"-> Distancia maxima: %.2lf\\n\",M);\n",
    "}\n",
    "```\n",
    "\n",
    "Para el cual la salida en pantalla del programa anterior es la siguiente:\n",
    "\n",
    "```\n",
    "Puntos registrados                                                                                                               \n",
    "(0.00,0.00)                                                                                                                      \n",
    "(3.00,2.00)                                                                                                                      \n",
    "(-4.00,5.00)                                                                                                                     \n",
    "(-6.00,-2.00)                                                                                                                    \n",
    "(-6.00,-3.00)                                                                                                                    \n",
    "                                                                                                                                 \n",
    "-> Distancia total: 19.50                                                                                                        \n",
    "-> Distancia minima: 1.00                                                                                                        \n",
    "-> Distancia maxima: 7.62  \n",
    "```"
   ]
  },
  {
   "cell_type": "markdown",
   "metadata": {
    "colab_type": "text",
    "id": "MatDrGtT2UFF"
   },
   "source": [
    "## 3. Enlaces\n",
    "\n",
    "* https://computer.howstuffworks.com\n",
    "* https://www.studytonight.com/c/structures-in-c.php\n",
    "* https://www.tutorialspoint.com/cprogramming/c_structures.htm\n",
    "* https://www.programiz.com/c-programming/c-structures\n",
    "* https://www.geeksforgeeks.org/structures-c/\n",
    "* https://github.com/fordea/c-programming-a-modern-approach\n"
   ]
  }
 ],
 "metadata": {
  "colab": {
   "default_view": {},
   "name": "estructuras.ipynb",
   "provenance": [],
   "version": "0.3.2",
   "views": {}
  },
  "kernelspec": {
   "display_name": "Python 3",
   "language": "python",
   "name": "python3"
  },
  "language_info": {
   "codemirror_mode": {
    "name": "ipython",
    "version": 3
   },
   "file_extension": ".py",
   "mimetype": "text/x-python",
   "name": "python",
   "nbconvert_exporter": "python",
   "pygments_lexer": "ipython3",
   "version": "3.7.4"
  }
 },
 "nbformat": 4,
 "nbformat_minor": 1
}
