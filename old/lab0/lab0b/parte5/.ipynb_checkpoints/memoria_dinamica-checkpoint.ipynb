{
 "cells": [
  {
   "cell_type": "markdown",
   "metadata": {},
   "source": [
    "[![Open In Colab](https://colab.research.google.com/assets/colab-badge.svg)](https://colab.research.google.com/github/dannymrock/UdeA-SO-Lab/blob/master/lab0/lab0b/parte5/memoria_dinamica.ipynb)"
   ]
  },
  {
   "cell_type": "code",
   "execution_count": 0,
   "metadata": {
    "colab": {
     "autoexec": {
      "startup": false,
      "wait_interval": 0
     }
    },
    "colab_type": "code",
    "id": "5cTaG42eEakO"
   },
   "outputs": [],
   "source": [
    "!pip3 install tutormagic"
   ]
  },
  {
   "cell_type": "code",
   "execution_count": 0,
   "metadata": {
    "colab": {
     "autoexec": {
      "startup": false,
      "wait_interval": 0
     }
    },
    "colab_type": "code",
    "id": "K-oLGZl8EdN9"
   },
   "outputs": [],
   "source": [
    "%load_ext tutormagic"
   ]
  },
  {
   "cell_type": "markdown",
   "metadata": {
    "colab_type": "text",
    "id": "NwBc3Ji23Xo3"
   },
   "source": [
    "# Memoria dinámica en C\n",
    "\n",
    "\n"
   ]
  },
  {
   "cell_type": "markdown",
   "metadata": {
    "colab_type": "text",
    "id": "QdOxXHUk3cH7"
   },
   "source": [
    "---\n",
    "> **Objetivos**\n",
    "> * xxx.\n",
    "> * yyy\n",
    "\n",
    "---"
   ]
  },
  {
   "cell_type": "markdown",
   "metadata": {
    "colab_type": "text",
    "id": "5v8FIbjV3jrr"
   },
   "source": [
    "## 1. Introduccion\n",
    "\n",
    "En los programas tipicos, la cantidad de memoria que usaran es desconocida, por ejemplo, cuando alguien emplea un editor de texto nunca sabe cuantas paginas va a escribir. Como el numero de paginas suele estar relacionada con elementos de memoria como matrices presuponer un numero maximo de paginas suele ser ineficiente, pues ello implicaria dos cosas:\n",
    "1. Que se tenga gran cantidad de memoria osiosa si el usuario del editor no escribe en todas las paginas reservadas por la aplicacion.\n",
    "2. Que el usuario se quede corto de paginas si escribe mucho, pues al tener el editor de texto el numero de paginas predefinido, es posible que el espacio en memoria no sea suficiente para lo que el usuario escribe.\n",
    "\n",
    "Para dar administrar la memoria de manera mas eficiente, C permite introduce el concepto de **reserva dinamica de memoria** que no otra cosa que el proceso de gestion de memoria en tiempo de ejecución segun las necesidades demandadas por la aplicacion. Gracias a esto, es posible que no sea necesario que el editor de texto conozca con antelacion el numero de paginas que debe escribir el usuario, pues gracias a la gestion dinamica de memoria, el editor puede ir creando nuevas paginas a medida que el usuario va demandandolo. En esta seccion se verá las funciones que son empleadas en C para hacer esto posible.\n",
    "\n",
    "\n"
   ]
  },
  {
   "cell_type": "markdown",
   "metadata": {
    "colab_type": "text",
    "id": "EaR4ZWxg7451"
   },
   "source": [
    "## 2. Espacios de memoria\n",
    "\n",
    "De manera resumida la memoria de datos de un programa en C puede ser dividida en tres partes:\n",
    "1. **Memoria estatica**: en esta se localizan todas las variables globales (aquellas que son definidas fuera de funciones),\n",
    "tambien se localizan las variables locales (definidas dentro de funciones) que son explicitamente declaradas como estaticas.\n",
    "2. **Stack**: lugar de la memoria en el cual se definen las variables locales (variables automaticas (no estaticas) declaradas dentro \n",
    "de la funcion), los parametros de las funciones y los valores retornados por las funciones.\n",
    "3. **Heap**: lugar de la memoria disponible para asignacion dinamica (en tiempo de ejecicion) de memoria. \n",
    "\n",
    "La siguiente figura resalta los espacios anteriormente descritos:\n",
    "\n",
    "![mmap](https://github.com/repos-SO-UdeA/laboratorios/blob/master/lab1/teoria/parte5/imagenes/memory_map3.png?raw=true)\n",
    "**Figura 1**. Mapa de memoria\n"
   ]
  },
  {
   "cell_type": "markdown",
   "metadata": {
    "colab_type": "text",
    "id": "3JN6W1dSr8NO"
   },
   "source": [
    "Para clarificar un poco lo anterior supongamos que se codifica el siguiente programa en C:"
   ]
  },
  {
   "cell_type": "code",
   "execution_count": 3,
   "metadata": {
    "colab": {
     "autoexec": {
      "startup": false,
      "wait_interval": 0
     },
     "base_uri": "https://localhost:8080/",
     "height": 34
    },
    "colab_type": "code",
    "executionInfo": {
     "elapsed": 451,
     "status": "ok",
     "timestamp": 1531523986980,
     "user": {
      "displayName": "HENRY ALBERTO ARCILA RAMIREZ",
      "photoUrl": "https://lh3.googleusercontent.com/a/default-user=s128",
      "userId": "101819781408374541388"
     },
     "user_tz": 300
    },
    "id": "dQbIimE_8QGN",
    "outputId": "ec4a264e-d2b0-4d65-c651-6f4e0ff8c773"
   },
   "outputs": [
    {
     "data": {
      "text/html": [
       "<div class=\"text-center\"><strong><a style=\"box-sizing: border-box; padding: 0 5px; border: 1px solid #CFCFCF;\" target=\"_\" href=http://pythontutor.com/iframe-embed.html#code=%23include%20%3Cstdio.h%3E%0A%0Aint%20x%3D5%3B%0Achar%20msg%5B%5D%20%3D%20%22Hello%22%3B%0A%0Aint%20main%28int%20argc%2C%20const%20char%2A%20argv%5B%5D%29%20%7B%0A%20%20int%20v%3B%0A%20%20float%20pi%20%3D%203.14159%3B%0A%20%20printf%28%22%25d%5Cn%22%2Cx%29%3B%0A%20%20printf%28%22%25f%5Cn%22%2Cpi%29%3B%0A%20%20return%200%3B%0A%7D&origin=opt-frontend.js&cumulative=false&heapPrimitives=false&textReferences=false&curInstr=0&&verticalStack=false&py=c&rawInputLstJSON=%5B%5D&codeDivWidth=50%25&codeDivHeight=100%25>Python Tutor</a></strong></div>"
      ],
      "text/plain": [
       "<IPython.core.display.HTML object>"
      ]
     },
     "metadata": {
      "tags": []
     },
     "output_type": "display_data"
    }
   ],
   "source": [
    "%%tutor -l c -k\n",
    "#include <stdio.h>\n",
    "\n",
    "int x=5;\n",
    "char msg[] = \"Hello\";\n",
    "\n",
    "int main(int argc, const char* argv[]) {\n",
    "  int v;\n",
    "  float pi = 3.14159;\n",
    "  printf(\"%d\\n\",x);\n",
    "  printf(\"%f\\n\",pi);\n",
    "  return 0;\n",
    "}\n"
   ]
  },
  {
   "cell_type": "markdown",
   "metadata": {
    "colab_type": "text",
    "id": "qxLQEx8asg68"
   },
   "source": [
    "Cuya salida al ejecutar el programa se muestra en la siguiente figura:\n",
    "\n",
    "![fig_exe](https://github.com/repos-SO-UdeA/laboratorios/blob/master/lab1/teoria/parte5/imagenes/variables_memoria.png?raw=true)\n",
    "\n",
    "Como se puede ver de la figura anterior, se resaltan los espacios de memoria y las variables que se encuentran en estos:\n",
    "\n",
    "| Espacio de memoria | Variables |\n",
    "| ------------- | ------------- |\n",
    "| Memoria estatica | x, msg  |\n",
    "| Stack  | argc, argv, v, pi |\n",
    "| Heap  | --- |\n",
    "\n",
    "En la siguiente figura se muestra mas claramente esta reacion con el esquema mostrado en la figura 1:\n",
    "\n",
    "![mmap_program](https://github.com/repos-SO-UdeA/laboratorios/blob/master/lab1/teoria/parte5/imagenes/memoria_ambas2.png?raw=true)\n",
    "**Figura 2**. Asignacion de las variables en el espacio de memoria.\n",
    "\n",
    "En la figura anterior, se puede ver que no hay variables en el **heap** pues no se hicieron asignaciones dinamicas de memoria el cual sera el proximo tema a tratar."
   ]
  },
  {
   "cell_type": "markdown",
   "metadata": {
    "colab_type": "text",
    "id": "oZtEcjKE9ZTk"
   },
   "source": [
    "## 3. Asignando memoria\n",
    "\n",
    "Para tratar esta parte abordemos un problema tipico para ver las diferentes formas de solucion desde el punto de vista del manejo de memoria. Supongase que se desean ingresar un conjunto de datos asociados con la temperatura a lo largo del dia, el ingreso de estos datos se hace de manera manual leyendo el numero de registros manuales existentes en una planilla para luego ingresarlos al sistema. Hacer un programa que facilite esta tarea.\n",
    "\n",
    "Existen diferentes maneras de asignar memoria:\n",
    "* **Forma 1**: Declarar un arreglo estatico de tamaño fijo, asumientod que el numero de registros a ingresar nunca va a ser mayor que el tamaño fijo previamente definido. Esta forma de declaración es **estatica** por que la reserva de memoria (arreglo) se hace en tiempo de compilación.\n",
    "\n",
    "```C\n",
    "#include <stdio.h>\n",
    "\n",
    "#define NUM_MAX_REG 100\n",
    "\n",
    "int main() {\n",
    "  float datos[NUM_MAX_REG]; // Se supone que no se van a ingresar mas de 100 registros\n",
    "  float reg;\n",
    "  int numReg;\n",
    "  printf(\"Ingrese la cantidad de registros a leer: \");\n",
    "  scanf(\"&d\",numReg);\n",
    "  if (numReg > NUM_MAX_REG) {\n",
    "    printf(\"ERROR: solo se pierden %d datos\\n\", numReg - NUM_MAX_REG);\n",
    "    numReg = NUM_MAX_REG;\n",
    "  } \n",
    "  for(int i = 0; i < numReg; i++) {\n",
    "    printf(\"Dato[%d]: \", i);\n",
    "    scanf(\"%f\", &reg);    \n",
    "    *(datos + i) = reg;\n",
    "  } \n",
    "  return 0;\n",
    "}\n",
    "```\n",
    "\n",
    "Como se podra notar, la forma anterior es ineficiente por razones similares a las expuestas en la introducción.\n",
    "\n",
    "* **Forma 2**: Declarar un arreglo dinamico (automatico) de un tamaño especificado en tiempo de ejecución. El siguiente codigo ilustra esta idea:\n",
    "\n",
    "```C\n",
    "#include <stdio.h>\n",
    "\n",
    "int main() {\n",
    "  float reg;\n",
    "  int numReg;\n",
    "  printf(\"Ingrese la cantidad de registros a leer: \");\n",
    "  scanf(\"&d\",numReg);\n",
    "  float datos[numReg];\n",
    "  for(int i = 0; i < numReg; i++) {\n",
    "    printf(\"Dato[%d]: \", i);\n",
    "    scanf(\"%f\", &reg);    \n",
    "    *(datos + i) = reg;\n",
    "  } \n",
    "  return 0;\n",
    "}\n",
    "```\n",
    "\n",
    "El problema de la forma anterior es que el compilador es previo a C99, no permite declarar un arreglo definiendo su tamaño a partir de una variable (siendo **numReg**) para el caso.\n",
    "\n",
    "* **Forma 3**: Declarar un arreglo dinamico de un tamaño especificado en tiempo de ejecución empleando las funciones propias de la libreria estandar para tal caso (```malloc``` y ```calloc```). En lo que respecta al caso, esta es la mejor forma. La descripción y uso de estas funciones sera tratada en breve. Por ahora veamos el codigo asociado.\n",
    "\n",
    "```C\n",
    "#include <stdio.h>\n",
    "\n",
    "int main() {\n",
    "  float *datos;\n",
    "  float reg;\n",
    "  int numReg;\n",
    "  printf(\"Ingrese la cantidad de registros a leer: \");\n",
    "  scanf(\"&d\",numReg);\n",
    "  datos = (float *)malloc(numReg*sizeof(float));\n",
    "  if (pF != NULL) {\n",
    "    for(int i = 0; i < numReg; i++) {\n",
    "      printf(\"Dato[%d]: \", i);\n",
    "      scanf(\"%f\", &reg);    \n",
    "      *(datos + i) = reg;\n",
    "  } \n",
    "  free(datos);\n",
    "  return 0;\n",
    "}\n",
    "```\n",
    "\n",
    "A continuacion, en los siguientes ejemplos se muestra la diferencia entre declarar una variable en el stack y declararla en el heap usando reserva dinamica de memoria."
   ]
  },
  {
   "cell_type": "markdown",
   "metadata": {
    "colab_type": "text",
    "id": "natie1qz9c48"
   },
   "source": [
    "### Ejemplos\n",
    "\n",
    "1. Simule y analise los codigos 1 y 2 mostrados a continuacion. Pese a que logicamente hacen lo mismo, ¿Cual es la principal diferencia entre estos?\n",
    "\n",
    "**Codigo 1**:"
   ]
  },
  {
   "cell_type": "code",
   "execution_count": 4,
   "metadata": {
    "colab": {
     "autoexec": {
      "startup": false,
      "wait_interval": 0
     },
     "base_uri": "https://localhost:8080/",
     "height": 34
    },
    "colab_type": "code",
    "executionInfo": {
     "elapsed": 581,
     "status": "ok",
     "timestamp": 1531524309154,
     "user": {
      "displayName": "HENRY ALBERTO ARCILA RAMIREZ",
      "photoUrl": "https://lh3.googleusercontent.com/a/default-user=s128",
      "userId": "101819781408374541388"
     },
     "user_tz": 300
    },
    "id": "7DmhJvBQ9fIM",
    "outputId": "74e18c2b-5cfe-4ccc-fef3-e07f1e5967c7"
   },
   "outputs": [
    {
     "data": {
      "text/html": [
       "<div class=\"text-center\"><strong><a style=\"box-sizing: border-box; padding: 0 5px; border: 1px solid #CFCFCF;\" target=\"_\" href=http://pythontutor.com/iframe-embed.html#code=%23include%20%3Cstdio.h%3E%0A%0Aint%20main%28%29%20%7B%0A%20%20int%20a%3B%0A%20%20int%20%2Ap%20%3D%20%26a%3B%0A%20%20%2Ap%20%3D%205%3B%0A%20%20printf%28%22%2Ap%20%3D%20%25d%5Cn%22%2C%20%2Ap%29%3B%0A%20%20return%200%3B%0A%7D&origin=opt-frontend.js&cumulative=false&heapPrimitives=false&textReferences=false&curInstr=0&&verticalStack=false&py=c&rawInputLstJSON=%5B%5D&codeDivWidth=50%25&codeDivHeight=100%25>Python Tutor</a></strong></div>"
      ],
      "text/plain": [
       "<IPython.core.display.HTML object>"
      ]
     },
     "metadata": {
      "tags": []
     },
     "output_type": "display_data"
    }
   ],
   "source": [
    "%%tutor -l c -k\n",
    "#include <stdio.h>\n",
    "\n",
    "int main() {\n",
    "  int a;\n",
    "  int *p = &a;\n",
    "  *p = 5;\n",
    "  printf(\"*p = %d\\n\", *p);\n",
    "  return 0;\n",
    "}"
   ]
  },
  {
   "cell_type": "markdown",
   "metadata": {
    "colab_type": "text",
    "id": "t1seVx0X9odb"
   },
   "source": [
    "La siguiente figura muestre el efecto del codigo anterior:\n",
    "\n",
    "![mem_stack](https://github.com/repos-SO-UdeA/laboratorios/blob/master/lab1/teoria/parte5/imagenes/memoria_stack.png?raw=true)\n",
    "**Figura 3**. Accediendo desde un apuntador a una variable definida en el stack."
   ]
  },
  {
   "cell_type": "markdown",
   "metadata": {
    "colab_type": "text",
    "id": "WZ6ZlE3c9uA8"
   },
   "source": [
    "**Codigo 2**: "
   ]
  },
  {
   "cell_type": "code",
   "execution_count": 5,
   "metadata": {
    "colab": {
     "autoexec": {
      "startup": false,
      "wait_interval": 0
     },
     "base_uri": "https://localhost:8080/",
     "height": 34
    },
    "colab_type": "code",
    "executionInfo": {
     "elapsed": 478,
     "status": "ok",
     "timestamp": 1531524371994,
     "user": {
      "displayName": "HENRY ALBERTO ARCILA RAMIREZ",
      "photoUrl": "https://lh3.googleusercontent.com/a/default-user=s128",
      "userId": "101819781408374541388"
     },
     "user_tz": 300
    },
    "id": "N5oFsYH_9xyV",
    "outputId": "1f40d202-3f72-46d9-b26e-52fc7cc482cf"
   },
   "outputs": [
    {
     "data": {
      "text/html": [
       "<div class=\"text-center\"><strong><a style=\"box-sizing: border-box; padding: 0 5px; border: 1px solid #CFCFCF;\" target=\"_\" href=http://pythontutor.com/iframe-embed.html#code=%23include%20%3Cstdio.h%3E%0A%0Aint%20main%28%29%20%7B%0A%20%20int%20%2Ap%3B%0A%20%20p%20%3D%20malloc%28sizeof%28int%29%29%3B%0A%20%20if%28p%20%3D%3D%200%29%20%7B%0A%20%20%20%20printf%28%22ERROR%3A%20Out%20of%20memory%5Cn%22%29%3B%0A%20%20%20%20return%201%3B%0A%20%20%7D%0A%20%20%2Ap%20%3D%205%3B%0A%20%20printf%28%22%2Ap%20%3D%20%25d%5Cn%22%2C%20%2Ap%29%3B%0A%20%20free%28p%29%3B%0A%20%20return%200%3B%0A%7D&origin=opt-frontend.js&cumulative=false&heapPrimitives=false&textReferences=false&curInstr=0&&verticalStack=false&py=c&rawInputLstJSON=%5B%5D&codeDivWidth=50%25&codeDivHeight=100%25>Python Tutor</a></strong></div>"
      ],
      "text/plain": [
       "<IPython.core.display.HTML object>"
      ]
     },
     "metadata": {
      "tags": []
     },
     "output_type": "display_data"
    }
   ],
   "source": [
    "%%tutor -l c -k\n",
    "#include <stdio.h>\n",
    "\n",
    "int main() {\n",
    "  int *p;\n",
    "  p = malloc(sizeof(int));\n",
    "  if(p == 0) {\n",
    "    printf(\"ERROR: Out of memory\\n\");\n",
    "    return 1;\n",
    "  }\n",
    "  *p = 5;\n",
    "  printf(\"*p = %d\\n\", *p);\n",
    "  free(p);\n",
    "  return 0;\n",
    "}"
   ]
  },
  {
   "cell_type": "markdown",
   "metadata": {
    "colab_type": "text",
    "id": "d3nwziCH93Ly"
   },
   "source": [
    "La siguiente figura muestre el efecto del codigo anterior:\n",
    "\n",
    "![mem_heap](https://github.com/repos-SO-UdeA/laboratorios/blob/master/lab1/teoria/parte5/imagenes/malloc_help.png?raw=true)\n",
    "**Figura 4**. Asignacion dinamica de una variable usando malloc\n"
   ]
  },
  {
   "cell_type": "markdown",
   "metadata": {
    "colab_type": "text",
    "id": "e5B4P3xF9-lj"
   },
   "source": [
    "## 3. Asignacion dinamica de memoria mediante C\n",
    "\n",
    "### 3.1. Operador sizeof\n",
    "Este es un operador (no una funcion) que devielve la cantidad en bytes ocupada por una variable o algun tipo de dato. La sintaxis basica de este operador se muestra a continuacion:\n",
    "\n",
    "```C\n",
    "sizeof ( type-name )  \n",
    "```"
   ]
  },
  {
   "cell_type": "markdown",
   "metadata": {
    "colab_type": "text",
    "id": "Rs4xAX09-BU8"
   },
   "source": [
    "**Ejemplo**: En el siguiente codigo ejemplo se muestran algunos ejemplos del uso de este operador:\n"
   ]
  },
  {
   "cell_type": "code",
   "execution_count": 6,
   "metadata": {
    "colab": {
     "autoexec": {
      "startup": false,
      "wait_interval": 0
     },
     "base_uri": "https://localhost:8080/",
     "height": 34
    },
    "colab_type": "code",
    "executionInfo": {
     "elapsed": 468,
     "status": "ok",
     "timestamp": 1531524450855,
     "user": {
      "displayName": "HENRY ALBERTO ARCILA RAMIREZ",
      "photoUrl": "https://lh3.googleusercontent.com/a/default-user=s128",
      "userId": "101819781408374541388"
     },
     "user_tz": 300
    },
    "id": "iknOnI0R-E4U",
    "outputId": "1a7e0246-2bd7-4193-9aef-9eb9d3f9a5c0"
   },
   "outputs": [
    {
     "data": {
      "text/html": [
       "<div class=\"text-center\"><strong><a style=\"box-sizing: border-box; padding: 0 5px; border: 1px solid #CFCFCF;\" target=\"_\" href=http://pythontutor.com/iframe-embed.html#code=%23include%20%3Cstdio.h%3E%0A%0Aint%20main%28%29%20%7B%0A%20%20short%20%2Ap%3B%0A%20%20long%20long%20a%3B%0A%20%20printf%28%22sizeof%28short%2A%29%20%3D%20%25d%5Cn%22%2Csizeof%28short%2A%29%29%3B%20%20//%20Pasando%20un%20tipo%20de%20dato%0A%20%20printf%28%22sizeof%28p1%29%20%3D%20%25d%5Cn%22%2Csizeof%28p%29%29%3B%20//%20Pasando%20una%20variable%0A%20%20printf%28%22sizeof%28short%29%20%3D%20%25d%5Cn%22%2Csizeof%28short%29%29%3B%20//%20Pasando%20un%20tipo%20de%20dato%0A%20%20printf%28%22sizeof%28long%20long%29%20%3D%20%25d%5Cn%22%2Csizeof%28long%20long%29%29%3B%20//%20Pasando%20un%20tipo%20de%20dato%0A%20%20printf%28%22sizeof%28long%20long%29%20%3D%20%25d%5Cn%22%2Csizeof%28a%29%29%3B%20//%20Pasando%20una%20variable%0A%20%20printf%28%22sizeof%28double%2A%29%20%3D%20%25d%5Cn%22%2Csizeof%28double%2A%29%29%3B%20//%20Pasando%20un%20tipo%20de%20dato%0A%20%20printf%28%22sizeof%28char%2A%29%20%3D%20%25d%5Cn%22%2Csizeof%28char%2A%29%29%3B%20//%20Pasando%20un%20tipo%20de%20dato%0A%20%20printf%28%22sizeof%28char%29%20%3D%20%25d%5Cn%22%2Csizeof%28char%29%29%3B%20//%20Pasando%20un%20tipo%20de%20dato%0A%20%20return%200%3B%0A%7D&origin=opt-frontend.js&cumulative=false&heapPrimitives=false&textReferences=false&curInstr=0&&verticalStack=false&py=c&rawInputLstJSON=%5B%5D&codeDivWidth=50%25&codeDivHeight=100%25>Python Tutor</a></strong></div>"
      ],
      "text/plain": [
       "<IPython.core.display.HTML object>"
      ]
     },
     "metadata": {
      "tags": []
     },
     "output_type": "display_data"
    }
   ],
   "source": [
    "%%tutor -l c -k\n",
    "#include <stdio.h>\n",
    "\n",
    "int main() {\n",
    "  short *p;\n",
    "  long long a;\n",
    "  printf(\"sizeof(short*) = %d\\n\",sizeof(short*));  // Pasando un tipo de dato\n",
    "  printf(\"sizeof(p1) = %d\\n\",sizeof(p)); // Pasando una variable\n",
    "  printf(\"sizeof(short) = %d\\n\",sizeof(short)); // Pasando un tipo de dato\n",
    "  printf(\"sizeof(long long) = %d\\n\",sizeof(long long)); // Pasando un tipo de dato\n",
    "  printf(\"sizeof(long long) = %d\\n\",sizeof(a)); // Pasando una variable\n",
    "  printf(\"sizeof(double*) = %d\\n\",sizeof(double*)); // Pasando un tipo de dato\n",
    "  printf(\"sizeof(char*) = %d\\n\",sizeof(char*)); // Pasando un tipo de dato\n",
    "  printf(\"sizeof(char) = %d\\n\",sizeof(char)); // Pasando un tipo de dato\n",
    "  return 0;\n",
    "}"
   ]
  },
  {
   "cell_type": "markdown",
   "metadata": {
    "colab_type": "text",
    "id": "0wUaGW6k-Ko0"
   },
   "source": [
    "A continuacion se muestra la salida en el simulador para diferentes tipos de datos:\n",
    "\n",
    "![print_size](https://github.com/repos-SO-UdeA/laboratorios/blob/master/lab1/teoria/parte5/imagenes/size_of.png?raw=true)\n",
    "**Figura 6**. Tamaño en bytes para diferentes tipos de datos.\n"
   ]
  },
  {
   "cell_type": "markdown",
   "metadata": {
    "colab_type": "text",
    "id": "Jx70QmCf-UGE"
   },
   "source": [
    "### 3.2. Manejo dinamico de memoria\n",
    "\n",
    "#### 3.2.1. Asignación de memoria: Memory Allocation o Malloc\n",
    "\n",
    "La función ```malloc``` permite reservar un bloque de memoria (sin inicializar) en el heap. El prototipo de esta función se muestra a continuación:\n",
    "\n",
    "> **Sintaxis**:\n",
    ">\n",
    "> ```C\n",
    "> void * malloc (size_t size)\n",
    "> ```\n",
    ">\n",
    "> **Donde**:\n",
    "> * **size**: Numero de bytes que seran reservados\n",
    "> \n",
    "> La funcion retorna la direccion en el heap a partir de la cual se reservó el tamaño de memoria solicitado o retorna **NULL** si no es posible reservar la cantidad de memoria. Cabe recordar que ```void*``` indica que la dirección retornada es genérica, es decir, en esa dirección se puede almacenar cualquier tipo de variable.\n",
    "\n",
    "#### 3.2.2. Liberación de memoria: free\n",
    "\n",
    "La función ```free``` libera un bloque de memoria previamente reservado en el heap. El prototipo de esta función se muestra a continuación:\n",
    "\n",
    "> **Sintaxis**:\n",
    ">\n",
    "> ```C\n",
    "> void free(void* pointer);\n",
    "> ```\n",
    ">\n",
    "> **Donde**:\n",
    "> * **pointer**: apuntador con la dirección del bloque de memoria (previamente reservado con **malloc** o con **calloc**) a liberar. "
   ]
  },
  {
   "cell_type": "markdown",
   "metadata": {
    "colab_type": "text",
    "id": "ua8iuGIk-XU-"
   },
   "source": [
    "#### Ejemplos\n",
    "Con el fin de comprender los conceptos anteriormente expuestos analise y entienda los siguientes codigos\n"
   ]
  },
  {
   "cell_type": "markdown",
   "metadata": {
    "colab_type": "text",
    "id": "ynN1-4bl-YLc"
   },
   "source": [
    "1. **Codigo 1**:"
   ]
  },
  {
   "cell_type": "code",
   "execution_count": 7,
   "metadata": {
    "colab": {
     "autoexec": {
      "startup": false,
      "wait_interval": 0
     },
     "base_uri": "https://localhost:8080/",
     "height": 34
    },
    "colab_type": "code",
    "executionInfo": {
     "elapsed": 457,
     "status": "ok",
     "timestamp": 1531524594298,
     "user": {
      "displayName": "HENRY ALBERTO ARCILA RAMIREZ",
      "photoUrl": "https://lh3.googleusercontent.com/a/default-user=s128",
      "userId": "101819781408374541388"
     },
     "user_tz": 300
    },
    "id": "vPg97Kiu-Z5_",
    "outputId": "7e15fbb6-8dfe-466e-cbe9-069aa5ea1412"
   },
   "outputs": [
    {
     "data": {
      "text/html": [
       "<div class=\"text-center\"><strong><a style=\"box-sizing: border-box; padding: 0 5px; border: 1px solid #CFCFCF;\" target=\"_\" href=http://pythontutor.com/iframe-embed.html#code=%23include%20%3Cstdio.h%3E%0A%0Aint%20main%28%29%20%7B%0A%20%20int%20%2Ap%2C%20%2Aq%3B%0A%20%20p%20%3D%20malloc%28sizeof%28int%29%29%3B%0A%20%20q%20%3D%20p%3B%0A%20%20%2Ap%20%3D%2010%3B%0A%20%20printf%28%22%25d%5Cn%22%2C%2Aq%29%3B%0A%20%20%2Aq%20%3D%2020%3B%0A%20%20printf%28%22%25d%5Cn%22%2C%2Aq%29%3B%0A%20%20free%28p%29%3B%20%20//%20Tambien%20para%20el%20caso%20puede%20ser%20q%0A%20%20return%200%3B%0A%7D&origin=opt-frontend.js&cumulative=false&heapPrimitives=false&textReferences=false&curInstr=0&&verticalStack=false&py=c&rawInputLstJSON=%5B%5D&codeDivWidth=50%25&codeDivHeight=100%25>Python Tutor</a></strong></div>"
      ],
      "text/plain": [
       "<IPython.core.display.HTML object>"
      ]
     },
     "metadata": {
      "tags": []
     },
     "output_type": "display_data"
    }
   ],
   "source": [
    "%%tutor -l c -k\n",
    "#include <stdio.h>\n",
    "\n",
    "int main() {\n",
    "  int *p, *q;\n",
    "  p = malloc(sizeof(int));\n",
    "  q = p;\n",
    "  *p = 10;\n",
    "  printf(\"%d\\n\",*q);\n",
    "  *q = 20;\n",
    "  printf(\"%d\\n\",*q);\n",
    "  free(p);  // Tambien para el caso puede ser q\n",
    "  return 0;\n",
    "}"
   ]
  },
  {
   "cell_type": "markdown",
   "metadata": {
    "colab_type": "text",
    "id": "lBv_IcRy-elm"
   },
   "source": [
    "\n",
    "La salida del codigo anterior se muestra a continuacion:\n",
    "\n",
    "![c1](https://github.com/repos-SO-UdeA/laboratorios/blob/master/lab1/teoria/parte5/imagenes/codigo1.png?raw=true)\n",
    "**Figura 7**. Salida codigo 1."
   ]
  },
  {
   "cell_type": "markdown",
   "metadata": {
    "colab_type": "text",
    "id": "xvewrA7C-l02"
   },
   "source": [
    "2. **Codigo 2**:  "
   ]
  },
  {
   "cell_type": "code",
   "execution_count": 8,
   "metadata": {
    "colab": {
     "autoexec": {
      "startup": false,
      "wait_interval": 0
     },
     "base_uri": "https://localhost:8080/",
     "height": 34
    },
    "colab_type": "code",
    "executionInfo": {
     "elapsed": 453,
     "status": "ok",
     "timestamp": 1531524603282,
     "user": {
      "displayName": "HENRY ALBERTO ARCILA RAMIREZ",
      "photoUrl": "https://lh3.googleusercontent.com/a/default-user=s128",
      "userId": "101819781408374541388"
     },
     "user_tz": 300
    },
    "id": "ROKHkvhj-qMt",
    "outputId": "6298533f-3c93-4fc9-9c6a-aad02230274b"
   },
   "outputs": [
    {
     "data": {
      "text/html": [
       "<div class=\"text-center\"><strong><a style=\"box-sizing: border-box; padding: 0 5px; border: 1px solid #CFCFCF;\" target=\"_\" href=http://pythontutor.com/iframe-embed.html#code=%23include%20%3Cstdio.h%3E%0A%0Aint%20main%28%29%20%7B%0A%20%20int%20%2Ap%2C%20%2Aq%3B%0A%20%20p%20%3D%20malloc%28sizeof%28int%29%29%3B%0A%20%20q%20%3D%20malloc%28sizeof%28int%29%29%3B%0A%20%20%2Ap%20%3D%2010%3B%0A%20%20%2Aq%20%3D%2020%3B%0A%20%20printf%28%22%2Ap%20%3D%20%25d%3B%20%2Aq%20%3D%20%25d%5Cn%22%2C%20%2Ap%2C%20%2Aq%29%3B%0A%20%20%2Ap%20%3D%20%2Aq%3B%0A%20%20printf%28%22%2Ap%20%3D%20%25d%3B%20%2Aq%20%3D%20%25d%5Cn%22%2C%20%2Ap%2C%20%2Aq%29%3B%0A%20%20free%28p%29%3B%20%20%0A%20%20free%28q%29%3B%20%20%0A%20%20return%200%3B%0A%7D&origin=opt-frontend.js&cumulative=false&heapPrimitives=false&textReferences=false&curInstr=0&&verticalStack=false&py=c&rawInputLstJSON=%5B%5D&codeDivWidth=50%25&codeDivHeight=100%25>Python Tutor</a></strong></div>"
      ],
      "text/plain": [
       "<IPython.core.display.HTML object>"
      ]
     },
     "metadata": {
      "tags": []
     },
     "output_type": "display_data"
    }
   ],
   "source": [
    "%%tutor -l c -k\n",
    "#include <stdio.h>\n",
    "\n",
    "int main() {\n",
    "  int *p, *q;\n",
    "  p = malloc(sizeof(int));\n",
    "  q = malloc(sizeof(int));\n",
    "  *p = 10;\n",
    "  *q = 20;\n",
    "  printf(\"*p = %d; *q = %d\\n\", *p, *q);\n",
    "  *p = *q;\n",
    "  printf(\"*p = %d; *q = %d\\n\", *p, *q);\n",
    "  free(p);  \n",
    "  free(q);  \n",
    "  return 0;\n",
    "}"
   ]
  },
  {
   "cell_type": "markdown",
   "metadata": {
    "colab_type": "text",
    "id": "a6eIeJnh-wU2"
   },
   "source": [
    "La salida del codigo anterior se muestra a continuacion:\n",
    "\n",
    "![c2](https://github.com/repos-SO-UdeA/laboratorios/blob/master/lab1/teoria/parte5/imagenes/codigo2.png?raw=true)\n",
    "**Figura 8**. Salida codigo 2.\n",
    "\n",
    "Tambien es posible declarar arrays en memoria dinamica pasando el tamaño del array en bytes. Asi por ejemplo, para declara un array de **N** elementos, el valor pasado como parametro a la funcion **malloc** sera **N*sizeof(dataTipe)**"
   ]
  },
  {
   "cell_type": "markdown",
   "metadata": {
    "colab_type": "text",
    "id": "8rblxJhp-6tt"
   },
   "source": [
    "3. **Codigo 3**: Crear dinamicamente un array de 10 elementos y llenarlo de ceros."
   ]
  },
  {
   "cell_type": "code",
   "execution_count": 9,
   "metadata": {
    "colab": {
     "autoexec": {
      "startup": false,
      "wait_interval": 0
     },
     "base_uri": "https://localhost:8080/",
     "height": 34
    },
    "colab_type": "code",
    "executionInfo": {
     "elapsed": 439,
     "status": "ok",
     "timestamp": 1531524683340,
     "user": {
      "displayName": "HENRY ALBERTO ARCILA RAMIREZ",
      "photoUrl": "https://lh3.googleusercontent.com/a/default-user=s128",
      "userId": "101819781408374541388"
     },
     "user_tz": 300
    },
    "id": "pr83jedF-7xD",
    "outputId": "3b31c97c-ce38-4f68-b54a-6bb119df80b1"
   },
   "outputs": [
    {
     "data": {
      "text/html": [
       "<div class=\"text-center\"><strong><a style=\"box-sizing: border-box; padding: 0 5px; border: 1px solid #CFCFCF;\" target=\"_\" href=http://pythontutor.com/iframe-embed.html#code=%23include%20%3Cstdio.h%3E%0A%0A%23define%20TAM%2010%20%0A%0Aint%20main%28%29%20%7B%0A%20%20int%20%2Ap%2C%20%2Aq%3B%0A%20%20p%20%3D%20malloc%28TAM%2Asizeof%28int%29%29%3B%0A%20%20for%20%28int%20i%20%3D%200%3B%20i%20%3C%20TAM%3B%20i%2B%2B%29%20%7B%0A%20%20%20%20%2A%28p%20%2B%20i%29%20%3D%200%3B%20//%20p%5Bi%5D%20%3D%200%0A%20%20%7D%0A%20%20free%28p%29%3B%20%20%20%20%0A%20%20return%200%3B%0A%7D&origin=opt-frontend.js&cumulative=false&heapPrimitives=false&textReferences=false&curInstr=0&&verticalStack=false&py=c&rawInputLstJSON=%5B%5D&codeDivWidth=50%25&codeDivHeight=100%25>Python Tutor</a></strong></div>"
      ],
      "text/plain": [
       "<IPython.core.display.HTML object>"
      ]
     },
     "metadata": {
      "tags": []
     },
     "output_type": "display_data"
    }
   ],
   "source": [
    "%%tutor -l c -k\n",
    "#include <stdio.h>\n",
    "\n",
    "#define TAM 10 \n",
    "\n",
    "int main() {\n",
    "  int *p, *q;\n",
    "  p = malloc(TAM*sizeof(int));\n",
    "  for (int i = 0; i < TAM; i++) {\n",
    "    *(p + i) = 0; // p[i] = 0\n",
    "  }\n",
    "  free(p);    \n",
    "  return 0;\n",
    "}"
   ]
  },
  {
   "cell_type": "markdown",
   "metadata": {
    "colab_type": "text",
    "id": "Rfno5vck_DVl"
   },
   "source": [
    "La salida del codigo anterior se muestra a continuacion:\n",
    "\n",
    "![c3](https://github.com/repos-SO-UdeA/laboratorios/blob/master/lab1/teoria/parte5/imagenes/codigo3.png?raw=true)\n",
    "**Figura 9**. Salida codigo 3.\n",
    "\n",
    "\n",
    "> **Buen tip de programacion**: asignar NULL a un apuntador no es obligatorio, pero es buena practica. Esto para evitar algun error si el apuntador es erroneamente utilizado despues de que la memoria ha sido liberada."
   ]
  },
  {
   "cell_type": "markdown",
   "metadata": {
    "colab_type": "text",
    "id": "Rih8vpV1_KEr"
   },
   "source": [
    "4. **Codigo 4**: Crear dinamicamente un array de 10 elementos y llenarlo de ceros, pero esta vez haga uso de la buena practica de programacion para entenderla.\n"
   ]
  },
  {
   "cell_type": "code",
   "execution_count": 10,
   "metadata": {
    "colab": {
     "autoexec": {
      "startup": false,
      "wait_interval": 0
     },
     "base_uri": "https://localhost:8080/",
     "height": 34
    },
    "colab_type": "code",
    "executionInfo": {
     "elapsed": 2257,
     "status": "ok",
     "timestamp": 1531524779960,
     "user": {
      "displayName": "HENRY ALBERTO ARCILA RAMIREZ",
      "photoUrl": "https://lh3.googleusercontent.com/a/default-user=s128",
      "userId": "101819781408374541388"
     },
     "user_tz": 300
    },
    "id": "BrKh-qML_TOV",
    "outputId": "98be9fdd-23ce-49fc-9d1e-5cc1695dddb7"
   },
   "outputs": [
    {
     "data": {
      "text/html": [
       "<div class=\"text-center\"><strong><a style=\"box-sizing: border-box; padding: 0 5px; border: 1px solid #CFCFCF;\" target=\"_\" href=http://pythontutor.com/iframe-embed.html#code=%23include%20%3Cstdio.h%3E%0A%0A%23define%20TAM%2010%20%0A%0Aint%20main%28%29%20%7B%0A%20%20int%20%2Ap%2C%20%2Aq%3B%0A%20%20p%20%3D%20malloc%28TAM%2Asizeof%28int%29%29%3B%0A%20%20for%20%28int%20i%20%3D%200%3B%20i%20%3C%20TAM%3B%20i%2B%2B%29%20%7B%0A%20%20%20%20%2A%28p%20%2B%20i%29%20%3D%200%3B%20//%20p%5Bi%5D%20%3D%200%0A%20%20%7D%0A%20%20free%28p%29%3B%20%0A%20%20p%20%3D%20NULL%3B%0A%20%20return%200%3B%0A%7D&origin=opt-frontend.js&cumulative=false&heapPrimitives=false&textReferences=false&curInstr=0&&verticalStack=false&py=c&rawInputLstJSON=%5B%5D&codeDivWidth=50%25&codeDivHeight=100%25>Python Tutor</a></strong></div>"
      ],
      "text/plain": [
       "<IPython.core.display.HTML object>"
      ]
     },
     "metadata": {
      "tags": []
     },
     "output_type": "display_data"
    }
   ],
   "source": [
    "%%tutor -l c -k\n",
    "#include <stdio.h>\n",
    "\n",
    "#define TAM 10 \n",
    "\n",
    "int main() {\n",
    "  int *p, *q;\n",
    "  p = malloc(TAM*sizeof(int));\n",
    "  for (int i = 0; i < TAM; i++) {\n",
    "    *(p + i) = 0; // p[i] = 0\n",
    "  }\n",
    "  free(p); \n",
    "  p = NULL;\n",
    "  return 0;\n",
    "}"
   ]
  },
  {
   "cell_type": "markdown",
   "metadata": {
    "colab_type": "text",
    "id": "mZgtJCmf_hJh"
   },
   "source": [
    "La salida del codigo anterior se muestra a continuacion cuando se hace la reserva dinamica de memoria:\n",
    "\n",
    "![c4](https://github.com/repos-SO-UdeA/laboratorios/blob/master/lab1/teoria/parte5/imagenes/codigo4_a.png?raw=trueg)\n",
    "**Figura 10**. Salida codigo 4 tras la reserva con malloc.\n",
    "\n",
    "El efecto despues de liberar memoria y poner el apuntador a NULL:\n",
    "\n",
    "![c5](https://github.com/repos-SO-UdeA/laboratorios/blob/master/lab1/teoria/parte5/imagenes/codigo4_b.png?raw=true)\n",
    "**Figura 11**. Salida codigo tras aplicar del delete y poner el apuntador en valor NULL."
   ]
  },
  {
   "cell_type": "markdown",
   "metadata": {
    "colab_type": "text",
    "id": "-okJO8gi_u1l"
   },
   "source": [
    "#### 3.2.3. Asignación de memoria con inicializacion: calloc\n",
    "\n",
    "La función ```calloc``` permite reservar e inicializat a 0 un bloque de memoria en el heap. El prototipo de esta función se muestra a continuación:\n",
    "\n",
    "> **Sintaxis**:\n",
    ">\n",
    "> ```C\n",
    "> void * calloc (size_t numElements, size_t size)\n",
    "> ```\n",
    ">\n",
    "> **Donde**:\n",
    "> * **num**: numero de elementos consecutivos a reservar. \n",
    "> * **size**: Tamaño en bytes de cada elemento. \n",
    ">\n",
    "> El espacio total reservado en la funcion es de numElements*size. Normalmente, la funcion retorna un apuntador que contiene la direccion inicial del bloque reservado en el heap. En caso de que no haya suficiente memoria disponible la funcion retornara NULL."
   ]
  },
  {
   "cell_type": "markdown",
   "metadata": {
    "colab_type": "text",
    "id": "0nuII3SH_xTE"
   },
   "source": [
    "#### Ejemplos\n",
    "Con el fin de comprender los conceptos anteriormente expuestos analise y entienda los siguientes codigos:\n"
   ]
  },
  {
   "cell_type": "markdown",
   "metadata": {
    "colab_type": "text",
    "id": "PQRfbpsG_yAo"
   },
   "source": [
    "1. **Codigo 1**: Declare una en el heap un dato double inicializado a 0. "
   ]
  },
  {
   "cell_type": "code",
   "execution_count": 11,
   "metadata": {
    "colab": {
     "autoexec": {
      "startup": false,
      "wait_interval": 0
     },
     "base_uri": "https://localhost:8080/",
     "height": 34
    },
    "colab_type": "code",
    "executionInfo": {
     "elapsed": 694,
     "status": "ok",
     "timestamp": 1531524917044,
     "user": {
      "displayName": "HENRY ALBERTO ARCILA RAMIREZ",
      "photoUrl": "https://lh3.googleusercontent.com/a/default-user=s128",
      "userId": "101819781408374541388"
     },
     "user_tz": 300
    },
    "id": "8sgxGqcN_0e0",
    "outputId": "9fe75be5-1966-4355-99d0-213563fccdd3"
   },
   "outputs": [
    {
     "data": {
      "text/html": [
       "<div class=\"text-center\"><strong><a style=\"box-sizing: border-box; padding: 0 5px; border: 1px solid #CFCFCF;\" target=\"_\" href=http://pythontutor.com/iframe-embed.html#code=%23include%20%3Cstdio.h%3E%0A%0Aint%20main%28%29%20%7B%0A%20%20double%20%2Ap%3B%0A%20%20p%20%3D%20calloc%281%2C%20sizeof%28double%29%29%3B%0A%20%20if%28p%20%3D%3D%200%29%20%7B%0A%20%20%20%20printf%28%22ERROR%3A%20Out%20of%20memory%5Cn%22%29%3B%0A%20%20%20%20return%20-1%3B%0A%20%20%7D%0A%20%20printf%28%22%2Ap%20%3D%20%25.1lf%5Cn%22%2C%20%2Ap%29%3B%0A%20%20free%28p%29%3B%0A%20%20p%20%3D%20NULL%3B%0A%20%20return%200%3B%0A%7D&origin=opt-frontend.js&cumulative=false&heapPrimitives=false&textReferences=false&curInstr=0&&verticalStack=false&py=c&rawInputLstJSON=%5B%5D&codeDivWidth=50%25&codeDivHeight=100%25>Python Tutor</a></strong></div>"
      ],
      "text/plain": [
       "<IPython.core.display.HTML object>"
      ]
     },
     "metadata": {
      "tags": []
     },
     "output_type": "display_data"
    }
   ],
   "source": [
    "%%tutor -l c -k\n",
    "#include <stdio.h>\n",
    "\n",
    "int main() {\n",
    "  double *p;\n",
    "  p = calloc(1, sizeof(double));\n",
    "  if(p == 0) {\n",
    "    printf(\"ERROR: Out of memory\\n\");\n",
    "    return -1;\n",
    "  }\n",
    "  printf(\"*p = %.1lf\\n\", *p);\n",
    "  free(p);\n",
    "  p = NULL;\n",
    "  return 0;\n",
    "}"
   ]
  },
  {
   "cell_type": "markdown",
   "metadata": {
    "colab_type": "text",
    "id": "Js-LCo2b_69O"
   },
   "source": [
    "La siguiente imagen muestra el efecto del uso del calloc:\n",
    "\n",
    "![c4](https://github.com/repos-SO-UdeA/laboratorios/blob/master/lab1/teoria/parte5/imagenes/calloc_1.png?raw=true)\n",
    "**Figura 12**. Salida codigo 4 tras la reserva con calloc."
   ]
  },
  {
   "cell_type": "markdown",
   "metadata": {
    "colab_type": "text",
    "id": "eBLVB7TUAMKF"
   },
   "source": [
    "2. **Codigo 2**: Crear dinamicamente un array de 10 elementos entero y llenarlo de ceros por medio de la funcion calloc."
   ]
  },
  {
   "cell_type": "code",
   "execution_count": 12,
   "metadata": {
    "colab": {
     "autoexec": {
      "startup": false,
      "wait_interval": 0
     },
     "base_uri": "https://localhost:8080/",
     "height": 34
    },
    "colab_type": "code",
    "executionInfo": {
     "elapsed": 921,
     "status": "ok",
     "timestamp": 1531525038303,
     "user": {
      "displayName": "HENRY ALBERTO ARCILA RAMIREZ",
      "photoUrl": "https://lh3.googleusercontent.com/a/default-user=s128",
      "userId": "101819781408374541388"
     },
     "user_tz": 300
    },
    "id": "RBXmh53yAVjM",
    "outputId": "b710d51c-0f3d-4792-a01e-31341135fbf7"
   },
   "outputs": [
    {
     "data": {
      "text/html": [
       "<div class=\"text-center\"><strong><a style=\"box-sizing: border-box; padding: 0 5px; border: 1px solid #CFCFCF;\" target=\"_\" href=http://pythontutor.com/iframe-embed.html#code=%23include%20%3Cstdio.h%3E%0A%0Aint%20main%28%29%20%7B%0A%20%20int%20%2Ap%3B%0A%20%20p%20%3D%20calloc%2810%2C%20sizeof%28int%29%29%3B%0A%20%20if%28p%20%3D%3D%200%29%20%7B%0A%20%20%20%20printf%28%22ERROR%3A%20Out%20of%20memory%5Cn%22%29%3B%0A%20%20%20%20return%20-1%3B%0A%20%20%7D%0A%20%20free%28p%29%3B%0A%20%20p%20%3D%20NULL%3B%0A%20%20return%200%3B%0A%7D&origin=opt-frontend.js&cumulative=false&heapPrimitives=false&textReferences=false&curInstr=0&&verticalStack=false&py=c&rawInputLstJSON=%5B%5D&codeDivWidth=50%25&codeDivHeight=100%25>Python Tutor</a></strong></div>"
      ],
      "text/plain": [
       "<IPython.core.display.HTML object>"
      ]
     },
     "metadata": {
      "tags": []
     },
     "output_type": "display_data"
    }
   ],
   "source": [
    "%%tutor -l c -k\n",
    "#include <stdio.h>\n",
    "\n",
    "int main() {\n",
    "  int *p;\n",
    "  p = calloc(10, sizeof(int));\n",
    "  if(p == 0) {\n",
    "    printf(\"ERROR: Out of memory\\n\");\n",
    "    return -1;\n",
    "  }\n",
    "  free(p);\n",
    "  p = NULL;\n",
    "  return 0;\n",
    "}"
   ]
  },
  {
   "cell_type": "markdown",
   "metadata": {
    "colab_type": "text",
    "id": "g7kW5exUAaL1"
   },
   "source": [
    "Tras la ejecucion del codigo anterior, el efecto es similar al de la figura 10.\n"
   ]
  },
  {
   "cell_type": "markdown",
   "metadata": {
    "colab_type": "text",
    "id": "vgUAxcBNAoyV"
   },
   "source": [
    "#### 3.2.4. Reasignación de memoria: Memory Re-allocation o realloc\n",
    "\n",
    "La función ```realloc``` permite redimensionar un bloque de memoria previamente reservada con ```malloc```. El prototipo de esta función se muestra a continuación.\n",
    "\n",
    "> **Sintaxis**:\n",
    ">\n",
    "> ```C\n",
    "> void * realloc(void * ptr, size_t size)\n",
    "> ```\n",
    ">\n",
    "> **Donde**:\n",
    "> * **ptr**: Puntero a memoria. \n",
    "> * **size**: Nuevo tamaño requerido. \n",
    ">\n",
    "> Si el tamaño es reducido, los datos se pueden perder. Si el tamaño es incrementado y la funcion es incapaz de extender la localizacion existente, esta asignara un nuevo espacio de memoria y copiara los datos a traves de esa retornando un puntero a la memoria nuevamente asignada. \n"
   ]
  },
  {
   "cell_type": "markdown",
   "metadata": {
    "colab_type": "text",
    "id": "gwLxOqLVAuNF"
   },
   "source": [
    "#### Ejemplos\n",
    "Con el fin de comprender los conceptos anteriormente expuestos analise y entienda los siguientes codigos:\n"
   ]
  },
  {
   "cell_type": "markdown",
   "metadata": {
    "colab_type": "text",
    "id": "0guGMmFDAwR9"
   },
   "source": [
    "1. Muestre mediante un ejemplo el uso de la funcion anterior.\n",
    "\n",
    "**Solución**:"
   ]
  },
  {
   "cell_type": "code",
   "execution_count": 13,
   "metadata": {
    "colab": {
     "autoexec": {
      "startup": false,
      "wait_interval": 0
     },
     "base_uri": "https://localhost:8080/",
     "height": 34
    },
    "colab_type": "code",
    "executionInfo": {
     "elapsed": 547,
     "status": "ok",
     "timestamp": 1531525167288,
     "user": {
      "displayName": "HENRY ALBERTO ARCILA RAMIREZ",
      "photoUrl": "https://lh3.googleusercontent.com/a/default-user=s128",
      "userId": "101819781408374541388"
     },
     "user_tz": 300
    },
    "id": "hwlh-PykAyut",
    "outputId": "10a9cce7-074e-41b3-e8d6-ac0dd893b19f"
   },
   "outputs": [
    {
     "data": {
      "text/html": [
       "<div class=\"text-center\"><strong><a style=\"box-sizing: border-box; padding: 0 5px; border: 1px solid #CFCFCF;\" target=\"_\" href=http://pythontutor.com/iframe-embed.html#code=%23include%20%3Cstdio.h%3E%0A%0A%23define%20TAM1%2010%20%0A%23define%20TAM2%205%0A%23define%20TAM3%2015%0A%0Aint%20main%28%29%20%7B%0A%20%20int%20%2Ap%3B%0A%20%20p%20%3D%20malloc%28TAM1%2Asizeof%28int%29%29%3B%0A%20%20printf%28%22Ubicacion%20del%20apuntador%20tras%20el%20malloc%3A%20%25p%5Cn%22%2Cp%29%3B%0A%20%20for%20%28int%20i%20%3D%200%3B%20i%20%3C%20TAM1%3B%20i%2B%2B%29%20%7B%0A%20%20%20%20%2A%28p%20%2B%20i%29%20%3D%20i%20%2B%201%3B%20//%20p%5Bi%5D%20%3D%200%0A%20%20%7D%0A%20%20p%20%3D%20realloc%28p%2CTAM2%2Asizeof%28int%29%29%3B%0A%20%20printf%28%22Ubicacion%20del%20apuntador%20tras%20el%20primer%20realloc%3A%20%25p%5Cn%22%2Cp%29%3B%0A%20%20p%20%3D%20realloc%28p%2CTAM3%2Asizeof%28int%29%29%3B%20%0A%20%20printf%28%22Ubicacion%20del%20apuntador%20tras%20el%20segundo%20realloc%3A%20%25p%5Cn%22%2Cp%29%3B%0A%20%20free%28p%29%3B%20%20%20%0A%20%20p%20%3D%20NULL%3B%0A%20%20return%200%3B%0A%7D&origin=opt-frontend.js&cumulative=false&heapPrimitives=false&textReferences=false&curInstr=0&&verticalStack=false&py=c&rawInputLstJSON=%5B%5D&codeDivWidth=50%25&codeDivHeight=100%25>Python Tutor</a></strong></div>"
      ],
      "text/plain": [
       "<IPython.core.display.HTML object>"
      ]
     },
     "metadata": {
      "tags": []
     },
     "output_type": "display_data"
    }
   ],
   "source": [
    "%%tutor -l c -k\n",
    "#include <stdio.h>\n",
    "\n",
    "#define TAM1 10 \n",
    "#define TAM2 5\n",
    "#define TAM3 15\n",
    "\n",
    "int main() {\n",
    "  int *p;\n",
    "  p = malloc(TAM1*sizeof(int));\n",
    "  printf(\"Ubicacion del apuntador tras el malloc: %p\\n\",p);\n",
    "  for (int i = 0; i < TAM1; i++) {\n",
    "    *(p + i) = i + 1; // p[i] = 0\n",
    "  }\n",
    "  p = realloc(p,TAM2*sizeof(int));\n",
    "  printf(\"Ubicacion del apuntador tras el primer realloc: %p\\n\",p);\n",
    "  p = realloc(p,TAM3*sizeof(int)); \n",
    "  printf(\"Ubicacion del apuntador tras el segundo realloc: %p\\n\",p);\n",
    "  free(p);   \n",
    "  p = NULL;\n",
    "  return 0;\n",
    "}"
   ]
  },
  {
   "cell_type": "markdown",
   "metadata": {
    "colab_type": "text",
    "id": "oBbEtHsZA6Zb"
   },
   "source": [
    "El efecto del codigo anterior se muestra en la siguiente figura:\n",
    "\n",
    "![reallc](https://github.com/repos-SO-UdeA/laboratorios/blob/master/lab1/teoria/parte5/imagenes/realloc_example.png?raw=true)\n",
    "**Figura 13**. Efecto de usar realoc\n"
   ]
  },
  {
   "cell_type": "markdown",
   "metadata": {
    "colab_type": "text",
    "id": "mxEW2NbCBNch"
   },
   "source": [
    "# **** PENDIENTE - EJEMPLOS CON ESTRUCTURAS - CUADRAAR LOS SIGUIETNRS EJEMPLOS\n",
    "\n",
    "**Ejemplo**: [Enlace](https://goo.gl/kWh3Ru)\n",
    "\n",
    "```C\n",
    "int **createZeroMatrix(int F, int C);\n",
    "int **createZeroMatrix2(int F, int C);\n",
    "void cleanMatrix(int **M,int F, int C);\n",
    "\n",
    "int main() {\n",
    "  int **ZM1;\n",
    "  int **ZM2;\n",
    "  ZM1 = createZeroMatrix(2, 3);\n",
    "  ZM2 = createZeroMatrix2(2, 4);\n",
    "  cleanMatrix(ZM1,2,3);\n",
    "  cleanMatrix(ZM2,2,4);\n",
    "  ZM1 = 0;\n",
    "  ZM2 = 0;\n",
    "  return 0;\n",
    "}\n",
    "\n",
    "int **createZeroMatrix(int F, int C) {\n",
    "  int **M = (int **)malloc(F * sizeof(int *));\n",
    "  for(int i = 0; i < F; i++) {\n",
    "    *(M + i) = calloc(C,sizeof(int)); // *(M + i) = M[i] = ... \n",
    "  }\n",
    "  return M;\n",
    "}\n",
    "\n",
    "int **createZeroMatrix2(int F, int C) {\n",
    "  int **M = (int **)malloc(F * sizeof(int *));\n",
    "  for(int i = 0; i < F; i++) {\n",
    "    *(M + i) = malloc(C*sizeof(int)); // *(M + i) = M[i] = ...   \n",
    "    for(int j = 0; j < C; j++) {\n",
    "      *(*(M + i) + j) = 0; // *(*(M + i) + j) = M[i][j] = ...\n",
    "    }\n",
    "  }\n",
    "  return M;\n",
    "}\n",
    "\n",
    "void cleanMatrix(int **M,int F, int C) {\n",
    "  for(int i = 0; i < F; i++) {\n",
    "    free(M[i]);  // M[i] = *(M + i) \n",
    "  }    \n",
    "  free(M);\n",
    "  M = 0;\n",
    "}\n",
    "```\n",
    "**Enlace**: https://goo.gl/oUhjpC\n",
    "\n",
    "```C\n",
    "#include <stdio.h>\n",
    "#include <string.h>\n",
    "\n",
    "\n",
    "char **separateCharacters(char *cad);\n",
    "int esVocal(char ch);\n",
    "\n",
    "int main(void)\n",
    "{\n",
    "    char mess[] = \"hola\";\n",
    "    char **R;\n",
    "    R = separateCharacters(mess);\n",
    "    printf(\"El mensaje %s tiene el siguiente inventario:\\n\",mess);\n",
    "    printf(\"-> Vocales: %s\\n\",R[0]);\n",
    "    printf(\"-> Consonantes: %s\\n\",R[1]);\n",
    "    free(R);\n",
    "    return 0;\n",
    "}\n",
    "\n",
    "int esVocal(char ch) {\n",
    "    if ((ch >= 'a' && ch <= 'z') || (ch >= 'A' && ch <= 'Z')) {\n",
    "        if (ch == 'a' || ch == 'e' || ch == 'i' || ch == 'o' || ch == 'u' || \\\n",
    "                ch == 'A' || ch == 'E' || ch == 'I' || ch == 'O' || ch == 'U' ) {\n",
    "            return 1;\n",
    "        }\n",
    "        else {\n",
    "            return 0;\n",
    "        }\n",
    "    }\n",
    "    else {\n",
    "        return -1;\n",
    "    }\n",
    "}\n",
    "\n",
    "char **separateCharacters(char *cad) {\n",
    "    char *p[2];\n",
    "    int **r = (char **)malloc(2 * sizeof(char *));\n",
    "    int nV = 0, nC = 0;\n",
    "    p[0] = malloc(strlen(cad)*sizeof(char));\n",
    "    p[1] = malloc(strlen(cad)*sizeof(char));\n",
    "    while (*cad != '\\0') {\n",
    "        if(esVocal(*cad) == 1) {\n",
    "            // El caracter es vocal\n",
    "            *(p[0] + nV) = *cad;   // *(*p + nV)\n",
    "            nV++;\n",
    "        }\n",
    "        else if (esVocal(*cad) == 0) {\n",
    "            // El caracter es consonante\n",
    "            *(*(p + 1) + nC) = *cad;  // *(p[1] + nC)\n",
    "            nC++;\n",
    "        }\n",
    "        cad++;\n",
    "    }\n",
    "    *(*p + nV) = '\\0';\n",
    "    *(*(p + 1) + nC) = '\\0';\n",
    "\n",
    "    p[0] = realloc(p[0],(nV + 1)*sizeof(char));\n",
    "    p[1] = realloc(p[1],(nC + 1)*sizeof(char));\n",
    "    r[0] = p[0];\n",
    "    r[1] = p[1];\n",
    "    return r;\n",
    "}\n",
    "```"
   ]
  },
  {
   "cell_type": "markdown",
   "metadata": {
    "colab_type": "text",
    "id": "wC9Uay1CBRso"
   },
   "source": [
    "## x. Enlaces\n",
    "* https://www.berthon.eu/wiki/foss:wikishelf:linux:memory\n",
    "* http://resources.infosecinstitute.com/system-address-map-initialization-in-x86x64-architecture-part-1-pci-based-systems/#gref\n",
    "* https://fypandroid.wordpress.com/2011/01/17/anatomy-of-a-program-in-memory/\n",
    "* https://www.securitysift.com/windows-exploit-development-part-1-basics/\n",
    "* https://www.ibm.com/developerworks/library/j-nativememory-linux/\n",
    "* https://gabrieletolomei.wordpress.com/miscellanea/operating-systems/in-memory-layout/\n",
    "* http://www.cs.utexas.edu/users/fussell/cs310h/lectures/Lecture_17-310h.pdf\n",
    "* https://ocw.mit.edu/courses/electrical-engineering-and-computer-science/6-087-practical-programming-in-c-january-iap-2010/lecture-notes/\n",
    "* https://stackoverflow.com/questions/2128728/allocate-matrix-in-c\n",
    "* https://www.geeksforgeeks.org/dynamically-allocate-2d-array-c/\n",
    "* https://www.programiz.com/c-programming/c-dynamic-memory-allocation\n",
    "* https://www.cs.swarthmore.edu/~newhall/unixhelp/C_arrays.html\n"
   ]
  }
 ],
 "metadata": {
  "colab": {
   "default_view": {},
   "name": "memoria_dinamica.ipynb",
   "provenance": [],
   "version": "0.3.2",
   "views": {}
  },
  "kernelspec": {
   "display_name": "Python 3",
   "language": "python",
   "name": "python3"
  },
  "language_info": {
   "codemirror_mode": {
    "name": "ipython",
    "version": 3
   },
   "file_extension": ".py",
   "mimetype": "text/x-python",
   "name": "python",
   "nbconvert_exporter": "python",
   "pygments_lexer": "ipython3",
   "version": "3.7.4"
  }
 },
 "nbformat": 4,
 "nbformat_minor": 1
}
