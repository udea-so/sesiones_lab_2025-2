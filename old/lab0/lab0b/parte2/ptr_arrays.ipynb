{
 "cells": [
  {
   "cell_type": "markdown",
   "metadata": {},
   "source": [
    "[![Open In Colab](https://colab.research.google.com/assets/colab-badge.svg)](https://colab.research.google.com/github/dannymrock/UdeA-SO-Lab/blob/master/lab0/lab0b/parte2/ptr_arrays.ipynb)"
   ]
  },
  {
   "cell_type": "code",
   "execution_count": 0,
   "metadata": {
    "colab": {
     "autoexec": {
      "startup": false,
      "wait_interval": 0
     }
    },
    "colab_type": "code",
    "id": "5cTaG42eEakO"
   },
   "outputs": [],
   "source": [
    "!pip3 install tutormagic"
   ]
  },
  {
   "cell_type": "code",
   "execution_count": 0,
   "metadata": {
    "colab": {
     "autoexec": {
      "startup": false,
      "wait_interval": 0
     }
    },
    "colab_type": "code",
    "id": "K-oLGZl8EdN9"
   },
   "outputs": [],
   "source": [
    "%load_ext tutormagic"
   ]
  },
  {
   "cell_type": "markdown",
   "metadata": {
    "colab_type": "text",
    "id": "NwBc3Ji23Xo3"
   },
   "source": [
    "# Apuntadores y arreglos"
   ]
  },
  {
   "cell_type": "markdown",
   "metadata": {
    "colab_type": "text",
    "id": "QdOxXHUk3cH7"
   },
   "source": [
    "---\n",
    "> **Objetivos**\n",
    "> * Conocer y utilizar los apuntadores para el uso eficiente de la memoria.\n",
    "> * Presentar el uso de las funciones y establecer cómo se realiza el paso de parámetros a funciones.\n",
    "> * Conocer y aplicar el concepto de arreglos de una y más dimensiones en la resolución de problemas mediante algoritmos.\n",
    "> * Conocer cómo es posible asignar de forma eficiente espacio en memoria.\n",
    "\n",
    "---"
   ]
  },
  {
   "cell_type": "markdown",
   "metadata": {
    "colab_type": "text",
    "id": "5v8FIbjV3jrr"
   },
   "source": [
    "## 1. Conceptos previos - ¿Que sucede cuando se declara una variable?\n",
    "Cuando una variable se declara esta pasa a ocupar un lugar de memoria cuyo tamaño dependerá del número de bytes asociados al tipo de dato con el cual esta se declara. Suponiendo que se tienen las siguientes instrucciones en C:\n",
    "\n",
    "```C\n",
    "int i;\n",
    "i = 35;\n",
    "```\n",
    "\n",
    "La siguiente figura ilustra su representación en memoria:\n",
    "\n",
    "![alt text](https://github.com/repos-SO-UdeA/laboratorios/blob/master/lab1/teoria/parte2/imagenes/var_memoria.png?raw=true)\n",
    "\n",
    "**Figura 1**. Representación de una variable en memoria.\n",
    "\n",
    "Desde el punto de vista del mapa de memoria y suponiendo que una variable tipo int ocupa 4 bytes tenemos el siguiente resultado por instrucción:\n",
    "\n",
    "<table>\n",
    "<tbody>\n",
    "<tr>\n",
    "<td>&nbsp;Instrucción</td>\n",
    "<td>Representación en&nbsp;memoria&nbsp;</td>\n",
    "</tr>\n",
    "<tr>\n",
    "<td>int i;</td>\n",
    "<td><img src=\"https://github.com/repos-SO-UdeA/laboratorios/blob/master/lab1/teoria/parte2/imagenes/rep_mapa_inst1.png?raw=true\" alt=\"var_mm1\"></td>\n",
    "</tr>\n",
    "<tr>\n",
    "<td>i = 35;</td>\n",
    "<td><img src=\"https://github.com/repos-SO-UdeA/laboratorios/blob/master/lab1/teoria/parte2/imagenes/rep_mapa_inst2.png?raw=true\" alt=\"var_mm2\"></td>\n",
    "</tr>\n",
    "</tbody>\n",
    "</table>\n",
    "\n",
    "Como se puede ver en la figura anterior, lo que se modifica cuando se hace manipulación sobre variables es el contenido almacenado en un lugar especifico de memoria. Entender esto es de vital importancia para manejar el próximo tema.\n",
    "\n",
    "\n"
   ]
  },
  {
   "cell_type": "markdown",
   "metadata": {
    "colab_type": "text",
    "id": "A5iUGLvfCdC0"
   },
   "source": [
    "## 2. Entrando en materia - Algunos aspectos sobre los apuntadores\n",
    "\n",
    "### 2.1. ¿Que es un apuntador?\n",
    "\n",
    "Un apuntador es una variable que almacena una **dirección de memoria y no un valor** como ocurre en el caso de las variables normales. La siguiente tabla resalta este hecho:\n",
    "\n",
    "<table>\n",
    "    <tr>\n",
    "        <td colspan=\"2\">Instrucciones</td>\n",
    "    </tr>\n",
    "    <tr>\n",
    "        <td><b>int *p;<br>\n",
    "            p = 1000;</b><br><br>\n",
    "            <b>Nota</b>: Supóngase que <b>el apuntador</b> se guarda en la posición 500.\n",
    "        </td>\n",
    "        <td>\n",
    "            <img src=\"https://github.com/repos-SO-UdeA/laboratorios/blob/master/lab1/teoria/parte2/imagenes/rep_mapa_ptr_inst1.png?raw=true\">\n",
    "        </td>\n",
    "    </tr>\n",
    "    <tr>\n",
    "        <td colspan=\"2\">Mapa de memoria</td>\n",
    "    </tr>\n",
    "    <tr>\n",
    "        <td>\n",
    "          <b>int p;<br>\n",
    "            p = 1000;</b><br><br>\n",
    "            <b>Nota</b>: Supóngase que la <b>variable p</b> se guarda en posición 500.\n",
    "          </td>\n",
    "        <td>\n",
    "            <img src=\"https://github.com/repos-SO-UdeA/laboratorios/blob/master/lab1/teoria/parte2/imagenes/rep_mapa_var_inst1_comp.png?raw=true\"> \n",
    "         </td>\n",
    "    </tr>\n",
    "</table>\n",
    "\n",
    "Como se puede notar en la figura anterior, cuando el valor almacenado en el apuntador hará referencia a la dirección 1000 y no al valor de 1000, esto nos permitirá acceder a dicho lugar de memoria desde el apuntador. Más tarde veremos cómo. Así mismo, como un apuntador guarda una dirección de memoria y teniendo en cuenta que para el ejemplo se supone una arquitectura en la cual se manejan 32 bits ( equivalentes a 4 bytes), esto hará que una variable tipo apuntador sin importar el tipo de dato al que apunte tenga un tamaño de 4 bytes. (Este tamaño se define por la arquitectura. Por ejemplo si la maquina es de 64 bits entonces el tamaño ocupado por una variable tipo apuntador será de 8 bytes).\n"
   ]
  },
  {
   "cell_type": "markdown",
   "metadata": {
    "colab_type": "text",
    "id": "Bs1a6d1_DQCl"
   },
   "source": [
    "### 2.2. ¿Como se declara un apuntador?\n",
    "\n",
    "Un apuntador se declara de la siguiente manera (donde las cosas que se encuentran entre corchetes son opcionales):\n",
    "\n",
    "```C\n",
    "tipo *[modificadores_del_tipo] nombre [=valor inicial];\n",
    "```\n",
    "Dónde:\n",
    "* **Tipo**: Tipo de dato al cual se desea apuntar, puede ser un tipo de dato simple (char, int, etc.) o un tipo de dato complejo como una estructura).\n",
    "* **Modificadores del tipo**: Puede contener cualquier combinación de los modificadores de tipo const, volatile y restrict.\n",
    "* **Nombre**: Nombre del apuntador.\n",
    "* **Valor inicial**: Valor inicial del apuntador. \n",
    "\n",
    "La siguiente figura muestra esto lo anterior en términos del mapa de memoria:\n",
    "\n",
    "<table>\n",
    "    <tr>\n",
    "        <td><b>Instrucciones</b></td>\n",
    "        <td><b>Mapa de memoria</b></td>\n",
    "    </tr>\n",
    "    <tr>\n",
    "        <td><b>    \n",
    "        short i = 5; <br>\n",
    "        short *ptr = &i; \n",
    "         </b> <br> <br>\n",
    "         <b>Nota</b>:\n",
    "        <ul>\n",
    "        <li>El tamaño de una variables short es de 2 bytes.</li>\n",
    "        <li>El tamaño de una variable tipo apuntador es de 4 bytes.</li>\n",
    "        <li>En el dibujo del mapa de memoria cada dirección aumenta de 1 en 1</li>\n",
    "        </ul> \n",
    "        </td>       \n",
    "        <td>\n",
    "            <img src=\"https://github.com/repos-SO-UdeA/laboratorios/blob/master/lab1/teoria/parte2/imagenes/rep_ptr_map1.png?raw=true\"> \n",
    "        </td>\n",
    "    </tr>\n",
    "</table>\n",
    "\n",
    "Como se puede notar en la figura anterior, lo que se guarda en el apuntador es la dirección base (dirección del byte de menor peso) de la variable a la cual se apunta. Para el caso anterior, la variable i ocupa 2 bytes (103 y 104) sin embargo, en el apuntador se almacena la parte menos correspondiente al byte pesado (byte 103). \n",
    "\n",
    "Si observa la segunda instrucción anteriormente mostrada, la forma como se obtuvo la dirección de i fue por medio del operador dirección (&) antepuesto a la variable. La siguiente tabla se llena con base en la figura anterior:\n",
    "\n",
    "\n",
    "| Expresión\t| Significado |\tValor |\n",
    "|-----------|-------------|-------|\n",
    "|i\t| Contenido de i\t|5|\n",
    "|&i\t| Dirección de i\t|103|\n",
    "|p\t| Contenido del apuntador p\t|103|\n",
    "|&p\t| Dirección del apuntador p\t|106|\n",
    "\n",
    "Note en la tabla anterior y la figura previa que con & lo que se obtiene es dirección base de una variable no importa su tipo ya sea una variable normal (char, int, float, etc), apuntador u otro. A continuación se muestra una forma simplificada (tomada de la sección **Pointers basics** de [How Stuff Works](https://computer.howstuffworks.com/c22.htm)) para visualizar los apuntadores y las variables comunes de manera gráfica sin tener que recurrir al bosquejo del mapa de memoria previamente realizado. \n",
    "\n",
    "![var_mem](https://github.com/repos-SO-UdeA/laboratorios/blob/master/lab1/teoria/parte2/imagenes/apuntador2.png?raw=true)\n",
    "\n",
    "**Figura 2**. Vista simplificada con variables y apuntadores.\n",
    "\n",
    "Note la diferencia en la gráfica, en el dibujo el circulo representa una variable tipo apuntador y como tal almacena una dirección de memoria, la de i para el caso (103); por otro lado el vinculo entre el apuntador y la variable se representa por medio de la flecha. Finalmente, el contenido de la variable puede ser accedido o manipulado desde el símbolo i, o desde al desreferenciar el apuntador (usando *ptr), pero este sera un tema a tratar después.\n",
    "\n",
    "Una forma aun mas simplificada e incluso mas conveniente al momento de hacer pruebas de escritorio se muestra a continuación. En esta solo se resalta el vinculo del apuntador con la variable:\n",
    "\n",
    "![var_mem](https://github.com/repos-SO-UdeA/laboratorios/blob/master/lab1/teoria/parte2/imagenes/apuntador.png?raw=true)\n",
    "\n",
    "**Figura 3**. Vista aun mas simplificada con variables y apuntadores."
   ]
  },
  {
   "cell_type": "markdown",
   "metadata": {
    "colab_type": "text",
    "id": "v0ROLXLHENGf"
   },
   "source": [
    "### 2.3. Manipulación de memoria mediante apuntadores\n",
    "\n",
    "Una de las aplicaciones más importantes es el acceso directo a memoria para su manipulación. Para ello, se manejan dos operadores importantes los cuales el operador referencia (&) y el operador des-referencia (*).\n",
    "\n",
    "### 2.3.1. Referenciar un apuntador\n",
    "\n",
    "Consiste en asociar el apuntador a una dirección específica (durante la declaración o después de esta), para esto se suele usar el operador & para obtener la dirección de la variable en cuestión. A continuación se muestra la forma como normalmente se hace esto:\n",
    "\n",
    "```C\n",
    "apuntador = &variable;\n",
    "```\n",
    "También es posible referenciar un apuntador pasándole el valor que se tiene en otro apuntador. Note que no se hizo uso del operador & en este caso:\n",
    "\n",
    "```C\n",
    "apuntador = &variable;\n",
    "```\n",
    "Todo apuntador debe inicializarse antes de usarse. Si esto no se hace, cuando intente usarlo para hacer alguna operación en memoria el programa sacara un error. Un puntero que no ha sido inicializado se conoce como **Wild pointer**.\n",
    "\n",
    "### 2.3.2. Des-referenciar un apuntador\n",
    "Para poder acceder al lugar de memoria que está siendo apuntado por el puntero y realizar operaciones de lectura y escritura sobre esta dirección de memoria se debe des-referenciar el apuntador. Para ello se hace uso del operador des-referencia (*) después de la declaración del apuntador. El contenido del lugar de memoria apuntado (lectura) se obtiene de la siguiente manera:\n",
    "\n",
    "```C\n",
    "variable = *apuntador;\n",
    "```\n",
    "Ahora si lo que se desea hacer es escribir en el lugar de memoria apuntado se hace lo siguiente:\n",
    "\n",
    "```C\n",
    "*apuntador = variable;\n",
    "```"
   ]
  },
  {
   "cell_type": "markdown",
   "metadata": {
    "colab_type": "text",
    "id": "TjiwVc0PFK8X"
   },
   "source": [
    "**Ejemplo 1**\n",
    "\n",
    "Suponga que se tiene el siguiente fragmento de código fuente:"
   ]
  },
  {
   "cell_type": "code",
   "execution_count": 24,
   "metadata": {
    "colab": {
     "autoexec": {
      "startup": false,
      "wait_interval": 0
     },
     "base_uri": "https://localhost:8080/",
     "height": 34
    },
    "colab_type": "code",
    "executionInfo": {
     "elapsed": 465,
     "status": "ok",
     "timestamp": 1531442389760,
     "user": {
      "displayName": "HENRY ALBERTO ARCILA RAMIREZ",
      "photoUrl": "https://lh3.googleusercontent.com/a/default-user=s128",
      "userId": "101819781408374541388"
     },
     "user_tz": 300
    },
    "id": "QI5MrRMQ3UMD",
    "outputId": "5c40f21a-6ee5-4598-97b8-1acbc0a40488"
   },
   "outputs": [
    {
     "data": {
      "text/html": [
       "<div class=\"text-center\"><strong><a style=\"box-sizing: border-box; padding: 0 5px; border: 1px solid #CFCFCF;\" target=\"_\" href=http://pythontutor.com/iframe-embed.html#code=%23include%20%3Cstdio.h%3E%0A%0Aint%20main%28%29%20%7B%0A%20%20int%20i%2Cj%3B%0A%20%20int%20%2Ap%3B%20//Apuntador%20a%20un%20entero%0A%20%20p%20%3D%20%26i%3B%0A%20%20%2Ap%20%3D%205%3B%0A%20%20return%200%3B%0A%7D&origin=opt-frontend.js&cumulative=false&heapPrimitives=false&textReferences=false&curInstr=0&&verticalStack=false&py=c&rawInputLstJSON=%5B%5D&codeDivWidth=50%25&codeDivHeight=100%25>Python Tutor</a></strong></div>"
      ],
      "text/plain": [
       "<IPython.core.display.HTML object>"
      ]
     },
     "metadata": {
      "tags": []
     },
     "output_type": "display_data"
    }
   ],
   "source": [
    "%%tutor -l c -k\n",
    "#include <stdio.h>\n",
    "\n",
    "int main() {\n",
    "  int i,j;\n",
    "  int *p; //Apuntador a un entero\n",
    "  p = &i;\n",
    "  *p = 5;\n",
    "  return 0;\n",
    "}"
   ]
  },
  {
   "cell_type": "markdown",
   "metadata": {
    "colab_type": "text",
    "id": "i5yv4A2IFVZ0"
   },
   "source": [
    "También tenga en cuenta lo siguientes enunciados:\n",
    "* Suponga que i y j son de 4 bytes y ocupan las direcciones base 1000 y 1004.\n",
    "* El apuntador p ocupa las direccione base 2000.\n",
    "* Así mismo la arquitectura es de 64 bits por lo que el espacio ocupado por el apuntador sera de 8 bytes.\n",
    "\n",
    "Muestre la ejecución paso a paso del código anterior resaltando la evolución en memoria.\n",
    "\n",
    "**Solución**: Las instrucciones que se están evaluando en un momento dado se resaltan en la siguiente tabla\n",
    "\n",
    "<table>\n",
    "    <tr>\n",
    "        <td><b>Instrucciones ejecutadas</b></td>\n",
    "        <td><b>Contenido del mapa de memoria</b></td>\n",
    "        <td><b>Visualización al estilo HowStuffWorks</b></td>\n",
    "    </tr>\n",
    "    <tr>\n",
    "        <td>\n",
    "            <b>\n",
    "            int i,j;</br>\n",
    "            int *p; //Apuntador a un entero</br></b>\n",
    "            p = &i;</br>\n",
    "            *p = 5;</br>\n",
    "</td>\n",
    "        <td><img src=\"https://github.com/repos-SO-UdeA/laboratorios/blob/master/lab1/teoria/parte2/imagenes/ptr_ejem2_map1.png?raw=true\"></td>\n",
    "        <td><img src=\"https://github.com/repos-SO-UdeA/laboratorios/blob/master/lab1/teoria/parte2/imagenes/ptr_ejem2_hsw1.png?raw=true\"></td>\n",
    "    </tr>\n",
    "    <tr>\n",
    "        <td>        \n",
    "        int i,j;</br>\n",
    "        int *p; //Apuntador a un entero</br>\n",
    "        <b>p = &i;</br></b>\n",
    "        *p = 5;</br>    \n",
    "        </td>\n",
    "        <td><img src=\"https://github.com/repos-SO-UdeA/laboratorios/blob/master/lab1/teoria/parte2/imagenes/rep_ptr_map2.png?raw=true\"></td>\n",
    "        <td><img src=\"https://github.com/repos-SO-UdeA/laboratorios/blob/master/lab1/teoria/parte2/imagenes/ptr_ejem2_hsw2.png?raw=true\"></td>\n",
    "    </tr>\n",
    "    <tr>\n",
    "        <td>        \n",
    "        int i,j;</br>\n",
    "        int *p; //Apuntador a un entero</br>\n",
    "        p = &i;</br>\n",
    "        <b>*p = 5;</br></b>     \n",
    "        </td>\n",
    "        <td><img src=\"https://github.com/repos-SO-UdeA/laboratorios/blob/master/lab1/teoria/parte2/imagenes/rep_ptr_map3.png?raw=true\"></td>\n",
    "        <td><img src=\"https://github.com/repos-SO-UdeA/laboratorios/blob/master/lab1/teoria/parte2/imagenes/ptr_ejem2_hsw3.png?raw=true\"></td>\n",
    "    </tr>\n",
    "</table>\n",
    "\n",
    "Note que en la última instrucción resaltada el cambio del contenido de la sección de memoria asociado a la variable i no se realizó desde esta (i = 5) sino desde el apuntador p (*p = 5) el cual previamente se puso a apuntar a dicho lugar de memoria (p = &i).\n"
   ]
  },
  {
   "cell_type": "markdown",
   "metadata": {
    "colab_type": "text",
    "id": "sMsxupy-GAz3"
   },
   "source": [
    "**Ejemplo 2**\n",
    "\n",
    "A continuación se muestra otro ejemplo en el cual se resalta que es posible que varios apuntadores estén apuntando a un mismo lugar de memoria. Tenga en cuenta lo siguientes enunciados:\n",
    "* Suponga que i y j son de 4 bytes y ocupan las direcciones base 1000 y 1008.\n",
    "* Los apuntadores p, q y r ocupan las direcciones base 2000, 3000 y 4000.\n",
    "* Así mismo la arquitectura es de 32 bits por lo que el espacio ocupado por el apuntador será de 4 bytes.\n",
    "\n",
    "El codigo asociado se muestra a continuación:"
   ]
  },
  {
   "cell_type": "code",
   "execution_count": 25,
   "metadata": {
    "colab": {
     "autoexec": {
      "startup": false,
      "wait_interval": 0
     },
     "base_uri": "https://localhost:8080/",
     "height": 34
    },
    "colab_type": "code",
    "executionInfo": {
     "elapsed": 483,
     "status": "ok",
     "timestamp": 1531442729955,
     "user": {
      "displayName": "HENRY ALBERTO ARCILA RAMIREZ",
      "photoUrl": "https://lh3.googleusercontent.com/a/default-user=s128",
      "userId": "101819781408374541388"
     },
     "user_tz": 300
    },
    "id": "C8t2qaIvGTEt",
    "outputId": "b8610bc5-37de-4ded-8aae-fc1d836fefdc"
   },
   "outputs": [
    {
     "data": {
      "text/html": [
       "<div class=\"text-center\"><strong><a style=\"box-sizing: border-box; padding: 0 5px; border: 1px solid #CFCFCF;\" target=\"_\" href=http://pythontutor.com/iframe-embed.html#code=%23include%20%3Cstdio.h%3E%0A%0Aint%20main%28%29%20%7B%0A%20%20int%20i%3B%0A%20%20int%20%2Ap%2C%2Aq%2C%2Ar%3B%0A%20%20p%20%3D%20%26i%3B%0A%20%20q%20%3D%20%26i%3B%0A%20%20r%20%3D%20p%3B%20%0A%20%20return%200%3B%0A%7D&origin=opt-frontend.js&cumulative=false&heapPrimitives=false&textReferences=false&curInstr=0&&verticalStack=false&py=c&rawInputLstJSON=%5B%5D&codeDivWidth=50%25&codeDivHeight=100%25>Python Tutor</a></strong></div>"
      ],
      "text/plain": [
       "<IPython.core.display.HTML object>"
      ]
     },
     "metadata": {
      "tags": []
     },
     "output_type": "display_data"
    }
   ],
   "source": [
    "%%tutor -l c -k\n",
    "#include <stdio.h>\n",
    "\n",
    "int main() {\n",
    "  int i;\n",
    "  int *p,*q,*r;\n",
    "  p = &i;\n",
    "  q = &i;\n",
    "  r = p; \n",
    "  return 0;\n",
    "}"
   ]
  },
  {
   "cell_type": "markdown",
   "metadata": {
    "colab_type": "text",
    "id": "QbHd_qmVGb9c"
   },
   "source": [
    "**Solución**: la siguiente tabla muestra con detalle los resultados:\n",
    "\n",
    "<table>\n",
    "    <tr>\n",
    "        <td><b>Instrucciones ejecutadas</b></td>\n",
    "        <td><b>Contenido del mapa de memoria</b></td>\n",
    "        <td><b>Visualización al estilo HowStuffWorks</b></td>\n",
    "    </tr>\n",
    "    <tr>\n",
    "        <td>\n",
    "          int i = 5; </br>\n",
    "          int *p,*q,*r; </br>\n",
    "          p = &i; </br>\n",
    "          q = &i; </br>\n",
    "          r = p; </br>\n",
    "        </td>\n",
    "        <td><img src=\"https://github.com/repos-SO-UdeA/laboratorios/blob/master/lab1/teoria/parte2/imagenes/rep_ptr2_map.png?raw=true\"></td>\n",
    "        <td><img src=\"https://github.com/repos-SO-UdeA/laboratorios/blob/master/lab1/teoria/parte2/imagenes/rep_ptr2_hsw.png?raw=true\"></td>\n",
    "    </tr>\n",
    "</table>"
   ]
  },
  {
   "cell_type": "markdown",
   "metadata": {
    "colab_type": "text",
    "id": "SwSn2S4DG0kk"
   },
   "source": [
    "### 2.4. Usos de los apuntadores\n",
    "\n",
    "### 2.4.1. Funciones y apuntadores\n",
    "\n",
    "Como se vio en la primera parte del laboratorio, existen dos maneras de hacer llamados a funciones, por referencia y por valor. Cuando se realiza un **llamado por valor**; se trabaja sobre una copia de la variable pasada como argumento y por lo tanto la variable original (la que se pasó como argumento) no se modifica. Por otro lado, cuando se realiza un **llamado por referencia** al estar accediendo al lugar de memoria en el que se encuentra la variable pasada como argumento es posible modificar el valor original de la variable pasada como argumento. La siguiente tabla compara un poco la diferencia entre referencia y valor:\n",
    "\n",
    "<table>\n",
    "    <tr>\n",
    "        <td><b>Ítem analizado</b></td>\n",
    "        <td><b>Llamada por valor</b></td>\n",
    "        <td><b>Llamada por referencia</b></td>\n",
    "    </tr>\n",
    "    <tr>\n",
    "        <td><b>Declaración</b></td>\n",
    "        <td>void swap(int i, int j);</td>\n",
    "        <td>void swap(int *i, int *j);</td>\n",
    "    </tr>\n",
    "    <tr>\n",
    "        <td><b>Definición</b></td>\n",
    "        <td>\n",
    "          void swap(int i, int j) { </br>\n",
    "            &nbsp;&nbsp;&nbsp;int t; </br>\n",
    "            &nbsp;&nbsp;&nbsp;t = x; </br>\n",
    "            &nbsp;&nbsp;&nbsp;i = j; </br>\n",
    "            &nbsp;&nbsp;&nbsp;j = t; </br>\n",
    "          } </br>\n",
    "        </td>\n",
    "        <td>\n",
    "           int v1 = 1, v2 = 2; </br>\n",
    "           swap(v1, v2); </br>\n",
    "        </td>\n",
    "    </tr>\n",
    "    <tr>\n",
    "        <td><b>Invocación</b></td>\n",
    "        <td>\n",
    "            void swap(int *i, *int j) { </br>\n",
    "               &nbsp;&nbsp;&nbsp;int t; </br>\n",
    "               &nbsp;&nbsp;&nbsp;t = *i; </br>\n",
    "               &nbsp;&nbsp;&nbsp;*i = *j; </br>\n",
    "               &nbsp;&nbsp;&nbsp;*j = t; </br>\n",
    "            }   </br>\n",
    "        </td>\n",
    "        <td>\n",
    "           int v1 = 1, v2 = 2; </br>\n",
    "           swap(&v1, &v2); </br>\n",
    "        </td>\n",
    "    </tr>\n",
    "</table>\n",
    "\n",
    "El paso de funciones por referencia es de extrema utilidad cuando los argumentos que se están pasando a la función son pesados ya que esto evita que se tengan que hacer copias de dichos argumentos que en el peor de los casos pueden ocasionar que el programa colapse por llenar **stack**. También, mediante el uso de apuntadores, es posible superar la restricción que se tiene en la cual una función no puede retornar más de un elemento; así, por medio de referencias es posible retornar un array por ejemplo.\n",
    "\n",
    "Para indicar que una función será pasada por referencia, se emplean apuntadores en la cabecera de la función, esto porque lo que se pasa como argumento es la dirección de memoria. Por ejemplo:\n",
    "\n",
    "```C\n",
    "tipo_retorno f(tipo_1 *pName_1,tipo_2 *pName_2,...,tipo_N *pName_N) \n",
    "```\n",
    "Para aterrizar un poco más lo anterior, supongamos esta función:\n",
    "\n",
    "```C\n",
    "void swap(int *i, int *j) {\n",
    "    int t;\n",
    "    t = *i;\n",
    "    *i = *j;\n",
    "    *j = t;\n",
    "}\n",
    "```\n",
    "Como se pueden notar en la definición de la función anterior, en este caso ambos argumentos son pasados por referencia. \n",
    "\n",
    "Ahora en lo que respecta a la invocación si lo que se pasa es como parámetro es una variable como tal se debe hacer uso del operador **&** para obtener la dirección de dicha variable y así inicializar el apuntador que funciona como argumento. Por otro lado si lo que se está pasando es un apuntador a una variable, no es necesario usar el operador **&** ya que el valor almacenado en este será una dirección de memoria. La siguiente tabla ilustra esto:\n",
    "\n",
    "<table>\n",
    "    <tr>\n",
    "        <td><b>Caso</b></td>\n",
    "        <td><b>Invocación</b></td>\n",
    "        <td><b>Observaciones</b></td>\n",
    "    </tr>\n",
    "    <tr>\n",
    "        <td>Se está pasando una variable a una función que se llama por referencia</td>\n",
    "        <td>\n",
    "            int a = 5, b = 10; </br>\n",
    "            swap(&a,&b); </br>\n",
    "        </td>\n",
    "        <td>Es necesario usar el operador & para obtener la dirección de memoria de las variables y así poder inicializar lo apuntadores que funcionan como argumentos.</td>\n",
    "    </tr>\n",
    "    <tr>\n",
    "        <td>Se está pasando apuntador a una función que se llama por referencia</td>\n",
    "        <td>\n",
    "            int a = 5, b = 10; </br>\n",
    "            int *px = &a, *py; </br>\n",
    "            py = &b;  </br>\n",
    "            swap(px,py); </br>\n",
    "        </td>\n",
    "        <td>Como lo que se pasan son apuntadores previamente inicializados, estos ya tienen la dirección de memoria de la variable que será pasada como argumento de la función, por lo tanto no es necesario usar el operador &.</td>\n",
    "    </tr>\n",
    "</table>\n",
    "\n",
    "La siguiente figura (tomada de [HowStuffWorks](http://computer.howstuffworks.com/c26.htm)) muestra cómo trabaja una función por referencia:\n",
    "\n",
    "![call_ref](https://github.com/repos-SO-UdeA/laboratorios/blob/master/lab1/teoria/parte2/imagenes/call_ref.png?raw=true)\n",
    "\n",
    "**Figura 4**. Llamado por referencia.\n",
    "\n",
    "Para aclarar un poco observe el siguiente código:"
   ]
  },
  {
   "cell_type": "code",
   "execution_count": 26,
   "metadata": {
    "colab": {
     "autoexec": {
      "startup": false,
      "wait_interval": 0
     },
     "base_uri": "https://localhost:8080/",
     "height": 34
    },
    "colab_type": "code",
    "executionInfo": {
     "elapsed": 481,
     "status": "ok",
     "timestamp": 1531443008782,
     "user": {
      "displayName": "HENRY ALBERTO ARCILA RAMIREZ",
      "photoUrl": "https://lh3.googleusercontent.com/a/default-user=s128",
      "userId": "101819781408374541388"
     },
     "user_tz": 300
    },
    "id": "EYwEPJHtHYAM",
    "outputId": "09496d12-e1b5-40cf-ea26-531a304958cf"
   },
   "outputs": [
    {
     "data": {
      "text/html": [
       "<div class=\"text-center\"><strong><a style=\"box-sizing: border-box; padding: 0 5px; border: 1px solid #CFCFCF;\" target=\"_\" href=http://pythontutor.com/iframe-embed.html#code=%23include%20%3Cstdio.h%3E%0A%0Avoid%20swap%20%28int%20%2Ax%2C%20int%20%2Ay%29%3B%0Avoid%20swap%20%28int%20x%2C%20int%20y%29%3B%0A%0Aint%20main%28%29%20%7B%0A%20%20%20%20int%20x%20%3D%205%2C%20y%20%3D%2010%3B%0A%20%20%20%20printf%28%22---------------------------------------------------%5Cn%22%29%3B%0A%20%20%20%20printf%28%22Llamada%20por%20valor%20%5Cn%22%29%3B%0A%20%20%20%20printf%28%22Antes%20del%20swap%20-%3E%20x%20%3D%20%25d%2C%20y%20%3D%20%25d%5Cn%22%2Cx%2Cy%29%3B%0A%20%20%20%20swap%28x%2C%20y%29%3B%0A%20%20%20%20printf%28%22Despu%C3%A9s%20del%20swap%20-%3E%20x%20%3D%20%25d%2C%20y%20%3D%20%25d%5Cn%22%2Cx%2Cy%29%3B%0A%20%20%20%20printf%28%22---------------------------------------------------%5Cn%22%29%3B%0A%20%20%20%20printf%28%22Llamada%20por%20referencia%20%22%20%3C%3C%20endl%3B%0A%20%20%20%20printf%28%22Antes%20del%20swap%20-%3E%20x%20%3D%20%25d%2C%20y%20%3D%20%25d%5Cn%22%2Cx%2Cy%29%3B%0A%20%20%20%20swap%28%26x%2C%20%26y%29%3B%0A%20%20%20%20printf%28%22Despu%C3%A9s%20del%20swap%20-%3E%20x%20%3D%20%25d%2C%20y%20%3D%20%25d%5Cn%22%2Cx%2Cy%29%3B%0A%20%20%20%20printf%28%22---------------------------------------------------%5Cn%22%29%3B%0A%20%20%20%20return%200%3B%0A%7D%0A%0Avoid%20swap%28int%20%2Apx%2C%20int%20%2Apy%29%20%7B%0A%20%20%20%20int%20temp%3B%0A%20%20%20%20temp%20%3D%20%2Apx%3B%0A%20%20%20%20%2Apx%20%3D%20%2Apy%3B%0A%20%20%20%20%2Apy%20%3D%20temp%3B%20%20%20%20%0A%7D&origin=opt-frontend.js&cumulative=false&heapPrimitives=false&textReferences=false&curInstr=0&&verticalStack=false&py=c&rawInputLstJSON=%5B%5D&codeDivWidth=50%25&codeDivHeight=100%25>Python Tutor</a></strong></div>"
      ],
      "text/plain": [
       "<IPython.core.display.HTML object>"
      ]
     },
     "metadata": {
      "tags": []
     },
     "output_type": "display_data"
    }
   ],
   "source": [
    "%%tutor -l c -k\n",
    "#include <stdio.h>\n",
    "\n",
    "void swap (int *x, int *y);\n",
    "void swap (int x, int y);\n",
    "\n",
    "int main() {\n",
    "    int x = 5, y = 10;\n",
    "    printf(\"---------------------------------------------------\\n\");\n",
    "    printf(\"Llamada por valor \\n\");\n",
    "    printf(\"Antes del swap -> x = %d, y = %d\\n\",x,y);\n",
    "    swap(x, y);\n",
    "    printf(\"Después del swap -> x = %d, y = %d\\n\",x,y);\n",
    "    printf(\"---------------------------------------------------\\n\");\n",
    "    printf(\"Llamada por referencia \" << endl;\n",
    "    printf(\"Antes del swap -> x = %d, y = %d\\n\",x,y);\n",
    "    swap(&x, &y);\n",
    "    printf(\"Después del swap -> x = %d, y = %d\\n\",x,y);\n",
    "    printf(\"---------------------------------------------------\\n\");\n",
    "    return 0;\n",
    "}\n",
    "\n",
    "void swap(int *px, int *py) {\n",
    "    int temp;\n",
    "    temp = *px;\n",
    "    *px = *py;\n",
    "    *py = temp;    \n",
    "}"
   ]
  },
  {
   "cell_type": "markdown",
   "metadata": {
    "colab_type": "text",
    "id": "10ZEn8IdHj81"
   },
   "source": [
    "\n",
    "La salida del programa sera la siguiente:\n",
    "```\n",
    "---------------------------------------------------\n",
    "Llamada por valor \n",
    "Antes del swap -> x = 5, y = 10\n",
    "Después del swap -> x = 5, y = 10\n",
    "---------------------------------------------------\n",
    "Llamada por referencia \n",
    "Antes del swap -> x = 5, y = 10\n",
    "Después del swap -> x = 10, y = 5\n",
    "---------------------------------------------------\n",
    "```\n",
    "Una función también puede retornar un apuntador cuando es invocada, para hacer esto, en la definición y declaración de la función se debe indicar que la función retornara un apuntador lo cual se hace precediendo el nombre de la función por un asterisco (Ver parte resaltada e rojo a continuación). A continuación se muestra la forma que debe llevar la función para este caso:\n",
    "\n",
    "```C\n",
    "tipo_retorno *f(parámetros...) \n",
    "```\n",
    "\n",
    "Observe el siguiente fragmento de código, el cual consiste en una función que obtiene el valor mayor de un vector mediante apuntadores devolviendo la dirección del elemento mayor mediante un apuntador:\n",
    "\n",
    "```C\n",
    "int *mayor(int *a, int n) {\n",
    "  int i;\n",
    "  int *m = a;\n",
    "  a++;\n",
    "  for (i = 1; i < n; ++i )\n",
    "    if(*m < *a) {\n",
    "      m = a;\n",
    "      a++;\n",
    "    }\n",
    "  return m;\n",
    "}\n",
    "```\n",
    "La declaración de la función anterior se muestra a continuación:\n",
    "\n",
    "```C\n",
    "int *mayor(int *a, int n); \n",
    "```\n",
    "Otra forma de declaración puede ser:\n",
    "\n",
    "```C\n",
    "int *mayor(int *, int n); \n",
    "```\n",
    "\n",
    "Recuerde lo importante en la declaración de la función es indicarle al compilador como van a usarse los parámetros.\n",
    "\n",
    "Así mismo, note también, que lo realimente importante es que se declaró un apuntador a un tipo de dato específico, se inicializo, se actualizo y luego se retornó este, en general en la definición de la función se sigue la siguiente plantilla:\n",
    "\n",
    "```C\n",
    "tipo *funcion(tipo *arg1,...) {\n",
    "  tipo *ptr;  // Declaración del apuntador\n",
    "  ptr = &arg; // Inicialización del apuntador\n",
    "  \n",
    "  /** Operaciones **/\n",
    "  ...  \n",
    "  return ptr; // Retorno del apuntador\n",
    "}\n",
    "```\n",
    "\n",
    "A continuación se puede simular el código anterior:"
   ]
  },
  {
   "cell_type": "code",
   "execution_count": 27,
   "metadata": {
    "colab": {
     "autoexec": {
      "startup": false,
      "wait_interval": 0
     },
     "base_uri": "https://localhost:8080/",
     "height": 34
    },
    "colab_type": "code",
    "executionInfo": {
     "elapsed": 757,
     "status": "ok",
     "timestamp": 1531443123284,
     "user": {
      "displayName": "HENRY ALBERTO ARCILA RAMIREZ",
      "photoUrl": "https://lh3.googleusercontent.com/a/default-user=s128",
      "userId": "101819781408374541388"
     },
     "user_tz": 300
    },
    "id": "3wNVDv3wH2Q3",
    "outputId": "54e829ba-3560-404a-a327-37da0930a046"
   },
   "outputs": [
    {
     "data": {
      "text/html": [
       "<div class=\"text-center\"><strong><a style=\"box-sizing: border-box; padding: 0 5px; border: 1px solid #CFCFCF;\" target=\"_\" href=http://pythontutor.com/iframe-embed.html#code=%23include%20%3Cstdio.h%3E%0A%0Aint%20%2Amayor%28int%20%2Aa%2Cint%20n%29%3B%20//%20Declaracion%0A%0Aint%20main%28%29%20%7B%0A%20%20%20%20int%20a%5B6%5D%20%3D%20%7B1%2C2%2C5%2C9%2C-1%2C3%7D%3B%0A%20%20%20%20int%20%2Ap%3B%0A%20%20%20%20p%20%3D%20mayor%28a%2C5%29%3B%20//%20Invocaci%C3%B3n%0A%20%20%20%20printf%28%22El%20elemento%20mayor%20del%20vector%20es%3A%20%25d%5Cn%22%2C%2Ap%29%3B%0A%20%20%20%20return%200%3B%0A%7D%0A%0A//%20Definici%C3%B3n%0Aint%20%2Amayor%28int%20%2Aa%2Cint%20n%29%20%7B%0A%20%20int%20i%3B%0A%20%20int%20%2Am%20%3D%20a%3B%0A%20%20a%2B%2B%3B%0A%20%20for%20%28i%20%3D%201%3B%20i%20%3C%20n%3B%20%2B%2Bi%20%29%0A%20%20%20%20if%28%2Am%20%3C%20%2Aa%29%20%7B%0A%20%20%20%20%20%20m%20%3D%20a%3B%0A%20%20%20%20%20%20a%2B%2B%3B%0A%20%20%20%20%7D%0A%20%20return%20m%3B%0A%7D&origin=opt-frontend.js&cumulative=false&heapPrimitives=false&textReferences=false&curInstr=0&&verticalStack=false&py=c&rawInputLstJSON=%5B%5D&codeDivWidth=50%25&codeDivHeight=100%25>Python Tutor</a></strong></div>"
      ],
      "text/plain": [
       "<IPython.core.display.HTML object>"
      ]
     },
     "metadata": {
      "tags": []
     },
     "output_type": "display_data"
    }
   ],
   "source": [
    "%%tutor -l c -k\n",
    "#include <stdio.h>\n",
    "\n",
    "int *mayor(int *a,int n); // Declaracion\n",
    "\n",
    "int main() {\n",
    "    int a[6] = {1,2,5,9,-1,3};\n",
    "    int *p;\n",
    "    p = mayor(a,5); // Invocación\n",
    "    printf(\"El elemento mayor del vector es: %d\\n\",*p);\n",
    "    return 0;\n",
    "}\n",
    "\n",
    "// Definición\n",
    "int *mayor(int *a,int n) {\n",
    "  int i;\n",
    "  int *m = a;\n",
    "  a++;\n",
    "  for (i = 1; i < n; ++i )\n",
    "    if(*m < *a) {\n",
    "      m = a;\n",
    "      a++;\n",
    "    }\n",
    "  return m;\n",
    "}"
   ]
  },
  {
   "cell_type": "markdown",
   "metadata": {
    "colab_type": "text",
    "id": "pOX_tIkLH-_0"
   },
   "source": [
    "La siguiente figura muestra el estado de ejecución del programa antes de hacer el retorno de la subrutina mayor:\n",
    "\n",
    "![ret_ptr](https://github.com/repos-SO-UdeA/laboratorios/blob/master/lab1/teoria/parte2/imagenes/retorno_prt.png?raw=true\n",
    ")\n",
    "\n",
    "**Figura 5**. Funcion retornando un apuntador.\n",
    "\n",
    "La salida del programa anterior en pantalla es la siguiente:\n",
    "\n",
    "```\n",
    "El elemento mayor del vector es: 9\n",
    "```"
   ]
  },
  {
   "cell_type": "markdown",
   "metadata": {
    "colab_type": "text",
    "id": "YVD2M0cFIMdb"
   },
   "source": [
    "### 2.4.2. Apuntadores y vectores\n",
    "\n",
    "#### 2.4.2.1. Vectores\n",
    "\n",
    "Un arreglo es un conjunto o colección indexada que permite manejar elementos que son del mismo tipo de dato como un solo objeto. A continuación se muestran algunos ejemplos ([enlace simulación](https://goo.gl/8qAgxY)) en los cuales se lleva a cabo la devlaración e inicialización de un vector:\n",
    "\n",
    "<table>\n",
    "    <tr>\n",
    "        <td><b>Declaración del arreglo</b></td>\n",
    "        <td><b>Representación en memoria</b></td>\n",
    "    </tr>\n",
    "    <tr>\n",
    "        <td>int veci[4] = {2, 4, 6, 8};</td>\n",
    "        <td><img src=\"https://github.com/repos-SO-UdeA/laboratorios/blob/master/lab1/teoria/parte2/imagenes/vec_int.png?raw=true\"></td>\n",
    "    </tr>\n",
    "    <tr>\n",
    "        <td>float vecf[] = {2.657, 7.9, 2.003, 1.1, 5.8, 8.54, 9.5, 4.09};</td>\n",
    "        <td><img src=\".https://github.com/repos-SO-UdeA/laboratorios/blob/master/lab1/teoria/parte2/imagenes/vec_float.png?raw=true\"></td>\n",
    "    </tr>\n",
    "    <tr>\n",
    "        <td>char mess1[10] = \"Hola\";</td>\n",
    "        <td><img src=\"https://github.com/repos-SO-UdeA/laboratorios/blob/master/lab1/teoria/parte2/imagenes/vec_char1.png?raw=true\"></td>\n",
    "    </tr>\n",
    "    <tr>\n",
    "        <td>mess2[] = {'H','o','l','a','\\0'};</td>\n",
    "        <td><img src=\"https://github.com/repos-SO-UdeA/laboratorios/blob/master/lab1/teoria/parte2/imagenes/vec_char2.png?raw=true\"></td>\n",
    "    </tr>\n",
    "</table>\n",
    "\n",
    "Notese, que cuando no se pasa el **tamaño** en la declaracion entre corchetes; este es deducido de la lista de inicializacion (pasada entre llaves) o la cadena de caracteres (string) pasada al declarar. En sí, se sigue la siguiente forma:\n",
    "\n",
    "**Forma 1**: Pasando el tamaño:\n",
    "\n",
    "```C\n",
    "tipo arrayName[TAM] = {valor1, valor2, ...};\n",
    "```\n",
    "**Nota**: La cantidad de elementos de la lista de inicialización no puede superar el tamaño (TAM) del arreglo. \n",
    "\n",
    "**Forma 2**: Pasando el tamaño:\n",
    "\n",
    "```C\n",
    "tipo arrayName[] = {valor1, valor2, ...};\n",
    "```\n",
    "\n",
    "Por otro lado, cuando solo se declaran los arreglos pero no se inicializan, es obligatorio colocar entre corchetes el **tamaño**. La forma de hacer esto se muestra a continuación:\n",
    "\n",
    "```C\n",
    "tipo arrayName[TAM];\n",
    "```\n",
    "\n",
    "El siguiente codigo muestra el caso en el que solo se declaran varios vectores de diferentes tipos tanto globales como locales:"
   ]
  },
  {
   "cell_type": "code",
   "execution_count": 28,
   "metadata": {
    "colab": {
     "autoexec": {
      "startup": false,
      "wait_interval": 0
     },
     "base_uri": "https://localhost:8080/",
     "height": 34
    },
    "colab_type": "code",
    "executionInfo": {
     "elapsed": 483,
     "status": "ok",
     "timestamp": 1531443415520,
     "user": {
      "displayName": "HENRY ALBERTO ARCILA RAMIREZ",
      "photoUrl": "https://lh3.googleusercontent.com/a/default-user=s128",
      "userId": "101819781408374541388"
     },
     "user_tz": 300
    },
    "id": "jLUa5XuyI0ND",
    "outputId": "1e1b227c-e2b9-4047-a003-8922ee9f577f"
   },
   "outputs": [
    {
     "data": {
      "text/html": [
       "<div class=\"text-center\"><strong><a style=\"box-sizing: border-box; padding: 0 5px; border: 1px solid #CFCFCF;\" target=\"_\" href=http://pythontutor.com/iframe-embed.html#code=%23include%20%3Cstdio.h%3E%0A%0A//%20Variables%20globales%0Aint%20A%5B3%5D%3B%0Adouble%20B%5B4%5D%3B%0A%0Aint%20main%28%29%20%7B%0A%20%20//%20Variables%20locales%0A%20%20char%20C%5B6%5D%3B%0A%20%20int%20D%5B2%5D%3B%0A%20%20return%200%3B%0A%7D&origin=opt-frontend.js&cumulative=false&heapPrimitives=false&textReferences=false&curInstr=0&&verticalStack=false&py=c&rawInputLstJSON=%5B%5D&codeDivWidth=50%25&codeDivHeight=100%25>Python Tutor</a></strong></div>"
      ],
      "text/plain": [
       "<IPython.core.display.HTML object>"
      ]
     },
     "metadata": {
      "tags": []
     },
     "output_type": "display_data"
    }
   ],
   "source": [
    "%%tutor -l c -k\n",
    "#include <stdio.h>\n",
    "\n",
    "// Variables globales\n",
    "int A[3];\n",
    "double B[4];\n",
    "\n",
    "int main() {\n",
    "  // Variables locales\n",
    "  char C[6];\n",
    "  int D[2];\n",
    "  return 0;\n",
    "}"
   ]
  },
  {
   "cell_type": "markdown",
   "metadata": {
    "colab_type": "text",
    "id": "y-nN8lWlJEP2"
   },
   "source": [
    "Observe la diferencia en el valor inicial de los arreglos globales respecto a los locales:\n",
    "\n",
    "![array_no_init](https://github.com/repos-SO-UdeA/laboratorios/blob/master/lab1/teoria/parte2/imagenes/array_no_inicializado.png?raw=true)\n",
    "**Figura 6**. Representación en memoria de arreglos no inicializados.\n"
   ]
  },
  {
   "cell_type": "markdown",
   "metadata": {
    "colab_type": "text",
    "id": "7g4ELgtCJOpf"
   },
   "source": [
    "**Forma 2**: Pasando el tamaño:\n",
    "\n",
    "En lo que respecta a la manipulacion de arreglos, es igual que en java. El uso de estructuras repetitivas para el manejo de los sibindices en el arreglo es empleado. En los siguientes ejemplos se tiene ilustra esto de manera rapida.\n",
    "\n",
    "**Ejemplos**\n",
    "\n",
    "1. Hacer un progama que llene un arreglo de 10 elementos con los multiplos del 10 (1, 10, 20, etc.)."
   ]
  },
  {
   "cell_type": "code",
   "execution_count": 29,
   "metadata": {
    "colab": {
     "autoexec": {
      "startup": false,
      "wait_interval": 0
     },
     "base_uri": "https://localhost:8080/",
     "height": 34
    },
    "colab_type": "code",
    "executionInfo": {
     "elapsed": 490,
     "status": "ok",
     "timestamp": 1531443511826,
     "user": {
      "displayName": "HENRY ALBERTO ARCILA RAMIREZ",
      "photoUrl": "https://lh3.googleusercontent.com/a/default-user=s128",
      "userId": "101819781408374541388"
     },
     "user_tz": 300
    },
    "id": "kUZ5q4ReJUZY",
    "outputId": "7d1c0996-6a97-4fd8-cd81-44a5d2bac8c7"
   },
   "outputs": [
    {
     "data": {
      "text/html": [
       "<div class=\"text-center\"><strong><a style=\"box-sizing: border-box; padding: 0 5px; border: 1px solid #CFCFCF;\" target=\"_\" href=http://pythontutor.com/iframe-embed.html#code=%23include%20%3Cstdio.h%3E%0A%0A%23define%20TAM%2010%0A%0Aint%20main%28%29%20%7B%0A%20%20int%20A%5BTAM%5D%3B%0A%20%20int%20num%20%3D%201%3B%0A%20%20//%20Inicializando%20el%20arreglo%0A%20%20for%28int%20i%20%3D%200%3B%20i%20%3C%20TAM%3B%20i%2B%2B%29%20%7B%0A%20%20%20%20A%5Bi%5D%20%3D%2010%2Anum%3B%0A%20%20%20%20num%2B%2B%3B%20%20%20%20%20%0A%20%20%7D%0A%20%20//%20Imprimiendo%20el%20arreglo%0A%20%20printf%28%22A%20%3D%20%5B%20%22%29%3B%0A%20%20for%28int%20i%20%3D%200%3B%20i%20%3C%20TAM%3B%20i%2B%2B%29%20%7B%0A%20%20%20%20printf%28%22%25d%20%22%2C%20A%5Bi%5D%29%3B%20%20%20%20%20%0A%20%20%7D%0A%20%20printf%28%22%5D%22%29%3B%0A%20%20return%200%3B%0A%7D&origin=opt-frontend.js&cumulative=false&heapPrimitives=false&textReferences=false&curInstr=0&&verticalStack=false&py=c&rawInputLstJSON=%5B%5D&codeDivWidth=50%25&codeDivHeight=100%25>Python Tutor</a></strong></div>"
      ],
      "text/plain": [
       "<IPython.core.display.HTML object>"
      ]
     },
     "metadata": {
      "tags": []
     },
     "output_type": "display_data"
    }
   ],
   "source": [
    "%%tutor -l c -k\n",
    "#include <stdio.h>\n",
    "\n",
    "#define TAM 10\n",
    "\n",
    "int main() {\n",
    "  int A[TAM];\n",
    "  int num = 1;\n",
    "  // Inicializando el arreglo\n",
    "  for(int i = 0; i < TAM; i++) {\n",
    "    A[i] = 10*num;\n",
    "    num++;     \n",
    "  }\n",
    "  // Imprimiendo el arreglo\n",
    "  printf(\"A = [ \");\n",
    "  for(int i = 0; i < TAM; i++) {\n",
    "    printf(\"%d \", A[i]);     \n",
    "  }\n",
    "  printf(\"]\");\n",
    "  return 0;\n",
    "}"
   ]
  },
  {
   "cell_type": "markdown",
   "metadata": {
    "colab_type": "text",
    "id": "x99Ww5V2JbZ9"
   },
   "source": [
    "La aplicacion arroja el siguiente resultado:\n",
    "\n",
    "![array_ciclos1](https://github.com/repos-SO-UdeA/laboratorios/blob/master/lab1/teoria/parte2/imagenes/array_ciclos1.png?raw=true)\n",
    "**Figura 7**. Empleo de ciclos para manipulación de arrays.\n",
    "\n",
    "2. Hacer cree dos arreglos (A y B), luego, inicialice el arreglo A con numeros aleatorios entre el 1 y el 20, y finalmente lleve al arreglo B los elementos del arreglo A en orden inverso.\n"
   ]
  },
  {
   "cell_type": "code",
   "execution_count": 31,
   "metadata": {
    "colab": {
     "autoexec": {
      "startup": false,
      "wait_interval": 0
     },
     "base_uri": "https://localhost:8080/",
     "height": 34
    },
    "colab_type": "code",
    "executionInfo": {
     "elapsed": 498,
     "status": "ok",
     "timestamp": 1531443741705,
     "user": {
      "displayName": "HENRY ALBERTO ARCILA RAMIREZ",
      "photoUrl": "https://lh3.googleusercontent.com/a/default-user=s128",
      "userId": "101819781408374541388"
     },
     "user_tz": 300
    },
    "id": "yzVHG77WJpNs",
    "outputId": "b75ba75e-3538-40ed-9f7e-124f79531dbd"
   },
   "outputs": [
    {
     "data": {
      "text/html": [
       "<div class=\"text-center\"><strong><a style=\"box-sizing: border-box; padding: 0 5px; border: 1px solid #CFCFCF;\" target=\"_\" href=http://pythontutor.com/iframe-embed.html#code=%23include%20%3Cstdio.h%3E%0A%23include%20%3Cstdlib.h%3E%20//%20required%20to%20use%20%27rand%28%29%27%0A%23include%20%3Ctime.h%3E%20%20//%20required%20to%20use%20%27srand%28time%28NULL%29%29%27%0A%23define%20TAM%2010%0A%0Aint%20main%28%29%20%7B%0A%20%20srand%28time%28NULL%29%29%3B%20//%20required%20for%20%22randomness%22%0A%20%20int%20A%5BTAM%5D%2C%20B%5BTAM%5D%3B%0A%20%20int%20limSup%20%3D%2020%2C%20limInf%20%3D%201%3B%20%20%0A%20%20//%20Inicializando%20el%20arreglo%0A%20%20for%28int%20i%20%3D%200%3B%20i%20%3C%20TAM%3B%20i%2B%2B%29%20%7B%0A%20%20%20%20A%5Bi%5D%20%3D%20rand%28%29%25limSup%20%2B%20limInf%3B%20//%20generate%20a%20number%20%0A%20%20%20%20%20%20%20%20%20%20%20%20%20%20%20%20%20%20%20%20%20%20%20%20%20%20%20%20%20%20%20%20%20%20%20//%20between%20limInf%20and%20limSup%0A%20%20%20%20%20%0A%20%20%7D%0A%20%20//%20Imprimiendo%20el%20arreglo%20A%0A%20%20printf%28%22A%20%3D%20%5B%20%22%29%3B%0A%20%20for%28int%20i%20%3D%200%3B%20i%20%3C%20TAM%3B%20i%2B%2B%29%20%7B%0A%20%20%20%20printf%28%22%25d%20%22%2C%20A%5Bi%5D%29%3B%20%20%20%0A%20%20%20%20B%5BTAM%20-%20%28i%20%2B%201%29%5D%20%3D%20A%5Bi%5D%3B%0A%20%20%7D%0A%20%20printf%28%22%5D%5Cn%22%29%3B%20%0A%20%20//%20Imprimiendo%20el%20arreglo%20B%0A%20%20printf%28%22B%20%3D%20%5B%20%22%29%3B%0A%20%20for%28int%20i%20%3D%200%3B%20i%20%3C%20TAM%3B%20i%2B%2B%29%20%7B%0A%20%20%20%20printf%28%22%25d%20%22%2C%20B%5Bi%5D%29%3B%20%20%20%0A%20%20%7D%0A%20%20printf%28%22%5D%5Cn%22%29%3B%0A%20%20return%200%3B%20%20%0A%7D&origin=opt-frontend.js&cumulative=false&heapPrimitives=false&textReferences=false&curInstr=0&&verticalStack=false&py=c&rawInputLstJSON=%5B%5D&codeDivWidth=50%25&codeDivHeight=100%25>Python Tutor</a></strong></div>"
      ],
      "text/plain": [
       "<IPython.core.display.HTML object>"
      ]
     },
     "metadata": {
      "tags": []
     },
     "output_type": "display_data"
    }
   ],
   "source": [
    "%%tutor -l c -k\n",
    "#include <stdio.h>\n",
    "#include <stdlib.h> // required to use 'rand()'\n",
    "#include <time.h>  // required to use 'srand(time(NULL))'\n",
    "#define TAM 10\n",
    "\n",
    "int main() {\n",
    "  srand(time(NULL)); // required for \"randomness\"\n",
    "  int A[TAM], B[TAM];\n",
    "  int limSup = 20, limInf = 1;  \n",
    "  // Inicializando el arreglo\n",
    "  for(int i = 0; i < TAM; i++) {\n",
    "    A[i] = rand()%limSup + limInf; // generate a number \n",
    "                                   // between limInf and limSup\n",
    "     \n",
    "  }\n",
    "  // Imprimiendo el arreglo A\n",
    "  printf(\"A = [ \");\n",
    "  for(int i = 0; i < TAM; i++) {\n",
    "    printf(\"%d \", A[i]);   \n",
    "    B[TAM - (i + 1)] = A[i];\n",
    "  }\n",
    "  printf(\"]\\n\"); \n",
    "  // Imprimiendo el arreglo B\n",
    "  printf(\"B = [ \");\n",
    "  for(int i = 0; i < TAM; i++) {\n",
    "    printf(\"%d \", B[i]);   \n",
    "  }\n",
    "  printf(\"]\\n\");\n",
    "  return 0;  \n",
    "}"
   ]
  },
  {
   "cell_type": "markdown",
   "metadata": {
    "colab_type": "text",
    "id": "LPN6DYfoJtlE"
   },
   "source": [
    "La simulación de la aplicacion arroja el siguiente resultado:\n",
    "\n",
    "![array_ciclos2](https://github.com/repos-SO-UdeA/laboratorios/blob/master/lab1/teoria/parte2/imagenes/array_ciclos2.png?raw=true)\n",
    "\n",
    "**Figura 8**. Otro ejemplo de empleo de ciclos para manipulación de arrays.\n",
    "\n",
    "Es posible pasar **arreglos** como argumentos de funciones. Basicamente para el caso se tienen en cuenta los mismos 3 aspectos que se mencionaron previamente al tratar las funciones de manera introductoria, pero hay una leve diferencia cuando se emplean arreglos y es propiamente en la parte de la declaracion y la definicion donde se nota esto. Veamos la forma:\n",
    "\n",
    "**Definición de la función**\n",
    "\n",
    "```C\n",
    "return_type function_name (data type array[],...) {\n",
    "  local declarations;\n",
    "  function statements;\n",
    "}\n",
    "```\n",
    "**Declaración de la función**\n",
    "\n",
    "```C\n",
    "return_type function_name (data type arrayParam[],...) \n",
    "```\n",
    "\n",
    "**Invocación de la función**\n",
    "```C\n",
    "[return_type var = ] function_name (arrayArg[],...) \n",
    "```\n",
    "\n",
    "**Ejemplo**\n",
    "1. Observe el ejemplo 2 anteriormente analizado, muestra cada uno de los componentes (definición, declaracón e invocación) de lo que sería una función para imprimir entero un vector de cualquier tamaño.\n",
    "\n",
    "* **Definición de la función**\n",
    "\n",
    "```C\n",
    "// Definicion de la funcion para imprimir un array de cualquier tamaño\n",
    "void imprimirVector(int V[],int tam) {\n",
    "  printf(\"[ \");\n",
    "  for(int i = 0; i < tam; i++) {\n",
    "    printf(\"%d \", V[i]);   \n",
    "  }\n",
    "  printf(\"]\\n\");\n",
    "}\n",
    "```\n",
    "* **Declaración de la función**\n",
    "\n",
    "```C\n",
    "// Declaracion de la funcion para imprimir un array de cualquier tamaño\n",
    "void imprimirVector(int V[],int tam);\n",
    "```\n",
    "\n",
    "* **Invocación de la función**\n",
    "```C\n",
    "// Invocacion para imprimir \n",
    "int X[] = {1, 2, 3, 4};\n",
    "imprimirVector(X, 4); // Salida --> [ 1 2 3 4 ]\n",
    "\n",
    "2. Observe el ejemplo 2 anteriormente analizado e implementelo en forma modular empleando funciones.\n"
   ]
  },
  {
   "cell_type": "code",
   "execution_count": 30,
   "metadata": {
    "colab": {
     "autoexec": {
      "startup": false,
      "wait_interval": 0
     },
     "base_uri": "https://localhost:8080/",
     "height": 34
    },
    "colab_type": "code",
    "executionInfo": {
     "elapsed": 508,
     "status": "ok",
     "timestamp": 1531443735502,
     "user": {
      "displayName": "HENRY ALBERTO ARCILA RAMIREZ",
      "photoUrl": "https://lh3.googleusercontent.com/a/default-user=s128",
      "userId": "101819781408374541388"
     },
     "user_tz": 300
    },
    "id": "LMSfnpD5KHFN",
    "outputId": "63837081-d56d-4c4a-bbc1-0d0b73757d4c"
   },
   "outputs": [
    {
     "data": {
      "text/html": [
       "<div class=\"text-center\"><strong><a style=\"box-sizing: border-box; padding: 0 5px; border: 1px solid #CFCFCF;\" target=\"_\" href=http://pythontutor.com/iframe-embed.html#code=%23include%20%3Cstdio.h%3E%0A%23include%20%3Cstdlib.h%3E%20//%20required%20to%20use%20%27rand%28%29%27%0A%23include%20%3Ctime.h%3E%20%20//%20required%20to%20use%20%27srand%28time%28NULL%29%29%27%0A%23define%20TAM%2010%0A%0Avoid%20imprimirVector%28int%20V%5B%5D%2Cint%20tam%29%3B%0Avoid%20generarVectorAleatorio%28int%20V%5B%5D%2C%20int%20tam%2C%20int%20vInf%2C%20int%20vSup%29%3B%0Avoid%20copiaReversa%28int%20destino%5B%5D%2C%20int%20origen%5B%5D%2C%20int%20tam%29%20%3B%0A%0Aint%20main%28%29%20%7B%0A%20%20srand%28time%28NULL%29%29%3B%20//%20required%20for%20%22randomness%22%0A%20%20int%20A%5BTAM%5D%2C%20B%5BTAM%5D%3B%0A%20%20int%20limSup%20%3D%2020%2C%20limInf%20%3D%201%3B%20%20%0A%20%20generarVectorAleatorio%28A%2C%20TAM%2C%201%2C%2020%29%3B%0A%20%20copiaReversa%28B%2C%20A%2C%20TAM%29%3B%0A%20%20//%20Imprimiendo%20el%20arreglo%20A%0A%20%20printf%28%22A%20%3D%20%22%29%3B%0A%20%20imprimirVector%28A%2C%20TAM%29%3B%0A%20%20//%20Imprimiendo%20el%20arreglo%20B%0A%20%20printf%28%22B%20%3D%20%22%29%3B%0A%20%20imprimirVector%28B%2C%20TAM%29%3B%0A%20%20return%200%3B%20%20%0A%7D%0A%0Avoid%20generarVectorAleatorio%28int%20V%5B%5D%2C%20int%20tam%2C%20int%20vInf%2C%20int%20vSup%29%20%7B%0A%20%20for%28int%20i%20%3D%200%3B%20i%20%3C%20tam%3B%20i%2B%2B%29%20%7B%0A%20%20%20%20V%5Bi%5D%20%3D%20rand%28%29%25vSup%20%2B%20vInf%3B%20%20%20%20%20%20%20%20%20%20%20%20%0A%20%20%7D%0A%7D%0A%0Avoid%20imprimirVector%28int%20V%5B%5D%2Cint%20tam%29%20%7B%0A%20%20printf%28%22%5B%20%22%29%3B%0A%20%20for%28int%20i%20%3D%200%3B%20i%20%3C%20tam%3B%20i%2B%2B%29%20%7B%0A%20%20%20%20printf%28%22%25d%20%22%2C%20V%5Bi%5D%29%3B%20%20%20%0A%20%20%7D%0A%20%20printf%28%22%5D%5Cn%22%29%3B%0A%7D%0A%0Avoid%20copiaReversa%28int%20destino%5B%5D%2C%20int%20origen%5B%5D%2C%20int%20tam%29%20%7B%0A%20%20for%28int%20i%20%3D%200%3B%20i%20%3C%20tam%3B%20i%2B%2B%29%20%7B%0A%20%20%20%20destino%5Btam%20-%20%28i%20%2B%201%29%5D%20%3D%20origen%5Bi%5D%3B%20%20%20%0A%20%20%7D%0A%7D&origin=opt-frontend.js&cumulative=false&heapPrimitives=false&textReferences=false&curInstr=0&&verticalStack=false&py=c&rawInputLstJSON=%5B%5D&codeDivWidth=50%25&codeDivHeight=100%25>Python Tutor</a></strong></div>"
      ],
      "text/plain": [
       "<IPython.core.display.HTML object>"
      ]
     },
     "metadata": {
      "tags": []
     },
     "output_type": "display_data"
    }
   ],
   "source": [
    "%%tutor -l c -k\n",
    "#include <stdio.h>\n",
    "#include <stdlib.h> // required to use 'rand()'\n",
    "#include <time.h>  // required to use 'srand(time(NULL))'\n",
    "#define TAM 10\n",
    "\n",
    "void imprimirVector(int V[],int tam);\n",
    "void generarVectorAleatorio(int V[], int tam, int vInf, int vSup);\n",
    "void copiaReversa(int destino[], int origen[], int tam) ;\n",
    "\n",
    "int main() {\n",
    "  srand(time(NULL)); // required for \"randomness\"\n",
    "  int A[TAM], B[TAM];\n",
    "  int limSup = 20, limInf = 1;  \n",
    "  generarVectorAleatorio(A, TAM, 1, 20);\n",
    "  copiaReversa(B, A, TAM);\n",
    "  // Imprimiendo el arreglo A\n",
    "  printf(\"A = \");\n",
    "  imprimirVector(A, TAM);\n",
    "  // Imprimiendo el arreglo B\n",
    "  printf(\"B = \");\n",
    "  imprimirVector(B, TAM);\n",
    "  return 0;  \n",
    "}\n",
    "\n",
    "void generarVectorAleatorio(int V[], int tam, int vInf, int vSup) {\n",
    "  for(int i = 0; i < tam; i++) {\n",
    "    V[i] = rand()%vSup + vInf;            \n",
    "  }\n",
    "}\n",
    "\n",
    "void imprimirVector(int V[],int tam) {\n",
    "  printf(\"[ \");\n",
    "  for(int i = 0; i < tam; i++) {\n",
    "    printf(\"%d \", V[i]);   \n",
    "  }\n",
    "  printf(\"]\\n\");\n",
    "}\n",
    "\n",
    "void copiaReversa(int destino[], int origen[], int tam) {\n",
    "  for(int i = 0; i < tam; i++) {\n",
    "    destino[tam - (i + 1)] = origen[i];   \n",
    "  }\n",
    "}"
   ]
  },
  {
   "cell_type": "markdown",
   "metadata": {
    "colab_type": "text",
    "id": "xf69N5R8KV1W"
   },
   "source": [
    "La siguiente figura muestra el resultado del código anterior:\n",
    "\n",
    "![funciones_arrays](https://github.com/repos-SO-UdeA/laboratorios/blob/master/lab1/teoria/parte2/imagenes/funciones_arrays.png?raw=true)\n",
    "\n",
    "**Figura 9**. Manipulando arreglos con funciones."
   ]
  },
  {
   "cell_type": "markdown",
   "metadata": {
    "colab_type": "text",
    "id": "nAM8vHNmKlCX"
   },
   "source": [
    "#### 2.4.2.1. Apuntadores y vectores\n",
    "\n",
    "Como los apuntadores son variables es posible realizar operaciones matemáticas sobre ellos, sin embargo debido a que lo almacenado en  estos son direcciones de memoria no todas las operaciones convencionales que se podrían hacer sobre una variable normal son posibles. La siguiente tabla muestra las operaciones validas:\n",
    "\n",
    "<table>\n",
    "    <tr>\n",
    "        <td><b>Operación</b></td>\n",
    "        <td><b>Anotaciones</b></td>\n",
    "    </tr>\n",
    "    <tr>\n",
    "        <td>Añadir o sustraer un entero de un apuntador.</td>\n",
    "        <td>Esto hace  que el puntero apunte a otro lugar de memoria diferente al que inicialmente estaba apuntando esto debido a la modificación de lo que se encuentra almacenado en este.</td>\n",
    "    </tr>\n",
    "    <tr>\n",
    "        <td>Sustraer un apuntador de otro.</td>\n",
    "        <td>Cuando se realiza esta operación, los dos apuntadores deben ser del mismo tipo. </td>\n",
    "    </tr>\n",
    "    <tr>\n",
    "        <td>Comparar dos apuntadores.</td>\n",
    "        <td>La comparación es comúnmente empleada para comparar cualquier puntero con el puntero a <b>NULL</b> usando los operadores de igualdad (<b>==</b> o <b>!=</b>).</td>\n",
    "    </tr>\n",
    "</table>\n",
    "\n",
    "Las tres operaciones anteriormente descritas son generalmente útiles para apuntadores que se refieren a los elementos de un array. Recordemos que un array consiste de un conjunto de variables del mismo tipo las cuales pueden ser accedidas bajo un mismo nombre usando subíndices. Cuando se declara un array lo que sucede en memoria es que se reservan un conjunto de posiciones contiguas en memoria tal y como se muestra en la siguiente figura: \n",
    "\n",
    "![array_hsw](https://github.com/repos-SO-UdeA/laboratorios/blob/master/lab1/teoria/parte2/imagenes/array_hsw.png?raw=true)\n",
    "\n",
    "**Figura 10**. Diferencia entre una variable normal y un vector.\n",
    "\n",
    "Para ilustrar lo anterior suponga lo que tiene dos apuntadores, p1 y p2 los cuales están apuntando a los elementos de un array a como el siguiente:\n",
    "\n",
    "![array_a](https://github.com/repos-SO-UdeA/laboratorios/blob/master/lab1/teoria/parte2/imagenes/array_a.png?raw=true)\n",
    "\n",
    "**Figura 11**. Arreglo a.\n",
    "\n",
    "* p1 apunta al elemento i del array (a[i]).\n",
    "\n",
    "![array_a_p1](https://github.com/repos-SO-UdeA/laboratorios/blob/master/lab1/teoria/parte2/imagenes/array_a_p1.png?raw=true)\n",
    "\n",
    "**Figura 12**. Arreglo a y apuntador p1.\n",
    "\n",
    "* Si n es un entero, entonces la expresión **p2 = p1 + n** hace que **p2** apunta al elemento **a[i+n]**. Ojo que **i+n** debe estar dentro del índice del array (es decir **0 <= i+n <= Tamaño del array - 1**). La siguiente figura muestra el caso para **n = 2**, es decir que **p2** apuntara al elemento **a[i+2]**\n",
    "\n",
    "![array_a_p1_p2](https://github.com/repos-SO-UdeA/laboratorios/blob/master/lab1/teoria/parte2/imagenes/array_a_p1_p2.png?raw=true)\n",
    "\n",
    "**Figura 13**. Arreglo a y apuntadores p1 y p2.\n",
    "\n",
    "* La resta **p2 – p1** da el número de elementos del array entre los dos apuntadores. Para el caso de la gráfica anterior **2**.\n",
    "* La comparación **p1 < p2** es cierta si el elemento referenciado por p2 tiene un índice más grande que el referenciado por **p1**, de otro lado la comparación es **falsa**. Donde para la figura anterior el resultado es **cierto**.\n",
    "\n",
    "Lo anterior muestra que existe una relación entre la forma de escribir un array con subíndices y escribirlo con apuntadores aritmética de apuntadores. Para aterrizar un poco lo anterior analicemos la siguiente tabla:\n",
    "\n",
    "<table>\n",
    "    <tr>\n",
    "        <td><b>Relación entre índices y array</b></td>\n",
    "        <td><b>En resumen</b></td>\n",
    "    </tr>\n",
    "    <tr>\n",
    "        <td>El nombre de un arreglo es <b>realmente un apuntador al primer elemento en el array</b>, así si a es un arreglo unidimensional entonces la dirección del primer elemento del array es <b>&a[0]</b> o simplemente <b>a</b>.</td>\n",
    "        <td>&a[0]↔a</td>\n",
    "    </tr>\n",
    "    <tr>\n",
    "        <td>La dirección del elemento **i** del array puede ser expresada como <b>&a[i]</b> o como <b>a + i</b>, por lo tanto existen dos manera de escribir la dirección de cualquier elemento del array.</td>\n",
    "        <td>&a[i]↔a+i</td>\n",
    "    </tr>\n",
    "    <tr>\n",
    "        <td><b>a[i]</b> o <b>*(a+i)</b> representan el contenido que hay en la dirección en cuestión</td>\n",
    "        <td>a[i]↔*(a+i)</td>\n",
    "    </tr>\n",
    "</table>\n",
    "\n",
    "Para entender un poco lo anterior suponga que se ejecutan las siguientes instrucciones:\n"
   ]
  },
  {
   "cell_type": "code",
   "execution_count": 32,
   "metadata": {
    "colab": {
     "autoexec": {
      "startup": false,
      "wait_interval": 0
     },
     "base_uri": "https://localhost:8080/",
     "height": 34
    },
    "colab_type": "code",
    "executionInfo": {
     "elapsed": 495,
     "status": "ok",
     "timestamp": 1531443998254,
     "user": {
      "displayName": "HENRY ALBERTO ARCILA RAMIREZ",
      "photoUrl": "https://lh3.googleusercontent.com/a/default-user=s128",
      "userId": "101819781408374541388"
     },
     "user_tz": 300
    },
    "id": "FxqjoE4fLIoo",
    "outputId": "e2383419-3b71-4c4d-d902-f5cd52301dfb"
   },
   "outputs": [
    {
     "data": {
      "text/html": [
       "<div class=\"text-center\"><strong><a style=\"box-sizing: border-box; padding: 0 5px; border: 1px solid #CFCFCF;\" target=\"_\" href=http://pythontutor.com/iframe-embed.html#code=%23include%20%3Cstdio.h%3E%0A%0Aint%20main%28%29%20%7B%0A%20%20char%20b%5B%5D%20%3D%20%7B%27h%27%2C%20%27o%27%2C%20%27l%27%2C%20%27a%27%2C%27%5C0%27%7D%3B%0A%20%20%2A%28b%2B2%29%20%3D%20%2Ab%3B%0A%20%20char%20%2Ap1%20%3D%20b%3B%0A%20%20char%20%2Ap2%20%3D%20b%20%2B%203%3B%0A%20%20p2%20%3D%20p2%20-%201%3B%0A%20%20p1%20%3D%20p2%20-%201%3B%0A%20%20%2Ap2%20%3D%20%2A%28b%20%2B%201%29%20%2B%201%3B%0A%20%20p2%20%3D%20%26b%5B1%5D%3B%0A%20%20return%200%3B%0A%7D&origin=opt-frontend.js&cumulative=false&heapPrimitives=false&textReferences=false&curInstr=0&&verticalStack=false&py=c&rawInputLstJSON=%5B%5D&codeDivWidth=50%25&codeDivHeight=100%25>Python Tutor</a></strong></div>"
      ],
      "text/plain": [
       "<IPython.core.display.HTML object>"
      ]
     },
     "metadata": {
      "tags": []
     },
     "output_type": "display_data"
    }
   ],
   "source": [
    "%%tutor -l c -k\n",
    "#include <stdio.h>\n",
    "\n",
    "int main() {\n",
    "  char b[] = {'h', 'o', 'l', 'a','\\0'};\n",
    "  *(b+2) = *b;\n",
    "  char *p1 = b;\n",
    "  char *p2 = b + 3;\n",
    "  p2 = p2 - 1;\n",
    "  p1 = p2 - 1;\n",
    "  *p2 = *(b + 1) + 1;\n",
    "  p2 = &b[1];\n",
    "  return 0;\n",
    "}"
   ]
  },
  {
   "cell_type": "markdown",
   "metadata": {
    "colab_type": "text",
    "id": "NYSYjY1TLS5t"
   },
   "source": [
    "## 3. Aritmetica de punteros\n",
    "Como se dijo previamente, un apuntador almacena un direccion de memoria asociada a un dato. Tambien, se mostro como es posible hacer uso de apuntadores para barrer y manipular arrays. La existencia diferentes tipos de datos en C (char, int, float, double, ...) con un tamaño en bytes asociado repercute en los valores almancenados en el apuntador. Para aclarar esto un poco observemos las siguientes graaficas.\n",
    "\n",
    "En la figura 10 se muestra un array de datos tipo **short** comparado con uno tipo **char**. Los datos tipo short tienen un tamaño de 2 bytes de modo que cada miembro consecutivo del array tipo short (A) tendra una direccion aumentada 2 bytes respecto a miembro anterior; segun lo anterior, si la direccion del elemento A[0] es 0x1000 (&A[0] = 0x1000), la dirección del miembro A[1] será 0x1000 + 2bytes = 0x1000 + 16bits = 0x1010. Por otro lado, en el caso del arreglo char B, la direccion solo cambiar de uno en uno. Asi, si &B[0] = 0x1000, entonces &B[1] = 0x1008. De modo que se puede llegar a una expresión mas general como la siguiente:\n",
    "\n",
    "\n",
    "![array_p](https://github.com/repos-SO-UdeA/laboratorios/blob/master/lab1/teoria/parte2/imagenes/arit_pointer.png?raw=true)\n",
    "\n",
    "**Figura 14**. Arrays y apuntadores.\n",
    "\n",
    "\n",
    "```\n",
    "dir[i] = dir[j] +/- n*(sizeof(type)*8) bits\n",
    "\n",
    "Donde n es la diferencia entre los indices j e i\n",
    "```\n",
    "\n",
    "Tomando nuevamente la grafica 10, vemos que &A[3] = &A[0] + 3*(sizeof(short)*8) = 0x1000 + 3*2*8 = 0x1000 + 48 = 0x1000 + 0x30 = 0x1030. \n",
    "De modo similar B[1] = B[2] - 1*(sizeof(char)*8)= 0x1000 - 1*(1*8) = 0x1000 + 8 = 0x1000 + 0x0008 = 0x1008.\n",
    "\n",
    "A continuación se muestran unos cuantos ejemplos para clarificar esto:"
   ]
  },
  {
   "cell_type": "markdown",
   "metadata": {
    "colab_type": "text",
    "id": "pCu8Uk0nLiI0"
   },
   "source": [
    "**Ejemplos**\n",
    "\n",
    "1. Supongase que se tiene el siguiente código:\n",
    "\n",
    "```C\n",
    "char A[] = {'h', 'o', 'l', 'a','\\0'};\n",
    "short B[] = {1,2,3};\n",
    "```\n",
    "\n",
    "Asumiendo que un dato tipo short ocupa 2 bytes de memoria y uno char 1 byte. Dibuje en el mapa de memoria los vectores anteriormente resaltados. Las direcciones base son 100 para el vector A y 200 para el vector B. Asi mismo, para el caso las direcciones serán manejadas en decimal.\n",
    "\n",
    "**Representacion en memoria con un ancho a 4 bytes**\n",
    "En la siguiente figura se muestra la representacion en memoria en la cual se manejan 4 bytes de ancho.\n",
    "\n",
    "![array_hsw](https://github.com/repos-SO-UdeA/laboratorios/blob/master/lab1/teoria/parte2/imagenes/mm_char_short1.png?raw=true)\n",
    "\n",
    "**Figura 15**. Representación a 4 bytes de ancho.\n",
    "\n",
    "**Representacion en memoria con un ancho a 1 byte**\n",
    "En la siguiente figura se muestra la representacion en memoria en la cual se manejan 1 byte de ancho.\n",
    "\n",
    "![array_hsw2](https://github.com/repos-SO-UdeA/laboratorios/blob/master/lab1/teoria/parte2/imagenes/mm_char_short2.png?raw=true)\n",
    "\n",
    "**Figura 16**. Representación a 1 byte de ancho."
   ]
  },
  {
   "cell_type": "markdown",
   "metadata": {
    "colab_type": "text",
    "id": "zZ82eCYaLyf7"
   },
   "source": [
    "2. Supongase que se tiene el siguiente codigo fuente:"
   ]
  },
  {
   "cell_type": "code",
   "execution_count": 33,
   "metadata": {
    "colab": {
     "autoexec": {
      "startup": false,
      "wait_interval": 0
     },
     "base_uri": "https://localhost:8080/",
     "height": 34
    },
    "colab_type": "code",
    "executionInfo": {
     "elapsed": 490,
     "status": "ok",
     "timestamp": 1531444165289,
     "user": {
      "displayName": "HENRY ALBERTO ARCILA RAMIREZ",
      "photoUrl": "https://lh3.googleusercontent.com/a/default-user=s128",
      "userId": "101819781408374541388"
     },
     "user_tz": 300
    },
    "id": "Qa6eAFMPLzXf",
    "outputId": "4e597745-741e-43bf-f132-7b5c73651180"
   },
   "outputs": [
    {
     "data": {
      "text/html": [
       "<div class=\"text-center\"><strong><a style=\"box-sizing: border-box; padding: 0 5px; border: 1px solid #CFCFCF;\" target=\"_\" href=http://pythontutor.com/iframe-embed.html#code=%23include%20%3Cstdio.h%3E%0A%0Aint%20V%5B4%5D%3B%0Aint%20main%28%29%20%7B%0A%20%20print%28%22%25d%5Cn%22%2Csizeof%28int%29%29%3B%0A%20%20print%28%22%25p%5Cn%22%2CV%29%3B%0A%20%20int%20%2Ap1%20%3D%20V%3B%0A%20%20%2Ap1%20%3D%203%3B%0A%20%20int%20p2%20%3D%20%26V%5B0%5D%3B%0A%20%20int%20p2%20%2B%3D%202%3B%0A%20%20%2Ap2%20%3D%201%3B%0A%20%20p1%20%3D%20p2%20-%201%3B%0A%20%20%2Ap1%20%3D%20-%28%2Ap2%29%3B%0A%20%20%2A%28p2%20%2B%201%29%20%3D%202%3B%0A%20%20return%200%3B%0A%7D&origin=opt-frontend.js&cumulative=false&heapPrimitives=false&textReferences=false&curInstr=0&&verticalStack=false&py=c&rawInputLstJSON=%5B%5D&codeDivWidth=50%25&codeDivHeight=100%25>Python Tutor</a></strong></div>"
      ],
      "text/plain": [
       "<IPython.core.display.HTML object>"
      ]
     },
     "metadata": {
      "tags": []
     },
     "output_type": "display_data"
    }
   ],
   "source": [
    "%%tutor -l c -k\n",
    "#include <stdio.h>\n",
    "\n",
    "int V[4];\n",
    "int main() {\n",
    "  print(\"%d\\n\",sizeof(int));\n",
    "  print(\"%p\\n\",V);\n",
    "  int *p1 = V;\n",
    "  *p1 = 3;\n",
    "  int p2 = &V[0];\n",
    "  int p2 += 2;\n",
    "  *p2 = 1;\n",
    "  p1 = p2 - 1;\n",
    "  *p1 = -(*p2);\n",
    "  *(p2 + 1) = 2;\n",
    "  return 0;\n",
    "}"
   ]
  },
  {
   "cell_type": "markdown",
   "metadata": {
    "colab_type": "text",
    "id": "yQKubiOnL6L2"
   },
   "source": [
    "Responda las siguientes preguntas:\n",
    "* ¿Cual es la direccion base del vector V y de cada uno de sus elementos?\n",
    "* ¿Cuando se acaba la ejecucion que valor queda almacenado en los apuntadores p1 y p2?\n",
    "* ¿Cual es el contenido del vector cuando culmina el programa?\n",
    "\n",
    "Es posible acceder a cada uno de los elementos del arreglo por medio del índice o de manera alternativa usando apuntadores y es allí donde entra en juego la aritmética de punteros ya que por medio de las operaciones de adición y sustracción nos podemos mover a las diferentes posiciones del array para luego poder acceder a sus elementos. Para entender más esto suponga que tiene la siguiente porción de codigo en la cual se manipula un vector empleando la notación con subíndices:\n"
   ]
  },
  {
   "cell_type": "code",
   "execution_count": 34,
   "metadata": {
    "colab": {
     "autoexec": {
      "startup": false,
      "wait_interval": 0
     },
     "base_uri": "https://localhost:8080/",
     "height": 34
    },
    "colab_type": "code",
    "executionInfo": {
     "elapsed": 460,
     "status": "ok",
     "timestamp": 1531444233100,
     "user": {
      "displayName": "HENRY ALBERTO ARCILA RAMIREZ",
      "photoUrl": "https://lh3.googleusercontent.com/a/default-user=s128",
      "userId": "101819781408374541388"
     },
     "user_tz": 300
    },
    "id": "a-01sNMPMDXP",
    "outputId": "fa29b36b-0ed8-4c72-fb75-bf31be97b6d3"
   },
   "outputs": [
    {
     "data": {
      "text/html": [
       "<div class=\"text-center\"><strong><a style=\"box-sizing: border-box; padding: 0 5px; border: 1px solid #CFCFCF;\" target=\"_\" href=http://pythontutor.com/iframe-embed.html#code=%23include%20%3Cstdio.h%3E%0A%0Aint%20main%28%29%20%7B%0A%20%20int%20a%5B6%5D%3D%7B1%2C0%2C4%2C7%2C8%2C10%7D%3B%0A%20%20int%20i%2Csuma%20%3D%200%3B%0A%20%20a%5B0%5D%3D2%3B%0A%20%20a%5B3%5D%3D10%3B%0A%20%20for%28i%20%3D%201%3Bi%3C6%3Bi%2B%2B%29%20%7B%0A%20%20%20%20if%28i%252%3D%3D0%29%20%7B%0A%20%20%20%20%20%20a%5Bi%5D%20%3D%20-a%5Bi%5D%3B%0A%20%20%20%20%7D%0A%20%20%20%20else%20%7B%0A%20%20%20%20%20%20a%5Bi%5D%3Da%5Bi%5D%2B1%3B%0A%20%20%20%20%7D%0A%20%20%7D%0A%20%20return%200%3B%0A%7D&origin=opt-frontend.js&cumulative=false&heapPrimitives=false&textReferences=false&curInstr=0&&verticalStack=false&py=c&rawInputLstJSON=%5B%5D&codeDivWidth=50%25&codeDivHeight=100%25>Python Tutor</a></strong></div>"
      ],
      "text/plain": [
       "<IPython.core.display.HTML object>"
      ]
     },
     "metadata": {
      "tags": []
     },
     "output_type": "display_data"
    }
   ],
   "source": [
    "%%tutor -l c -k\n",
    "#include <stdio.h>\n",
    "\n",
    "int main() {\n",
    "  int a[6]={1,0,4,7,8,10};\n",
    "  int i,suma = 0;\n",
    "  a[0]=2;\n",
    "  a[3]=10;\n",
    "  for(i = 1;i<6;i++) {\n",
    "    if(i%2==0) {\n",
    "      a[i] = -a[i];\n",
    "    }\n",
    "    else {\n",
    "      a[i]=a[i]+1;\n",
    "    }\n",
    "  }\n",
    "  return 0;\n",
    "}"
   ]
  },
  {
   "cell_type": "markdown",
   "metadata": {
    "colab_type": "text",
    "id": "o7kTjnriMN7Q"
   },
   "source": [
    "Por otro lado el siguiente codigo, hace exactamente lo mismo mediante la notacion de apuntadores:\n"
   ]
  },
  {
   "cell_type": "code",
   "execution_count": 35,
   "metadata": {
    "colab": {
     "autoexec": {
      "startup": false,
      "wait_interval": 0
     },
     "base_uri": "https://localhost:8080/",
     "height": 34
    },
    "colab_type": "code",
    "executionInfo": {
     "elapsed": 502,
     "status": "ok",
     "timestamp": 1531444298311,
     "user": {
      "displayName": "HENRY ALBERTO ARCILA RAMIREZ",
      "photoUrl": "https://lh3.googleusercontent.com/a/default-user=s128",
      "userId": "101819781408374541388"
     },
     "user_tz": 300
    },
    "id": "asbc2kYtMRsF",
    "outputId": "ee7c1844-3f61-4f8f-c9ce-73d20f803e02"
   },
   "outputs": [
    {
     "data": {
      "text/html": [
       "<div class=\"text-center\"><strong><a style=\"box-sizing: border-box; padding: 0 5px; border: 1px solid #CFCFCF;\" target=\"_\" href=http://pythontutor.com/iframe-embed.html#code=%23include%20%3Cstdio.h%3E%0A%0Aint%20main%28%29%20%7B%0A%20%20int%20a%5B6%5D%3D%7B1%2C0%2C4%2C7%2C8%2C10%7D%3B%0A%20%20int%20%2Aptr%3B%20%20%20%20%20%20%20%20//%20Declaracion%20del%20apuntador%0A%20%20ptr%20%3D%20%26a%5B0%5D%3B%20%20%20%20//%20Inicializacion%20del%20apuntador.%20%28ptr%20%3D%20a%29%0A%20%20%2Aptr%20%3D%202%3B%20%20%20%20//%20a%5B0%5D%20%3D%202%0A%20%20ptr%20%3D%20%26a%5B3%5D%3B%20%20%20%20//%20Ahora%20ptr%20esta%20apuntando%20al%20elemento%20a%5B3%5D%0A%20%20%2Aptr%3D10%3B%20%20%20%20//a%5B3%5D%20%3D%2010%0A%20%20ptr%20%3D%20%26a%5B1%5D%3B%20%20%20%20//%20Ahora%20ptr%20esta%20apuntando%20al%20elemento%20a%5B1%5D%0A%20%20for%28int%20i%20%3D%201%3Bi%20%3C%206%3Bi%2B%2B%29%20%7B%0A%20%20%20%20if%28i%252%3D%3D0%29%20%7B%0A%20%20%20%20%20%20%2Aptr%20%3D%20-%28%2Aptr%29%3B%20%0A%20%20%20%20%7D%0A%20%20%20%20else%20%7B%0A%20%20%20%20%20%20%2Aptr%20%3D%20%2Aptr%20%2B%201%3B%0A%20%20%20%20%7D%0A%20%20%20%20ptr%2B%2B%3B%20%20%20%20//Cambio%20del%20valor%20del%20apuntador%20para%20barrer%20el%20arreglo%0A%20%20%7D%0A%20%20return%200%3B%0A%7D&origin=opt-frontend.js&cumulative=false&heapPrimitives=false&textReferences=false&curInstr=0&&verticalStack=false&py=c&rawInputLstJSON=%5B%5D&codeDivWidth=50%25&codeDivHeight=100%25>Python Tutor</a></strong></div>"
      ],
      "text/plain": [
       "<IPython.core.display.HTML object>"
      ]
     },
     "metadata": {
      "tags": []
     },
     "output_type": "display_data"
    }
   ],
   "source": [
    "%%tutor -l c -k\n",
    "#include <stdio.h>\n",
    "\n",
    "int main() {\n",
    "  int a[6]={1,0,4,7,8,10};\n",
    "  int *ptr;        // Declaracion del apuntador\n",
    "  ptr = &a[0];    // Inicializacion del apuntador. (ptr = a)\n",
    "  *ptr = 2;    // a[0] = 2\n",
    "  ptr = &a[3];    // Ahora ptr esta apuntando al elemento a[3]\n",
    "  *ptr=10;    //a[3] = 10\n",
    "  ptr = &a[1];    // Ahora ptr esta apuntando al elemento a[1]\n",
    "  for(int i = 1;i < 6;i++) {\n",
    "    if(i%2==0) {\n",
    "      *ptr = -(*ptr); \n",
    "    }\n",
    "    else {\n",
    "      *ptr = *ptr + 1;\n",
    "    }\n",
    "    ptr++;    //Cambio del valor del apuntador para barrer el arreglo\n",
    "  }\n",
    "  return 0;\n",
    "}"
   ]
  },
  {
   "cell_type": "markdown",
   "metadata": {
    "colab_type": "text",
    "id": "yRsOZA1qMfc_"
   },
   "source": [
    "La conclusión a la que se llega depues de simular es que existe una correspondencia entre como accedo a un vector mediante la notacion con subindices y la notacion con apuntadores. La siguiente tabla muestra esta relación:\n",
    "\n",
    "| Notación subíndice\t| Notación puntero |\n",
    "|-----------|-------------|\n",
    "|&A[0]\t| A |\n",
    "|&A[i]\t| A + i |\n",
    "|A[0]\t| *A |\n",
    "|A[i]\t| *(A + i) |\n",
    "\n",
    "Teniendo en cuenta **la tabla de equivalencia** anteriormente mostrada podemos pasar arreglos como parametros de funciones y manipularlos en las instrucciones del cuerpo de la instruccion, esto en resumen, no es mas que hacer un cambio de los corchetes **[]** por el asterirco (propio de los apuntadores) para la parametro asociado al vector. Veamos esto usando ejemplos.\n",
    "\n",
    "<table>\n",
    "    <tr>\n",
    "        <td><b>Notación</b></td>\n",
    "        <td><b>Empleando subindices</b></td>\n",
    "        <td><b>Empleando apuntadores</b></td>\n",
    "    </tr>\n",
    "    <tr>\n",
    "        <td><b>Declaración</b></td>\n",
    "        <td>void imprimirVector(int V[],int tam);</td>\n",
    "        <td>void imprimirVector(int *V,int tam);</td>\n",
    "    </tr>   \n",
    "    <tr>\n",
    "        <td><b>Definición</b></td>\n",
    "        <td>             \n",
    "          void imprimirVector(int V[],int tam) {</br>\n",
    "             &nbsp;&nbsp;&nbsp;printf(\"[ \");</br>\n",
    "             &nbsp;&nbsp;&nbsp;for(int i = 0; i < tam; i++) {</br>\n",
    "             &nbsp;&nbsp;&nbsp;&nbsp;&nbsp;&nbsp;   printf(\"%d \", V[i]); </br>  \n",
    "             &nbsp;&nbsp;&nbsp;}</br>\n",
    "             &nbsp;&nbsp;&nbsp;printf(\"]\\n\");</br>\n",
    "          }</br>\n",
    "        </td>\n",
    "        <td>        \n",
    "           void imprimirVector(int *V,int tam) {</br>\n",
    "             &nbsp;&nbsp;&nbsp;printf(\"[ \");</br>\n",
    "             &nbsp;&nbsp;&nbsp;for(int i = 0; i < tam; i++) {</br>\n",
    "             &nbsp;&nbsp;&nbsp;&nbsp;&nbsp;&nbsp;   printf(\"%d \", *(V + i)); </br>  \n",
    "             &nbsp;&nbsp;&nbsp;}</br>\n",
    "             &nbsp;&nbsp;&nbsp;printf(\"]\\n\");</br>\n",
    "          }</br>\n",
    "        </td>\n",
    "    </tr>\n",
    "    <tr>\n",
    "        <td><b>Invocación</b></td>\n",
    "        <td>\n",
    "            int A[] = {1, 2, 3}; </br>\n",
    "            imprimirVector(A, 3); </br>\n",
    "        </td>\n",
    "        <td>\n",
    "           int A[] = {1, 2, 3}; </br>\n",
    "           imprimirVector(A, 3); </br>\n",
    "        </td>\n",
    "    </tr>\n",
    "</table>\n",
    "\n",
    "En el siguiente [enlace](https://goo.gl/onVv3v) se encuentra el anterior para simular. Pordrá notar que los resultados no cambian."
   ]
  },
  {
   "cell_type": "markdown",
   "metadata": {
    "colab_type": "text",
    "id": "31xSbiOHMoJ8"
   },
   "source": [
    "## 4. Apuntadores a apuntadores\n",
    "\n",
    "Es posible poner apuntar un apuntador a un apuntador, lo cual se indica con la cantidad de asteriscos colocados en la declaración del apuntador, así la declaración realizada en las siguientes líneas de código:\n",
    "```C\n",
    "char ch; /*Un caracter*/\n",
    "char *pch; /*Un apuntado a un dato tipo caracter*/\n",
    "char **pch; /*Un apuntador a un apuntador a un caracter*/\n",
    "```\n",
    "suponiendo que:\n",
    "* El tamaño de ocupado por una variable apuntador es de 8 bytes.\n",
    "* El tamaño ocupado por una variable tipo char es de 1 byte.\n",
    "* Las direcciones de las variables ch, pch y ppch son 0xFFF000BCC, 0xFFF000BD0 y 0xFFF000BD8 respectivamente.\n",
    "\n",
    "El resultado de ejecutar las instrucciones anteriores muestra un resultado similar al de la siguiente figura:\n",
    "\n",
    "![ptr_to_ptr](https://github.com/repos-SO-UdeA/laboratorios/blob/master/lab1/teoria/parte2/imagenes/ptr_to_ptr_ambas.png?raw=true)\n",
    "\n",
    "**Figura 17**. Resultado de la ejecución del codigo anterior.\n",
    "\n",
    "Notese que aun no se han inicializado las variables (variable normal, apuntador y apuntador a apuntador). A continuación de muestra un código de inicializacion y su respectivo efecto:\n",
    "\n",
    "```C\n",
    "pch = &ch; /*Inicializacion del apuntador*/\n",
    "ppch = &pch; /*Inicializacion del apuntador al apuntador*/\n",
    "```\n",
    "\n",
    "![ptr_to_ptr__mem_2_3](https://github.com/repos-SO-UdeA/laboratorios/blob/master/lab1/teoria/parte2/imagenes/ptr_to_ptr_mem_2_3.png?raw=true)\n",
    "\n",
    "**Figura 18**. Resultado de la ejecución del codigo anterior.\n",
    "\n",
    "Notese del codigo anterior que a un apuntador a un apuntador se le debe pasar la dirección de memoria del apuntador al que está siendo inicializado.\n",
    "\n",
    "La siguiente tabla muestra una lista de equivalencias entre los valores almacenados en las variables anteriormente creadas:\n",
    "\n",
    "\n",
    "| Ítem\t| Equivalencia en código |\n",
    "|-----------|-------------|\n",
    "|Lugar de memoria accedido (variable ch)\t| ch = *pch = **ppch |\n",
    "|Dirección de la variable ch (&ch)\t| &ch = pch = *ppch |\n",
    "|Dirección de memoria del apuntador (&pch)\t| &pch = ppch |\n",
    "|Dirección de memoria del apuntador al apuntador (&ppch)\t| &ppch |\n",
    "\n",
    "Aplicando la anterior equivalencia en la figura 14 tenemos (Tenga muy claro el operador direccion (&)):\n",
    "1. ch = *pch = **ppch = ?\n",
    "2. &ch = pch = *ppch = 0xFFF000BCC\n",
    "3. &pch = ppch = 0xFFF000BD0\n",
    "4. &ppch = 0xFFF000BD8\n",
    "\n",
    "La anterior tabla implica que si yo quiero cambiar el valor de ch lo puedo hacer ya modificando la variable como tal (ch = valor) o desreferenciando el apuntador que la apunta (*pch = valor)  o desreferenciando el apuntador del apuntador que la apunta (**ppch = valor), a continuación se muestran las tres equivalencias. A continuación se muestra esto:\n",
    "\n",
    "**Forma 1**: modificando la variable directamente\n",
    "\n",
    "```C\n",
    "ch = 'A';\n",
    "```\n",
    "\n",
    "**Forma 2**: modificando la variable por medio del apuntador\n",
    "\n",
    "```C\n",
    "*pch = 'A';\n",
    "```\n",
    "\n",
    "**Forma 3**: modificando la variable por medio del apuntador al apuntador\n",
    "\n",
    "```C\n",
    "**ppch = 'A';\n",
    "```"
   ]
  },
  {
   "cell_type": "markdown",
   "metadata": {
    "colab_type": "text",
    "id": "nbOFJkOcNCXv"
   },
   "source": [
    "**Ejemplo**:\n",
    "Simule el siguiente codigo y saque conclusiones:"
   ]
  },
  {
   "cell_type": "code",
   "execution_count": 36,
   "metadata": {
    "colab": {
     "autoexec": {
      "startup": false,
      "wait_interval": 0
     },
     "base_uri": "https://localhost:8080/",
     "height": 34
    },
    "colab_type": "code",
    "executionInfo": {
     "elapsed": 455,
     "status": "ok",
     "timestamp": 1531444498894,
     "user": {
      "displayName": "HENRY ALBERTO ARCILA RAMIREZ",
      "photoUrl": "https://lh3.googleusercontent.com/a/default-user=s128",
      "userId": "101819781408374541388"
     },
     "user_tz": 300
    },
    "id": "uNRbete-NDHf",
    "outputId": "3ebaea43-dab7-4554-93d9-45936b96707a"
   },
   "outputs": [
    {
     "data": {
      "text/html": [
       "<div class=\"text-center\"><strong><a style=\"box-sizing: border-box; padding: 0 5px; border: 1px solid #CFCFCF;\" target=\"_\" href=http://pythontutor.com/iframe-embed.html#code=%23include%20%3Cstdio.h%3E%0A%0Aint%20main%28%29%20%7B%0A%20%20char%20ch%3B%0A%20%20char%20%2Apch%2C%20%2A%2Appch%3B%0A%20%20char%20%2A%2A%2Apppch%20%3D%20%26ppch%3B%0A%20%20pch%20%3D%20%26ch%3B%0A%20%20ppch%20%3D%20%26pch%3B%0A%20%20%2A%2A%2Apppch%20%3D%20%27A%27%3B%0A%20%20%2A%2Appch%20%3D%20%2Apch%20%2B%201%3B%0A%20%20ch%20%3D%20%2A%2Appch%20%2B%203%3B%0A%20%20return%200%3B%0A%7D&origin=opt-frontend.js&cumulative=false&heapPrimitives=false&textReferences=false&curInstr=0&&verticalStack=false&py=c&rawInputLstJSON=%5B%5D&codeDivWidth=50%25&codeDivHeight=100%25>Python Tutor</a></strong></div>"
      ],
      "text/plain": [
       "<IPython.core.display.HTML object>"
      ]
     },
     "metadata": {
      "tags": []
     },
     "output_type": "display_data"
    }
   ],
   "source": [
    "%%tutor -l c -k\n",
    "#include <stdio.h>\n",
    "\n",
    "int main() {\n",
    "  char ch;\n",
    "  char *pch, **ppch;\n",
    "  char ***pppch = &ppch;\n",
    "  pch = &ch;\n",
    "  ppch = &pch;\n",
    "  ***pppch = 'A';\n",
    "  **ppch = *pch + 1;\n",
    "  ch = **ppch + 3;\n",
    "  return 0;\n",
    "}"
   ]
  },
  {
   "cell_type": "markdown",
   "metadata": {
    "colab_type": "text",
    "id": "bUT-t_GoNL6G"
   },
   "source": [
    "## 5. Apuntadores genericos y casts\n",
    "\n",
    "Un apuntador generico o void pointer es un tipo especial de apuntador que puede apuntar a cualquier tipo de dato.\n",
    "Su unica limitación es que el dato apuntado no puede ser desreferenciado directamente (el operador * no puede ser usado en este tipo de apuntadores) pues para el caso, la longitud del tipo de dato al que se apunta no puede ser determinada lo hace necesario un casting para hacer que el aputador generico pueda apuntar a un tipo de dato concreto (el cual si puede ser referenciado).\n",
    "\n",
    "```C  \n",
    "  /* Declaracion de variables*/\n",
    "  tipo1 var1_1, var1_2,...;\n",
    "  ... \n",
    "  tipoN varN_1, varN_2,...;\n",
    "  /* Declaracion apuntador generico*/\n",
    "  void *ptr;\n",
    "  /* Referencia a una variable tipo tipo1 */\n",
    "  ptr = &var1_1; // var es una variable de cualquier tipo\n",
    "  /* Desreferencia a una variable tipo tipo1*/\n",
    "  var1_2 = *((tipo1 *)ptr); // cast\n",
    "  /* Referencia a una variable tipo tipoN */\n",
    "  ptr = &varN_1; // var es una variable de cualquier tipo\n",
    "  /* Desreferencia a una variable tipo tipo1*/\n",
    "  varN_2 = *((tipoN *)ptr); // cast\n",
    "  ...\n",
    "```\n",
    "\n",
    "En si el cast es de la forma:\n",
    "\n",
    "```C \n",
    "*((tipo *)ptr)\n",
    "```\n",
    "\n",
    "A continuación se muestran algunos ejemplos para aclarar lo anteriormente mencionado.\n",
    "\n",
    "**Ejemplos**\n",
    "\n",
    "1. Analice el siguiente codigo:"
   ]
  },
  {
   "cell_type": "code",
   "execution_count": 37,
   "metadata": {
    "colab": {
     "autoexec": {
      "startup": false,
      "wait_interval": 0
     },
     "base_uri": "https://localhost:8080/",
     "height": 34
    },
    "colab_type": "code",
    "executionInfo": {
     "elapsed": 469,
     "status": "ok",
     "timestamp": 1531444540614,
     "user": {
      "displayName": "HENRY ALBERTO ARCILA RAMIREZ",
      "photoUrl": "https://lh3.googleusercontent.com/a/default-user=s128",
      "userId": "101819781408374541388"
     },
     "user_tz": 300
    },
    "id": "FArLE9fkNPti",
    "outputId": "4c15c847-74f1-49d8-81ad-f766dffd416c"
   },
   "outputs": [
    {
     "data": {
      "text/html": [
       "<div class=\"text-center\"><strong><a style=\"box-sizing: border-box; padding: 0 5px; border: 1px solid #CFCFCF;\" target=\"_\" href=http://pythontutor.com/iframe-embed.html#code=%23include%20%3Cstdio.h%3E%0A%0Aint%20main%28%29%20%7B%0A%20%20int%20a%20%3D%205%3B%0A%20%20double%20b%20%3D%203.1415%3B%0A%20%20void%20%2Avp%3B%0A%20%20vp%20%3D%20%26a%3B%0A%20%20printf%28%22a%20%3D%20%25d%5Cn%22%2C%20%2A%28%28int%20%2A%29vp%29%29%3B%20//%20Cast%20a%20%28int%20%2A%29%0A%20%20vp%20%3D%20%26b%3B%0A%20%20printf%28%22b%20%3D%20%25lf%5Cn%22%2C%20%2A%28%28double%20%2A%29vp%29%29%3B%20//%20Cast%20%28double%20%2A%29%0A%20%20return%200%3B%0A%7D&origin=opt-frontend.js&cumulative=false&heapPrimitives=false&textReferences=false&curInstr=0&&verticalStack=false&py=c&rawInputLstJSON=%5B%5D&codeDivWidth=50%25&codeDivHeight=100%25>Python Tutor</a></strong></div>"
      ],
      "text/plain": [
       "<IPython.core.display.HTML object>"
      ]
     },
     "metadata": {
      "tags": []
     },
     "output_type": "display_data"
    }
   ],
   "source": [
    "%%tutor -l c -k\n",
    "#include <stdio.h>\n",
    "\n",
    "int main() {\n",
    "  int a = 5;\n",
    "  double b = 3.1415;\n",
    "  void *vp;\n",
    "  vp = &a;\n",
    "  printf(\"a = %d\\n\", *((int *)vp)); // Cast a (int *)\n",
    "  vp = &b;\n",
    "  printf(\"b = %lf\\n\", *((double *)vp)); // Cast (double *)\n",
    "  return 0;\n",
    "}"
   ]
  },
  {
   "cell_type": "markdown",
   "metadata": {
    "colab_type": "text",
    "id": "USgkVFmzNXK0"
   },
   "source": [
    "2. Analice el siguiente codigo:"
   ]
  },
  {
   "cell_type": "code",
   "execution_count": 38,
   "metadata": {
    "colab": {
     "autoexec": {
      "startup": false,
      "wait_interval": 0
     },
     "base_uri": "https://localhost:8080/",
     "height": 34
    },
    "colab_type": "code",
    "executionInfo": {
     "elapsed": 484,
     "status": "ok",
     "timestamp": 1531444670434,
     "user": {
      "displayName": "HENRY ALBERTO ARCILA RAMIREZ",
      "photoUrl": "https://lh3.googleusercontent.com/a/default-user=s128",
      "userId": "101819781408374541388"
     },
     "user_tz": 300
    },
    "id": "aslABo4oNYrG",
    "outputId": "6158aa00-8fa6-4554-f7cf-a29b7f96f233"
   },
   "outputs": [
    {
     "data": {
      "text/html": [
       "<div class=\"text-center\"><strong><a style=\"box-sizing: border-box; padding: 0 5px; border: 1px solid #CFCFCF;\" target=\"_\" href=http://pythontutor.com/iframe-embed.html#code=%23include%20%3Cstdio.h%3E%0A%0Avoid%20swapChar%28char%20%2Aa%2C%20char%20%2Ab%29%3B%0Avoid%20swapFloat%28float%20%2Aa%2C%20float%20%2Ab%29%3B%0A%0Aint%20main%28%29%20%7B%0A%20%20char%20w%20%3D%20%27w%27%2C%20x%20%3D%20%27a%27%3B%0A%20%20float%20y%20%3D%202.3%2C%20z%20%3D%20-0.5%3B%0A%20%20printf%28%22----%20Caracteres%20----%5Cn%22%29%3B%0A%20%20printf%28%22Antes%3A%20w%20%3D%20%25c%2C%20x%20%3D%20%25c%5Cn%22%2C%20w%2C%20x%29%3B%0A%20%20swapChar%28%26w%2C%20%26x%29%3B%0A%20%20printf%28%22Despues%3A%20w%20%3D%20%25c%2C%20x%20%3D%20%25c%5Cn%22%2C%20w%2C%20x%29%3B%0A%20%20printf%28%22----%20Reales%20----%5Cn%22%29%3B%0A%20%20printf%28%22Antes%3A%20y%20%3D%20%25.2f%2C%20z%20%3D%20%25.2f%5Cn%22%2C%20y%2C%20z%29%3B%0A%20%20swapFloat%28%26y%2C%20%26z%29%3B%0A%20%20printf%28%22Despues%3A%20y%20%3D%20%25.2f%2C%20z%20%3D%20%25.2f%5Cn%22%2C%20y%2C%20z%29%3B%20%20%0A%20%20return%200%3B%0A%7D%0A%0Avoid%20swapChar%28char%20%2Aa%2C%20char%20%2Ab%29%20%7B%0A%20%20char%20temp%3B%0A%20%20temp%20%3D%20%2Aa%3B%0A%20%20%2Aa%20%3D%20%2Ab%3B%0A%20%20%2Ab%20%3D%20temp%3B%0A%7D%0A%0Avoid%20swapFloat%28float%20%2Aa%2C%20float%20%2Ab%29%20%7B%0A%20%20float%20temp%3B%0A%20%20temp%20%3D%20%2Aa%3B%0A%20%20%2Aa%20%3D%20%2Ab%3B%0A%20%20%2Ab%20%3D%20temp%3B%0A%7D&origin=opt-frontend.js&cumulative=false&heapPrimitives=false&textReferences=false&curInstr=0&&verticalStack=false&py=c&rawInputLstJSON=%5B%5D&codeDivWidth=50%25&codeDivHeight=100%25>Python Tutor</a></strong></div>"
      ],
      "text/plain": [
       "<IPython.core.display.HTML object>"
      ]
     },
     "metadata": {
      "tags": []
     },
     "output_type": "display_data"
    }
   ],
   "source": [
    "%%tutor -l c -k\n",
    "#include <stdio.h>\n",
    "\n",
    "void swapChar(char *a, char *b);\n",
    "void swapFloat(float *a, float *b);\n",
    "\n",
    "int main() {\n",
    "  char w = 'w', x = 'a';\n",
    "  float y = 2.3, z = -0.5;\n",
    "  printf(\"---- Caracteres ----\\n\");\n",
    "  printf(\"Antes: w = %c, x = %c\\n\", w, x);\n",
    "  swapChar(&w, &x);\n",
    "  printf(\"Despues: w = %c, x = %c\\n\", w, x);\n",
    "  printf(\"---- Reales ----\\n\");\n",
    "  printf(\"Antes: y = %.2f, z = %.2f\\n\", y, z);\n",
    "  swapFloat(&y, &z);\n",
    "  printf(\"Despues: y = %.2f, z = %.2f\\n\", y, z);  \n",
    "  return 0;\n",
    "}\n",
    "\n",
    "void swapChar(char *a, char *b) {\n",
    "  char temp;\n",
    "  temp = *a;\n",
    "  *a = *b;\n",
    "  *b = temp;\n",
    "}\n",
    "\n",
    "void swapFloat(float *a, float *b) {\n",
    "  float temp;\n",
    "  temp = *a;\n",
    "  *a = *b;\n",
    "  *b = temp;\n",
    "}"
   ]
  },
  {
   "cell_type": "markdown",
   "metadata": {
    "colab_type": "text",
    "id": "UcJQ5YgLNiam"
   },
   "source": [
    "La salida del código anterior se muestra a continuación:\n",
    "\n",
    "![void_ptr_fun_no_gen](https://github.com/repos-SO-UdeA/laboratorios/blob/master/lab1/teoria/parte2/imagenes/swap_no_generico.png?raw=true)\n",
    "\n",
    "**Figura 20**. Funciones por referencia normales.\n",
    "\n",
    "**Reto**: Hacer la función que permita hacer el intercambio entre dos cadenas de caracteres\n",
    "\n",
    "3. Analice el siguiente código"
   ]
  },
  {
   "cell_type": "code",
   "execution_count": 39,
   "metadata": {
    "colab": {
     "autoexec": {
      "startup": false,
      "wait_interval": 0
     },
     "base_uri": "https://localhost:8080/",
     "height": 34
    },
    "colab_type": "code",
    "executionInfo": {
     "elapsed": 516,
     "status": "ok",
     "timestamp": 1531444677677,
     "user": {
      "displayName": "HENRY ALBERTO ARCILA RAMIREZ",
      "photoUrl": "https://lh3.googleusercontent.com/a/default-user=s128",
      "userId": "101819781408374541388"
     },
     "user_tz": 300
    },
    "id": "ZRZ9KD8sNtwP",
    "outputId": "7ef291bf-19da-4510-cfbb-517c91b4d450"
   },
   "outputs": [
    {
     "data": {
      "text/html": [
       "<div class=\"text-center\"><strong><a style=\"box-sizing: border-box; padding: 0 5px; border: 1px solid #CFCFCF;\" target=\"_\" href=http://pythontutor.com/iframe-embed.html#code=%23include%20%3Cstdio.h%3E%0A%0Aswap2%28void%20%2Ax%2C%20void%20%2Ay%2C%20int%20size%29%3B%0A%0Aint%20main%28%29%20%7B%0A%20%20char%20w%20%3D%20%27w%27%2C%20x%20%3D%20%27a%27%3B%0A%20%20float%20y%20%3D%202.3%2C%20z%20%3D%20-0.5%3B%0A%20%20char%20s1%5B%5D%20%3D%20%22abcd%22%2C%20s2%5B%5D%3D%22wxyz%22%3B%0A%20%20printf%28%22----%20Caracteres%20----%5Cn%22%29%3B%0A%20%20printf%28%22Antes%3A%20w%20%3D%20%25c%2C%20x%20%3D%20%25c%5Cn%22%2C%20w%2C%20x%29%3B%0A%20%20swap2%28%26w%2C%20%26x%2C%20sizeof%28char%29%29%3B%0A%20%20printf%28%22Despues%3A%20w%20%3D%20%25c%2C%20x%20%3D%20%25c%5Cn%22%2C%20w%2C%20x%29%3B%0A%20%20printf%28%22----%20Reales%20----%5Cn%22%29%3B%0A%20%20printf%28%22Antes%3A%20y%20%3D%20%25.2f%2C%20z%20%3D%20%25.2f%5Cn%22%2C%20y%2C%20z%29%3B%0A%20%20swap2%28%26y%2C%20%26z%2C%20sizeof%28float%29%29%3B%0A%20%20printf%28%22Despues%3A%20y%20%3D%20%25.2f%2C%20z%20%3D%20%25.2f%5Cn%22%2C%20y%2C%20z%29%3B%20%0A%20%20printf%28%22----%20Cadenas%20----%5Cn%22%29%3B%0A%20%20printf%28%22Antes%3A%20s1%20%3D%20%25s%2C%20s2%20%3D%20%25s%5Cn%22%2C%20s1%2C%20s2%29%3B%0A%20%20swap2%28s1%2C%20s2%2C%20sizeof%28s1%29%29%3B%0A%20%20printf%28%22Despues%3A%20s1%20%3D%20%25s%2C%20s2%20%3D%20%25s%5Cn%22%2C%20s1%2C%20s2%29%3B%20%20%20%0A%20%20return%200%3B%0A%7D%0A%0Aint%20swap2%28void%20%2Ax%2C%20void%20%2Ay%2C%20int%20size%29%20%7B%0A%20%20void%20%2Atmp%3B%0A%20%20if%20%28%28tmp%20%3D%20malloc%28size%29%29%20%3D%3D%20NULL%29%20%7B%0A%20%20%20%20return%20-1%3B%0A%20%20%7D%0A%20%20memcpy%28tmp%2C%20x%2C%20size%29%3B%20%0A%20%20memcpy%28x%2C%20y%2C%20size%29%3B%20%0A%20%20memcpy%28y%2C%20tmp%2C%20size%29%3B%0A%20%20free%28tmp%29%3B%0A%20%20return%200%3B%0A%7D&origin=opt-frontend.js&cumulative=false&heapPrimitives=false&textReferences=false&curInstr=0&&verticalStack=false&py=c&rawInputLstJSON=%5B%5D&codeDivWidth=50%25&codeDivHeight=100%25>Python Tutor</a></strong></div>"
      ],
      "text/plain": [
       "<IPython.core.display.HTML object>"
      ]
     },
     "metadata": {
      "tags": []
     },
     "output_type": "display_data"
    }
   ],
   "source": [
    "%%tutor -l c -k\n",
    "#include <stdio.h>\n",
    "\n",
    "swap2(void *x, void *y, int size);\n",
    "\n",
    "int main() {\n",
    "  char w = 'w', x = 'a';\n",
    "  float y = 2.3, z = -0.5;\n",
    "  char s1[] = \"abcd\", s2[]=\"wxyz\";\n",
    "  printf(\"---- Caracteres ----\\n\");\n",
    "  printf(\"Antes: w = %c, x = %c\\n\", w, x);\n",
    "  swap2(&w, &x, sizeof(char));\n",
    "  printf(\"Despues: w = %c, x = %c\\n\", w, x);\n",
    "  printf(\"---- Reales ----\\n\");\n",
    "  printf(\"Antes: y = %.2f, z = %.2f\\n\", y, z);\n",
    "  swap2(&y, &z, sizeof(float));\n",
    "  printf(\"Despues: y = %.2f, z = %.2f\\n\", y, z); \n",
    "  printf(\"---- Cadenas ----\\n\");\n",
    "  printf(\"Antes: s1 = %s, s2 = %s\\n\", s1, s2);\n",
    "  swap2(s1, s2, sizeof(s1));\n",
    "  printf(\"Despues: s1 = %s, s2 = %s\\n\", s1, s2);   \n",
    "  return 0;\n",
    "}\n",
    "\n",
    "int swap2(void *x, void *y, int size) {\n",
    "  void *tmp;\n",
    "  if ((tmp = malloc(size)) == NULL) {\n",
    "    return -1;\n",
    "  }\n",
    "  memcpy(tmp, x, size); \n",
    "  memcpy(x, y, size); \n",
    "  memcpy(y, tmp, size);\n",
    "  free(tmp);\n",
    "  return 0;\n",
    "}"
   ]
  },
  {
   "cell_type": "markdown",
   "metadata": {
    "colab_type": "text",
    "id": "-W3WKFK5N3Ft"
   },
   "source": [
    "Notese respecto al codigo del ejemplo 2 que se tiene al usar apuntadores genericos, pues una misma funcion puede soportar diferentes tipos de datos. La función **memcpy** empleada en el ejemplo anterior puede ser estudiada con mas detalle en el siguiente [enlace](https://www.tutorialspoint.com/c_standard_library/c_function_memcpy.htm)."
   ]
  },
  {
   "cell_type": "markdown",
   "metadata": {
    "colab_type": "text",
    "id": "u4tbfT7_N6TG"
   },
   "source": [
    "## 6. Enlaces de interés\n",
    "* https://www.geeksforgeeks.org/data-types-in-c/\n",
    "* https://www.programiz.com/c-programming/c-enumeration\n",
    "* http://people.duke.edu/~tkb13/courses/ncsu-csc230/lecture/\n",
    "* https://www.geeksforgeeks.org/dangling-void-null-wild-pointers/\n",
    "* https://www.geeksforgeeks.org/tag/c-pointers/\n",
    "* https://www.geeksforgeeks.org/double-pointer-pointer-pointer-c/\n",
    "* https://www.eskimo.com/~scs/cclass/int/sx8.html\n",
    "* https://www.tutorialspoint.com/cprogramming/c_pointer_to_pointer.htm\n",
    "* https://boredzo.org/pointers/\n",
    "* https://beginnersbook.com/2014/01/c-pointer-to-pointer/\n",
    "* https://www.tutorialspoint.com/cprogramming/index.htm\n",
    "* http://gsd.web.elte.hu/lectures/c-en/c-lecture-9/\n",
    "* http://math.pnw.edu/~rlkraft/cs123-2009/homework/hw3/hw3.html"
   ]
  }
 ],
 "metadata": {
  "colab": {
   "default_view": {},
   "name": "ptr_arrays.ipynb",
   "provenance": [],
   "version": "0.3.2",
   "views": {}
  },
  "kernelspec": {
   "display_name": "Python 3",
   "language": "python",
   "name": "python3"
  },
  "language_info": {
   "codemirror_mode": {
    "name": "ipython",
    "version": 3
   },
   "file_extension": ".py",
   "mimetype": "text/x-python",
   "name": "python",
   "nbconvert_exporter": "python",
   "pygments_lexer": "ipython3",
   "version": "3.7.4"
  }
 },
 "nbformat": 4,
 "nbformat_minor": 1
}
