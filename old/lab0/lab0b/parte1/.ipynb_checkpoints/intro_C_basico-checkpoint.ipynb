{
 "cells": [
  {
   "cell_type": "markdown",
   "metadata": {},
   "source": [
    "[![Open In Colab](https://colab.research.google.com/assets/colab-badge.svg)](https://colab.research.google.com/github/dannymrock/UdeA-SO-Lab/blob/master/lab0/lab0b/parte1/intro_C_basico.ipynb)"
   ]
  },
  {
   "cell_type": "code",
   "execution_count": 3,
   "metadata": {
    "colab": {
     "autoexec": {
      "startup": false,
      "wait_interval": 0
     }
    },
    "colab_type": "code",
    "id": "ZnCblAr3jSEg"
   },
   "outputs": [
    {
     "name": "stdout",
     "output_type": "stream",
     "text": [
      "Requirement already satisfied: tutormagic in /home/tigarto/miniconda3/lib/python3.7/site-packages (0.3.0)\n",
      "Requirement already satisfied: notebook>=3.0 in /home/tigarto/miniconda3/lib/python3.7/site-packages (from tutormagic) (6.0.1)\n",
      "Requirement already satisfied: nbformat in /home/tigarto/miniconda3/lib/python3.7/site-packages (from notebook>=3.0->tutormagic) (4.4.0)\n",
      "Requirement already satisfied: jupyter-client>=5.3.1 in /home/tigarto/miniconda3/lib/python3.7/site-packages (from notebook>=3.0->tutormagic) (5.3.3)\n",
      "Requirement already satisfied: ipykernel in /home/tigarto/miniconda3/lib/python3.7/site-packages (from notebook>=3.0->tutormagic) (5.1.3)\n",
      "Requirement already satisfied: prometheus-client in /home/tigarto/miniconda3/lib/python3.7/site-packages (from notebook>=3.0->tutormagic) (0.7.1)\n",
      "Requirement already satisfied: pyzmq>=17 in /home/tigarto/miniconda3/lib/python3.7/site-packages (from notebook>=3.0->tutormagic) (18.1.1)\n",
      "Requirement already satisfied: tornado>=5.0 in /home/tigarto/miniconda3/lib/python3.7/site-packages (from notebook>=3.0->tutormagic) (6.0.3)\n",
      "Requirement already satisfied: ipython-genutils in /home/tigarto/miniconda3/lib/python3.7/site-packages (from notebook>=3.0->tutormagic) (0.2.0)\n",
      "Requirement already satisfied: jinja2 in /home/tigarto/miniconda3/lib/python3.7/site-packages (from notebook>=3.0->tutormagic) (2.10.3)\n",
      "Requirement already satisfied: terminado>=0.8.1 in /home/tigarto/miniconda3/lib/python3.7/site-packages (from notebook>=3.0->tutormagic) (0.8.3)\n",
      "Requirement already satisfied: jupyter-core>=4.4.0 in /home/tigarto/miniconda3/lib/python3.7/site-packages (from notebook>=3.0->tutormagic) (4.6.1)\n",
      "Requirement already satisfied: Send2Trash in /home/tigarto/miniconda3/lib/python3.7/site-packages (from notebook>=3.0->tutormagic) (1.5.0)\n",
      "Requirement already satisfied: traitlets>=4.2.1 in /home/tigarto/miniconda3/lib/python3.7/site-packages (from notebook>=3.0->tutormagic) (4.3.3)\n",
      "Requirement already satisfied: nbconvert in /home/tigarto/miniconda3/lib/python3.7/site-packages (from notebook>=3.0->tutormagic) (5.6.1)\n",
      "Requirement already satisfied: jsonschema!=2.5.0,>=2.4 in /home/tigarto/miniconda3/lib/python3.7/site-packages (from nbformat->notebook>=3.0->tutormagic) (3.2.0)\n",
      "Requirement already satisfied: python-dateutil>=2.1 in /home/tigarto/miniconda3/lib/python3.7/site-packages (from jupyter-client>=5.3.1->notebook>=3.0->tutormagic) (2.8.1)\n",
      "Requirement already satisfied: ipython>=5.0.0 in /home/tigarto/miniconda3/lib/python3.7/site-packages (from ipykernel->notebook>=3.0->tutormagic) (7.11.1)\n",
      "Requirement already satisfied: MarkupSafe>=0.23 in /home/tigarto/miniconda3/lib/python3.7/site-packages (from jinja2->notebook>=3.0->tutormagic) (1.1.1)\n",
      "Requirement already satisfied: decorator in /home/tigarto/miniconda3/lib/python3.7/site-packages (from traitlets>=4.2.1->notebook>=3.0->tutormagic) (4.4.1)\n",
      "Requirement already satisfied: six in /home/tigarto/miniconda3/lib/python3.7/site-packages (from traitlets>=4.2.1->notebook>=3.0->tutormagic) (1.12.0)\n",
      "Requirement already satisfied: mistune<2,>=0.8.1 in /home/tigarto/miniconda3/lib/python3.7/site-packages (from nbconvert->notebook>=3.0->tutormagic) (0.8.4)\n",
      "Requirement already satisfied: testpath in /home/tigarto/miniconda3/lib/python3.7/site-packages (from nbconvert->notebook>=3.0->tutormagic) (0.4.4)\n",
      "Requirement already satisfied: pandocfilters>=1.4.1 in /home/tigarto/miniconda3/lib/python3.7/site-packages (from nbconvert->notebook>=3.0->tutormagic) (1.4.2)\n",
      "Requirement already satisfied: defusedxml in /home/tigarto/miniconda3/lib/python3.7/site-packages (from nbconvert->notebook>=3.0->tutormagic) (0.6.0)\n",
      "Requirement already satisfied: entrypoints>=0.2.2 in /home/tigarto/miniconda3/lib/python3.7/site-packages (from nbconvert->notebook>=3.0->tutormagic) (0.3)\n",
      "Requirement already satisfied: pygments in /home/tigarto/miniconda3/lib/python3.7/site-packages (from nbconvert->notebook>=3.0->tutormagic) (2.5.2)\n",
      "Requirement already satisfied: bleach in /home/tigarto/miniconda3/lib/python3.7/site-packages (from nbconvert->notebook>=3.0->tutormagic) (3.1.0)\n",
      "Requirement already satisfied: setuptools in /home/tigarto/miniconda3/lib/python3.7/site-packages (from jsonschema!=2.5.0,>=2.4->nbformat->notebook>=3.0->tutormagic) (45.2.0)\n",
      "Requirement already satisfied: attrs>=17.4.0 in /home/tigarto/miniconda3/lib/python3.7/site-packages (from jsonschema!=2.5.0,>=2.4->nbformat->notebook>=3.0->tutormagic) (19.3.0)\n",
      "Requirement already satisfied: pyrsistent>=0.14.0 in /home/tigarto/miniconda3/lib/python3.7/site-packages (from jsonschema!=2.5.0,>=2.4->nbformat->notebook>=3.0->tutormagic) (0.15.6)\n",
      "Requirement already satisfied: importlib-metadata; python_version < \"3.8\" in /home/tigarto/miniconda3/lib/python3.7/site-packages (from jsonschema!=2.5.0,>=2.4->nbformat->notebook>=3.0->tutormagic) (1.3.0)\n",
      "Requirement already satisfied: pickleshare in /home/tigarto/miniconda3/lib/python3.7/site-packages (from ipython>=5.0.0->ipykernel->notebook>=3.0->tutormagic) (0.7.5)\n",
      "Requirement already satisfied: pexpect; sys_platform != \"win32\" in /home/tigarto/miniconda3/lib/python3.7/site-packages (from ipython>=5.0.0->ipykernel->notebook>=3.0->tutormagic) (4.7.0)\n",
      "Requirement already satisfied: prompt-toolkit!=3.0.0,!=3.0.1,<3.1.0,>=2.0.0 in /home/tigarto/miniconda3/lib/python3.7/site-packages (from ipython>=5.0.0->ipykernel->notebook>=3.0->tutormagic) (3.0.2)\n",
      "Requirement already satisfied: jedi>=0.10 in /home/tigarto/miniconda3/lib/python3.7/site-packages (from ipython>=5.0.0->ipykernel->notebook>=3.0->tutormagic) (0.15.2)\n",
      "Requirement already satisfied: backcall in /home/tigarto/miniconda3/lib/python3.7/site-packages (from ipython>=5.0.0->ipykernel->notebook>=3.0->tutormagic) (0.1.0)\n",
      "Requirement already satisfied: webencodings in /home/tigarto/miniconda3/lib/python3.7/site-packages (from bleach->nbconvert->notebook>=3.0->tutormagic) (0.5.1)\n",
      "Requirement already satisfied: zipp>=0.5 in /home/tigarto/miniconda3/lib/python3.7/site-packages (from importlib-metadata; python_version < \"3.8\"->jsonschema!=2.5.0,>=2.4->nbformat->notebook>=3.0->tutormagic) (0.6.0)\n",
      "Requirement already satisfied: ptyprocess>=0.5 in /home/tigarto/miniconda3/lib/python3.7/site-packages (from pexpect; sys_platform != \"win32\"->ipython>=5.0.0->ipykernel->notebook>=3.0->tutormagic) (0.6.0)\n",
      "Requirement already satisfied: wcwidth in /home/tigarto/miniconda3/lib/python3.7/site-packages (from prompt-toolkit!=3.0.0,!=3.0.1,<3.1.0,>=2.0.0->ipython>=5.0.0->ipykernel->notebook>=3.0->tutormagic) (0.1.8)\n",
      "Requirement already satisfied: parso>=0.5.2 in /home/tigarto/miniconda3/lib/python3.7/site-packages (from jedi>=0.10->ipython>=5.0.0->ipykernel->notebook>=3.0->tutormagic) (0.5.2)\n",
      "Requirement already satisfied: more-itertools in /home/tigarto/miniconda3/lib/python3.7/site-packages (from zipp>=0.5->importlib-metadata; python_version < \"3.8\"->jsonschema!=2.5.0,>=2.4->nbformat->notebook>=3.0->tutormagic) (8.0.2)\n",
      "The tutormagic extension is already loaded. To reload it, use:\n",
      "  %reload_ext tutormagic\n"
     ]
    }
   ],
   "source": [
    "!pip3 install tutormagic\n",
    "%load_ext tutormagic"
   ]
  },
  {
   "cell_type": "markdown",
   "metadata": {
    "colab_type": "text",
    "id": "mgA57mXNXGcL"
   },
   "source": [
    "---\n",
    "\n",
    "**Introducción al lenguaje C**\n",
    "* Conocer las generalidades del lenguaje de programación C.\n",
    "* Conocer la estructura de un programa en C.\n",
    "* Introducir el uso de las funciones y establecer cómo se realiza el paso de parámetros a funciones.\n",
    "\n",
    "---"
   ]
  },
  {
   "cell_type": "markdown",
   "metadata": {
    "colab_type": "text",
    "id": "wAMyjK6fXq6U"
   },
   "source": [
    "## 1. Formato típico de un programa en C"
   ]
  },
  {
   "cell_type": "markdown",
   "metadata": {
    "colab_type": "text",
    "id": "D0uug41KXwOV"
   },
   "source": [
    "En su forma más básica un programa en C tiene la siguiente estructura:\n",
    "\n",
    "---\n",
    "```C\n",
    "/** Directivas del preprocesador */\n",
    "// Librerías \n",
    "#include <libreriaSistema>\n",
    "#include \"libreriaUsuario\"\n",
    "\n",
    "// Macros y constantes con define\n",
    "#define CTE VALOR_CTE\n",
    "\n",
    "/* Variables globales*/\n",
    "tipo1 varG1_1, varG2_1, ...;\n",
    "tipo2 varG1_2, varG2_2, ...;\n",
    "...\n",
    "\n",
    "/* Función principal (Primera en ser llamada)*/\n",
    "int main(int argc, char *argv[]) {\n",
    "  /** Variables locales */\n",
    "  tipo1 varL1_1, varL2_1, ...;\n",
    "  tipo2 varL1_2, varL2_2, ...;\n",
    "  ...\n",
    "  /** Instrucciones */\n",
    "  ...\n",
    "  código\n",
    "  ...\n",
    "  return 0;\n",
    "}\n",
    "```\n",
    "---\n",
    "Como se puede notar, la forma es similar a la que se emplea en cualquier otro lenguaje. A continuación se muestra, con un breve ejemplo un caso de aplicación de la plantilla anterior."
   ]
  },
  {
   "cell_type": "markdown",
   "metadata": {
    "colab_type": "text",
    "id": "-TkrNLPVkIHu"
   },
   "source": [
    "**Ejemplo**:\n",
    "Hacer un programa que despliegue Hello world en pantalla:\n",
    "1. Empleando java.\n",
    "2. Empleando C."
   ]
  },
  {
   "cell_type": "markdown",
   "metadata": {
    "colab_type": "text",
    "id": "eI9zwuwYYnY0"
   },
   "source": [
    "**Solución**:\n",
    "\n",
    "*  **Empleando java**: a continuación se muestra el código solución en java:"
   ]
  },
  {
   "cell_type": "code",
   "execution_count": 4,
   "metadata": {
    "colab": {
     "autoexec": {
      "startup": false,
      "wait_interval": 0
     },
     "base_uri": "https://localhost:8080/",
     "height": 34
    },
    "colab_type": "code",
    "executionInfo": {
     "elapsed": 654,
     "status": "ok",
     "timestamp": 1531346897147,
     "user": {
      "displayName": "HENRY ALBERTO ARCILA RAMIREZ",
      "photoUrl": "https://lh3.googleusercontent.com/a/default-user=s128",
      "userId": "101819781408374541388"
     },
     "user_tz": 300
    },
    "id": "lyE6FLQyYjrs",
    "outputId": "0a1697bb-2e02-4ba2-b11a-a7fdd418cb7d"
   },
   "outputs": [
    {
     "data": {
      "text/html": [
       "<div class=\"text-center\"><strong><a style=\"box-sizing: border-box; padding: 0 5px; border: 1px solid #CFCFCF;\" target=\"_\" href=http://pythontutor.com/iframe-embed.html#code=public%20class%20Hello%20%7B%0A%20%20%20%20public%20static%20void%20main%28String%5B%5D%20args%29%20%7B%0A%20%20%20%20%20%20System.out.println%28%22Hello%20world%22%29%3B%0A%20%20%20%20%7D%0A%7D%0A&origin=opt-frontend.js&cumulative=false&heapPrimitives=false&textReferences=false&curInstr=0&&verticalStack=false&py=java&rawInputLstJSON=%5B%5D&codeDivWidth=50%25&codeDivHeight=100%25>Python Tutor</a></strong></div>"
      ],
      "text/plain": [
       "<IPython.core.display.HTML object>"
      ]
     },
     "metadata": {},
     "output_type": "display_data"
    }
   ],
   "source": [
    "%%tutor -l java -k\n",
    "public class Hello {\n",
    "    public static void main(String[] args) {\n",
    "      System.out.println(\"Hello world\");\n",
    "    }\n",
    "}"
   ]
  },
  {
   "cell_type": "markdown",
   "metadata": {
    "colab_type": "text",
    "id": "EVN-cqBnY558"
   },
   "source": [
    "* **Empleando C**: en el enlace solución en C se encuentra el código C que implementa lo solicitado:"
   ]
  },
  {
   "cell_type": "code",
   "execution_count": 0,
   "metadata": {
    "colab": {
     "autoexec": {
      "startup": false,
      "wait_interval": 0
     }
    },
    "colab_type": "code",
    "id": "Ce4C2j2DkFkm"
   },
   "outputs": [],
   "source": [
    "%%tutor -l c -k\n",
    "#include <stdio.h>\n",
    "\n",
    "int main(int argc, char *argv[])\n",
    "{\n",
    "  printf(\"%s\",\"Hello, World\");\n",
    "  return 0;\n",
    "}"
   ]
  },
  {
   "cell_type": "markdown",
   "metadata": {
    "colab_type": "text",
    "id": "VU99eYcMZZfM"
   },
   "source": [
    "A modo de repaso, se muestran los comandos empleados para compilar y ejecutar el programa en C:\n",
    "\n",
    "---\n",
    "```\n",
    "[user@cluster test4]$ gcc -Wall hello.c -o hello.out\n",
    "[user@cluster test4]$ ls\n",
    "hello.c  hello.out\n",
    "[user@cluster test4]$ ./hello.out\n",
    "Hello, World\n",
    "```\n",
    "---"
   ]
  },
  {
   "cell_type": "markdown",
   "metadata": {
    "colab_type": "text",
    "id": "LEp4jJtcZn81"
   },
   "source": [
    "## 2. Tipos de Datos\n"
   ]
  },
  {
   "cell_type": "markdown",
   "metadata": {
    "colab_type": "text",
    "id": "L7vB-gQOZrt0"
   },
   "source": [
    "Los tipos de datos básicos incorporados en C son los enteros, los reales y los tipo carácter. En la siguiente tabla se resumen éstos:\n",
    "\n",
    "**Tabla 1**. Tipos de datos primitivos en C\n",
    "\n",
    "| Tipo de dato                                | Tamaño (en bytes) | Rango                     | Especificador de formato |\n",
    "|---------------------------------------------|-------------------|---------------------------|--------------------------|\n",
    "| short (short int)                           | 2                 | -32768 to 32767           | %hd                      |\n",
    "| unsigned short (unsigned short int)         | 2                 | 0 to 65535                | %hu                      |\n",
    "| unsigned (unsigned int)                     | 4                 | 0 to 4294967295           | %u                       |\n",
    "| int                                         | 4                 | 2147483648 to 2147483647  | %d                       |\n",
    "| long (long int)                             | 4                 | 2147483648 to 2147483647  | %ld                      |\n",
    "| unsigned long (unsigned long int)           | 4                 | 0 to 4294967295           | %lu                      |\n",
    "| long long (long long int)                   | 8                 | -(2^63) to (2^63)-1       | %lld                     |\n",
    "| unsigned long long (unsigned long long int) | 8                 | 0 to 18446744073709551615 | %llu                     |\n",
    "| char (signed char)                          | 1                 | -128 to 127               | %c                       |\n",
    "| unsigned char                               | 1                 | 0 to 255                  | %c                       |\n",
    "| float                                       | 4                 |                           | %f                       |\n",
    "| double                                      | 8                 |                           | %lf                      |\n",
    "| long double                                 | 12                |                           | %Lf                      |\n",
    "\n",
    "\n",
    "El manejo de los tipos de datos en C es muy similar al que se hace en java. Cabe resaltar que de los tipos de datos enteros, el tipo **char** se utiliza para representar caracteres de modo que las constantes tipo **char** pueden ser:\n",
    "1. Caracteres encerrados entre comillas ('A', 'b', 'p') asociados a un valor ascii.\n",
    "2. Caracteres no imprimibles (tabulación, avance de página) los cuales se representan con secuencias de escape ('\\n', '\\t'). La siguiente tabla muestra algunos de estos caracteres:\n",
    "\n",
    "**Tabla 2**. Secuencias de escape en C\n",
    "\n",
    "| Carácter de escape                               | Singnificado | Código ASCII                     |\n",
    "|---------------------------------------------|-------------------|---------------------------|\n",
    "| \\a                          | Carácter de alerta (timbre)                | 7           |\n",
    "| \\b                          | Retroceso de espacio                | 8           |\n",
    "| \\f                         | Avance de página               | 12           |\n",
    "| \\n                          | Nueva línea                | 10           |\n",
    "| \\r                          | Retorno de carro                | 13           |\n",
    "| \\t                          | Tabulación horizontal                | 9           |\n",
    "| \\v                          | Tabulación vertical                | 11           |\n",
    "| \\\\                          | Backslash ( \\ ).              | 92           |\n",
    "| \\?                          | Interrogación ( ? ).              | 63           |\n",
    "| \\'                          | Comilla sencilla ( ' ).              | 39           |\n",
    "| \\\"                          | Comillas dobles.              | 34           |\n",
    "| \\0nn                          | Número octal.              |            |\n",
    "| \\Xnn                          | Número hexadecimal              |            |\n",
    "| \\0                          | Carácter nulo o terminación de cadena              |           |\n",
    "\n",
    "\n",
    "La equivalencia entre un carácter específico y su valor ascii se puede encontrar en una tabla ascii como la mostrada en el siguiente [enlace](http://www.fceia.unr.edu.ar/~ifc/apuntes/tascii.pdf).\n"
   ]
  },
  {
   "cell_type": "markdown",
   "metadata": {
    "colab_type": "text",
    "id": "eeinoILNZ3B_"
   },
   "source": [
    "### 2.1. Variables "
   ]
  },
  {
   "cell_type": "markdown",
   "metadata": {
    "colab_type": "text",
    "id": "UejXbXjHZ7_1"
   },
   "source": [
    "Una declaración indica el tipo de variable y le sirve al compilador para determinar la cantidad de memoria requerida para almacenar la variable deseada. El formato básico para declarar una variable es:\n",
    "```C\n",
    "tipo var1, var2, ...;\n",
    "```\n",
    "\n",
    "Si la declaración produce también un almacenamiento (inicialización), entonces es una definición.\n",
    "\n",
    "```C\n",
    "tipo var = valor inicial;\n",
    "```\n",
    "\n",
    "**Nota**: \n",
    "* Todas las variables en C se declaran o definen antes de ser utilizadas, de lo contrario el compilador arrojará un error de variable no declarada.\n",
    "* En esta sección se hace referencia sólo a las variables primitivas (char, int, float, double, et.), cuando las variables son compuestas (arrays, cadenas de caracteres, matrices, ...) la inicializacion es diferente (este tema será abordado más adelante en el curso).\n",
    "\n",
    "#### Ejemplo:\n",
    "A continuación se muestran varias declaraciones de variables, note que la forma es similar a la empleada en java:\n",
    "```C\n",
    "int i, j, k;\n",
    "float length, height;\n",
    "char midinit;\n",
    "float total = 16.78;\n",
    "int a = 1, b = 2;\n",
    "char ac = '@';\n",
    "const IVA = 19\n",
    "```\n",
    "En el siguiente [enlace](https://goo.gl/cgydMU) puede hacer la simulacion del código anterior (note que las variables no inicializadas no aparecen desplegadas).\n",
    "\n",
    "**Nota**: La palabra reservada **const** (**final** en el caso de java) permite definir determinadas variables con valores constantes que no se pueden modificar.\n",
    "\n"
   ]
  },
  {
   "cell_type": "markdown",
   "metadata": {
    "colab_type": "text",
    "id": "jZAOmlDuaEke"
   },
   "source": [
    "### 2.2. Cadenas de caracteres\n"
   ]
  },
  {
   "cell_type": "markdown",
   "metadata": {
    "colab_type": "text",
    "id": "HyD3uv0xaSrd"
   },
   "source": [
    "En C una cadena de caracteres (C String) no es un tipo de dato primitivo. En C se requiere usar un **arreglo** de caracteres (datos primitivos tipo char) cada vez que se requiera utilizar un **String**. Existen varias formas de declarar cadenas de caracteres:\n",
    "1. Indicando el máximo número de carácteres en la definición:\n",
    "```C\n",
    "char nombreCadena[TAM];\n",
    "```\n",
    "2. Inicializando la cadena de carácteres de modo que el compilador pueda deducir su tamaño:\n",
    "```C\n",
    "char nombreCadena[] = \"Contenido_de_la_cadena\";\n",
    "```\n",
    "3. Definiendo el tamaño e inicializando:\n",
    "```C\n",
    "char nombreCadena[TAM] = \"Contenido_de_la_cadena\";\n",
    "```\n",
    "En una cadena de carácteres el último carácter útil es el carácter NULL (\\0). El cual se incluye de manera automática para marcar el final de la cadena."
   ]
  },
  {
   "cell_type": "markdown",
   "metadata": {
    "colab_type": "text",
    "id": "ucA5YT0qagKW"
   },
   "source": [
    "#### Ejemplos\n"
   ]
  },
  {
   "cell_type": "markdown",
   "metadata": {
    "colab_type": "text",
    "id": "CdEI4ZnPaiDc"
   },
   "source": [
    "**P1**. Declarar una cadena llamada temp de 5 bytes cuyo contenido inicial sea *Hot*:\n",
    "\n",
    "```C\n",
    "char temp[5] = \"Hot\";\n",
    "```\n",
    "El resultado en memoria puede ser visto en el siguiente [enlace](http://www.pythontutor.com/c.html#code=int%20main%28%29%20%7B%0A%20%20char%20temp%5B5%5D%20%3D%20%22Hot%22%3B%0A%20%20return%200%3B%0A%7D&curInstr=2&mode=display&origin=opt-frontend.js&py=c&rawInputLstJSON=%5B%5D)\n",
    "\n",
    "**Pendiente imagen**\n",
    "\n",
    "Es importante resaltar que el programador debe asegurarse que la cadena de caracteres sea lo bastante grande para el uso deseado. Vemos que **temp** mantiene 4 caracteres, 3 de la palabra *Hot* más el carácter NULL(\\0). "
   ]
  },
  {
   "cell_type": "markdown",
   "metadata": {
    "colab_type": "text",
    "id": "JkrqP7vVb_z8"
   },
   "source": [
    "**P2**. Se tienen la siguientes declaraciones:\n",
    "\n"
   ]
  },
  {
   "cell_type": "code",
   "execution_count": 16,
   "metadata": {
    "colab": {
     "autoexec": {
      "startup": false,
      "wait_interval": 0
     },
     "base_uri": "https://localhost:8080/",
     "height": 34
    },
    "colab_type": "code",
    "executionInfo": {
     "elapsed": 529,
     "status": "ok",
     "timestamp": 1531347906007,
     "user": {
      "displayName": "HENRY ALBERTO ARCILA RAMIREZ",
      "photoUrl": "https://lh3.googleusercontent.com/a/default-user=s128",
      "userId": "101819781408374541388"
     },
     "user_tz": 300
    },
    "id": "ingNuf2tcKhE",
    "outputId": "6e8055bc-3486-4bea-ff6a-d7d9d9a5c1ec"
   },
   "outputs": [
    {
     "data": {
      "text/html": [
       "<div class=\"text-center\"><strong><a style=\"box-sizing: border-box; padding: 0 5px; border: 1px solid #CFCFCF;\" target=\"_\" href=http://pythontutor.com/iframe-embed.html#code=%23include%20%3Cstdio.h%3E%0A%0Aint%20main%28%29%20%7B%0A%20%20char%20s1%5B6%5D%3B%0A%20%20char%20s2%5B5%5D%20%3D%20%22Hola%22%3B%0A%20%20char%20s3%5B%5D%20%3D%20%22zzz%22%3B%0A%20%20return%200%3B%0A%7D&origin=opt-frontend.js&cumulative=false&heapPrimitives=false&textReferences=false&curInstr=0&&verticalStack=false&py=c&rawInputLstJSON=%5B%5D&codeDivWidth=50%25&codeDivHeight=100%25>Python Tutor</a></strong></div>"
      ],
      "text/plain": [
       "<IPython.core.display.HTML object>"
      ]
     },
     "metadata": {
      "tags": []
     },
     "output_type": "display_data"
    }
   ],
   "source": [
    "%%tutor -l c -k\n",
    "#include <stdio.h>\n",
    "\n",
    "int main() {\n",
    "  char s1[6];\n",
    "  char s2[5] = \"Hola\";\n",
    "  char s3[] = \"zzz\";\n",
    "  return 0;\n",
    "}"
   ]
  },
  {
   "cell_type": "markdown",
   "metadata": {
    "colab_type": "text",
    "id": "XuvBWpRbcpSD"
   },
   "source": [
    "Responda las siguientes preguntas:\n",
    "* ¿Cuál es el tamaño de cada una de las cadenas?\n",
    "* ¿Cuál es el contenido almacenado en cada una?"
   ]
  },
  {
   "cell_type": "markdown",
   "metadata": {
    "colab_type": "text",
    "id": "MzTVJa2Fc4FH"
   },
   "source": [
    "## 3. Entrada y salida estándar\n"
   ]
  },
  {
   "cell_type": "markdown",
   "metadata": {
    "colab_type": "text",
    "id": "IfS5MMTOc6Ns"
   },
   "source": [
    "En C la entrada y salida de texto se abstraen como streams o flujos de caracteres, no importa de dónde se origine el flujo o hacia a donde se dirija. Un flujo de texto, es una secuencia de caracteres dividida en líneas; cada línea consiste de cero o más caracteres seguidos por un carácter de nueva línea.\n",
    "\n",
    "En C las funciones de E/S y  las estructuras de datos usadas por esas funciones se encuentran declaradas en el archivo de cabecera **<stdio.h>**. Para el correcto funcionamiento del código es necesario incluir dicho archivo mediante la directiva del preprocesador **#include**, pues en caso contrario, puede funcionar de forma incorrecta, e incluso, puede llegar a dar errores de compilación.\n",
    "\n",
    "La biblioteca stdio.h provee un conjunto de funciones para leer y escribir desde la consola. A continuación veremos algunas:"
   ]
  },
  {
   "cell_type": "markdown",
   "metadata": {
    "colab_type": "text",
    "id": "_MSiN4wTc9n9"
   },
   "source": [
    "### Funcion printf"
   ]
  },
  {
   "cell_type": "markdown",
   "metadata": {
    "colab_type": "text",
    "id": "4yx7tNp7c_H7"
   },
   "source": [
    "La forma de la función se muestra a continuacion:\n",
    "\n",
    "```C\n",
    "int printf(const char *format[,argumento,...]);\n",
    "```\n",
    "La función ```printf()``` se usa para escribir cualquier tipo de dato a la consola. Se conoce como salida formateada pues convierte, formatea, e imprime sus argumentos ```(arg1, arg2, ...)``` en la salida estándar. Para ello toma el formato establecido por el usuario en el argumento **format** (ver en la tabla 1 la columna **especificador de formato** asociada a cada tipo de dato).\n",
    "Para informacion adicional puede consultar el siguiente [enlace](http://c.conclase.net/librerias/?ansifun=printf#inicio)\n",
    "\n",
    "Por ejemplo suponiendo que se tiene el siguiente fragmento de código en C: \n",
    "\n",
    "```C\n",
    "printf(\"Color %s, Number %d, Float %5.2f\\n\", \"red\", 12345, 3.14);\n",
    "```\n",
    "\n",
    "La salida en pantalla será:\n",
    "\n",
    "```\n",
    "Color red, Number 12345, Float 3.14\n",
    "```\n",
    "\n",
    "Observe el siguiente codigo para comprender lo anterior:"
   ]
  },
  {
   "cell_type": "code",
   "execution_count": 17,
   "metadata": {
    "colab": {
     "autoexec": {
      "startup": false,
      "wait_interval": 0
     },
     "base_uri": "https://localhost:8080/",
     "height": 34
    },
    "colab_type": "code",
    "executionInfo": {
     "elapsed": 566,
     "status": "ok",
     "timestamp": 1531348059514,
     "user": {
      "displayName": "HENRY ALBERTO ARCILA RAMIREZ",
      "photoUrl": "https://lh3.googleusercontent.com/a/default-user=s128",
      "userId": "101819781408374541388"
     },
     "user_tz": 300
    },
    "id": "WybXnZhQdKEU",
    "outputId": "83847be0-f37e-45c0-a1a7-f75f74a71474"
   },
   "outputs": [
    {
     "data": {
      "text/html": [
       "<div class=\"text-center\"><strong><a style=\"box-sizing: border-box; padding: 0 5px; border: 1px solid #CFCFCF;\" target=\"_\" href=http://pythontutor.com/iframe-embed.html#code=%23include%20%3Cstdio.h%3E%0A%0Aint%20main%28%29%20%7B%0A%20%20printf%28%22Color%20%25s%2C%20Number%20%25d%2C%20Float%20%255.2f%5Cn%22%2C%20%22red%22%2C%2012345%2C%203.14%29%3B%0A%20%20return%200%3B%0A%7D&origin=opt-frontend.js&cumulative=false&heapPrimitives=false&textReferences=false&curInstr=0&&verticalStack=false&py=c&rawInputLstJSON=%5B%5D&codeDivWidth=50%25&codeDivHeight=100%25>Python Tutor</a></strong></div>"
      ],
      "text/plain": [
       "<IPython.core.display.HTML object>"
      ]
     },
     "metadata": {
      "tags": []
     },
     "output_type": "display_data"
    }
   ],
   "source": [
    "%%tutor -l c -k\n",
    "#include <stdio.h>\n",
    "\n",
    "int main() {\n",
    "  printf(\"Color %s, Number %d, Float %5.2f\\n\", \"red\", 12345, 3.14);\n",
    "  return 0;\n",
    "}"
   ]
  },
  {
   "cell_type": "markdown",
   "metadata": {
    "colab_type": "text",
    "id": "cJ469tPmdY-c"
   },
   "source": [
    "Notará que la parte asociada a especificador de formato (parte precedida por % en el primer argumento de la función printf) se reemplaza por el respectivo valor asociado a la variable o constante. Como recordatorio, presentamos en la siguiente tabla los especificadores de formato más comunes:\n",
    "\n",
    "**Tabla 3**. Especificadores de formato más comunes en C\n",
    "\n",
    "|Especificador de formato  | Tipo de dato |\n",
    "|----------------|--------------------------|\n",
    "| %d                         |int   |\n",
    "| %c                         |char   |\n",
    "| %s                         |char[] (cadena de caracteres)   |\n",
    "| %f                         |float   |\n",
    "| %lf                         |double   |\n",
    "| %e                         |float (El resultado se muestra en notación exponencial)   |\n",
    "| %u                         |unsigned   |\n",
    "| %o                         |unsigned (el resultado se muestra en formato octal)   |\n",
    "| %x                         |unsigned (el resultado se muestra en formato hexadecimal)   |\n"
   ]
  },
  {
   "cell_type": "markdown",
   "metadata": {
    "colab_type": "text",
    "id": "d2_xjKdTdaKq"
   },
   "source": [
    "**Ejemplo**: Dado el siguiente fragmento de código. ¿Cual es su salida en pantalla?"
   ]
  },
  {
   "cell_type": "code",
   "execution_count": 18,
   "metadata": {
    "colab": {
     "autoexec": {
      "startup": false,
      "wait_interval": 0
     },
     "base_uri": "https://localhost:8080/",
     "height": 34
    },
    "colab_type": "code",
    "executionInfo": {
     "elapsed": 545,
     "status": "ok",
     "timestamp": 1531348195572,
     "user": {
      "displayName": "HENRY ALBERTO ARCILA RAMIREZ",
      "photoUrl": "https://lh3.googleusercontent.com/a/default-user=s128",
      "userId": "101819781408374541388"
     },
     "user_tz": 300
    },
    "id": "w-L01W95dj3t",
    "outputId": "5f7536d7-049f-4b46-c405-2b40517e7b70"
   },
   "outputs": [
    {
     "data": {
      "text/html": [
       "<div class=\"text-center\"><strong><a style=\"box-sizing: border-box; padding: 0 5px; border: 1px solid #CFCFCF;\" target=\"_\" href=http://pythontutor.com/iframe-embed.html#code=%23include%20%3Cstdio.h%3E%0A%0Aint%20main%28%29%20%7B%0A%20%20printf%28%22ABC%22%29%3B%0A%20%20printf%28%22%5Cn%22%29%3B%0A%20%20printf%28%22---%5Cn%22%29%3B%0A%20%20printf%28%22%25d%5Cn%22%2C5%29%3B%0A%20%20printf%28%22---%5Cn%22%29%3B%0A%20%20printf%28%22%25c%20%25c%20%25c%5Cn%22%2C%27A%27%2C%27B%27%2C%27C%27%29%3B%0A%20%20printf%28%22---%5Cn%22%29%3B%0A%20%20printf%28%22From%20sea%20%22%29%3B%0A%20%20printf%28%22to%20shining%20%22%29%3B%0A%20%20printf%28%22C%5Cn%22%29%3B%0A%20%20printf%28%22---%5Cn%22%29%3B%0A%20%20float%20leg1%20%3D%20200.3%2C%20leg2%20%3D%20357.4%3B%0A%20%20printf%28%22If%20was%20%25f%20miles%5Cn%22%2C%20leg1%20%2B%20leg2%29%3B%0A%20%20printf%28%22---%5Cn%22%29%3B%0A%20%20int%20num1%20%3D%2010%2C%20num2%20%3D%2033%3B%0A%20%20printf%28%22%25d%5Ct%25d%5Cn%22%2C%20num1%2C%20num2%29%3B%0A%20%20printf%28%22---%5Cn%22%29%3B%0A%20%20float%20big%20%3D%2011e%2B23%3B%0A%20%20printf%28%22%25e%5Cn%22%2C%20big%29%3B%0A%20%20printf%28%22---%5Cn%22%29%3B%0A%20%20printf%28%22%25c%5Cn%22%2C%27%3F%27%29%3B%0A%20%20printf%28%22%25d%5Cn%22%2C%27%3F%27%29%3B%0A%20%20printf%28%22---%5Cn%22%29%3B%0A%20%20return%200%3B%0A%7D&origin=opt-frontend.js&cumulative=false&heapPrimitives=false&textReferences=false&curInstr=0&&verticalStack=false&py=c&rawInputLstJSON=%5B%5D&codeDivWidth=50%25&codeDivHeight=100%25>Python Tutor</a></strong></div>"
      ],
      "text/plain": [
       "<IPython.core.display.HTML object>"
      ]
     },
     "metadata": {
      "tags": []
     },
     "output_type": "display_data"
    }
   ],
   "source": [
    "%%tutor -l c -k\n",
    "#include <stdio.h>\n",
    "\n",
    "int main() {\n",
    "  printf(\"ABC\");\n",
    "  printf(\"\\n\");\n",
    "  printf(\"---\\n\");\n",
    "  printf(\"%d\\n\",5);\n",
    "  printf(\"---\\n\");\n",
    "  printf(\"%c %c %c\\n\",'A','B','C');\n",
    "  printf(\"---\\n\");\n",
    "  printf(\"From sea \");\n",
    "  printf(\"to shining \");\n",
    "  printf(\"C\\n\");\n",
    "  printf(\"---\\n\");\n",
    "  float leg1 = 200.3, leg2 = 357.4;\n",
    "  printf(\"If was %f miles\\n\", leg1 + leg2);\n",
    "  printf(\"---\\n\");\n",
    "  int num1 = 10, num2 = 33;\n",
    "  printf(\"%d\\t%d\\n\", num1, num2);\n",
    "  printf(\"---\\n\");\n",
    "  float big = 11e+23;\n",
    "  printf(\"%e\\n\", big);\n",
    "  printf(\"---\\n\");\n",
    "  printf(\"%c\\n\",'?');\n",
    "  printf(\"%d\\n\",'?');\n",
    "  printf(\"---\\n\");\n",
    "  return 0;\n",
    "}"
   ]
  },
  {
   "cell_type": "markdown",
   "metadata": {
    "colab_type": "text",
    "id": "nRdw-DjZd2gV"
   },
   "source": [
    "El comportamiendo del especificador dependerá del tipo de dato tal y como se resume en las siguiente tablas segun el tipo de dato a imprimir.\n"
   ]
  },
  {
   "cell_type": "markdown",
   "metadata": {
    "colab_type": "text",
    "id": "C8f72Fmld31F"
   },
   "source": [
    "**Caso 1 - Datos enteros y caracter**\n",
    "\n",
    "**Tabla 3**. Usando especificadores para datos tipo char e int\n",
    "\n",
    "|Especificador de formato  | Tipo de dato |\n",
    "|----------------|--------------------------|\n",
    "| %[alineación][ancho]c | char   |\n",
    "| %[alineación][ancho]d | int |\n",
    "\n",
    "\n",
    "La salida formateada permite un mayor control de la apariencia de la salida en pantalla, ya que es posible controlar que tantas columnas serán usadas a la salida del contenido de una variable particular al especificar el ancho del campo.\n",
    "En lo que respecta a la alineación y para todos los casos cuando el símbolo es un menos (-) la alineación será a la izquierda, por otro lado si no hay símbolo, la alineación será a la derecha. Tambien, si se desea colocar ceros en vez de espacios, se debe colocar un cero (0) antes del campo ancho ancho. Por ejemplo: %04d."
   ]
  },
  {
   "cell_type": "markdown",
   "metadata": {
    "colab_type": "text",
    "id": "bLHIo_qReOJa"
   },
   "source": [
    "**Ejemplo**: Dado el siguiente fragmento de código. ¿Cual es su salida en pantalla?\n"
   ]
  },
  {
   "cell_type": "code",
   "execution_count": 19,
   "metadata": {
    "colab": {
     "autoexec": {
      "startup": false,
      "wait_interval": 0
     },
     "base_uri": "https://localhost:8080/",
     "height": 34
    },
    "colab_type": "code",
    "executionInfo": {
     "elapsed": 689,
     "status": "ok",
     "timestamp": 1531348374389,
     "user": {
      "displayName": "HENRY ALBERTO ARCILA RAMIREZ",
      "photoUrl": "https://lh3.googleusercontent.com/a/default-user=s128",
      "userId": "101819781408374541388"
     },
     "user_tz": 300
    },
    "id": "OWDYCEl9eVn2",
    "outputId": "6a36cc03-a12f-4a1b-a962-03f298a7b5ae"
   },
   "outputs": [
    {
     "data": {
      "text/html": [
       "<div class=\"text-center\"><strong><a style=\"box-sizing: border-box; padding: 0 5px; border: 1px solid #CFCFCF;\" target=\"_\" href=http://pythontutor.com/iframe-embed.html#code=%23include%20%3Cstdio.h%3E%0A%0Aint%20main%28%29%20%7B%0A%20%20char%20lett%3D%27w%27%3B%0A%20%20int%20i%3D1%2Cj%3D29%3B%0A%20%20printf%20%28%22%25c%5Cn%22%2Clett%29%3B%0A%20%20printf%20%28%22%254c%5Cn%22%2Clett%29%3B%0A%20%20printf%20%28%22%25-3c%5Cn%5Cn%22%2Clett%29%3B%0A%20%20printf%20%28%22%25d%5Cn%22%2Ci%29%3B%0A%20%20printf%20%28%22%25d%5Cn%22%2Cj%29%3B%0A%20%20printf%20%28%22%2510d%5Cn%22%2Cj%29%3B%0A%20%20printf%20%28%22%25010d%5Cn%22%2Cj%29%3B%0A%20%20printf%20%28%22%25-010d%5Cn%22%2Cj%29%3B%0A%20%20printf%20%28%22%252o%5Cn%22%2Cj%29%3B%0A%20%20printf%20%28%22%252x%5Cn%22%2Cj%29%3B%0A%20%20return%200%3B%0A%7D&origin=opt-frontend.js&cumulative=false&heapPrimitives=false&textReferences=false&curInstr=0&&verticalStack=false&py=c&rawInputLstJSON=%5B%5D&codeDivWidth=50%25&codeDivHeight=100%25>Python Tutor</a></strong></div>"
      ],
      "text/plain": [
       "<IPython.core.display.HTML object>"
      ]
     },
     "metadata": {
      "tags": []
     },
     "output_type": "display_data"
    }
   ],
   "source": [
    "%%tutor -l c -k\n",
    "#include <stdio.h>\n",
    "\n",
    "int main() {\n",
    "  char lett='w';\n",
    "  int i=1,j=29;\n",
    "  printf (\"%c\\n\",lett);\n",
    "  printf (\"%4c\\n\",lett);\n",
    "  printf (\"%-3c\\n\\n\",lett);\n",
    "  printf (\"%d\\n\",i);\n",
    "  printf (\"%d\\n\",j);\n",
    "  printf (\"%10d\\n\",j);\n",
    "  printf (\"%010d\\n\",j);\n",
    "  printf (\"%-010d\\n\",j);\n",
    "  printf (\"%2o\\n\",j);\n",
    "  printf (\"%2x\\n\",j);\n",
    "  return 0;\n",
    "}"
   ]
  },
  {
   "cell_type": "markdown",
   "metadata": {
    "colab_type": "text",
    "id": "2gF-muoVeuq8"
   },
   "source": [
    "**Caso 2 - Datos reales**\n",
    "\n",
    "**Tabla 4**. Usando especificadores para datos tipo float (también aplica a los demas tipos de datos reales)\n",
    "\n",
    "|Especificador de formato  | Tipo de dato | Ejemplo | Resultado |\n",
    "|----------------|--------------------------|----|---|\n",
    "| %[alineación][ancho].[decimales]f| float   | printf(\"%10.4f\",4.0/3.0)|_ _ _ _1.3333 |\n",
    "| %[alineación][ancho].[decimales]e| float   | printf(\"%10.4e\",4.0/3.0)|_1.333e+10|\n",
    "\n"
   ]
  },
  {
   "cell_type": "markdown",
   "metadata": {
    "colab_type": "text",
    "id": "E-Yey-O_e2Lt"
   },
   "source": [
    "**Ejemplo**: Dado el siguiente fragmento de código. ¿Cual es su salida en pantalla?\n"
   ]
  },
  {
   "cell_type": "code",
   "execution_count": 20,
   "metadata": {
    "colab": {
     "autoexec": {
      "startup": false,
      "wait_interval": 0
     },
     "base_uri": "https://localhost:8080/",
     "height": 34
    },
    "colab_type": "code",
    "executionInfo": {
     "elapsed": 516,
     "status": "ok",
     "timestamp": 1531348524209,
     "user": {
      "displayName": "HENRY ALBERTO ARCILA RAMIREZ",
      "photoUrl": "https://lh3.googleusercontent.com/a/default-user=s128",
      "userId": "101819781408374541388"
     },
     "user_tz": 300
    },
    "id": "bB01Np8ce6K1",
    "outputId": "113899ab-668d-48ca-ad51-412c1550d06f"
   },
   "outputs": [
    {
     "data": {
      "text/html": [
       "<div class=\"text-center\"><strong><a style=\"box-sizing: border-box; padding: 0 5px; border: 1px solid #CFCFCF;\" target=\"_\" href=http://pythontutor.com/iframe-embed.html#code=%23include%20%3Cstdio.h%3E%0A%0Aint%20main%28%29%20%7B%0A%20%20float%20x%3D333.123456%3B%0A%20%20double%20y%3D333.1234567890123456%3B%0A%20%20printf%28%22%25f%5Cn%22%2Cx%29%3B%0A%20%20printf%28%22%25.1f%5Cn%22%2Cx%29%3B%0A%20%20printf%28%22%2520.3f%5Cn%22%2Cx%29%3B%0A%20%20printf%28%22%25-20.3f%5Cn%22%2Cx%29%3B%0A%20%20printf%28%22%25020.3f%5Cn%22%2Cx%29%3B%0A%20%20printf%28%22%25f%5Cn%22%2Cy%29%3B%0A%20%20printf%28%22%25.9f%5Cn%22%2Cy%29%3B%0A%20%20printf%28%22%25.20f%5Cn%22%2Cy%29%3B%0A%20%20printf%28%22%2520.4e%5Cn%22%2Cy%29%3B%0A%20%20return%200%3B%0A%7D&origin=opt-frontend.js&cumulative=false&heapPrimitives=false&textReferences=false&curInstr=0&&verticalStack=false&py=c&rawInputLstJSON=%5B%5D&codeDivWidth=50%25&codeDivHeight=100%25>Python Tutor</a></strong></div>"
      ],
      "text/plain": [
       "<IPython.core.display.HTML object>"
      ]
     },
     "metadata": {
      "tags": []
     },
     "output_type": "display_data"
    }
   ],
   "source": [
    "%%tutor -l c -k\n",
    "#include <stdio.h>\n",
    "\n",
    "int main() {\n",
    "  float x=333.123456;\n",
    "  double y=333.1234567890123456;\n",
    "  printf(\"%f\\n\",x);\n",
    "  printf(\"%.1f\\n\",x);\n",
    "  printf(\"%20.3f\\n\",x);\n",
    "  printf(\"%-20.3f\\n\",x);\n",
    "  printf(\"%020.3f\\n\",x);\n",
    "  printf(\"%f\\n\",y);\n",
    "  printf(\"%.9f\\n\",y);\n",
    "  printf(\"%.20f\\n\",y);\n",
    "  printf(\"%20.4e\\n\",y);\n",
    "  return 0;\n",
    "}"
   ]
  },
  {
   "cell_type": "markdown",
   "metadata": {
    "colab_type": "text",
    "id": "wGecvwGBfES8"
   },
   "source": [
    "**Caso 3 - Cadenas de caracteres**\n",
    "\n",
    "|Especificador de formato  | Tipo de dato | Ejemplo | Resultado |\n",
    "|----------------|--------------------------|----|---|\n",
    "| %[alineación][ancho].[Máximo_número_de_caracteres_a_imprimir]s| char[]   | printf(\"%3.4s\\n\",\"Sheridan\")|Sher|"
   ]
  },
  {
   "cell_type": "markdown",
   "metadata": {
    "colab_type": "text",
    "id": "NbTdoEtWfLpV"
   },
   "source": [
    "**Ejemplo**: Dado el siguiente fragmento de código. ¿Cual es su salida en pantalla?\n"
   ]
  },
  {
   "cell_type": "code",
   "execution_count": 21,
   "metadata": {
    "colab": {
     "autoexec": {
      "startup": false,
      "wait_interval": 0
     },
     "base_uri": "https://localhost:8080/",
     "height": 34
    },
    "colab_type": "code",
    "executionInfo": {
     "elapsed": 474,
     "status": "ok",
     "timestamp": 1531348615640,
     "user": {
      "displayName": "HENRY ALBERTO ARCILA RAMIREZ",
      "photoUrl": "https://lh3.googleusercontent.com/a/default-user=s128",
      "userId": "101819781408374541388"
     },
     "user_tz": 300
    },
    "id": "YV8WRiVVfQfF",
    "outputId": "c5812a2b-3af2-4db9-c9b9-eeece03e92a4"
   },
   "outputs": [
    {
     "data": {
      "text/html": [
       "<div class=\"text-center\"><strong><a style=\"box-sizing: border-box; padding: 0 5px; border: 1px solid #CFCFCF;\" target=\"_\" href=http://pythontutor.com/iframe-embed.html#code=%23include%20%3Cstdio.h%3E%0A%0Aint%20main%28%29%20%7B%0A%20%20char%20s%5B%5D%3D%22an%20evil%20presence%22%3B%0A%20%20printf%28%22%25s%5Cn%22%2Cs%29%3B%0A%20%20printf%28%22%257s%5Cn%22%2Cs%29%3B%0A%20%20printf%28%22%2520s%5Cn%22%2Cs%29%3B%0A%20%20printf%28%22%25-20s%5Cn%22%2Cs%29%3B%0A%20%20printf%28%22%25.5s%5Cn%22%2Cs%29%3B%0A%20%20printf%28%22%25.12s%5Cn%22%2Cs%29%3B%0A%20%20printf%28%22%2515.12s%5Cn%22%2Cs%29%3B%0A%20%20printf%28%22%25-15.12s%5Cn%22%2Cs%29%3B%0A%20%20printf%28%22%253.12s%5Cn%22%2Cs%29%3B%0A%20%20return%200%3B%0A%7D&origin=opt-frontend.js&cumulative=false&heapPrimitives=false&textReferences=false&curInstr=0&&verticalStack=false&py=c&rawInputLstJSON=%5B%5D&codeDivWidth=50%25&codeDivHeight=100%25>Python Tutor</a></strong></div>"
      ],
      "text/plain": [
       "<IPython.core.display.HTML object>"
      ]
     },
     "metadata": {
      "tags": []
     },
     "output_type": "display_data"
    }
   ],
   "source": [
    "%%tutor -l c -k\n",
    "#include <stdio.h>\n",
    "\n",
    "int main() {\n",
    "  char s[]=\"an evil presence\";\n",
    "  printf(\"%s\\n\",s);\n",
    "  printf(\"%7s\\n\",s);\n",
    "  printf(\"%20s\\n\",s);\n",
    "  printf(\"%-20s\\n\",s);\n",
    "  printf(\"%.5s\\n\",s);\n",
    "  printf(\"%.12s\\n\",s);\n",
    "  printf(\"%15.12s\\n\",s);\n",
    "  printf(\"%-15.12s\\n\",s);\n",
    "  printf(\"%3.12s\\n\",s);\n",
    "  return 0;\n",
    "}"
   ]
  },
  {
   "cell_type": "markdown",
   "metadata": {
    "colab_type": "text",
    "id": "NzBsQ0u4fOZV"
   },
   "source": [
    "### Funcion scanf\n",
    "\n",
    "La forma de la función se muestra a continuacion:\n",
    "\n",
    "```C\n",
    "int scanf(const char *format[,arg1,arg2...]);\n",
    "```\n",
    "La función ```scanf()``` se usa para leer cualquier tipo de dato predefinido desde el teclado, y convertirlo de forma automática al formato interno adecuado.\n",
    "\n",
    "Esta funcion lee caracteres desde el flujo de entrada estándar, los interpreta según lo especificado en **format**, y los almacena en los argumentos. Cada argumento debe ser la dirección de la variable donde será almacenado el carácter. Retorna el número de ítems (argumentos) de entrada emparejados con éxito (almacenados). Los identificadores de formato para scanf son los mismos que para printf (ver tabla 3).\n",
    "\n",
    "**Notas importantes**\n",
    "* Cuando el tipo de dato asociado a la variable es simple (char, int, etc); se antepone el símbolo apersand (&) a la variable, pues con este símbolo se obtiene la dirección en memoria de la variable (estoo será explicado más adelante en el curso), por ejemplo en el siguiente código:\n",
    "\n",
    "\n",
    "```C\n",
    "#include <stdio.h>\n",
    "\n",
    "int main() {\n",
    "  int edad;\n",
    "  float estatura;\n",
    "  printf(\"Digite la edad: \");\n",
    "  scanf(\"%d\", &edad);\n",
    "  printf(\"Digite la estatura (en metros): \");\n",
    "  scanf(\"%f\", &estatura);\n",
    "  printf(\"\\n------------------------------------------\\n\");\n",
    "  printf(\"Edad: %d\\n\",edad);\n",
    "  printf(\"Estatura %f\\n\",estatura);\n",
    "  return 0;\n",
    "}\n",
    "```\n",
    "\n",
    "En el siguiente [enlace](https://repl.it/@HENRYALBERTOALB/ejemplo1scanf) se puede ejecutar el código anterior. Note como el ampersand es usado antepuesto a las variables edad y estatura cuando se emplea la funcion scanf. El programa anterior cuando se ejecuta arroja una salida como la siguiente (para nuestro caso asumimos una edad de 3 años y una estatura de 0.8 m).\n",
    "\n",
    "```\n",
    "Digite la edad: 3\n",
    "Digite la estatura (en metros): 0.8\n",
    "\n",
    "------------------------------------------\n",
    "Edad: 3\n",
    "Estatura 0.800000\n",
    "```\n",
    "\n",
    "\n",
    "* Cuando lo que se ingresa es una cadena de caracteres, no es necesario emplear el ampersand (&) pues en C el nombre de una cadena de caracteres se interpreta como una dirección de memoria, por ejemplo:\n",
    "\n",
    "```C\n",
    "#include <stdio.h>\n",
    "\n",
    "int main() {\n",
    "  char nombre[15]; // Almacena maximo 14 caracteres\n",
    "  printf(\"Digite el nombre: \");\n",
    "  scanf(\"%s\",nombre);\n",
    "  printf(\"\\nHola: %s\\n\",nombre);\n",
    "  return 0;\n",
    "}\n",
    "```\n",
    "\n",
    "Note como en este codigo no se emplea el ampersand cuando se lee la cadena nombre con el scanf (a diferentecia de las variables edad y estatura del ejemplo anterior). La salida del programa anterior (el cual se puede  ejecutar en el siguiente [enlace](https://repl.it/@HENRYALBERTOALB/ejemplo2scanf)) se muestra a continuacion:\n",
    "\n",
    "```\n",
    "Digite el nombre: Ramon\n",
    "\n",
    "Hola: Ramon\n",
    "```\n",
    "\n"
   ]
  },
  {
   "cell_type": "markdown",
   "metadata": {
    "colab_type": "text",
    "id": "0HJVlnFkgjic"
   },
   "source": [
    "## 4. Sentencias de Control\n",
    "Las Instrucciones de control en C son similares a las de Java. A continuación se describe la estructura y se muestan algunos ejemplos"
   ]
  },
  {
   "cell_type": "markdown",
   "metadata": {
    "colab_type": "text",
    "id": "zEndf0w9gl9U"
   },
   "source": [
    "### 4.1 Estructura condicional \n",
    "\n",
    "### 4.1.1. Estructura if/else if/else\n",
    "\n",
    "La forma de esta estructura se muestra a continuación:\n",
    "\n",
    "```C\n",
    "if(condicion1) {\n",
    "  instrucciones_condicion_1_verdadero;\n",
    "  ...\n",
    "}\n",
    "else if(condicion2) {\n",
    "  instrucciones_condicion_2_verdadero;\n",
    "  ...\n",
    "}\n",
    "...\n",
    "else if(condicion_N) {\n",
    "  instrucciones_condicion_N_verdadero:\n",
    "  ...\n",
    "}\n",
    "else {\n",
    "  instrucciones_caso_falso;\n",
    "  ...\n",
    "}\n",
    "```"
   ]
  },
  {
   "cell_type": "markdown",
   "metadata": {
    "colab_type": "text",
    "id": "103S7l-vj3lu"
   },
   "source": [
    "#### Ejemplo\n",
    "Se tiene la siguiente tabla en la cual se muestra el equivalente entre números y letras para la calificación de notas en una guardería. Realizar un algoritmo en C que tomando como base dicha tabla y como entrada las notas, imprima la nota en letras correspondiente.\n",
    "\n",
    "| Rango                               | Nota | \n",
    "|---------------------------------------------|-------------------|\n",
    "| nota >= 4.5                          | E              | \n",
    "| 4.0 <= nota < 4.5                          | B+              | \n",
    "| 3.5 <= nota < 4.0                          | B              | \n",
    "| 3.0 <= nota < 3.5                          | B-              | \n",
    "| nota < 3                          | I             | \n",
    "\n",
    "Una muestra de la salida del programa se muestra a continuación:\n",
    "```\n",
    "Introduzca la nota que saco el pelao: 3.2\n",
    "La nota es: -B\n",
    "```\n",
    "\n",
    "A continuación se muestra el [código](https://repl.it/@HENRYALBERTOALB/ejemplo1condicionales) de la solución:\n",
    "```C\n",
    "#include <stdio.h>\n",
    "\n",
    "int main() {\n",
    "  float nota;\n",
    "  printf(\"Introduzca la nota que saco el pelao: \");\n",
    "  scanf(\"%f\",&nota);\n",
    "  /* Implementacion con if anidados */\n",
    "  if(nota >= 4.5) {\n",
    "    // nota >= 4.5 --> E\n",
    "\tprintf(\"La nota es: E\\n\");\n",
    "  }\n",
    "  else if(nota >= 4.0) {\n",
    "    // nota < 4.5 y nota >= 4.0 --> 4 <= nota < 4.5 --> B+\n",
    "\tprintf(\"La nota es: B+\\n\");\n",
    "  }\n",
    "  else if(nota >= 3.5) {\n",
    "\t// nota < 4.0 y nota >= 3.5 --> 3.5 <= nota < 4 --> B\n",
    "\tprintf(\"La nota es: B\\n\");\n",
    "  }\n",
    "  else if(nota >= 3.0) {\n",
    "\t// nota < 3.5 y nota >= 3.0 --> 3.0 <= nota < 3.5 --> B-\n",
    "\tprintf(\"La nota es: B-\\n\");\n",
    "  }\n",
    "  else {\n",
    "\t// nota < 3.0\n",
    "\tprintf(\"La nota es: I\\n\");\n",
    "  }\n",
    "  return 0;\n",
    "}\n",
    "```\n",
    "\n",
    "A continuacion se muestran dos casos de ejecución y sus respectivas salidas para el programa anterior:\n",
    "* Introduciendo una nota de 3.6:\n",
    "\n",
    "```\n",
    "Introduzca la nota que saco el pelao: 3.6\n",
    "La nota es: B\n",
    "```\n",
    "\n",
    "* Introducciendo una nota de 4.8:\n",
    "\n",
    "```\n",
    "Introduzca la nota que saco el pelao: 4.8\n",
    "La nota es: E\n",
    "```\n"
   ]
  },
  {
   "cell_type": "markdown",
   "metadata": {
    "colab_type": "text",
    "id": "wu92agsMkTj8"
   },
   "source": [
    "### 4.1.2. Estructura switch\n",
    "\n",
    "La forma de esta estructura se muestra a continuación:\n",
    "\n",
    "```C\n",
    "switch(selector) {\n",
    "  case valor_1:\n",
    "    instrucciones_1;\n",
    "    ...\n",
    "    <break;>\n",
    "  case valor_2:\n",
    "    instrucciones_2;\n",
    "    ...\n",
    "    <break;>\n",
    "  case valor_N:\n",
    "    instrucciones_N;\n",
    "    ...\n",
    "    <break;>\n",
    "  default:\n",
    "    instrucciones_default;\n",
    "    ...\n",
    "}\n",
    "```\n",
    "\n"
   ]
  },
  {
   "cell_type": "markdown",
   "metadata": {
    "colab_type": "text",
    "id": "ZlhWcox_kUUx"
   },
   "source": [
    "#### Ejemplo\n",
    "En la siguiente tabla se muestran las categorías a las que pertenecen los signos del zodíaco:\n",
    "\n",
    "| Rango                               | Nota | \n",
    "|---------------------------------------------|-------------------|\n",
    "| Aries                       | Fuego              | \n",
    "| Tauro                          | Tierra              | \n",
    "| Géminis                          | Agua              | \n",
    "| Cáncer                          | Aire              | \n",
    "| Leo                          | Fuego             | \n",
    "| Virgo                          | Tierra             | \n",
    "| Libra                         | Aire            | \n",
    "| Escorpio                          | Agua             | \n",
    "| Sagitario                         | Fuego             | \n",
    "| Capricornio                         | Tierra             |\n",
    "| Acuario                         | Aire             |\n",
    "| Piscis                        | Agua             |\n",
    "\n",
    "Se quiere escribir un programa en C que:\n",
    "1. Muestre el listado de los signos del zodiaco.\n",
    "2. Pida por teclado un número (dato entero) asociado a un signo del zodiaco.\n",
    "3. Muestre la categoría a la que pertenece el signo del zodiaco seleccionado.\n",
    "\n",
    "**Nota**: Si el número introducido por el usuario, no está asociado a ningún signo del zodiaco, se mostrará\n",
    "el mensaje: **\"ERROR: <numero> no está asociado a ningún signo\"**. Hacer este problema usando la sentencia switch.\n",
    "\n",
    "A continuación se muestra el [código](https://repl.it/@HENRYALBERTOALB/ejemplo1case) de la solución:\n",
    "\n",
    "```C\n",
    "#include <stdio.h>\n",
    "\n",
    "#define ARIES 1\n",
    "#define TAURO 2\n",
    "#define GEMINIS 3\n",
    "#define CANCER 4\n",
    "#define LEO 5\n",
    "#define VIRGO 6\n",
    "#define LIBRA 7\n",
    "#define ESCORPIO 8\n",
    "#define SAGITARIO 9\n",
    "#define CAPRICORNIO 10\n",
    "#define ACUARIO 11\n",
    "#define PISCIS 12\n",
    "\n",
    "int main() {\n",
    "  int signo;\n",
    "  printf(\"SIGNOS DEL ZODIACO\\n\");\n",
    "  printf(\"1. Aries\\n\");\n",
    "  printf(\"2. Tauro\\n\");\n",
    "  printf(\"3. Géminis\\n\");\n",
    "  printf(\"4. Cáncer\\n\");\n",
    "  printf(\"5. Leo\\n\");\n",
    "  printf(\"6. Virgo\\n\");\n",
    "  printf(\"7. Libra\\n\");\n",
    "  printf(\"8. Escorpio\\n\");\n",
    "  printf(\"9. Sagitario\\n\");\n",
    "  printf(\"10. Capricornio\\n\");\n",
    "  printf(\"11. Acuario\\n\");\n",
    "  printf(\"12. Piscis\\n\\n\");\n",
    "  printf(\"Seleccione el signo del zodiaco de su preferencia: \");\n",
    "  scanf(\"%d\",&signo);\n",
    "  switch(signo) {\n",
    "\t  case ARIES:\n",
    "\t  case LEO:\n",
    "\t  case SAGITARIO:\n",
    "\t    printf(\"Su signo es categoria fuego\\n\");\n",
    "\t\tbreak;\n",
    "\t  case TAURO:\n",
    "          case VIRGO:\t  \n",
    "          case CAPRICORNIO:\n",
    "\t    printf(\"Su signo es categoria tierra\\n\");\n",
    "\t    break;\n",
    "\t  case GEMINIS:\n",
    "          case ESCORPIO:\t  \n",
    "\t  case PISCIS:\n",
    "\t    printf(\"Su signo es categoria agua\\n\");\n",
    "\t    break;\n",
    "\t  case CANCER:\n",
    "          case LIBRA:\t  \n",
    "\t  case ACUARIO:\n",
    "\t    printf(\"Su signo es categoria aire\\n\");\n",
    "\t    break;\n",
    "\t  default:\n",
    "\t    printf(\"\\\"ERROR\\\": no está asociado a ningún signo\\n\");\n",
    "  }\n",
    "  return 0;\n",
    "}\n",
    "```\n",
    "A continuación se muestra un caso de test cuando el usuario ingresa un número no válido para un signo:\n",
    "\n",
    "```\n",
    "\n",
    "SIGNOS DEL ZODIACO\n",
    "1. Aries\n",
    "2. Tauro\n",
    "3. Géminis\n",
    "4. Cáncer\n",
    "5. Leo\n",
    "6. Virgo\n",
    "7. Libra\n",
    "8. Escorpio\n",
    "9. Sagitario\n",
    "10. Capricornio\n",
    "11. Acuario\n",
    "12. Piscis\n",
    "\n",
    "Seleccione el signo del zodiaco de su preferencia: 13\n",
    "\"ERROR\": no está asociado a ningún signo\n",
    "```"
   ]
  },
  {
   "cell_type": "markdown",
   "metadata": {
    "colab_type": "text",
    "id": "ccu58l-YklV1"
   },
   "source": [
    "### 4.2 Estructura repetitiva\n"
   ]
  },
  {
   "cell_type": "markdown",
   "metadata": {
    "colab_type": "text",
    "id": "ww_CIZLNknlA"
   },
   "source": [
    "### 4.2.1. Estructura for\n",
    "\n",
    "La forma de esta estructura se muestra a continuación:\n",
    "\n",
    "```C\n",
    "for(expresion_inicializacion; expresion_test; expression_modificacion){\n",
    "  instrucciones;\n",
    "  ...\n",
    "}\n",
    "```"
   ]
  },
  {
   "cell_type": "markdown",
   "metadata": {
    "colab_type": "text",
    "id": "5EH3HAZqkshr"
   },
   "source": [
    "#### Ejemplo\n",
    "Escriba un programa que sume una secuencia de enteros. Suponga que el primer entero que se lee especifica el número de valores que faltan por introducir. Su programa deberá leer un solo valor por instrucción de entrada. Una secuencia de entrada típica podría ser:\n",
    "\n",
    "```\n",
    "5 100 200 300 400 500\n",
    "```\n",
    "Donde 5 indica que deben sumarse los siguientes 5 valores. \n",
    "\n",
    "El [código](https://repl.it/@HENRYALBERTOALB/ejemplo1for) del programa se muestra a continuacion:\n",
    "\n",
    "```C\n",
    "#include <stdio.h>\n",
    "\n",
    "int main() {\n",
    "  int N;   // Cantidad de numeros\n",
    "  int num; // Numero a leer\n",
    "  int i;   // i-esimo numero\n",
    "  int sum = 0; // Suma de los numeros\n",
    "  printf(\"Ingrese la cantidad de numeros a sumar: \");\n",
    "  scanf(\"%d\",&N);\n",
    "  for(i = 0; i < N; i++) {\n",
    "    scanf(\"%d\",&num);\n",
    "    sum += num;\n",
    "  }\n",
    "  printf(\"\\nLa suma es: %d\\n\",sum);\n",
    "  return 0;\n",
    "}\n",
    "```\n",
    "\n",
    "A continuación se muestra un caso de ejecución del programa anterior:\n",
    "\n",
    "```\n",
    "Ingrese la cantidad de numeros a sumar: 3\n",
    "123 3 3\n",
    "\n",
    "La suma es: 129\n",
    "```\n",
    "**Nota**: Para el caso, la función ```scanf``` toma el **espacio** como un **enter**. Lo anterior implica que el caso anterior sería similar al que se muestra a continuacion (en lo que respecta a los valores capturados desde el teclado):\n",
    "\n",
    "```\n",
    "Ingrese la cantidad de numeros a sumar: 3\n",
    "123 \n",
    "3 \n",
    "3\n",
    "\n",
    "La suma es: 129\n",
    "```\n"
   ]
  },
  {
   "cell_type": "markdown",
   "metadata": {
    "colab_type": "text",
    "id": "YRhSgJc9kyRU"
   },
   "source": [
    "### 4.2.2. Estructura while\n",
    "\n",
    "La forma de esta estructura se muestra a continuación:\n",
    "\n",
    "```C\n",
    "while(condicion_control){\n",
    "  instrucciones;\n",
    "  ...\n",
    "}\n",
    "```"
   ]
  },
  {
   "cell_type": "markdown",
   "metadata": {
    "colab_type": "text",
    "id": "0TGSNIE5k_lN"
   },
   "source": [
    "#### Ejemplo\n",
    "Escriba un programa que calcule e imprima el promedio de varios enteros posivos. Suponga que el último valor leído es el centinela 9999. Una secuencia típica de entrada sería:\n",
    "```\n",
    "10 8 11 7 9 9999\n",
    "```\n",
    "Que indica que el promedio de todos los valores que preceden a 9999 se va a calcular. (**Pista**: Hacer esto con un ciclo **while** dentro del cual se lean los valores a promediar, siempre y cuando la condición de que lo leído no sea 9999, se cumpla).\n",
    "\n",
    "La [solución](https://repl.it/@HENRYALBERTOALB/ejemplo1while) se muestra a continuación:\n",
    "\n",
    "```C\n",
    "#include <stdio.h>\n",
    "\n",
    "const unsigned CENTINELA = 9999;\n",
    "int main() {\n",
    "  int num; // Numero a leer\n",
    "  int sum = 0; // Suma de los numeros\n",
    "  scanf(\"%u\",&num);\n",
    "  while(num != CENTINELA) {\n",
    "    sum += num;\n",
    "    scanf(\"%d\",&num);\n",
    "  }\n",
    "  printf(\"\\nLa suma es: %d\\n\", sum);\n",
    "  return 0;\n",
    "}\n",
    "```\n",
    "\n",
    "Ingresando los valores 10, 8, 11, 7 y 9 se obtiene 45 como resultado de la suma, veamos el programa en acción para este caso:\n",
    "\n",
    "```\n",
    "10 8 11 7 9 9999\n",
    "\n",
    "La suma es: 45\n",
    "```\n"
   ]
  },
  {
   "cell_type": "markdown",
   "metadata": {
    "colab_type": "text",
    "id": "KsAhiwFOlDbK"
   },
   "source": [
    "### 4.2.3. Estructura do-while\n",
    "\n",
    "La forma de esta estructura se muestra a continuación:\n",
    "\n",
    "```C\n",
    "do {\n",
    "  instrucciones;\n",
    "  ...\n",
    "} while(condicion_control);\n",
    "```"
   ]
  },
  {
   "cell_type": "markdown",
   "metadata": {
    "colab_type": "text",
    "id": "AS48JmrTlFDx"
   },
   "source": [
    "#### Ejemplo\n",
    "Hacer un programa que solicite un número de tal manera que si este es negativo mostrara un mensaje que diga \"Número negativo asi que suerte\", y si es positivo mostrará un mensaje que diga: \"Número positivo, siga usted\" y solicite nuevamente un número.\n",
    "\n",
    "La [solución](https://repl.it/@HENRYALBERTOALB/ejemplo1dowhile) se muestra a continuación:\n",
    "\n",
    "```C\n",
    "#include <stdio.h>\n",
    "\n",
    "int num; // Numero a leer\n",
    "\n",
    "int main() {\n",
    "  \n",
    "  do {\n",
    "    scanf(\"%d\",&num); \n",
    "    if(num >= 0) {\n",
    "      printf(\"Numero positivo, siga usted\\n\"); \n",
    "    }\n",
    "    else {\n",
    "      printf(\"Numero negativo asi que suerte\\n\"); \n",
    "    }\n",
    "  } while(num >= 0);    \n",
    "  printf(\"\\nFin del programa\\n\");\n",
    "  return 0;\n",
    "}\n",
    "```\n",
    "\n",
    "A continuación se muestra una salida típica al ejecutar el anterior programa:\n",
    "\n",
    "```\n",
    "1\n",
    "Numero positivo, siga usted\n",
    "2\n",
    "Numero positivo, siga usted\n",
    "3\n",
    "Numero positivo, siga usted\n",
    "0\n",
    "Numero positivo, siga usted\n",
    "-7\n",
    "Numero negativo asi que suerte\n",
    "\n",
    "Fin del programa\n",
    "```"
   ]
  },
  {
   "cell_type": "markdown",
   "metadata": {
    "colab_type": "text",
    "id": "dALa8l9blJHc"
   },
   "source": [
    "## 5. Funciones\n",
    "\n",
    "Ademas de las funciones de librerias (como scanf y prinf) en C es posible crear funciones definidas por el usuario haciendo que los programas sean modulares. Una funcion en C es un pequeño **sub-programa** que lleva a cabo una tarea particular. La forma de trabajar con funciones en C sigue la misma filosofia que la empleada en los metodos en java. Para usar funciones el programador debe hacer tres cosas:\n",
    "1. **Definir** la función.\n",
    "2. **Declarar** la función.\n",
    "3. **Usar** la función.\n",
    "\n",
    "A continuación se detalla cada aspecto de los anteriormente mencionados."
   ]
  },
  {
   "cell_type": "markdown",
   "metadata": {
    "colab_type": "text",
    "id": "wItIgs3xlOoG"
   },
   "source": [
    "###  1. Definición de la función\n",
    "\n",
    "Consiste en las instrucciones que implementan lo que hace la función. La definición de una función tiene la siguiente sintaxis:\n",
    "\n",
    "```C\n",
    "return_type function_name (data type variable name list) {\n",
    "  local declarations;\n",
    "  function statements;\n",
    "}\n",
    "```\n",
    "\n",
    "**Ejemplo**\n",
    "\n",
    "Hacer una función que calcule el factorial de un número:\n",
    "\n",
    "```C\n",
    "int factorial (int n) {\n",
    "  int i,product=1;\n",
    "  for (i=2; i<=n; ++i)\n",
    "    product *= i;\n",
    "  return product;\n",
    "}\n",
    "```"
   ]
  },
  {
   "cell_type": "markdown",
   "metadata": {
    "colab_type": "text",
    "id": "HRVsa3FSlRks"
   },
   "source": [
    "### 2. Declaración de la función\n",
    "La declaración de una función está asociada a la cabecera de la funcion. El código de la declaración debe ubicarse antes de que la función sea definida. También se conocen como prototipos de la función y no son más que la cabecera de la función. La forma es la siguiente.\n",
    "\n",
    "```C\n",
    "return_type function_name (data type variable name list);\n",
    "}\n",
    "```\n",
    "\n",
    "**Ejemplo**\n",
    "¿Cual es el prototipo de la función factorial del ejemplo anterior?\n",
    "\n",
    "```C\n",
    "int factorial (int n);\n",
    "```"
   ]
  },
  {
   "cell_type": "markdown",
   "metadata": {
    "colab_type": "text",
    "id": "0U1fn2qrlT9d"
   },
   "source": [
    "### 3. Uso de la función\n",
    "Consiste en invocar la funcion; lo cual consiste en colocar el nombre de la función proporsionando los argumentos y variables para almacenar valores retornados (en caso de ser necesario).\n",
    "\n",
    "**Ejemplo**\n",
    "\n",
    "* Calcular el factorial de 8 llevando el resultado a una variable llamada f\n",
    "\n",
    "```C\n",
    "int f;\n",
    "f = factorial(8);\n",
    "```\n",
    "\n",
    "* Calcular el factorial de un número ingresado por el usuario:\n",
    "\n",
    "```C\n",
    "int num, f;\n",
    "printf(\"Ingrese el numero\");\n",
    "scanf(\"%d\",&num);\n",
    "f = factorial(num);\n",
    "printf(\"%d! = %d\\n\", num, f);\n",
    "```"
   ]
  },
  {
   "cell_type": "markdown",
   "metadata": {
    "colab_type": "text",
    "id": "ZxEYTFqPlbfW"
   },
   "source": [
    "#### Ejemplo 1 (paso a paso)\n",
    "Los ejemplos anteriormente mostrados solo hacian énfasis en las partes de las funciones. Para usar una funcion es necesario unir los aspectos anteriormente mencionados a la hora de codificar el archivo fuente, vamos a ver varios ejemplos para tal fin. Veamos como se haria gradualmente el proceso de una función que calcula la serie fibonacci teniendo en cuenta lo anterior. Asumiendo que el archivo fuente se llame **fibonacci.c** y tenga el siguiente contenido (es decir esta vacio):\n",
    "\n",
    "```C\n",
    "#include <stdio.h>\n",
    "\n",
    "/* Funcion main */\n",
    "int main() {\n",
    "  // coloque aqui su codigo...\n",
    "  return 0;\n",
    "}\n",
    "\n",
    "```\n",
    "\n",
    "Vamos a proceder a realizar las siguientes tareas:\n",
    "* **Paso 1**: Codificar la declaración y definición de la función:\n",
    "\n",
    "```C\n",
    "#include <stdio.h>\n",
    "\n",
    "/* Declaración de la funcion */\n",
    "int fibonacci(int n); // int fibonacci(int);\n",
    "\n",
    "/* Funcion main */\n",
    "int main() {\n",
    "  // coloque aqui su codigo...\n",
    "  return 0;\n",
    "}\n",
    "\n",
    "\n",
    "/* Definición de la funcion */\n",
    "int fibonacci(int n) {\n",
    "  if(n == 0) {\n",
    "    return 0;\n",
    "  }  \n",
    "  else if(n == 1) {\n",
    "    return 1;\n",
    "  }\n",
    "  else {\n",
    "    return fibonacci(n - 1) + fibonacci(n - 2); \n",
    "  }\n",
    "}\n",
    "```\n",
    "* **Paso 2**: Una vez que tiene la función codificada lleve a cabo casos de test para verificar que la lógica de esta sea correcta.\n",
    "\n",
    "| Caso | n | fibonacci(n) |\n",
    "|------|---|---------|\n",
    "| 1    | 0  | 0 |\n",
    "| 2    | 1  | 1 |\n",
    "| 3    | 6 | 8 |\n",
    "\n",
    "A continuación se muestra la función (con su respectiva invocación) de test que lleva a cabo estos casos de prueba:\n",
    "\n",
    "\n",
    "\n"
   ]
  },
  {
   "cell_type": "code",
   "execution_count": 23,
   "metadata": {
    "colab": {
     "autoexec": {
      "startup": false,
      "wait_interval": 0
     },
     "base_uri": "https://localhost:8080/",
     "height": 34
    },
    "colab_type": "code",
    "executionInfo": {
     "elapsed": 495,
     "status": "ok",
     "timestamp": 1531352453747,
     "user": {
      "displayName": "HENRY ALBERTO ARCILA RAMIREZ",
      "photoUrl": "https://lh3.googleusercontent.com/a/default-user=s128",
      "userId": "101819781408374541388"
     },
     "user_tz": 300
    },
    "id": "9sLVm05_rq6j",
    "outputId": "bec26d73-b753-4a7d-cdc8-787a3856088e"
   },
   "outputs": [
    {
     "data": {
      "text/html": [
       "<div class=\"text-center\"><strong><a style=\"box-sizing: border-box; padding: 0 5px; border: 1px solid #CFCFCF;\" target=\"_\" href=http://pythontutor.com/iframe-embed.html#code=%23include%20%3Cstdio.h%3E%0A%0A/%2A%20Declaraci%C3%B3n%20de%20la%20funcion%20%2A/%0Avoid%20test%28void%29%3B%0Aint%20fibonacci%28int%20n%29%3B%20//%20int%20fibonacci%28int%29%3B%0A%0A/%2A%20Funcion%20main%20%2A/%0Aint%20main%28%29%20%7B%0A%20%20//%20coloque%20aqui%20su%20codigo...%0A%20%20test%28%29%3B%0A%20%20return%200%3B%0A%7D%0A%0A%0A/%2A%20Definici%C3%B3n%20de%20la%20funcion%20%2A/%0Avoid%20test%28void%29%20%7B%0A%20%20int%20n%20%3D%200%3B%20int%20fib%3B%20%20%0A%20%20fib%20%3D%20fibonacci%28n%29%3B%0A%20%20printf%28%22-%3E%20Caso%201%3A%20n%20%3D%200%20-%20fibonacci%280%29%20%3D%20%25d%5Cn%22%2C%20fib%29%3B%0A%20%20n%2B%2B%3B%0A%20%20printf%28%22-%3E%20Caso%202%3A%20n%20%3D%20%25d%20-%20fibonacci%28%25d%29%20%3D%20%25d%5Cn%22%2C%20n%2C%20n%2C%20fibonacci%28n%29%29%3B%0A%20%20printf%28%22-%3E%20Caso%203%3A%20n%20%3D%20%25d%20-%20fibonacci%28%25d%29%20%3D%20%25d%5Cn%22%2C%206%2C%206%2C%20fibonacci%286%29%29%3B%0A%7D%0A%0Aint%20fibonacci%28int%20n%29%20%7B%0A%20%20if%28n%20%3D%3D%200%29%20%7B%0A%20%20%20%20return%200%3B%0A%20%20%7D%20%20%0A%20%20else%20if%28n%20%3D%3D%201%29%20%7B%0A%20%20%20%20return%201%3B%0A%20%20%7D%0A%20%20else%7B%0A%20%20%20%20return%20fibonacci%28n%20-%201%29%20%2B%20fibonacci%28n%20-%202%29%3B%20%0A%20%20%7D%0A%7D&origin=opt-frontend.js&cumulative=false&heapPrimitives=false&textReferences=false&curInstr=0&&verticalStack=false&py=c&rawInputLstJSON=%5B%5D&codeDivWidth=50%25&codeDivHeight=100%25>Python Tutor</a></strong></div>"
      ],
      "text/plain": [
       "<IPython.core.display.HTML object>"
      ]
     },
     "metadata": {
      "tags": []
     },
     "output_type": "display_data"
    }
   ],
   "source": [
    "%%tutor -l c -k\n",
    "#include <stdio.h>\n",
    "\n",
    "/* Declaración de la funcion */\n",
    "void test(void);\n",
    "int fibonacci(int n); // int fibonacci(int);\n",
    "\n",
    "/* Funcion main */\n",
    "int main() {\n",
    "  // coloque aqui su codigo...\n",
    "  test();\n",
    "  return 0;\n",
    "}\n",
    "\n",
    "\n",
    "/* Definición de la funcion */\n",
    "void test(void) {\n",
    "  int n = 0; int fib;  \n",
    "  fib = fibonacci(n);\n",
    "  printf(\"-> Caso 1: n = 0 - fibonacci(0) = %d\\n\", fib);\n",
    "  n++;\n",
    "  printf(\"-> Caso 2: n = %d - fibonacci(%d) = %d\\n\", n, n, fibonacci(n));\n",
    "  printf(\"-> Caso 3: n = %d - fibonacci(%d) = %d\\n\", 6, 6, fibonacci(6));\n",
    "}\n",
    "\n",
    "int fibonacci(int n) {\n",
    "  if(n == 0) {\n",
    "    return 0;\n",
    "  }  \n",
    "  else if(n == 1) {\n",
    "    return 1;\n",
    "  }\n",
    "  else{\n",
    "    return fibonacci(n - 1) + fibonacci(n - 2); \n",
    "  }\n",
    "}\n"
   ]
  },
  {
   "cell_type": "markdown",
   "metadata": {
    "colab_type": "text",
    "id": "EGoBcwPsorj8"
   },
   "source": [
    "* **Paso 3**: una vez verificado el correcto funcionamiento de la función, el siguiente paso consiste en adaptar el codigo necesario para hacer que el programa interactue con el usuario empleando esta función.\n",
    "\n",
    "```C\n",
    "#include <stdio.h>\n",
    "\n",
    "/* Declaración de la funcion */\n",
    "void test(void);\n",
    "int fibonacci(int n); // int fibonacci(int);\n",
    "\n",
    "/* Funcion main */\n",
    "int main() {\n",
    "  // coloque aqui su codigo...\n",
    "  //test();\n",
    "  int numTerm, fib;\n",
    "  printf(\"-----------------------\\n\");\n",
    "  printf(\"PROGRAMA FIBONACCI\\n\");\n",
    "  printf(\"-----------------------\\n\");\n",
    "  printf(\"Digite el numero de termino al que le desea calcular la serie fibonacci: \");\n",
    "  scanf(\"%d\",&numTerm);\n",
    "  if(numTerm < 0) {\n",
    "      printf(\"El numero de terminos debe ser positivo\\n\");\n",
    "  }\n",
    "  else {\n",
    "     fib = fibonacci(numTerm);\n",
    "     printf(\"fibonacci(%d) = %d\\n\", numTerm,fib);\n",
    "  }\n",
    "  return 0;\n",
    "}\n",
    "\n",
    "\n",
    "/* Definición de la funcion */\n",
    "void test(void) {\n",
    "  int n = 0; int fib;  \n",
    "  fib = fibonacci(n);\n",
    "  printf(\"-> Caso 1: n = 0 - fibonacci(0) = %d\\n\", fib);\n",
    "  n++;\n",
    "  printf(\"-> Caso 2: n = %d - fibonacci(%d) = %d\\n\", n, n, fibonacci(n));\n",
    "  printf(\"-> Caso 3: n = %d - fibonacci(%d) = %d\\n\", 6, 6, fibonacci(6));\n",
    "}\n",
    "\n",
    "int fibonacci(int n) {\n",
    "  if(n == 0) {\n",
    "    return 0;\n",
    "  }  \n",
    "  else if(n == 1) {\n",
    "    return 1;\n",
    "  }\n",
    "  else{\n",
    "    return fibonacci(n - 1) + fibonacci(n - 2); \n",
    "  }\n",
    "}\n",
    "```\n",
    "* **Paso 4**: lo unico que resta es disfrutar el programa (lo cual puede hacerlo siguiendo el siguiente [enlace](https://repl.it/@HENRYALBERTOALB/ejemplo1funciones)). Por ejemplo, una posible salida si se hubiera colocado **n = 8** sería:\n",
    "\n",
    "```\n",
    " -----------------------\n",
    " PROGRAMA FIBONACCI\n",
    " -----------------------\n",
    " Digite el numero de termino al que le desea calcular la serie fibonacci:  8\n",
    " fibonacci(8) = 21 \n",
    "```\n"
   ]
  },
  {
   "cell_type": "markdown",
   "metadata": {
    "colab_type": "text",
    "id": "ZIeOu7r9wU3n"
   },
   "source": [
    "#### Ejemplo 2\n",
    "Hacer un programa que permita calcular el factorial de un numero. El programa deberá interactuar con el usuario y permitir su ejecución hasta que el usuario se aburra.\n",
    "\n",
    "A contunuación se muestra el codigo solución:\n",
    "\n",
    "```C\n",
    "#include <stdio.h>\n",
    "\n",
    "/* Declaracion de funciones */\n",
    "int factorial(int n);\n",
    "\n",
    "/* Funcion principal */\n",
    "int main() {\n",
    "  int num; \n",
    "  int fac;\n",
    "  printf(\"Digite un numero positivo o -1 para terminar: \");\n",
    "  scanf(\"%d\", &num);\n",
    "  while(num != -1) {\n",
    "\t fac = factorial(num);\n",
    "     printf(\"%d! = %d\\n\\n\", num, fac);\n",
    "     printf(\"Digite un numero positivo o -1 para terminar: \");\n",
    "     scanf(\"%d\", &num); \t \n",
    "  }\n",
    "  printf(\"\\nSuerte es que le digo...\");\n",
    "  return 0;\n",
    "}\n",
    "\n",
    "/* Definicion de funciones */ \n",
    "int factorial(int n) {\n",
    "  if (n > 0) {\n",
    "    return n*factorial(n-1);\n",
    "  }\n",
    "  else {\n",
    "    return 1;\n",
    "  }\n",
    "}\n",
    "```\n",
    "\n",
    "A continuación se muestra un caso de ejecucion del programa anterior:\n",
    "\n",
    "```\n",
    "Digite un numero positivo o -1 para terminar: 0\n",
    "0! = 1\n",
    "\n",
    "Digite un numero positivo o -1 para terminar: 5\n",
    "5! = 120\n",
    "\n",
    "Digite un numero positivo o -1 para terminar: -1\n",
    "\n",
    "Suerte es que le digo...\n",
    "```\n",
    "\n",
    "El programa anterior puede ser probado usando el siguiente [enlace](https://repl.it/@HENRYALBERTOALB/ejemplo2funciones)."
   ]
  },
  {
   "cell_type": "markdown",
   "metadata": {
    "colab_type": "text",
    "id": "lkbk5KLEyDqO"
   },
   "source": [
    "## 6. Paso de parámetros a una función\n",
    "En lenguaje C existen dos formas de pasar parametros a una función, estos son:\n",
    "1. Paso por valor.\n",
    "2. Paso por referencia."
   ]
  },
  {
   "cell_type": "markdown",
   "metadata": {
    "colab_type": "text",
    "id": "0-AHgNLKyHHW"
   },
   "source": [
    "### 6.1. Paso por valor\n",
    "\n",
    "Cuando un argumento es pasado a una función su valor es copiado en el parámetro de la función. Como la función trabaja sobre el parámetro cuando es invocada, los cambios realizados al parámetro (copia del argumento) de la función no afectan el valor pasado como argumento. La forma típica de una función de este tipo se muestra a continuación:\n",
    "\n",
    "* **Declaracion o prototipo**\n",
    "\n",
    "> ```C\n",
    "> return_type function_name (type1 var1, type2  var2, ...);\n",
    "> ```\n",
    "\n",
    "El siguiente código es un ejemplo de lo anterior: \n",
    " \n",
    "```C\n",
    "void incremento(int num);\n",
    "```\n",
    "\n",
    "* **Definicion**\n",
    "\n",
    "> ```C\n",
    "> return_type function_name (type1 var1, type2  var2, ...) {\n",
    ">   // Intrucciones \n",
    ">   ...\n",
    ">   code...\n",
    ">   ...\n",
    "> }\n",
    "> ```\n",
    "\n",
    "El siguiente código es un ejemplo de lo anterior: \n",
    "\n",
    "```C\n",
    "void incremento(int num) {\n",
    "  num++;\n",
    "}\n",
    "```\n",
    "\n",
    "* **Invocacion**\n",
    "> ```C\n",
    "> < var_resultado = > function_name (arg1, arg2, ...);\n",
    "> ```\n",
    "\n",
    "El siguiente código es un ejemplo de lo anterior: \n",
    "\n",
    "```C\n",
    "int N = 1;\n",
    "incremento(N);\n",
    "```"
   ]
  },
  {
   "cell_type": "markdown",
   "metadata": {
    "colab_type": "text",
    "id": "_f32JTk8yO3W"
   },
   "source": [
    "**Ejemplo**\n",
    "En el siguiente ejemplo se muestra una función que incrementa valor que se pasa al parámetro. Este, como los ejemplos vistos con anterioridad emplean el paso de funciones por argumento. A continuación se muestra el codigo solución:"
   ]
  },
  {
   "cell_type": "code",
   "execution_count": 24,
   "metadata": {
    "colab": {
     "autoexec": {
      "startup": false,
      "wait_interval": 0
     },
     "base_uri": "https://localhost:8080/",
     "height": 34
    },
    "colab_type": "code",
    "executionInfo": {
     "elapsed": 458,
     "status": "ok",
     "timestamp": 1531353628516,
     "user": {
      "displayName": "HENRY ALBERTO ARCILA RAMIREZ",
      "photoUrl": "https://lh3.googleusercontent.com/a/default-user=s128",
      "userId": "101819781408374541388"
     },
     "user_tz": 300
    },
    "id": "jRN7C67dyY67",
    "outputId": "50a99da2-ee2c-460e-fd39-29815b38a478"
   },
   "outputs": [
    {
     "data": {
      "text/html": [
       "<div class=\"text-center\"><strong><a style=\"box-sizing: border-box; padding: 0 5px; border: 1px solid #CFCFCF;\" target=\"_\" href=http://pythontutor.com/iframe-embed.html#code=%23include%20%3Cstdio.h%3E%0A%0A//%20Prototipo%0Avoid%20incremento%28int%20num%29%3B%0A%0Aint%20main%28%29%20%7B%0A%20%20int%20N%20%3D%203%3B%0A%20%20printf%28%22Valor%20de%20N%20antes%20del%20llamado%20a%20la%20funcion%3A%20%25d%5Cn%22%2C%20N%29%3B%0A%20%20//%20Invocacion%0A%20%20incremento%28N%29%3B%0A%20%20printf%28%22Valor%20de%20N%20despues%20del%20llamado%20a%20la%20funcion%3A%20%25d%5Cn%22%2C%20N%29%3B%0A%20%20return%200%3B%0A%7D%0A%0A//%20Definicion%0Avoid%20incremento%28int%20num%29%20%7B%0A%20%20num%2B%2B%3B%0A%7D&origin=opt-frontend.js&cumulative=false&heapPrimitives=false&textReferences=false&curInstr=0&&verticalStack=false&py=c&rawInputLstJSON=%5B%5D&codeDivWidth=50%25&codeDivHeight=100%25>Python Tutor</a></strong></div>"
      ],
      "text/plain": [
       "<IPython.core.display.HTML object>"
      ]
     },
     "metadata": {
      "tags": []
     },
     "output_type": "display_data"
    }
   ],
   "source": [
    "%%tutor -l c -k\n",
    "#include <stdio.h>\n",
    "\n",
    "// Prototipo\n",
    "void incremento(int num);\n",
    "\n",
    "int main() {\n",
    "  int N = 3;\n",
    "  printf(\"Valor de N antes del llamado a la funcion: %d\\n\", N);\n",
    "  // Invocacion\n",
    "  incremento(N);\n",
    "  printf(\"Valor de N despues del llamado a la funcion: %d\\n\", N);\n",
    "  return 0;\n",
    "}\n",
    "\n",
    "// Definicion\n",
    "void incremento(int num) {\n",
    "  num++;\n",
    "}\n"
   ]
  },
  {
   "cell_type": "markdown",
   "metadata": {
    "colab_type": "text",
    "id": "MWVkaaFeykbm"
   },
   "source": [
    "**Pregunta**\n",
    "1. ¿Cuál es el valor de num y N antes del retorno de la función incremento? \n",
    "2. ¿Cambian ambas variables? "
   ]
  },
  {
   "cell_type": "markdown",
   "metadata": {
    "colab_type": "text",
    "id": "5SvaJJzhypKO"
   },
   "source": [
    "### 6.2. Paso por referencia\n",
    "\n",
    "Una función por referencia es aquella que emplea como parámetros apuntadores (variables que almacenan direcciones de memoria, este tema se tratará después con más detalle). En este caso particular cuando una función es llamada por referencia lo que se pasa es la dirección de la variable pasada como argumento (anteponiendo el ampersand (**&**) al nombre de esta (**&var** = **Dirección de var**)), con esto, la función no trabaja sobre una copia local del argumento, sino directamente sobre la variable en sí, pues su contenido en memoria es manipulado a través del apuntador asociado al parámetro de la función. A continuación, se muestra la forma básica de trabajo para llamados por referencia:\n",
    "\n",
    "* **Declaración o prototipo**\n",
    "\n",
    "> ```C\n",
    "> return_type function_name (type1 *var1, type2  *var2, ...);\n",
    "> ```\n",
    "\n",
    "El siguiente código es un ejemplo de lo anterior: \n",
    " \n",
    "```C\n",
    "void incremento(int *num);\n",
    "```\n",
    "\n",
    "* **Definición**\n",
    "\n",
    "> ```C\n",
    "> return_type function_name (type1 *var1, type2  *var2, ...) {\n",
    ">   // Intrucciones \n",
    ">   ...\n",
    ">   code...\n",
    ">   ...\n",
    "> }\n",
    "> ```\n",
    "\n",
    "El siguiente código es un ejemplo de lo anterior: \n",
    "\n",
    "```C\n",
    "void incremento(int *num) {\n",
    "  *num += 1;\n",
    "}\n",
    "```\n",
    "\n",
    "**Nota**: Tanto en la declaración como en la definición note que el manejo del parametro se hizo anteponiendo a la variable un simbolo asterisco (*****), esto se debe a que el parametro es una variable tipo apuntador, este será un tema posterior, por ahora, tenga en cuenta que gracias al asterisco es que se puede cambiar el contenido almacenado en la memoria de la variable a la que el parametro tipo apuntador num apunta.\n",
    "\n",
    "* **Invocacion**\n",
    "> ```C\n",
    "> < var_resultado = > function_name (&arg1, &arg2, ...);\n",
    "> ```\n",
    "\n",
    "El siguiente código es un ejemplo de lo anterior: \n",
    "\n",
    "```C\n",
    "int N = 1;\n",
    "incremento(&N);\n",
    "```\n",
    "\n",
    "**Nota**: Observe que la invocación para el caso se hizo con el operador ampersand (&), esto tiene su razón de ser pero será abordado después, por ahora tenga en cuenta que cuando se pasan variables a funciones y el llamado es por referencia se les debe anteponer el operador ampersand (&) como en el ejemplo anterior y en el caso de la función scanf (analizada previamente)."
   ]
  },
  {
   "cell_type": "markdown",
   "metadata": {
    "colab_type": "text",
    "id": "4ypyRK75yvsE"
   },
   "source": [
    "**Ejemplo**\n",
    "En el siguiente ejemplo se muestra una función que incrementa referencia que se pasa al parámetro, la idea es resumir todo lo expuesto anteriormente, no se preocupe si de entrada no coje el hilo, es el tema más dificil de manejar en C (incluso, personalmente fue algo difícil de entender en nuestro pregrado), pero una vez tenga claridad con esto todo fluirá. \n",
    "\n",
    "A continuación se muestra el codigo asociado:"
   ]
  },
  {
   "cell_type": "code",
   "execution_count": 0,
   "metadata": {
    "colab": {
     "autoexec": {
      "startup": false,
      "wait_interval": 0
     }
    },
    "colab_type": "code",
    "id": "scGTtAh9y17I"
   },
   "outputs": [],
   "source": [
    "%%tutor -l c -k\n",
    "#include <stdio.h>\n",
    "\n",
    "void incremento(int *num);\n",
    "\n",
    "int main() {\n",
    "  int N = 3;\n",
    "  printf(\"Valor de N antes del llamado a la funcion: %d\\n\", N);\n",
    "  incremento(&N);\n",
    "  printf(\"Valor de N despues del llamado a la funcion: %d\\n\", N);\n",
    "  return 0;\n",
    "}\n",
    "\n",
    "void incremento(int *num) {\n",
    "  *num += 1;\n",
    "}"
   ]
  },
  {
   "cell_type": "markdown",
   "metadata": {
    "colab_type": "text",
    "id": "NTvsiDOzy9RX"
   },
   "source": [
    "**Pregunta**: ¿Cuál es el valor de N antes y después del retorno de la función incremento?\n"
   ]
  },
  {
   "cell_type": "markdown",
   "metadata": {
    "colab_type": "text",
    "id": "QVRuZsb4zmYf"
   },
   "source": [
    "**Asimilando lo anterior**\n",
    "\n",
    "**P1**. Repase los ejemplos anteriormente mostrados y observe las diferencias en su ejecución. Para cada caso: ¿cual es el valor antes y despues de la función de incremento?"
   ]
  },
  {
   "cell_type": "markdown",
   "metadata": {
    "colab_type": "text",
    "id": "RDyYCtIZjZTR"
   },
   "source": [
    "**Función llamada por valor** "
   ]
  },
  {
   "cell_type": "code",
   "execution_count": 4,
   "metadata": {
    "colab": {
     "autoexec": {
      "startup": false,
      "wait_interval": 0
     },
     "base_uri": "https://localhost:8080/",
     "height": 34
    },
    "colab_type": "code",
    "executionInfo": {
     "elapsed": 550,
     "status": "ok",
     "timestamp": 1531416878666,
     "user": {
      "displayName": "HENRY ALBERTO ARCILA RAMIREZ",
      "photoUrl": "https://lh3.googleusercontent.com/a/default-user=s128",
      "userId": "101819781408374541388"
     },
     "user_tz": 300
    },
    "id": "JPV0e3iBjlTT",
    "outputId": "2799d80c-e735-474e-f00d-7c077284ab22"
   },
   "outputs": [
    {
     "data": {
      "text/html": [
       "<div class=\"text-center\"><strong><a style=\"box-sizing: border-box; padding: 0 5px; border: 1px solid #CFCFCF;\" target=\"_\" href=http://pythontutor.com/iframe-embed.html#code=%23include%20%3Cstdio.h%3E%0A%0A//%20Prototipo%0Avoid%20incremento%28int%20num%29%3B%0A%0Aint%20main%28%29%20%7B%0A%20%20int%20N%20%3D%203%3B%0A%20%20printf%28%22Valor%20de%20N%20antes%20del%20llamado%20a%20la%20funcion%3A%20%25d%5Cn%22%2C%20N%29%3B%0A%20%20//%20Invocacion%0A%20%20incremento%28N%29%3B%0A%20%20printf%28%22Valor%20de%20N%20despues%20del%20llamado%20a%20la%20funcion%3A%20%25d%5Cn%22%2C%20N%29%3B%0A%20%20return%200%3B%0A%7D%0A%0A//%20Definicion%0Avoid%20incremento%28int%20num%29%20%7B%0A%20%20num%2B%2B%3B%0A%7D&origin=opt-frontend.js&cumulative=false&heapPrimitives=false&textReferences=false&curInstr=0&&verticalStack=false&py=c&rawInputLstJSON=%5B%5D&codeDivWidth=50%25&codeDivHeight=100%25>Python Tutor</a></strong></div>"
      ],
      "text/plain": [
       "<IPython.core.display.HTML object>"
      ]
     },
     "metadata": {
      "tags": []
     },
     "output_type": "display_data"
    }
   ],
   "source": [
    "%%tutor -l c -k\n",
    "#include <stdio.h>\n",
    "\n",
    "// Prototipo\n",
    "void incremento(int num);\n",
    "\n",
    "int main() {\n",
    "  int N = 3;\n",
    "  printf(\"Valor de N antes del llamado a la funcion: %d\\n\", N);\n",
    "  // Invocacion\n",
    "  incremento(N);\n",
    "  printf(\"Valor de N despues del llamado a la funcion: %d\\n\", N);\n",
    "  return 0;\n",
    "}\n",
    "\n",
    "// Definicion\n",
    "void incremento(int num) {\n",
    "  num++;\n",
    "}\n"
   ]
  },
  {
   "cell_type": "markdown",
   "metadata": {
    "colab_type": "text",
    "id": "qHco7t37jflR"
   },
   "source": [
    "**Función llamada por referencia** "
   ]
  },
  {
   "cell_type": "code",
   "execution_count": 6,
   "metadata": {
    "colab": {
     "autoexec": {
      "startup": false,
      "wait_interval": 0
     },
     "base_uri": "https://localhost:8080/",
     "height": 34
    },
    "colab_type": "code",
    "executionInfo": {
     "elapsed": 544,
     "status": "ok",
     "timestamp": 1531416905385,
     "user": {
      "displayName": "HENRY ALBERTO ARCILA RAMIREZ",
      "photoUrl": "https://lh3.googleusercontent.com/a/default-user=s128",
      "userId": "101819781408374541388"
     },
     "user_tz": 300
    },
    "id": "rIIDnp-5jym0",
    "outputId": "f7247c52-ffb6-44ce-b060-86a55c9a3fa2"
   },
   "outputs": [
    {
     "data": {
      "text/html": [
       "<div class=\"text-center\"><strong><a style=\"box-sizing: border-box; padding: 0 5px; border: 1px solid #CFCFCF;\" target=\"_\" href=http://pythontutor.com/iframe-embed.html#code=%23include%20%3Cstdio.h%3E%0A%0Avoid%20incremento%28int%20%2Anum%29%3B%0A%0Aint%20main%28%29%20%7B%0A%20%20int%20N%20%3D%203%3B%0A%20%20printf%28%22Valor%20de%20N%20antes%20del%20llamado%20a%20la%20funcion%3A%20%25d%5Cn%22%2C%20N%29%3B%0A%20%20incremento%28%26N%29%3B%0A%20%20printf%28%22Valor%20de%20N%20despues%20del%20llamado%20a%20la%20funcion%3A%20%25d%5Cn%22%2C%20N%29%3B%0A%20%20return%200%3B%0A%7D%0A%0Avoid%20incremento%28int%20%2Anum%29%20%7B%0A%20%20%2Anum%20%2B%3D%201%3B%0A%7D&origin=opt-frontend.js&cumulative=false&heapPrimitives=false&textReferences=false&curInstr=0&&verticalStack=false&py=c&rawInputLstJSON=%5B%5D&codeDivWidth=50%25&codeDivHeight=100%25>Python Tutor</a></strong></div>"
      ],
      "text/plain": [
       "<IPython.core.display.HTML object>"
      ]
     },
     "metadata": {
      "tags": []
     },
     "output_type": "display_data"
    }
   ],
   "source": [
    "%%tutor -l c -k\n",
    "#include <stdio.h>\n",
    "\n",
    "void incremento(int *num);\n",
    "\n",
    "int main() {\n",
    "  int N = 3;\n",
    "  printf(\"Valor de N antes del llamado a la funcion: %d\\n\", N);\n",
    "  incremento(&N);\n",
    "  printf(\"Valor de N despues del llamado a la funcion: %d\\n\", N);\n",
    "  return 0;\n",
    "}\n",
    "\n",
    "void incremento(int *num) {\n",
    "  *num += 1;\n",
    "}"
   ]
  },
  {
   "cell_type": "markdown",
   "metadata": {
    "colab_type": "text",
    "id": "6myT91nGkLSC"
   },
   "source": [
    "**P2**. Analice y entienda el siguiente código"
   ]
  },
  {
   "cell_type": "code",
   "execution_count": 8,
   "metadata": {
    "colab": {
     "autoexec": {
      "startup": false,
      "wait_interval": 0
     },
     "base_uri": "https://localhost:8080/",
     "height": 34
    },
    "colab_type": "code",
    "executionInfo": {
     "elapsed": 491,
     "status": "ok",
     "timestamp": 1531417058634,
     "user": {
      "displayName": "HENRY ALBERTO ARCILA RAMIREZ",
      "photoUrl": "https://lh3.googleusercontent.com/a/default-user=s128",
      "userId": "101819781408374541388"
     },
     "user_tz": 300
    },
    "id": "JdiMnb4DkZC9",
    "outputId": "2b975d81-ff28-49fc-ee59-db37cbcda23a"
   },
   "outputs": [
    {
     "data": {
      "text/html": [
       "<div class=\"text-center\"><strong><a style=\"box-sizing: border-box; padding: 0 5px; border: 1px solid #CFCFCF;\" target=\"_\" href=http://pythontutor.com/iframe-embed.html#code=%23include%20%3Cstdio.h%3E%0A%0Avoid%20intercambioReferencia%28int%20%2Ax%2C%20int%20%2Ay%29%3B%0Avoid%20intercambioValor%28int%20x%2C%20int%20y%29%3B%0A%0Aint%20main%28%29%20%7B%0A%20%20%20%20int%20x%20%3D%205%2C%20y%20%3D%2010%3B%0A%20%20%20%20printf%28%22---------------------------------------------------%5Cn%22%29%3B%0A%20%20%20%20printf%28%22Llamada%20por%20valor%5Cn%22%29%3B%0A%20%20%20%20printf%28%22Antes%20del%20intercambio%3A%20x%20%3D%20%25d%3B%20y%20%3D%20%25d%5Cn%22%2C%20x%20%2C%20y%29%3B%20%20%20%20%0A%20%20%20%20intercambioValor%28x%2C%20y%29%3B%0A%20%20%20%20printf%28%22Despues%20del%20intercambio%3A%20x%20%3D%20%25d%3B%20y%20%3D%20%25d%5Cn%22%2C%20x%20%2C%20y%29%3B%0A%20%20%20%20printf%28%22---------------------------------------------------%5Cn%22%29%3B%0A%20%20%20%20printf%28%22Llamada%20por%20referencia%5Cn%22%29%3B%0A%20%20%20%20printf%28%22Antes%20del%20intercambio%3A%20x%20%3D%20%25d%3B%20y%20%3D%20%25d%5Cn%22%2C%20x%20%2C%20y%29%3B%20%20%20%20%0A%20%20%20%20intercambioReferencia%28%26x%2C%20%26y%29%3B%0A%20%20%20%20printf%28%22Despues%20del%20intercambio%3A%20x%20%3D%20%25d%3B%20y%20%3D%20%25d%5Cn%22%2C%20x%20%2C%20y%29%3B%0A%20%20%20%20printf%28%22---------------------------------------------------%5Cn%22%29%3B%0A%20%20%20%20return%200%3B%0A%7D%0A%0Avoid%20intercambioReferencia%28int%20%2Apx%2C%20int%20%2Apy%29%20%7B%0A%20%20%20%20int%20temp%3B%0A%20%20%20%20temp%20%3D%20%2Apx%3B%0A%20%20%20%20%2Apx%20%3D%20%2Apy%3B%0A%20%20%20%20%2Apy%20%3D%20temp%3B%20%20%20%20%0A%7D%0A%0Avoid%20intercambioValor%28int%20x%2C%20int%20y%29%20%7B%0A%20%20%20%20int%20temp%3B%0A%20%20%20%20temp%20%3D%20x%3B%0A%20%20%20%20x%20%3D%20y%3B%0A%20%20%20%20y%20%3D%20temp%3B%0A%7D&origin=opt-frontend.js&cumulative=false&heapPrimitives=false&textReferences=false&curInstr=0&&verticalStack=false&py=c&rawInputLstJSON=%5B%5D&codeDivWidth=50%25&codeDivHeight=100%25>Python Tutor</a></strong></div>"
      ],
      "text/plain": [
       "<IPython.core.display.HTML object>"
      ]
     },
     "metadata": {
      "tags": []
     },
     "output_type": "display_data"
    }
   ],
   "source": [
    "%%tutor -l c -k\n",
    "#include <stdio.h>\n",
    "\n",
    "void intercambioReferencia(int *x, int *y);\n",
    "void intercambioValor(int x, int y);\n",
    "\n",
    "int main() {\n",
    "    int x = 5, y = 10;\n",
    "    printf(\"---------------------------------------------------\\n\");\n",
    "    printf(\"Llamada por valor\\n\");\n",
    "    printf(\"Antes del intercambio: x = %d; y = %d\\n\", x , y);    \n",
    "    intercambioValor(x, y);\n",
    "    printf(\"Despues del intercambio: x = %d; y = %d\\n\", x , y);\n",
    "    printf(\"---------------------------------------------------\\n\");\n",
    "    printf(\"Llamada por referencia\\n\");\n",
    "    printf(\"Antes del intercambio: x = %d; y = %d\\n\", x , y);    \n",
    "    intercambioReferencia(&x, &y);\n",
    "    printf(\"Despues del intercambio: x = %d; y = %d\\n\", x , y);\n",
    "    printf(\"---------------------------------------------------\\n\");\n",
    "    return 0;\n",
    "}\n",
    "\n",
    "void intercambioReferencia(int *px, int *py) {\n",
    "    int temp;\n",
    "    temp = *px;\n",
    "    *px = *py;\n",
    "    *py = temp;    \n",
    "}\n",
    "\n",
    "void intercambioValor(int x, int y) {\n",
    "    int temp;\n",
    "    temp = x;\n",
    "    x = y;\n",
    "    y = temp;\n",
    "}\n"
   ]
  },
  {
   "cell_type": "markdown",
   "metadata": {
    "colab_type": "text",
    "id": "kRKIlF5Aktok"
   },
   "source": [
    "## 7. Enlaces de interes\n",
    "1. [Learn C Programming - The Definitive Guide](https://www.programiz.com/c-programming)\n",
    "2. [C Programming Language](https://www.geeksforgeeks.org/c-programming-language/)\n",
    "3. [C Tutorial](https://www.tutorialspoint.com/cprogramming/)\n",
    "4. [learn-c](http://www.learn-c.org/)\n",
    "5. [C tutorial - w3schools](https://www.w3schools.in/c-tutorial/)\n",
    "6. [hackr.io](https://hackr.io/)\n",
    "7. [C Tutorial – Learn C Programming with examples\n",
    "](https://beginnersbook.com/2014/01/c-tutorial-for-beginners-with-examples/)\n",
    "8. [Introduction to C Programming](https://alison.com/course/introduction-to-c-programming)\n",
    "9. [programming notes](https://www3.ntu.edu.sg/home/ehchua/programming/index.html)"
   ]
  }
 ],
 "metadata": {
  "colab": {
   "default_view": {},
   "name": "intro_C_basico.ipynb",
   "provenance": [],
   "version": "0.3.2",
   "views": {}
  },
  "kernelspec": {
   "display_name": "Python 3",
   "language": "python",
   "name": "python3"
  },
  "language_info": {
   "codemirror_mode": {
    "name": "ipython",
    "version": 3
   },
   "file_extension": ".py",
   "mimetype": "text/x-python",
   "name": "python",
   "nbconvert_exporter": "python",
   "pygments_lexer": "ipython3",
   "version": "3.7.4"
  }
 },
 "nbformat": 4,
 "nbformat_minor": 1
}
