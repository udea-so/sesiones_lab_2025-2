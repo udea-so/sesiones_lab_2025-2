{
 "cells": [
  {
   "cell_type": "markdown",
   "metadata": {},
   "source": [
    "[![Open In Colab](https://colab.research.google.com/assets/colab-badge.svg)](https://colab.research.google.com/github/dannymrock/UdeA-SO-Lab/blob/master/lab0/lab0b/parte3/matrices_ptr.ipynb)"
   ]
  },
  {
   "cell_type": "code",
   "execution_count": 0,
   "metadata": {
    "colab": {
     "autoexec": {
      "startup": false,
      "wait_interval": 0
     }
    },
    "colab_type": "code",
    "id": "5cTaG42eEakO"
   },
   "outputs": [],
   "source": [
    "!pip3 install tutormagic"
   ]
  },
  {
   "cell_type": "code",
   "execution_count": 0,
   "metadata": {
    "colab": {
     "autoexec": {
      "startup": false,
      "wait_interval": 0
     }
    },
    "colab_type": "code",
    "id": "K-oLGZl8EdN9"
   },
   "outputs": [],
   "source": [
    "%load_ext tutormagic"
   ]
  },
  {
   "cell_type": "markdown",
   "metadata": {
    "colab_type": "text",
    "id": "NwBc3Ji23Xo3"
   },
   "source": [
    "# Apuntadores y arreglos multidimensionales\n"
   ]
  },
  {
   "cell_type": "markdown",
   "metadata": {
    "colab_type": "text",
    "id": "QdOxXHUk3cH7"
   },
   "source": [
    "---\n",
    "> **Objetivos**\n",
    "> * Introducir el concepto, manipulacion y uso de los arreglos multidimensionales.\n",
    "> * Tratar mas aplicaciones de los apuntadores\n",
    "\n",
    "---"
   ]
  },
  {
   "cell_type": "markdown",
   "metadata": {
    "colab_type": "text",
    "id": "5v8FIbjV3jrr"
   },
   "source": [
    "## 1. Arreglos multidimensionales en C\n",
    "\n",
    "A diferencia de los vectores, los arreglos multidimensionales (tambien conocidos como) se caracterizan por que manejan mas de un indice. Respecto a la manipulación, no existen considerables diferencias con java, sin embargo, a modo de repaso vamos a introducir algunos conceptos de repaso.\n",
    "\n",
    "### 1.1. Declaración\n",
    "Aqui se establecen ls dimensiones de cada componente, las formas mas comunes siguen una sintaxis como la siguiente:\n",
    "\n",
    "**Caso para un arreglo de dos dimensiones**\n",
    "\n",
    "```C\n",
    "// Arreglo de dos dimensiones\n",
    "arrayType  arrayName[Rows][Columns];\n",
    "```\n",
    "\n",
    "**Caso para un arreglo de tres dimensiones**\n",
    "\n",
    "```C\n",
    "// Arreglo de tres dimensiones\n",
    "arrayType  arrayName[Planes][Rows ][Columns];\n",
    "```\n",
    "\n",
    "**Caso para un arreglo de N dimensiones**\n",
    "\n",
    "```C\n",
    "// Arreglo de N dimensiones\n",
    "arrayType  arrayName[Dim1][Dim2]...[DimN];\n",
    "```\n",
    "\n",
    "**Ejemplo**\n",
    "El siguiente codigo  muestra algunas declaraciones:\n"
   ]
  },
  {
   "cell_type": "code",
   "execution_count": 3,
   "metadata": {
    "colab": {
     "autoexec": {
      "startup": false,
      "wait_interval": 0
     },
     "base_uri": "https://localhost:8080/",
     "height": 34
    },
    "colab_type": "code",
    "executionInfo": {
     "elapsed": 526,
     "status": "ok",
     "timestamp": 1531512760920,
     "user": {
      "displayName": "HENRY ALBERTO ARCILA RAMIREZ",
      "photoUrl": "https://lh3.googleusercontent.com/a/default-user=s128",
      "userId": "101819781408374541388"
     },
     "user_tz": 300
    },
    "id": "H9T6fNL5RdtR",
    "outputId": "684744e4-fc9c-42d8-9365-051b5e6e4adc"
   },
   "outputs": [
    {
     "data": {
      "text/html": [
       "<div class=\"text-center\"><strong><a style=\"box-sizing: border-box; padding: 0 5px; border: 1px solid #CFCFCF;\" target=\"_\" href=http://pythontutor.com/iframe-embed.html#code=int%20A%5B2%5D%5B3%5D%3B%0Afloat%20B%5B3%5D%5B1%5D%3B%0A%0Aint%20main%28%29%20%7B%0A%20%20char%20C%5B2%5D%5B3%5D%5B4%5D%3B%0A%20%20return%200%3B%0A%7D&origin=opt-frontend.js&cumulative=false&heapPrimitives=false&textReferences=false&curInstr=0&&verticalStack=false&py=c&rawInputLstJSON=%5B%5D&codeDivWidth=50%25&codeDivHeight=100%25>Python Tutor</a></strong></div>"
      ],
      "text/plain": [
       "<IPython.core.display.HTML object>"
      ]
     },
     "metadata": {
      "tags": []
     },
     "output_type": "display_data"
    }
   ],
   "source": [
    "%%tutor -l c -k\n",
    "int A[2][3];\n",
    "float B[3][1];\n",
    "\n",
    "int main() {\n",
    "  char C[2][3][4];\n",
    "  return 0;\n",
    "}"
   ]
  },
  {
   "cell_type": "markdown",
   "metadata": {
    "colab_type": "text",
    "id": "A5iUGLvfCdC0"
   },
   "source": [
    "La salida es como se muestra a continuacion:\n",
    "\n",
    "![matrix_1](https://github.com/repos-SO-UdeA/laboratorios/blob/master/lab1/teoria/parte3/imagenes/matriz1.png?raw=true)\n",
    "\n",
    "**Figura 1**. Declaración de varios arreglos multidimensionales.\n",
    "\n",
    "A veces, puede ser util **inicializar** una matrix al declararla, a continuacion se muestran algunos ejemplos:\n",
    "\n",
    "**Ejemplo**\n",
    "El siguiente ćodigo muestra diferentes formas de declarar e inicializar matrices:\n"
   ]
  },
  {
   "cell_type": "code",
   "execution_count": 5,
   "metadata": {
    "colab": {
     "autoexec": {
      "startup": false,
      "wait_interval": 0
     },
     "base_uri": "https://localhost:8080/",
     "height": 34
    },
    "colab_type": "code",
    "executionInfo": {
     "elapsed": 1261,
     "status": "ok",
     "timestamp": 1531512998687,
     "user": {
      "displayName": "HENRY ALBERTO ARCILA RAMIREZ",
      "photoUrl": "https://lh3.googleusercontent.com/a/default-user=s128",
      "userId": "101819781408374541388"
     },
     "user_tz": 300
    },
    "id": "-ENxNz-DSVdP",
    "outputId": "439a5f03-2848-40ef-da9f-0ece987b9035"
   },
   "outputs": [
    {
     "data": {
      "text/html": [
       "<div class=\"text-center\"><strong><a style=\"box-sizing: border-box; padding: 0 5px; border: 1px solid #CFCFCF;\" target=\"_\" href=http://pythontutor.com/iframe-embed.html#code=%23include%20%3Cstdio.h%3E%0A%0Aint%20matrix1%5B%5D%5B4%5D%20%3D%20%7B%0A%20%20%20%20%20%20%20%20%20%20%20%20%20%20%20%20%20%20%20%20%7B4%2C%202%2C%207%2C%203%7D%2C%0A%20%20%20%20%20%20%20%20%20%20%20%20%20%20%20%20%20%20%20%20%7B6%2C%201%2C%209%2C%205%7D%2C%0A%20%20%20%20%20%20%20%20%20%20%20%20%20%20%20%20%20%20%20%20%7B8%2C%205%2C%200%2C%201%7D%20%20%0A%20%20%20%20%20%20%20%20%20%20%20%20%20%20%20%20%20%20%7D%3B%0A%0A%0Aint%20main%28%29%20%7B%0A%20%20int%20matrix2%5B2%5D%5B2%5D%20%3D%20%7B%7B1%2C%202%7D%2C%20%7B3%2C%204%7D%7D%3B%0A%20%20int%20matrix3%5B2%5D%5B2%5D%20%3D%20%7B%7B1%7D%2C%20%7B3%2C%204%7D%7D%3B%20%0A%20%20int%20matrix4%5B3%5D%5B5%5D%3D%7B1%2C%202%2C%203%2C%204%2C%205%2C%206%2C%207%2C%208%2C%209%2C%2010%2C%2011%2C%2012%2C%2013%2C%2014%2C%2015%7D%3B%0A%20%20int%20matrix5%5B%5D%5B3%5D%3D%7B1%2C%202%2C%203%2C%204%7D%3B%0A%20%20return%200%3B%0A%7D&origin=opt-frontend.js&cumulative=false&heapPrimitives=false&textReferences=false&curInstr=0&&verticalStack=false&py=c&rawInputLstJSON=%5B%5D&codeDivWidth=50%25&codeDivHeight=100%25>Python Tutor</a></strong></div>"
      ],
      "text/plain": [
       "<IPython.core.display.HTML object>"
      ]
     },
     "metadata": {
      "tags": []
     },
     "output_type": "display_data"
    }
   ],
   "source": [
    "%%tutor -l c -k\n",
    "#include <stdio.h>\n",
    "\n",
    "int matrix1[][4] = {\n",
    "                    {4, 2, 7, 3},\n",
    "                    {6, 1, 9, 5},\n",
    "                    {8, 5, 0, 1}  \n",
    "                  };\n",
    "\n",
    "\n",
    "int main() {\n",
    "  int matrix2[2][2] = {{1, 2}, {3, 4}};\n",
    "  int matrix3[2][2] = {{1}, {3, 4}}; \n",
    "  int matrix4[3][5]={1, 2, 3, 4, 5, 6, 7, 8, 9, 10, 11, 12, 13, 14, 15};\n",
    "  int matrix5[][3]={1, 2, 3, 4};\n",
    "  return 0;\n",
    "}"
   ]
  },
  {
   "cell_type": "markdown",
   "metadata": {
    "colab_type": "text",
    "id": "Bs1a6d1_DQCl"
   },
   "source": [
    "La representación en memoria de las matrices declaradas en el ejercicio anterior se muestra a continuación\n",
    "\n",
    "![matrix_2](https://github.com/repos-SO-UdeA/laboratorios/blob/master/lab1/teoria/parte3/imagenes/matriz2.png?raw=true)\n",
    "\n",
    "**Figura 2**. Declaración e inicialización de varios arreglos multidimensionales.\n",
    "\n",
    "**Nota**: Al inicializar una matrix se debe pasar como minimo la dimension de las columnas (para el caso de dos dimensiones), si no se hace el compilador no sera capaz de deducir el tamaño de la matriz y se producira un error.\n",
    "\n"
   ]
  },
  {
   "cell_type": "markdown",
   "metadata": {
    "colab_type": "text",
    "id": "v0ROLXLHENGf"
   },
   "source": [
    "### 1.2. Procesamiento de los arreglos multimensionales\n",
    "\n",
    "Como en java, el uso de ciclos anidados es fundamentar para el movimiento a traves de cada uno de los elementos de la matrix. Generalmente, las varibles que controlan los ciclos seran empleados como subindices para barrer las matrices. A continuación se muestra un código para refrescar el concepto:"
   ]
  },
  {
   "cell_type": "code",
   "execution_count": 6,
   "metadata": {
    "colab": {
     "autoexec": {
      "startup": false,
      "wait_interval": 0
     },
     "base_uri": "https://localhost:8080/",
     "height": 34
    },
    "colab_type": "code",
    "executionInfo": {
     "elapsed": 1143,
     "status": "ok",
     "timestamp": 1531513184910,
     "user": {
      "displayName": "HENRY ALBERTO ARCILA RAMIREZ",
      "photoUrl": "https://lh3.googleusercontent.com/a/default-user=s128",
      "userId": "101819781408374541388"
     },
     "user_tz": 300
    },
    "id": "p1R5KExCTD1D",
    "outputId": "57952c7c-04c3-4771-d2ad-1c117825f7b7"
   },
   "outputs": [
    {
     "data": {
      "text/html": [
       "<div class=\"text-center\"><strong><a style=\"box-sizing: border-box; padding: 0 5px; border: 1px solid #CFCFCF;\" target=\"_\" href=http://pythontutor.com/iframe-embed.html#code=%23include%20%3Cstdio.h%3E%0A%0A%23define%20F%203%0A%23define%20C%204%0A%0A%0Aint%20main%28%29%20%7B%0A%20%20int%20M%5BF%5D%5BC%5D%20%3D%20%7B%0A%20%20%20%20%20%20%20%20%20%20%20%20%20%20%20%20%20%20%7B4%2C%202%2C%207%2C%203%7D%2C%0A%20%20%20%20%20%20%20%20%20%20%20%20%20%20%20%20%20%20%7B6%2C%201%2C%209%2C%205%7D%2C%0A%20%20%20%20%20%20%20%20%20%20%20%20%20%20%20%20%20%20%7B8%2C%205%2C%200%2C%201%7D%20%20%0A%20%20%20%20%20%20%20%20%20%20%20%20%20%20%20%20%7D%3B%0A%20%20%0A%20%20printf%28%22Barriendo%20por%20filas%3A%20%5Cn%22%29%3B%0A%20%20for%28int%20i%20%3D%200%3B%20i%20%3C%20F%3B%20i%2B%2B%29%20%7B%0A%20%20%20%20printf%28%22Fila%20%25d%3A%20%22%2Ci%29%3B%0A%20%20%20%20for%28int%20j%20%3D%200%3B%20j%20%3C%20C%3B%20j%2B%2B%29%20%7B%0A%20%20%20%20%20%20printf%28%22%25d%20%22%2CM%5Bi%5D%5Bj%5D%29%3B%0A%20%20%20%20%7D%0A%20%20%20%20printf%28%22%5Cn%22%29%3B%0A%20%20%7D%0A%20%20printf%28%22%5CnBarriendo%20por%20columnas%3A%20%5Cn%22%29%3B%0A%20%20for%28int%20i%20%3D%200%3B%20i%20%3C%20C%3B%20i%2B%2B%29%20%7B%0A%20%20%20%20printf%28%22Columna%20%25d%3A%20%22%2Ci%29%3B%0A%20%20%20%20for%28int%20j%20%3D%200%3B%20j%20%3C%20F%3B%20j%2B%2B%29%20%7B%0A%20%20%20%20%20%20printf%28%22%25d%20%22%2CM%5Bj%5D%5Bi%5D%29%3B%0A%20%20%20%20%7D%0A%20%20%20%20printf%28%22%5Cn%22%29%3B%0A%20%20%7D%0A%20%20return%200%3B%0A%7D&origin=opt-frontend.js&cumulative=false&heapPrimitives=false&textReferences=false&curInstr=0&&verticalStack=false&py=c&rawInputLstJSON=%5B%5D&codeDivWidth=50%25&codeDivHeight=100%25>Python Tutor</a></strong></div>"
      ],
      "text/plain": [
       "<IPython.core.display.HTML object>"
      ]
     },
     "metadata": {
      "tags": []
     },
     "output_type": "display_data"
    }
   ],
   "source": [
    "%%tutor -l c -k\n",
    "#include <stdio.h>\n",
    "\n",
    "#define F 3\n",
    "#define C 4\n",
    "\n",
    "\n",
    "int main() {\n",
    "  int M[F][C] = {\n",
    "                  {4, 2, 7, 3},\n",
    "                  {6, 1, 9, 5},\n",
    "                  {8, 5, 0, 1}  \n",
    "                };\n",
    "  \n",
    "  printf(\"Barriendo por filas: \\n\");\n",
    "  for(int i = 0; i < F; i++) {\n",
    "    printf(\"Fila %d: \",i);\n",
    "    for(int j = 0; j < C; j++) {\n",
    "      printf(\"%d \",M[i][j]);\n",
    "    }\n",
    "    printf(\"\\n\");\n",
    "  }\n",
    "  printf(\"\\nBarriendo por columnas: \\n\");\n",
    "  for(int i = 0; i < C; i++) {\n",
    "    printf(\"Columna %d: \",i);\n",
    "    for(int j = 0; j < F; j++) {\n",
    "      printf(\"%d \",M[j][i]);\n",
    "    }\n",
    "    printf(\"\\n\");\n",
    "  }\n",
    "  return 0;\n",
    "}"
   ]
  },
  {
   "cell_type": "markdown",
   "metadata": {
    "colab_type": "text",
    "id": "TjiwVc0PFK8X"
   },
   "source": [
    "En la siguiente figura se muestra el resultado del código anterior.\n",
    "\n",
    "![matrix_3](https://github.com/repos-SO-UdeA/laboratorios/blob/master/lab1/teoria/parte3/imagenes/matriz3.png?raw=true)\n",
    "\n",
    "**Figura 3**. Barriendo un array multidimensional."
   ]
  },
  {
   "cell_type": "markdown",
   "metadata": {
    "colab_type": "text",
    "id": "i5yv4A2IFVZ0"
   },
   "source": [
    "### 1.3. Funciones y arreglos multidimensionales\n",
    "\n",
    "Es posible pasar arreglos multidimensionales como parametros de funciones. Cuando se pasa un array multidimensional, la primera dimension del array no tiene que ser especificada pero la segunda dimension (y cualquier subsecuente) deberá ser dada. A continuacion se muestran diferentes casos de uso cuando se emplean funciones con arreglos multidimensionales.\n",
    "\n",
    "**Caso 1 - Cuando las dimensiones de la matrix estan disponibles globalmente**: las dimensiones pueden ser constantes globales o macros. A continuación se muestra en caso específico en el que se crea una función para imprimir una matrix 2D. Veamos el código asociado:"
   ]
  },
  {
   "cell_type": "code",
   "execution_count": 7,
   "metadata": {
    "colab": {
     "autoexec": {
      "startup": false,
      "wait_interval": 0
     },
     "base_uri": "https://localhost:8080/",
     "height": 34
    },
    "colab_type": "code",
    "executionInfo": {
     "elapsed": 472,
     "status": "ok",
     "timestamp": 1531513418822,
     "user": {
      "displayName": "HENRY ALBERTO ARCILA RAMIREZ",
      "photoUrl": "https://lh3.googleusercontent.com/a/default-user=s128",
      "userId": "101819781408374541388"
     },
     "user_tz": 300
    },
    "id": "AXws0zFOTv_I",
    "outputId": "dbcea4e9-0885-4883-c1f9-0b8741f6a469"
   },
   "outputs": [
    {
     "data": {
      "text/html": [
       "<div class=\"text-center\"><strong><a style=\"box-sizing: border-box; padding: 0 5px; border: 1px solid #CFCFCF;\" target=\"_\" href=http://pythontutor.com/iframe-embed.html#code=%23include%20%3Cstdio.h%3E%0A%0A%23define%20M%203%0A%23define%20N%203%0A%20%0Avoid%20print%28int%20arr%5BM%5D%5BN%5D%29%3B%0A%20%0Aint%20main%28%29%0A%7B%0A%20%20%20%20int%20arr%5B%5D%5BN%5D%20%3D%20%7B%7B1%2C%202%2C%203%7D%2C%20%7B4%2C%205%2C%206%7D%2C%20%7B7%2C%208%2C%209%7D%7D%3B%0A%20%20%20%20print%28arr%29%3B%0A%20%20%20%20return%200%3B%0A%7D%0A%0Avoid%20print%28int%20arr%5BM%5D%5BN%5D%29%20%7B%0A%20%20%20%20int%20i%2C%20j%3B%0A%20%20%20%20for%20%28i%20%3D%200%3B%20i%20%3C%20M%3B%20i%2B%2B%29%20%7B%0A%20%20%20%20%20%20printf%28%22%5B%20%22%29%3B%0A%20%20%20%20%20%20for%20%28j%20%3D%200%3B%20j%20%3C%20N%3B%20j%2B%2B%29%20%7B%0A%20%20%20%20%20%20%20%20printf%28%22%25d%20%22%2C%20arr%5Bi%5D%5Bj%5D%29%3B%0A%20%20%20%20%20%20%7D%0A%20%20%20%20%20%20printf%28%22%5D%5Cn%22%29%3B%0A%20%20%20%20%7D%0A%7D&origin=opt-frontend.js&cumulative=false&heapPrimitives=false&textReferences=false&curInstr=0&&verticalStack=false&py=c&rawInputLstJSON=%5B%5D&codeDivWidth=50%25&codeDivHeight=100%25>Python Tutor</a></strong></div>"
      ],
      "text/plain": [
       "<IPython.core.display.HTML object>"
      ]
     },
     "metadata": {
      "tags": []
     },
     "output_type": "display_data"
    }
   ],
   "source": [
    "%%tutor -l c -k\n",
    "#include <stdio.h>\n",
    "\n",
    "#define M 3\n",
    "#define N 3\n",
    " \n",
    "void print(int arr[M][N]);\n",
    " \n",
    "int main()\n",
    "{\n",
    "    int arr[][N] = {{1, 2, 3}, {4, 5, 6}, {7, 8, 9}};\n",
    "    print(arr);\n",
    "    return 0;\n",
    "}\n",
    "\n",
    "void print(int arr[M][N]) {\n",
    "    int i, j;\n",
    "    for (i = 0; i < M; i++) {\n",
    "      printf(\"[ \");\n",
    "      for (j = 0; j < N; j++) {\n",
    "        printf(\"%d \", arr[i][j]);\n",
    "      }\n",
    "      printf(\"]\\n\");\n",
    "    }\n",
    "}"
   ]
  },
  {
   "cell_type": "markdown",
   "metadata": {
    "colab_type": "text",
    "id": "sMsxupy-GAz3"
   },
   "source": [
    "**Caso 2 - Cuando solo la segunda dimension de la matrix esta disponible globalmente**: esta puede ser un constante global o una macro. Pese a que se omite la primera dimension de la matrix, esta debe ser usada como un parametro formal de la función con el objetivo de conocer la expención de la primera dimensión. Veamos el mismo ejemplo anterior teniendo en cuenta este caso:"
   ]
  },
  {
   "cell_type": "code",
   "execution_count": 8,
   "metadata": {
    "colab": {
     "autoexec": {
      "startup": false,
      "wait_interval": 0
     },
     "base_uri": "https://localhost:8080/",
     "height": 34
    },
    "colab_type": "code",
    "executionInfo": {
     "elapsed": 467,
     "status": "ok",
     "timestamp": 1531513421722,
     "user": {
      "displayName": "HENRY ALBERTO ARCILA RAMIREZ",
      "photoUrl": "https://lh3.googleusercontent.com/a/default-user=s128",
      "userId": "101819781408374541388"
     },
     "user_tz": 300
    },
    "id": "ELmR6B3pT80l",
    "outputId": "b4a30b42-0f57-43bb-f4d7-8c6b75e82e17"
   },
   "outputs": [
    {
     "data": {
      "text/html": [
       "<div class=\"text-center\"><strong><a style=\"box-sizing: border-box; padding: 0 5px; border: 1px solid #CFCFCF;\" target=\"_\" href=http://pythontutor.com/iframe-embed.html#code=%23include%20%3Cstdio.h%3E%0A%0A%23define%20N%203%0A%20%0Avoid%20print%28int%20arr%5B%5D%5BN%5D%2C%20int%20m%29%3B%20%0A%20%0Aint%20main%28%29%0A%7B%0A%20%20%20%20int%20arr%5B%5D%5BN%5D%20%3D%20%7B%7B1%2C%202%2C%203%7D%2C%20%7B4%2C%205%2C%206%7D%2C%20%7B7%2C%208%2C%209%7D%7D%3B%0A%20%20%20%20print%28arr%2C3%29%3B%0A%20%20%20%20return%200%3B%0A%7D%0A%0Avoid%20print%28int%20arr%5B%5D%5BN%5D%2C%20int%20m%29%20%7B%0A%20%20%20%20int%20i%2C%20j%3B%0A%20%20%20%20for%20%28i%20%3D%200%3B%20i%20%3C%20m%3B%20i%2B%2B%29%20%7B%0A%20%20%20%20%20%20printf%28%22%5B%20%22%29%3B%0A%20%20%20%20%20%20for%20%28j%20%3D%200%3B%20j%20%3C%20N%3B%20j%2B%2B%29%20%7B%0A%20%20%20%20%20%20%20%20printf%28%22%25d%20%22%2C%20arr%5Bi%5D%5Bj%5D%29%3B%0A%20%20%20%20%20%20%7D%0A%20%20%20%20%20%20printf%28%22%5D%5Cn%22%29%3B%0A%20%20%20%20%7D%0A%7D&origin=opt-frontend.js&cumulative=false&heapPrimitives=false&textReferences=false&curInstr=0&&verticalStack=false&py=c&rawInputLstJSON=%5B%5D&codeDivWidth=50%25&codeDivHeight=100%25>Python Tutor</a></strong></div>"
      ],
      "text/plain": [
       "<IPython.core.display.HTML object>"
      ]
     },
     "metadata": {
      "tags": []
     },
     "output_type": "display_data"
    }
   ],
   "source": [
    "%%tutor -l c -k\n",
    "#include <stdio.h>\n",
    "\n",
    "#define N 3\n",
    " \n",
    "void print(int arr[][N], int m); \n",
    " \n",
    "int main()\n",
    "{\n",
    "    int arr[][N] = {{1, 2, 3}, {4, 5, 6}, {7, 8, 9}};\n",
    "    print(arr,3);\n",
    "    return 0;\n",
    "}\n",
    "\n",
    "void print(int arr[][N], int m) {\n",
    "    int i, j;\n",
    "    for (i = 0; i < m; i++) {\n",
    "      printf(\"[ \");\n",
    "      for (j = 0; j < N; j++) {\n",
    "        printf(\"%d \", arr[i][j]);\n",
    "      }\n",
    "      printf(\"]\\n\");\n",
    "    }\n",
    "}"
   ]
  },
  {
   "cell_type": "markdown",
   "metadata": {
    "colab_type": "text",
    "id": "QbHd_qmVGb9c"
   },
   "source": [
    "**Caso 3 - Pasando matrices de cualquier dimension**: \n",
    "Notese que una de las limitaciones de los dos metodos anteriores, es que el tamaño de ambas (caso 1) o al menos una de las dimensiones de la matrix es fijo (columnas de la matrix para el caso 2). Sin embargo desde C99, C soporta que matrices de tamaño variable puedan ser pasadas al especificar las dimensiones de la variable. A continuacion de muestra el caso para el mismo ejemplo analizado (ver el siguiente código):\n"
   ]
  },
  {
   "cell_type": "code",
   "execution_count": 9,
   "metadata": {
    "colab": {
     "autoexec": {
      "startup": false,
      "wait_interval": 0
     },
     "base_uri": "https://localhost:8080/",
     "height": 34
    },
    "colab_type": "code",
    "executionInfo": {
     "elapsed": 724,
     "status": "ok",
     "timestamp": 1531513485020,
     "user": {
      "displayName": "HENRY ALBERTO ARCILA RAMIREZ",
      "photoUrl": "https://lh3.googleusercontent.com/a/default-user=s128",
      "userId": "101819781408374541388"
     },
     "user_tz": 300
    },
    "id": "C8t2qaIvGTEt",
    "outputId": "dc3eedc8-b206-4ed7-ffe1-936d233f6169"
   },
   "outputs": [
    {
     "data": {
      "text/html": [
       "<div class=\"text-center\"><strong><a style=\"box-sizing: border-box; padding: 0 5px; border: 1px solid #CFCFCF;\" target=\"_\" href=http://pythontutor.com/iframe-embed.html#code=%23include%20%3Cstdio.h%3E%0A%0Avoid%20print%28int%20m%2C%20int%20n%2C%20int%20arr%5B%5D%5Bn%5D%29%3B%0A%20%0Aint%20main%28%29%0A%7B%0A%20%20%20%20int%20arr%5B%5D%5B3%5D%20%3D%20%7B%7B1%2C%202%2C%203%7D%2C%20%7B4%2C%205%2C%206%7D%2C%20%7B7%2C%208%2C%209%7D%7D%3B%0A%20%20%20%20int%20F%20%3D%203%2C%20C%20%3D%203%3B%0A%20%20%20%20print%28F%2C%20C%2C%20arr%29%3B%0A%20%20%20%20return%200%3B%0A%7D%0A%0Avoid%20print%28int%20m%2C%20int%20n%2C%20int%20arr%5B%5D%5Bn%5D%29%20%7B%0A%20%20%20%20int%20i%2C%20j%3B%0A%20%20%20%20for%20%28i%20%3D%200%3B%20i%20%3C%20m%3B%20i%2B%2B%29%20%7B%0A%20%20%20%20%20%20printf%28%22%5B%20%22%29%3B%0A%20%20%20%20%20%20for%20%28j%20%3D%200%3B%20j%20%3C%20n%3B%20j%2B%2B%29%20%7B%0A%20%20%20%20%20%20%20%20printf%28%22%25d%20%22%2C%20arr%5Bi%5D%5Bj%5D%29%3B%0A%20%20%20%20%20%20%7D%0A%20%20%20%20%20%20printf%28%22%5D%5Cn%22%29%3B%0A%20%20%20%20%7D%0A%7D&origin=opt-frontend.js&cumulative=false&heapPrimitives=false&textReferences=false&curInstr=0&&verticalStack=false&py=c&rawInputLstJSON=%5B%5D&codeDivWidth=50%25&codeDivHeight=100%25>Python Tutor</a></strong></div>"
      ],
      "text/plain": [
       "<IPython.core.display.HTML object>"
      ]
     },
     "metadata": {
      "tags": []
     },
     "output_type": "display_data"
    }
   ],
   "source": [
    "%%tutor -l c -k\n",
    "#include <stdio.h>\n",
    "\n",
    "void print(int m, int n, int arr[][n]);\n",
    " \n",
    "int main()\n",
    "{\n",
    "    int arr[][3] = {{1, 2, 3}, {4, 5, 6}, {7, 8, 9}};\n",
    "    int F = 3, C = 3;\n",
    "    print(F, C, arr);\n",
    "    return 0;\n",
    "}\n",
    "\n",
    "void print(int m, int n, int arr[][n]) {\n",
    "    int i, j;\n",
    "    for (i = 0; i < m; i++) {\n",
    "      printf(\"[ \");\n",
    "      for (j = 0; j < n; j++) {\n",
    "        printf(\"%d \", arr[i][j]);\n",
    "      }\n",
    "      printf(\"]\\n\");\n",
    "    }\n",
    "}"
   ]
  },
  {
   "cell_type": "markdown",
   "metadata": {
    "colab_type": "text",
    "id": "SwSn2S4DG0kk"
   },
   "source": [
    "Como anotación importante, de todos los parámetros pasados a la función el último debe ser la matriz, pues como usa como dimensión para las columnas otra variable, si esta no esta previamente declarada se generara un error; de este modo poner la matrix de último evita este problema.\n",
    "\n",
    "Finalmante, para todos los casos anteriormente expuestos, la salida es la siguiente:\n",
    "\n",
    "![matrix_4](https://github.com/repos-SO-UdeA/laboratorios/blob/master/lab1/teoria/parte3/imagenes/matriz4.png?raw=true)\n",
    "\n",
    "**Figura 4**. Salida del programa.\n",
    "\n",
    "Otra forma de pasar matrices a funciones es empleando apuntadores, pero esto ser visto posteriormente.\n"
   ]
  },
  {
   "cell_type": "markdown",
   "metadata": {
    "colab_type": "text",
    "id": "6FEm28zwUqi7"
   },
   "source": [
    "## 2. Apuntadores y matrices\n",
    "\n",
    "Así como en el caso de los arreglos de una dimensión, es posible representar los arreglos multidimensionales con una notación de punteros equivalente. \n",
    "\n",
    "En el caso de las matrices de dos dimensiones, cuando estas se almacenan en memoria, la forma como la memoria se llena es fila por fila, es decir si se tiene una matriz de n filas por m columnas las primeras n posiciones en memoria corresponden a los n elementos de la primera fila, las n posiciones siguientes corresponden a los n elementos de la siguiente fila y así sucesivamente hasta que todas las filas son ocupadas (n*m posiciones de memoria). La siguiente figura muestra esto:\n",
    "\n",
    "\n",
    "<table>\n",
    "<tbody>\n",
    "<tr>\n",
    "<td><b>Representacion de la matrix</b></td>\n",
    "<td><b>Representacion en memoria</b></td>\n",
    "</tr>\n",
    "<tr>\n",
    "<td><img src=\"https://github.com/repos-SO-UdeA/laboratorios/blob/master/lab1/teoria/parte3/imagenes/a1.png?raw=true\" alt=\"a\"><br>\n",
    "<br>\n",
    "short a[3][2] = {<br>\n",
    "&nbsp;&nbsp;&nbsp;&nbsp;&nbsp;&nbsp;&nbsp;&nbsp;&nbsp;&nbsp;&nbsp;&nbsp;&nbsp;&nbsp;&nbsp;&nbsp;&nbsp;&nbsp;&nbsp;&nbsp;&nbsp;&nbsp;&nbsp;&nbsp;&nbsp;&nbsp;&nbsp;&nbsp;{101,51},<br>\n",
    "&nbsp;&nbsp;&nbsp;&nbsp;&nbsp;&nbsp;&nbsp;&nbsp;&nbsp;&nbsp;&nbsp;&nbsp;&nbsp;&nbsp;&nbsp;&nbsp;&nbsp;&nbsp;&nbsp;&nbsp;&nbsp;&nbsp;&nbsp;&nbsp;&nbsp;&nbsp;&nbsp;&nbsp;{102,67},<br>\n",
    "&nbsp;&nbsp;&nbsp;&nbsp;&nbsp;&nbsp;&nbsp;&nbsp;&nbsp;&nbsp;&nbsp;&nbsp;&nbsp;&nbsp;&nbsp;&nbsp;&nbsp;&nbsp;&nbsp;&nbsp;&nbsp;&nbsp;&nbsp;&nbsp;&nbsp;&nbsp;&nbsp;&nbsp;{103,76}<br>\n",
    "&nbsp;&nbsp;&nbsp;&nbsp;&nbsp;&nbsp;&nbsp;&nbsp;&nbsp;&nbsp;&nbsp;&nbsp;&nbsp;&nbsp;&nbsp;&nbsp;&nbsp;&nbsp;&nbsp;&nbsp;&nbsp;&nbsp;&nbsp;&nbsp;};<br><br>\n",
    "Para el caso vamos a suponer que cada dato tipo short ocupa 2 bytes.  \n",
    "</td>\n",
    "<td>\n",
    "<img src=\"https://github.com/repos-SO-UdeA/laboratorios/blob/master/lab1/teoria/parte3/imagenes/mem_a1.png?raw=true\" alt=\"mem_a\">  \n",
    "</td>    \n",
    "</tr>  \n",
    "<tbody>  \n",
    "</table>\n",
    "\n",
    "A continuación se muestra otro ejemplo para reforzar el concepto. Para el caso, dato el siguiente código."
   ]
  },
  {
   "cell_type": "code",
   "execution_count": 10,
   "metadata": {
    "colab": {
     "autoexec": {
      "startup": false,
      "wait_interval": 0
     },
     "base_uri": "https://localhost:8080/",
     "height": 34
    },
    "colab_type": "code",
    "executionInfo": {
     "elapsed": 444,
     "status": "ok",
     "timestamp": 1531513657117,
     "user": {
      "displayName": "HENRY ALBERTO ARCILA RAMIREZ",
      "photoUrl": "https://lh3.googleusercontent.com/a/default-user=s128",
      "userId": "101819781408374541388"
     },
     "user_tz": 300
    },
    "id": "EYwEPJHtHYAM",
    "outputId": "852405e9-9b9a-49e2-ac4c-88fb22fb1eab"
   },
   "outputs": [
    {
     "data": {
      "text/html": [
       "<div class=\"text-center\"><strong><a style=\"box-sizing: border-box; padding: 0 5px; border: 1px solid #CFCFCF;\" target=\"_\" href=http://pythontutor.com/iframe-embed.html#code=%23include%20%3Cstdio.h%3E%0A%0Aint%20main%28%29%20%7B%0A%20%20int%20matrix%5B2%5D%5B5%5D%20%3D%20%7B%0A%20%20%20%20%20%20%20%20%20%20%20%20%20%20%20%20%20%20%20%20%20%20%20%7B1%2C2%2C3%2C4%2C5%7D%2C%0A%20%20%20%20%20%20%20%20%20%20%20%20%20%20%20%20%20%20%20%20%20%20%20%7B6%2C7%2C8%2C9%2C10%7D%0A%20%20%20%20%20%20%20%20%20%20%20%20%20%20%20%20%20%20%20%20%20%7D%3B%0A%0A%20%20for%28int%20i%20%3D%200%3B%20i%20%3C%202%3B%20i%2B%2B%29%20%7B%0A%20%20%20%20for%28int%20j%20%3D%200%3B%20j%20%3C%205%3B%20j%2B%2B%29%20%7B%0A%20%20%20%20%20%20printf%28%22matrix%5B%25d%5D%5B%25d%5D%20-%3E%20Address%3A%20%25p%2C%20Value%3A%20%25d%5Cn%22%2C%5C%0A%20%20%20%20%20%20%20%20%20%20%20%20%20i%2Cj%2C%26matrix%5Bi%5D%5Bj%5D%2Cmatrix%5Bi%5D%5Bj%5D%29%3B%0A%20%20%20%20%7D%20%20%20%20%0A%20%20%7D%0A%20%20return%200%3B%0A%7D&origin=opt-frontend.js&cumulative=false&heapPrimitives=false&textReferences=false&curInstr=0&&verticalStack=false&py=c&rawInputLstJSON=%5B%5D&codeDivWidth=50%25&codeDivHeight=100%25>Python Tutor</a></strong></div>"
      ],
      "text/plain": [
       "<IPython.core.display.HTML object>"
      ]
     },
     "metadata": {
      "tags": []
     },
     "output_type": "display_data"
    }
   ],
   "source": [
    "%%tutor -l c -k\n",
    "#include <stdio.h>\n",
    "\n",
    "int main() {\n",
    "  int matrix[2][5] = {\n",
    "                       {1,2,3,4,5},\n",
    "                       {6,7,8,9,10}\n",
    "                     };\n",
    "\n",
    "  for(int i = 0; i < 2; i++) {\n",
    "    for(int j = 0; j < 5; j++) {\n",
    "      printf(\"matrix[%d][%d] -> Address: %p, Value: %d\\n\",\\\n",
    "             i,j,&matrix[i][j],matrix[i][j]);\n",
    "    }    \n",
    "  }\n",
    "  return 0;\n",
    "}"
   ]
  },
  {
   "cell_type": "markdown",
   "metadata": {
    "colab_type": "text",
    "id": "10ZEn8IdHj81"
   },
   "source": [
    "La salida del programa se muestra a continuación:\n",
    "\n",
    "![matrix_5](https://github.com/repos-SO-UdeA/laboratorios/blob/master/lab1/teoria/parte3/imagenes/matrix_output.png?raw=true)\n",
    "\n",
    "**Figura 5**. Salida del programa.\n",
    "\n",
    "De modo que segun lo anterior, la representacion en memoria de la matrix será:\n",
    "\n",
    "![matrix_6](https://github.com/repos-SO-UdeA/laboratorios/blob/master/lab1/teoria/parte3/imagenes/matrix_mem.png?raw=true)\n",
    "\n",
    "**Figura 6**. Representación de la matrix en memoria.\n",
    "\n",
    "Así mismo, un arreglo de dos dimensiones puede ser tratado como un arreglo de una dimensión cuyos elementos son arreglos de una dimensión (las filas). Esto es resaltado en la siguiente figura para la matrix anteriormente definida:\n",
    "\n",
    "![matrix_7](https://github.com/repos-SO-UdeA/laboratorios/blob/master/lab1/teoria/parte3/imagenes/matrix_vector.png?raw=true)\n",
    "\n",
    "**Figura 7**. Representación de la matrix como arreglos de una dimension asociada a  cada una de las filas.\n",
    "\n",
    "**Ejemplo**: Se tiene el siguiente [codigo fuente](https://goo.gl/rCTH5C)"
   ]
  },
  {
   "cell_type": "code",
   "execution_count": 11,
   "metadata": {
    "colab": {
     "autoexec": {
      "startup": false,
      "wait_interval": 0
     },
     "base_uri": "https://localhost:8080/",
     "height": 34
    },
    "colab_type": "code",
    "executionInfo": {
     "elapsed": 1095,
     "status": "ok",
     "timestamp": 1531514069710,
     "user": {
      "displayName": "HENRY ALBERTO ARCILA RAMIREZ",
      "photoUrl": "https://lh3.googleusercontent.com/a/default-user=s128",
      "userId": "101819781408374541388"
     },
     "user_tz": 300
    },
    "id": "3wNVDv3wH2Q3",
    "outputId": "f8a5aa0a-3dd3-4c10-e457-d8bc67f0b87a"
   },
   "outputs": [
    {
     "data": {
      "text/html": [
       "<div class=\"text-center\"><strong><a style=\"box-sizing: border-box; padding: 0 5px; border: 1px solid #CFCFCF;\" target=\"_\" href=http://pythontutor.com/iframe-embed.html#code=%23include%20%3Cstdio.h%3E%0A%0Aint%20main%28%29%20%7B%0A%20%20int%20mat%5B%5D%5B3%5D%20%3D%20%7B%7B1%2C2%2C3%7D%2C%7B4%2C5%2C6%7D%2C%7B7%2C8%2C9%7D%7D%3B%0A%20%20/%2A%20Analisis%20del%20elemento%20mat%5B0%5D%5B0%5D%20%2A/%0A%20%20printf%28%22mat%3A%20%25p%5Cn%22%2C%20mat%29%3B%20//%20D%0A%20%20printf%28%22%2Amat%3A%20%25p%5Cn%22%2C%20%2Amat%29%3B%20//%20D%0A%20%20//%20-----------------------------------------------------%0A%20%20printf%28%22mat%5B0%5D%3A%20%25p%5Cn%22%2Cmat%5B0%5D%29%3B%20//%20D%0A%20%20printf%28%22%26mat%5B0%5D%5B0%5D%3A%20%25p%5Cn%22%2C%26mat%5B0%5D%5B0%5D%29%3B%20//%20D%0A%20%20printf%28%22%2A%2Amat%3A%20%25d%5Cn%22%2C%2A%2Amat%29%3B%20//%20V%0A%20%20printf%28%22%2A%28mat%5B0%5D%29%3A%20%25d%5Cn%22%2C%2A%28mat%5B0%5D%29%29%3B%20//%20V%0A%20%20printf%28%22%2A%28%26mat%5B0%5D%5B0%5D%29%3A%20%25d%5Cn%22%2C%2A%28%26mat%5B0%5D%5B0%5D%29%29%3B%20//%20V%0A%20%20printf%28%22---------------------%5Cn%22%29%3B%0A%20%20/%2A%20Analisis%20del%20elemento%20mat%5B1%5D%5B0%5D%20%2A/%0A%20%20printf%28%22mat%5B1%5D%3A%20%25p%5Cn%22%2Cmat%5B1%5D%29%3B%20//%20D%0A%20%20printf%28%22%26mat%5B1%5D%5B0%5D%3A%20%25p%5Cn%22%2C%26mat%5B1%5D%5B0%5D%29%3B%20//%20D%0A%20%20printf%28%22mat%5B1%5D%5B0%5D%3A%20%25d%5Cn%22%2Cmat%5B1%5D%5B0%5D%29%3B%20//%20V%0A%20%20printf%28%22%2Amat%5B1%5D%3A%20%25d%5Cn%22%2C%2Amat%5B1%5D%29%3B%20//%20V%0A%20%20printf%28%22%2A%28%26mat%5B1%5D%5B0%5D%29%3A%20%25d%5Cn%22%2C%2A%28%26mat%5B1%5D%5B0%5D%29%29%3B%20//%20V%0A%20%20printf%28%22---------------------%5Cn%22%29%3B%0A%20%20/%2A%20Analisis%20del%20elemento%20mat%5B2%5D%5B1%5D%20%2A/%0A%20%20printf%28%22%26mat%5B2%5D%5B1%5D%3A%20%25p%5Cn%22%2C%26mat%5B2%5D%5B1%5D%29%3B%20//%20D%0A%20%20printf%28%22mat%5B2%5D%20%2B%201%3A%20%25p%5Cn%22%2Cmat%5B2%5D%20%2B%201%29%3B%20//%20D%0A%20%20printf%28%22mat%5B2%5D%5B1%5D%3A%20%25d%5Cn%22%2Cmat%5B2%5D%5B1%5D%29%3B%20//%20V%0A%20%20printf%28%22%2A%28mat%5B2%5D%20%2B%201%29%3A%20%25d%5Cn%22%2C%2A%28mat%5B2%5D%20%2B%201%29%29%3B%20//%20V%0A%20%20printf%28%22%2A%28%2A%28mat%20%2B%202%29%20%2B%201%29%3A%20%25d%5Cn%22%2C%2A%28%2A%28mat%20%2B%202%29%20%2B%201%29%29%3B%20//%20V%0A%20%20return%200%3B%0A%7D&origin=opt-frontend.js&cumulative=false&heapPrimitives=false&textReferences=false&curInstr=0&&verticalStack=false&py=c&rawInputLstJSON=%5B%5D&codeDivWidth=50%25&codeDivHeight=100%25>Python Tutor</a></strong></div>"
      ],
      "text/plain": [
       "<IPython.core.display.HTML object>"
      ]
     },
     "metadata": {
      "tags": []
     },
     "output_type": "display_data"
    }
   ],
   "source": [
    "%%tutor -l c -k\n",
    "#include <stdio.h>\n",
    "\n",
    "int main() {\n",
    "  int mat[][3] = {{1,2,3},{4,5,6},{7,8,9}};\n",
    "  /* Analisis del elemento mat[0][0] */\n",
    "  printf(\"mat: %p\\n\", mat); // D\n",
    "  printf(\"*mat: %p\\n\", *mat); // D\n",
    "  // -----------------------------------------------------\n",
    "  printf(\"mat[0]: %p\\n\",mat[0]); // D\n",
    "  printf(\"&mat[0][0]: %p\\n\",&mat[0][0]); // D\n",
    "  printf(\"**mat: %d\\n\",**mat); // V\n",
    "  printf(\"*(mat[0]): %d\\n\",*(mat[0])); // V\n",
    "  printf(\"*(&mat[0][0]): %d\\n\",*(&mat[0][0])); // V\n",
    "  printf(\"---------------------\\n\");\n",
    "  /* Analisis del elemento mat[1][0] */\n",
    "  printf(\"mat[1]: %p\\n\",mat[1]); // D\n",
    "  printf(\"&mat[1][0]: %p\\n\",&mat[1][0]); // D\n",
    "  printf(\"mat[1][0]: %d\\n\",mat[1][0]); // V\n",
    "  printf(\"*mat[1]: %d\\n\",*mat[1]); // V\n",
    "  printf(\"*(&mat[1][0]): %d\\n\",*(&mat[1][0])); // V\n",
    "  printf(\"---------------------\\n\");\n",
    "  /* Analisis del elemento mat[2][1] */\n",
    "  printf(\"&mat[2][1]: %p\\n\",&mat[2][1]); // D\n",
    "  printf(\"mat[2] + 1: %p\\n\",mat[2] + 1); // D\n",
    "  printf(\"mat[2][1]: %d\\n\",mat[2][1]); // V\n",
    "  printf(\"*(mat[2] + 1): %d\\n\",*(mat[2] + 1)); // V\n",
    "  printf(\"*(*(mat + 2) + 1): %d\\n\",*(*(mat + 2) + 1)); // V\n",
    "  return 0;\n",
    "}"
   ]
  },
  {
   "cell_type": "markdown",
   "metadata": {
    "colab_type": "text",
    "id": "pOX_tIkLH-_0"
   },
   "source": [
    "La salida del codigo anterior se muestra a continuación:\n",
    "\n",
    "![matrix_8](https://github.com/repos-SO-UdeA/laboratorios/blob/master/lab1/teoria/parte3/imagenes/matrix_example.png?raw=true)\n",
    "\n",
    "**Figura 8**. Salida del codigo anterior.\n",
    "\n",
    "Teniendo en cuenta el resultado de la figura anterior y representando la matrix como un vector de arreglos se tiene la siguiente figura (notese que se resaltan los elementos asociados a las salidas en pantalla del programa anterior):\n",
    "\n",
    "![matrix_9](https://github.com/repos-SO-UdeA/laboratorios/blob/master/lab1/teoria/parte3/imagenes/ejercicio_matrix.png?raw=true)\n",
    "\n",
    "**Figura 9**. Representacion de la matrix como un vector de arrays.\n",
    "\n",
    "Teniendo en cuenta lo anterior, la representación en memoria se muestra a continuación:\n",
    "\n",
    "![matrix_10](https://github.com/repos-SO-UdeA/laboratorios/blob/master/lab1/teoria/parte3/imagenes/ejercicio_matrix_mem.png?raw=true)\n",
    "\n",
    "**Figura 10**. Representacion en memoria de la matrix de la figura anterior.\n",
    "\n",
    "La siguiente figura resalta la comparación de la salida en pantalla con el mapa de memoria resaltando las equivalencias a las que se llega:\n",
    "\n",
    "![matrix_11](https://github.com/repos-SO-UdeA/laboratorios/blob/master/lab1/teoria/parte3/imagenes/comparacion.png?raw=true)\n",
    "\n",
    "**Figura 11**. Equivalencias.\n",
    "\n",
    "Teniendo en cuenta la figura anterior, se pueden llegar a las siguientes equivalencias mas generales, las cuales se muestran en la siguiente tabla:\n",
    "\n",
    "<table>\n",
    "<tbody>\n",
    "<tr>\n",
    "<td><b>Equivalencias</b></td>\n",
    "<td><b>Expresión</b></td>\n",
    "</tr>\n",
    "<tr>\n",
    "<td><b>De valor</b></td>\n",
    "<td>\n",
    "  Obteniendo el valor de una matriz en la posicion (i,j):<br>\n",
    "  <br>\n",
    "  A[i][j] = *(A+i)[j] = *(*(A+i)+ j) = *(A[i] + j)\n",
    "</td>\n",
    "</tr>\n",
    "<tr>\n",
    "<td><b>De dirección</b></td>\n",
    "<td>\n",
    "  Obteniendo la direccion de una matriz en la posicion (i,j):<br>\n",
    "  <br>\n",
    "  &A[i][j] = (A+i)[j] = *(A+i) + j = A[i] + j <br>\n",
    "  <br>\n",
    "  <b>Otra alternativa</b>:<br>\n",
    "  &A[i][j] = &A[0][0] + i*N_COLUMNAS + j <br><br>\n",
    "  En lo que respecta a obtener el posición de una fila i, lo cual se da cuando j = 0:<br>\n",
    "  &A[i][0] = A[i] + 0 = A[i]\n",
    "</td>\n",
    "</tr>\n",
    "<tr>\n",
    "<td><b>Anotaciones</b></td>\n",
    "<td>\n",
    "  &A[0][0] = A = A[0] = &A[0]<br><br>\n",
    "  Pero ojo que las anteriores equivalencias no son intercambiables: <br>\n",
    "  <ul>\n",
    "  <li>&A[0][0] + 1, apunta a A[0][1]</li>\n",
    "  <li>A[0] + 1, apunta a A[0][1]</li>\n",
    "  <li>A + 1, apunta a A[1][0]</li>\n",
    "  <li>&A[0] + 1, apunta a A[1][0]</li>\n",
    "  </ul>\n",
    "</td>\n",
    "</tr>\n",
    "</tbody>\n",
    "</table>  \n",
    "  \n",
    "Es posible definir un arreglo de dos dimensiones como un apuntador a un grupo de arreglos de una dimensión, de modo que una declaración de un arreglo bidimensional puede ser hecha de la siguiente manera:\n",
    "\n",
    "```C\n",
    "T *(ptVar)[m];\n",
    "```\n",
    "\n",
    "Donde **T** está asociado al tipo de dato (el cual puede ser simple o compuesto) y **n** es el número de filas del array bidimensional y **m** es el número de elementos que habrá en la fila. La expresión anterior puede ser por lo tanto una alternativa a la declaración típica de matrices por ejemplo para el caso de una matriz de n filas por n columnas como la siguiente:\n",
    "\n",
    "```C\n",
    "T mat[n][m];\n",
    "```\n",
    "\n",
    "La expresión anterior se puede generalizar a arreglos de más elementos tal de modo que para una matriz de dimensión N:\n",
    "\n",
    "```C\n",
    "T mat[val1]...[val_N];\n",
    "```\n",
    "\n",
    "De modo que la expresión alternativa estará dada por:\n",
    "\n",
    "```C\n",
    "T *(ptVar)[val_2][val_3]...[val_N];\n",
    "```\n",
    "\n",
    "Donde T se refiere al tipo de dato y las expresiones val_1, val_2,..., val_N se refieren al número máximo de elementos asociados con cada uno de los N subíndices del array. \n",
    "\n",
    "Otra cosa importante es la presencia del paréntesis, este es necesario ya que si no está, no nos estaríamos refiriendo a un apuntador a un grupo de arrays  sino a un array de apuntadores, esto porque los [] tienen mayor precedencia que el *. Así según lo anterior:\n",
    "\n",
    "```C\n",
    "int (*pz)[2]; // Crea un apuntador a un array de 2 enteros.\n",
    "int *pax[2]; // Crea un array de dos punteros a enteros.\n",
    "```\n",
    "\n",
    "Para aterrizar el concepto anterior vamos a analizar el siguiente ejemplo.\n",
    "\n",
    "**Ejemplos**\n",
    "\n",
    "1. Dado el siguiente fragmento de código, hacer el respectivo analisis:"
   ]
  },
  {
   "cell_type": "code",
   "execution_count": 12,
   "metadata": {
    "colab": {
     "autoexec": {
      "startup": false,
      "wait_interval": 0
     },
     "base_uri": "https://localhost:8080/",
     "height": 34
    },
    "colab_type": "code",
    "executionInfo": {
     "elapsed": 1103,
     "status": "ok",
     "timestamp": 1531514292520,
     "user": {
      "displayName": "HENRY ALBERTO ARCILA RAMIREZ",
      "photoUrl": "https://lh3.googleusercontent.com/a/default-user=s128",
      "userId": "101819781408374541388"
     },
     "user_tz": 300
    },
    "id": "tULA2efkXQXn",
    "outputId": "ac06d84b-2fae-401d-c387-d5f12380f088"
   },
   "outputs": [
    {
     "data": {
      "text/html": [
       "<div class=\"text-center\"><strong><a style=\"box-sizing: border-box; padding: 0 5px; border: 1px solid #CFCFCF;\" target=\"_\" href=http://pythontutor.com/iframe-embed.html#code=%23include%20%3Cstdio.h%3E%0A%0Aint%20main%28%29%20%7B%0A%20%20int%20A%5B3%5D%5B2%5D%20%3D%20%7B%7B1%2C2%7D%2C%7B3%2C4%7D%2C%7B5%2C6%7D%7D%3B%0A%20%20int%20%28%2Apz%29%5B2%5D%3B%0A%20%20pz%20%3D%20A%3B%0A%20%20printf%28%22A%5B0%5D%5B0%5D%3A%20%25d%5Cn%22%2C%20A%5B0%5D%5B0%5D%29%3B%20//%20V%0A%20%20printf%28%22%2A%2Apz%3A%20%25d%5Cn%22%2C%20%2A%2Apz%29%3B%20//%20V%0A%20%20printf%28%22%2Apz%5B0%5D%3A%20%25d%5Cn%22%2C%20%2Apz%5B0%5D%29%3B%20//%20V%0A%20%20printf%28%22%28%2Apz%29%5B0%5D%3A%20%25d%5Cn%22%2C%20%28%2Apz%29%5B0%5D%29%3B%20//%20V%0A%20%20printf%28%22%26A%5B0%5D%5B0%5D%3A%20%25p%5Cn%22%2C%20%26A%5B0%5D%5B0%5D%29%3B%20//%20M%0A%20%20printf%28%22%2Apz%3A%20%25p%5Cn%22%2C%20%2Apz%29%3B%20//%20M%0A%20%20printf%28%22pz%5B0%5D%3A%20%25p%5Cn%22%2C%20pz%5B0%5D%29%3B%20//%20M%0A%20%20printf%28%22---------------------%5Cn%22%29%3B%0A%20%20printf%28%22A%5B1%5D%5B0%5D%3A%20%25d%5Cn%22%2C%20A%5B1%5D%5B0%5D%29%3B%20//%20V%0A%20%20printf%28%22%2Apz%5B1%5D%3A%20%25d%5Cn%22%2C%20%2Apz%5B1%5D%29%3B%20//%20V%0A%20%20printf%28%22%2A%28pz%5B1%5D%2B0%29%3A%20%25d%5Cn%22%2C%20%2A%28pz%5B1%5D%2B0%29%29%3B%20//%20V%0A%20%20printf%28%22%2A%28%2A%28pz%20%2B%201%29%2B0%29%3A%20%25d%5Cn%22%2C%20%2A%28%2A%28pz%20%2B1%20%29%2B0%29%29%3B%20//%20V%0A%20%20printf%28%22%26A%5B1%5D%5B0%5D%3A%20%25p%5Cn%22%2C%20%26A%5B1%5D%5B0%5D%29%3B%20//%20M%0A%20%20printf%28%22pz%20%2B%201%3A%20%25p%5Cn%22%2C%20pz%20%2B%201%29%3B%20//%20M%0A%20%20printf%28%22pz%5B1%5D%3A%20%25p%5Cn%22%2C%20pz%5B1%5D%29%3B%20//%20M%0A%20%20printf%28%22---------------------%5Cn%22%29%3B%0A%20%20printf%28%22A%5B2%5D%5B1%5D%3A%20%25d%5Cn%22%2C%20A%5B2%5D%5B1%5D%29%3B%0A%20%20printf%28%22%2A%28pz%5B2%5D%20%2B%201%29%3A%20%25d%5Cn%22%2C%20%2A%28pz%5B2%5D%20%2B%201%29%29%3B%0A%20%20printf%28%22%2A%28%2A%28pz%20%2B%202%29%20%2B%201%29%3A%20%25d%5Cn%22%2C%20%2A%28%2A%28pz%20%2B%202%29%20%2B%201%29%29%3B%0A%20%20printf%28%22%26A%5B2%5D%5B1%5D%3A%20%25p%5Cn%22%2C%20%26A%5B2%5D%5B1%5D%29%3B%20%20%0A%20%20printf%28%22pz%5B2%5D%20%2B%201%3A%20%25p%5Cn%22%2C%20pz%5B2%5D%20%2B%201%29%3B%0A%20%20return%200%3B%0A%7D&origin=opt-frontend.js&cumulative=false&heapPrimitives=false&textReferences=false&curInstr=0&&verticalStack=false&py=c&rawInputLstJSON=%5B%5D&codeDivWidth=50%25&codeDivHeight=100%25>Python Tutor</a></strong></div>"
      ],
      "text/plain": [
       "<IPython.core.display.HTML object>"
      ]
     },
     "metadata": {
      "tags": []
     },
     "output_type": "display_data"
    }
   ],
   "source": [
    "%%tutor -l c -k\n",
    "#include <stdio.h>\n",
    "\n",
    "int main() {\n",
    "  int A[3][2] = {{1,2},{3,4},{5,6}};\n",
    "  int (*pz)[2];\n",
    "  pz = A;\n",
    "  printf(\"A[0][0]: %d\\n\", A[0][0]); // V\n",
    "  printf(\"**pz: %d\\n\", **pz); // V\n",
    "  printf(\"*pz[0]: %d\\n\", *pz[0]); // V\n",
    "  printf(\"(*pz)[0]: %d\\n\", (*pz)[0]); // V\n",
    "  printf(\"&A[0][0]: %p\\n\", &A[0][0]); // M\n",
    "  printf(\"*pz: %p\\n\", *pz); // M\n",
    "  printf(\"pz[0]: %p\\n\", pz[0]); // M\n",
    "  printf(\"---------------------\\n\");\n",
    "  printf(\"A[1][0]: %d\\n\", A[1][0]); // V\n",
    "  printf(\"*pz[1]: %d\\n\", *pz[1]); // V\n",
    "  printf(\"*(pz[1]+0): %d\\n\", *(pz[1]+0)); // V\n",
    "  printf(\"*(*(pz + 1)+0): %d\\n\", *(*(pz +1 )+0)); // V\n",
    "  printf(\"&A[1][0]: %p\\n\", &A[1][0]); // M\n",
    "  printf(\"pz + 1: %p\\n\", pz + 1); // M\n",
    "  printf(\"pz[1]: %p\\n\", pz[1]); // M\n",
    "  printf(\"---------------------\\n\");\n",
    "  printf(\"A[2][1]: %d\\n\", A[2][1]);\n",
    "  printf(\"*(pz[2] + 1): %d\\n\", *(pz[2] + 1));\n",
    "  printf(\"*(*(pz + 2) + 1): %d\\n\", *(*(pz + 2) + 1));\n",
    "  printf(\"&A[2][1]: %p\\n\", &A[2][1]);  \n",
    "  printf(\"pz[2] + 1: %p\\n\", pz[2] + 1);\n",
    "  return 0;\n",
    "}"
   ]
  },
  {
   "cell_type": "markdown",
   "metadata": {
    "colab_type": "text",
    "id": "YVD2M0cFIMdb"
   },
   "source": [
    "\n",
    "La salida del código anterior se muestra a continuación:\n",
    "\n",
    "![matrix_12](https://github.com/repos-SO-UdeA/laboratorios/blob/master/lab1/teoria/parte3/imagenes/ejemplo_analisis1.png?raw=true)\n",
    "\n",
    "**Figura 12**. Resultado del ejemplo 1.\n",
    "\n",
    "Por otro lado, la representacion en memoria y como arreglo de vectores de la matrix, con base en la figura anterior es se muestra a continuacion.\n",
    "\n",
    "![matrix_13](https://github.com/repos-SO-UdeA/laboratorios/blob/master/lab1/teoria/parte3/imagenes/ejemplo_analisis1_1.png?raw=true)\n",
    "\n",
    "**Figura 13**. Representacion en memomria de la matrix analizada en el ejemplo.\n",
    "\n",
    "2. Analizar el siguiente código:"
   ]
  },
  {
   "cell_type": "code",
   "execution_count": 13,
   "metadata": {
    "colab": {
     "autoexec": {
      "startup": false,
      "wait_interval": 0
     },
     "base_uri": "https://localhost:8080/",
     "height": 34
    },
    "colab_type": "code",
    "executionInfo": {
     "elapsed": 664,
     "status": "ok",
     "timestamp": 1531514407339,
     "user": {
      "displayName": "HENRY ALBERTO ARCILA RAMIREZ",
      "photoUrl": "https://lh3.googleusercontent.com/a/default-user=s128",
      "userId": "101819781408374541388"
     },
     "user_tz": 300
    },
    "id": "jLUa5XuyI0ND",
    "outputId": "1d06da36-0a24-4c55-a525-2b8a219cd7d8"
   },
   "outputs": [
    {
     "data": {
      "text/html": [
       "<div class=\"text-center\"><strong><a style=\"box-sizing: border-box; padding: 0 5px; border: 1px solid #CFCFCF;\" target=\"_\" href=http://pythontutor.com/iframe-embed.html#code=%0Aint%20main%28%29%20%7B%0A%20%20int%20B%5B2%5D%5B2%5D%3D%20%7B1%2C%202%2C%203%2C%204%7D%3B%0A%20%20int%20%28%2Ap%29%5B2%5D%3B%0A%20%20p%20%3D%20B%3B%0A%20%20%2A%2Ap%20%3D%20-%28%2A%28p%5B0%5D%20%2B%201%29%29%3B%0A%20%20p%2B%2B%3B%0A%20%20%2A%2Ap%20%3D%20%2A%28%2Ap%20%2B%201%29%20%2B%201%3B%0A%20%20return%200%3B%0A%7D&origin=opt-frontend.js&cumulative=false&heapPrimitives=false&textReferences=false&curInstr=0&&verticalStack=false&py=c&rawInputLstJSON=%5B%5D&codeDivWidth=50%25&codeDivHeight=100%25>Python Tutor</a></strong></div>"
      ],
      "text/plain": [
       "<IPython.core.display.HTML object>"
      ]
     },
     "metadata": {
      "tags": []
     },
     "output_type": "display_data"
    }
   ],
   "source": [
    "%%tutor -l c -k\n",
    "\n",
    "int main() {\n",
    "  int B[2][2]= {1, 2, 3, 4};\n",
    "  int (*p)[2];\n",
    "  p = B;\n",
    "  **p = -(*(p[0] + 1));\n",
    "  p++;\n",
    "  **p = *(*p + 1) + 1;\n",
    "  return 0;\n",
    "}"
   ]
  },
  {
   "cell_type": "markdown",
   "metadata": {
    "colab_type": "text",
    "id": "y-nN8lWlJEP2"
   },
   "source": [
    "La siguiente tabla muestra el resultado de realizar la prueba de escritorio paso por paso (resaltando en negrita) la instruccion que esta ejecutandose. Asi mismo, se asumen que las direcciones estan en formato decimal y no hexadecimal.\n",
    "\n",
    "\n",
    "<table>\n",
    "<tbody>\n",
    "<tr>\n",
    "<td><b>Instrucciones</b></td>\n",
    "<td><b>Representación</b></td>\n",
    "<td><b>Efecto en memoria</b></td>\n",
    "</tr>\n",
    "<tr>\n",
    "<td>\n",
    "  int B[2][2]= {1, 2, 3, 4};<br>\n",
    "  <b>int (*p)[2];</b><br>\n",
    "  p = B;<br>\n",
    "  **p = -(*(p[0] + 1));<br>\n",
    "  p++;<br>\n",
    "  **p = *(*p + 1) + 1;<br>\n",
    "</td>\n",
    "<td> <img src=\"https://github.com/repos-SO-UdeA/laboratorios/blob/master/lab1/teoria/parte3/imagenes/ejemplo_analisis2_1.png?raw=true\" alt=\"2_1\"> </td>\n",
    "<td> <img src=\"https://github.com/repos-SO-UdeA/laboratorios/blob/master/lab1/teoria/parte3/imagenes/ejemplo_analisis2_mem1.png?raw=true\" alt=\"2_1mem\"> </td>\n",
    "</tr>\n",
    "<tr>\n",
    "<td>\n",
    "  int B[2][2]= {1, 2, 3, 4};<br>\n",
    "  int (*p)[2];<br>\n",
    "  <b>p = B;</b><br>\n",
    "  **p = -(*(p[0] + 1));<br>\n",
    "  p++;<br>\n",
    "  **p = *(*p + 1) + 1;<br>\n",
    "</td>\n",
    "<td> <img src=\"https://github.com/repos-SO-UdeA/laboratorios/blob/master/lab1/teoria/parte3/imagenes/ejemplo_analisis2_2.png?raw=true\" alt=\"2_2\"> </td>\n",
    "<td> <img src=\"https://github.com/repos-SO-UdeA/laboratorios/blob/master/lab1/teoria/parte3/imagenes/ejemplo_analisis2_mem2.png?raw=true\" alt=\"2_2mem\"> </td>\n",
    "</tr>\n",
    "<tr>\n",
    "<td>\n",
    "  int B[2][2]= {1, 2, 3, 4};<br>\n",
    "  int (*p)[2];<br>\n",
    "  p = B;<br>\n",
    "  <b>**p = -(*(p[0] + 1));</b><br>\n",
    "  p++;<br>\n",
    "  **p = *(*p + 1) + 1;<br>\n",
    "</td>\n",
    "<td> <img src=\"https://github.com/repos-SO-UdeA/laboratorios/blob/master/lab1/teoria/parte3/imagenes/ejemplo_analisis2_3.png?raw=true.png\" alt=\"2_3\"> </td>\n",
    "<td> <img src=\"https://github.com/repos-SO-UdeA/laboratorios/blob/master/lab1/teoria/parte3/imagenes/ejemplo_analisis2_mem3.png?raw=true\" alt=\"2_3mem\"> </td>\n",
    "</tr>  \n",
    "<tr>\n",
    "<td>\n",
    "  int B[2][2]= {1, 2, 3, 4};<br>\n",
    "  int (*p)[2];<br>\n",
    "  p = B;<br>\n",
    "  **p = -(*(p[0] + 1));<br>\n",
    "  <b>p++;</b><br>\n",
    "  **p = *(*p + 1) + 1;<br>\n",
    "</td>\n",
    "<td> <img src=\"https://github.com/repos-SO-UdeA/laboratorios/blob/master/lab1/teoria/parte3/imagenes/ejemplo_analisis2_4.png?raw=true.png\" alt=\"2_4\"> </td>\n",
    "<td> <img src=\"https://github.com/repos-SO-UdeA/laboratorios/blob/master/lab1/teoria/parte3/imagenes/ejemplo_analisis2_mem4.png?raw=true.png\" alt=\"2_4mem\"> </td>\n",
    "</tr>   \n",
    "<tr>\n",
    "<td>\n",
    "  int B[2][2]= {1, 2, 3, 4};<br>\n",
    "  int (*p)[2];<br>\n",
    "  p = B;<br>\n",
    "  **p = -(*(p[0] + 1));<br>\n",
    "  p++;<br>\n",
    "  <b>**p = *(*p + 1) + 1;</b><br>\n",
    "</td>\n",
    "<td> <img src=\"https://github.com/repos-SO-UdeA/laboratorios/blob/master/lab1/teoria/parte3/imagenes/ejemplo_analisis2_5.png?raw=true.png\" alt=\"2_5\"> </td>\n",
    "<td> <img src=\"https://github.com/repos-SO-UdeA/laboratorios/blob/master/lab1/teoria/parte3/imagenes/ejemplo_analisis2_mem5.png?raw=true\" alt=\"2_5mem\"> </td>\n",
    "</tr>    \n",
    "</tbody>\n",
    "</table>  \n",
    "\n",
    "3. Se desea crear un array de bidimensional de 10 filas por 20 columnas llamado x esto puede ser hecho, así:\n",
    "\n",
    "```C\n",
    "int (*x)[20]; // Apuntador a un grupo de 20 enteros contiguos de un array unidimensional \n",
    "```\n",
    "\n",
    "O así:\n",
    "\n",
    "```C\n",
    "int x[10][20];  \n",
    "```\n",
    "\n",
    "Esto se muestra en la siguiente grafica:\n",
    "\n",
    "![matrix_14](https://github.com/repos-SO-UdeA/laboratorios/blob/master/lab1/teoria/parte3/imagenes/matrix_ptr.png?raw=true)\n",
    "\n",
    "**Figura 14**. Array bidimensional asociado a x.\n",
    "\n",
    "Basicamente, lo que se quiere dar a entender con la grafica es que x apunta al primer array de 20 elementos, el cual es la primera fila (fila 0), del array original. De manera similar, (x + 1) apunta a los segundos 20 elementos del array (fila 1 del array original) y así sucesivamente hasta la última fila. Para clarificar esto simule el siguiente ejemplo y note lo que implica lo anterior:\n"
   ]
  },
  {
   "cell_type": "code",
   "execution_count": 0,
   "metadata": {
    "colab": {
     "autoexec": {
      "startup": false,
      "wait_interval": 0
     }
    },
    "colab_type": "code",
    "id": "EwQrGlibZMbQ"
   },
   "outputs": [],
   "source": [
    "%%tutor -l c -k \n",
    "\n",
    "int main() {\n",
    "  int (*y)[20];\n",
    "  int x[10][20];\n",
    "  y = x;\n",
    "  for(int i = 0; i < 10; i++) {\n",
    "    y = x + i;\n",
    "  }\n",
    "  return 0;\n",
    "}"
   ]
  },
  {
   "cell_type": "markdown",
   "metadata": {
    "colab_type": "text",
    "id": "7g4ELgtCJOpf"
   },
   "source": [
    "\n",
    "![matrix_15](https://github.com/repos-SO-UdeA/laboratorios/blob/master/lab1/teoria/parte3/imagenes/matrix_ptr_2.png?raw=true)\n",
    "\n",
    "**Figura 15**. Array bidimensional asociado al codigo anterior.\n",
    "\n",
    "4. Considere una matriz de tres dimensiones con la siguiente declaración:\n",
    "\n",
    "```C\n",
    "float t[3][4][5];   \n",
    "```\n",
    "\n",
    "O así:\n",
    "\n",
    "```C\n",
    "float (*t)[4][5];     \n",
    "```\n",
    "\n",
    "En la declaración anterior, se definió a t como un apuntador a un grupo de 4x5 elementos contiguos de una matriz bidimensional. Por lo tanto según lo anterior, t apuntara a los primeros 4x5 elementos, t + 1 apuntara a los segundos 4x5 elementos y así sucesivamente.\n",
    "\n",
    "En el siguiente ejemplo se aterriza el concepto:"
   ]
  },
  {
   "cell_type": "code",
   "execution_count": 15,
   "metadata": {
    "colab": {
     "autoexec": {
      "startup": false,
      "wait_interval": 0
     },
     "base_uri": "https://localhost:8080/",
     "height": 34
    },
    "colab_type": "code",
    "executionInfo": {
     "elapsed": 440,
     "status": "ok",
     "timestamp": 1531514907659,
     "user": {
      "displayName": "HENRY ALBERTO ARCILA RAMIREZ",
      "photoUrl": "https://lh3.googleusercontent.com/a/default-user=s128",
      "userId": "101819781408374541388"
     },
     "user_tz": 300
    },
    "id": "kUZ5q4ReJUZY",
    "outputId": "8514f2ab-1597-4c7a-e612-be560b0ed491"
   },
   "outputs": [
    {
     "data": {
      "text/html": [
       "<div class=\"text-center\"><strong><a style=\"box-sizing: border-box; padding: 0 5px; border: 1px solid #CFCFCF;\" target=\"_\" href=http://pythontutor.com/iframe-embed.html#code=%0Aint%20main%28%29%20%7B%0A%20%20float%20t%5B3%5D%5B4%5D%5B5%5D%3B%20%0A%20%20float%20%28%2Aptr1%29%5B4%5D%5B5%5D%3B%0A%20%20float%20%28%2Aptr2%29%5B4%5D%5B5%5D%3B%0A%20%20float%20%28%2Aptr3%29%5B4%5D%5B5%5D%3B%0A%20%20ptr1%20%3D%20t%3B%0A%20%20ptr2%20%3D%20t%20%2B%201%3B%0A%20%20ptr3%20%3D%20t%20%2B%202%3B%0A%20%20return%200%3B%0A%7D&origin=opt-frontend.js&cumulative=false&heapPrimitives=false&textReferences=false&curInstr=0&&verticalStack=false&py=c&rawInputLstJSON=%5B%5D&codeDivWidth=50%25&codeDivHeight=100%25>Python Tutor</a></strong></div>"
      ],
      "text/plain": [
       "<IPython.core.display.HTML object>"
      ]
     },
     "metadata": {
      "tags": []
     },
     "output_type": "display_data"
    }
   ],
   "source": [
    "%%tutor -l c -k\n",
    "\n",
    "int main() {\n",
    "  float t[3][4][5]; \n",
    "  float (*ptr1)[4][5];\n",
    "  float (*ptr2)[4][5];\n",
    "  float (*ptr3)[4][5];\n",
    "  ptr1 = t;\n",
    "  ptr2 = t + 1;\n",
    "  ptr3 = t + 2;\n",
    "  return 0;\n",
    "}"
   ]
  },
  {
   "cell_type": "markdown",
   "metadata": {
    "colab_type": "text",
    "id": "x99Ww5V2JbZ9"
   },
   "source": [
    "La salida de muestra a continuación:\n",
    "\n",
    "![matrix_16](https://github.com/repos-SO-UdeA/laboratorios/blob/master/lab1/teoria/parte3/imagenes/matrix_ptr_3.png?raw=true.png)\n",
    "\n",
    "**Figura 16**. Array tridimensional asociado a t."
   ]
  },
  {
   "cell_type": "markdown",
   "metadata": {
    "colab_type": "text",
    "id": "LPN6DYfoJtlE"
   },
   "source": [
    "## 3. Empleo de apuntadores para acceder a los elementos de una matrix\n",
    "\n",
    "Para acceder a un elemento particular dentro de un array particular se emplea el operador indirección (*). A continuación se muestra como \ten el caso de una matriz bidimesional. Para aclarar este concepto miremos el siguiente ejemplo:\n",
    "\n",
    "**Ejemplo**: Supongase que se tiene un array entero de 10x20 y se desea acceder al elemento perteneciente a la fila 2 y la columna 5 (x[2][5]) . La forma de acceso es la mostrada a continuación:\n",
    "\n",
    "```C\n",
    "float *(*(x+2)+5);  \n",
    "```\n",
    "Cuyo efecto es el mostrado en la siguiente figura:\n",
    "\n",
    "![matrix_17](https://github.com/repos-SO-UdeA/laboratorios/blob/master/lab1/teoria/parte3/imagenes/acceso_array_ptr.png?raw=true)\n",
    "\n",
    "**Figura 17**. Accediendo a una matrix por medio de la notacion apuntador.\n",
    "\n",
    "Para acceder a dicho lugar de memoria es necesario tener en cuenta una serie de cosas:\n",
    "* ```x+2```: Puntero al vector correspondiente a la fila 2.\n",
    "* ```*(x+2)```: Apuntador al primer elemento de la fila 2.\n",
    "* ```*(x+2)+5```: Apuntador al elemento 5 en la fila 2.\n",
    "* ```*(*(x+2)+5)```: Elemento de la columna 5 y la fila 2, propiamente x[2][5].\n",
    "\n",
    "Para aterrizar lo anterior, supongamos que declaramos una matrix global x[10][20] y deseamos llevar al elemento x[2][5] el valor de 10. ¿Como seria el procedimiento a seguir empleando la notacion apuntador?\n",
    "\n",
    "```C\n",
    "int x[10][20];\n",
    "\n",
    "int main() {\n",
    "  *(*(x + 2) + 5) = 10; // x[2][5] = 10\n",
    "  return 0;\n",
    "}\n",
    "```\n",
    "\n",
    "La salida del [codido anterior](https://goo.gl/wrmfkY) es la siguiente:\n",
    "\n",
    "![matrix_18](https://github.com/repos-SO-UdeA/laboratorios/blob/master/lab1/teoria/parte3/imagenes/ejemplo_matrix_acceso.png?raw=true)\n",
    "\n",
    "**Figura 18**. Modificando el valor de una matrix a traves de la notacion apuntador.\n",
    "\n",
    "\n",
    "<table>\n",
    "<tbody>\n",
    "<tr>\n",
    "<td><b>Equivalencias</b></td>\n",
    "<td><b>Expresión</b></td>\n",
    "</tr>\n",
    "<tr>\n",
    "<td><b>De valor</b></td>\n",
    "<td>\n",
    "  Obteniendo el valor de una matriz en la posicion (i,j):<br>\n",
    "  <br>\n",
    "  A[i][j] = *(A+i)[j] = *(*(A+i)+ j) = *(A[i] + j)\n",
    "</td>\n",
    "</tr>\n",
    "<tr>\n",
    "<td><b>De dirección</b></td>\n",
    "<td>\n",
    "  Obteniendo la direccion de una matriz en la posicion (i,j):<br>\n",
    "  <br>\n",
    "  &A[i][j] = (A+i)[j] = *(A+i) + j = A[i] + j <br>\n",
    "  <br>\n",
    "  <b>Otra alternativa</b>:<br>\n",
    "  &A[i][j] = &A[0][0] + i*N_COLUMNAS + j <br><br>\n",
    "  En lo que respecta a obtener el posición de una fila i, lo cual se da cuando j = 0:<br>\n",
    "  &A[i][0] = A[i] + 0 = A[i]\n",
    "</td>\n",
    "</tr>\n",
    "<tr>\n",
    "<td><b>Anotaciones</b></td>\n",
    "<td>\n",
    "  &A[0][0] = A = A[0] = &A[0]<br><br>\n",
    "  Pero ojo que las anteriores equivalencias no son intercambiables: <br>\n",
    "  <ul>\n",
    "  <li>&A[0][0] + 1, apunta a A[0][1]</li>\n",
    "  <li>A[0] + 1, apunta a A[0][1]</li>\n",
    "  <li>A + 1, apunta a A[1][0]</li>\n",
    "  <li>&A[0] + 1, apunta a A[1][0]</li>\n",
    "  </ul>\n",
    "</td>\n",
    "</tr>\n",
    "</tbody>\n",
    "</table>  \n",
    " "
   ]
  },
  {
   "cell_type": "markdown",
   "metadata": {
    "colab_type": "text",
    "id": "ZvDkVcUFarOp"
   },
   "source": [
    "**Ejemplo**\n",
    "Para comprender bien lo anterior codifique y simule el siguiente programa:"
   ]
  },
  {
   "cell_type": "code",
   "execution_count": 16,
   "metadata": {
    "colab": {
     "autoexec": {
      "startup": false,
      "wait_interval": 0
     },
     "base_uri": "https://localhost:8080/",
     "height": 34
    },
    "colab_type": "code",
    "executionInfo": {
     "elapsed": 557,
     "status": "ok",
     "timestamp": 1531515187514,
     "user": {
      "displayName": "HENRY ALBERTO ARCILA RAMIREZ",
      "photoUrl": "https://lh3.googleusercontent.com/a/default-user=s128",
      "userId": "101819781408374541388"
     },
     "user_tz": 300
    },
    "id": "LMSfnpD5KHFN",
    "outputId": "8baa312d-e643-46b3-807f-bdb168d1e092"
   },
   "outputs": [
    {
     "data": {
      "text/html": [
       "<div class=\"text-center\"><strong><a style=\"box-sizing: border-box; padding: 0 5px; border: 1px solid #CFCFCF;\" target=\"_\" href=http://pythontutor.com/iframe-embed.html#code=/%2A%20zippo2.c%20--%20%20zippo%20infovia%20a%20pointer%20variable%20%2A/%0A%23include%20%3Cstdio.h%3E%0A%0Aint%20main%28void%29%0A%7B%0A%20%20%20%20int%20zippo%5B4%5D%5B2%5D%20%3D%20%7B%20%7B2%2C4%7D%20%2C%20%7B6%2C8%7D%20%2C%20%7B1%2C3%7D%20%2C%20%7B5%2C%207%7D%20%7D%3B%0A%20%20%20%20int%20%28%2Apz%29%5B2%5D%3B%0A%20%20%20%20pz%20%3D%20zippo%3B%0A%20%20%20%20printf%28%22pz%20%3D%20%25p%2C%20pz%20%2B%201%20%3D%20%25p%5Cn%22%2C%20pz%2C%20pz%20%2B%201%29%3B%20//%20D%0A%20%20%20%20printf%28%22pz%5B0%5D%20%3D%20%25p%2C%20pz%5B0%5D%20%2B%201%20%3D%20%25p%5Cn%22%2C%20pz%5B0%5D%2C%20pz%5B0%5D%20%2B%201%29%3B%20//%20D%0A%20%20%20%20printf%28%22%2Apz%20%3D%20%25p%2C%20%2Apz%20%2B%201%20%3D%20%25p%5Cn%22%2C%20%2Apz%2C%20%2Apz%20%2B%201%29%3B%20//%20D%0A%20%20%20%20printf%28%22pz%5B0%5D%5B0%5D%20%3D%20%25d%5Cn%22%2C%20pz%5B0%5D%5B0%5D%29%3B%20%20//%20V%0A%20%20%20%20printf%28%22%2Apz%5B0%5D%20%3D%20%25d%5Cn%22%2C%20%2Apz%5B0%5D%29%3B%20//%20V%0A%20%20%20%20printf%28%22%2A%2Apz%20%3D%20%25d%5Cn%22%2C%20%2A%2Apz%29%3B%20//%20V%0A%20%20%20%20printf%28%22pz%5B2%5D%5B1%5D%20%3D%20%25d%5Cn%22%2C%20pz%5B2%5D%5B1%5D%29%3B%20//%20V%0A%20%20%20%20printf%28%22%2A%28%2A%28pz%20%2B%202%29%20%2B%201%29%20%3D%20%25d%5Cn%22%2C%20%2A%28%2A%28pz%20%2B%202%29%20%2B%201%29%29%3B%20//%20V%0A%20%20%20%20return%200%3B%0A%7D&origin=opt-frontend.js&cumulative=false&heapPrimitives=false&textReferences=false&curInstr=0&&verticalStack=false&py=c&rawInputLstJSON=%5B%5D&codeDivWidth=50%25&codeDivHeight=100%25>Python Tutor</a></strong></div>"
      ],
      "text/plain": [
       "<IPython.core.display.HTML object>"
      ]
     },
     "metadata": {
      "tags": []
     },
     "output_type": "display_data"
    }
   ],
   "source": [
    "%%tutor -l c -k\n",
    "/* zippo2.c --  zippo infovia a pointer variable */\n",
    "#include <stdio.h>\n",
    "\n",
    "int main(void)\n",
    "{\n",
    "    int zippo[4][2] = { {2,4} , {6,8} , {1,3} , {5, 7} };\n",
    "    int (*pz)[2];\n",
    "    pz = zippo;\n",
    "    printf(\"pz = %p, pz + 1 = %p\\n\", pz, pz + 1); // D\n",
    "    printf(\"pz[0] = %p, pz[0] + 1 = %p\\n\", pz[0], pz[0] + 1); // D\n",
    "    printf(\"*pz = %p, *pz + 1 = %p\\n\", *pz, *pz + 1); // D\n",
    "    printf(\"pz[0][0] = %d\\n\", pz[0][0]);  // V\n",
    "    printf(\"*pz[0] = %d\\n\", *pz[0]); // V\n",
    "    printf(\"**pz = %d\\n\", **pz); // V\n",
    "    printf(\"pz[2][1] = %d\\n\", pz[2][1]); // V\n",
    "    printf(\"*(*(pz + 2) + 1) = %d\\n\", *(*(pz + 2) + 1)); // V\n",
    "    return 0;\n",
    "}"
   ]
  },
  {
   "cell_type": "markdown",
   "metadata": {
    "colab_type": "text",
    "id": "xf69N5R8KV1W"
   },
   "source": [
    "Lleve a cabo la **prueba de escritorio** y compárela con la salida en pantalla del programa. ¿Cómo queda la matriz después de las instrucciones anteriormente mostradas?\n",
    "\n",
    "4. Arreglos de apuntadores\n",
    "\n",
    "Un arreglo de apuntadores es un array cuyos elementos son apuntadores a algún tipo de dato. Estos, constituyen una forma alternativa de expresar un arreglo multidimensional. Por ejemplo un array de dos dimensiones:\n",
    "\n",
    "```C\n",
    "T mat[val_1][val_2];\n",
    "```\n",
    "\n",
    "Puede ser reescrito como un array de apuntadores de la siguiente manera:\n",
    "\n",
    "```C\n",
    "T *mat[val_1];\n",
    "```\n",
    "\n",
    "Luego, generalizando lo anterior para arreglos de N dimensiones tenemos que:\n",
    "\n",
    "```C\n",
    "T mat[val_2][val_3]...[val_N];\n",
    "```\n",
    "\n",
    "La forma alternativa será:\n",
    "\n",
    "```C\n",
    "T *mat[val_1][val_2]...[val_N-1];\n",
    "```\n",
    "\n",
    "Aquí **T** se refiere al tipo de dato y las expresiones **val_1**, **val_2**, ..., **val_N** se refieren al número máximo de elementos asociados con cada uno de los N subíndices del array. Note que a diferencia del caso anterior ya no se emplean paréntesis en este tipo de declaración por lo que el array contendrá apuntadores al tipo específico definido en la declaración.\n",
    "\n",
    "**Ejemplo**: Supóngase que se tiene una matriz bidimensional x de 10 filas por 20 columnas. Esta definida como un vector de apuntadores sera: \n",
    "\n",
    "```C\n",
    "int *x[10];\n",
    "```\n",
    "\n",
    "Aquí, **x[0]** apuntara al principio de la primera fila, **x[1]** al principio de la segunda, observe que a diferencia del caso anterior no fue necesario declarar el  número de elementos de cada columna de manera explícita. La siguiente figura muestra el efecto de la anterior declaración con más detalle:\n",
    "\n",
    "![matrix_15](https://github.com/repos-SO-UdeA/laboratorios/blob/master/lab1/teoria/parte3/imagenes/matrix_ptr2.png?raw=true)\n",
    "\n",
    "**Figura 19**. Representacion de la matrix.\n",
    "\n",
    "Por otro lado, teniendo en cuenta lo anterior, si lo que se desea es acceder a un elemento individual de la matrix, tal como x[2][5]. Una forma equivalente será:\n",
    "\n",
    "```C\n",
    "int *(x[2]+5);\n",
    "```\n",
    "\n",
    "**Donde**:\n",
    "* ```x[2]```: Es un apuntador al primer elemento de la fila 2.\n",
    "*\t```x[2] + 5```: Es un apuntador al elemento 5 dentro de la fila 2.\n",
    "*\t```*(x[2]+5)```: Se refiere al contenido del elemento de la fila 2 y la columna 5, es decir x[2][5].\n",
    "*\t```*(*(x + 2) + 5)```: Se refiere al contenido del elemento de la fila 2 y la columna 5, es decir x[2][5].\n",
    "\n",
    "Lo anterior, se ilustra mas claramente en la siguiente figura: \n",
    "\n",
    "![matrix_20](https://github.com/repos-SO-UdeA/laboratorios/blob/master/lab1/teoria/parte3/imagenes/acceso_array_ptr2.png?raw=true)\n",
    "\n",
    "**Figura 20**. Acceso a la matrix.\n",
    "\n",
    "**Ejemplo**: Suponga que se tiene un array tridimensional de enteror de dimensiones 2x3x4. La forma de expresar este array como un array de apuntadores bidimensional es:\n",
    "\n",
    "```C\n",
    "int *t[2][3];\n",
    "```\n",
    "\n",
    "En el anterior codigo se genera una matrix de 6 apuntadores cada uno de los cuales esta apuntando a un vector unidimensional. Teniendo en cuenta lo anterior, se se desea acceder a un elemento individual tal como ``` t[1][1][2] ```  la forma de hacerlo empleando esta notación sera:\n",
    "\n",
    "```C\n",
    "int *(t[1][1] + 2); // Será lo mismo que t[1][1][2]\n",
    "```\n"
   ]
  },
  {
   "cell_type": "markdown",
   "metadata": {
    "colab_type": "text",
    "id": "nAM8vHNmKlCX"
   },
   "source": [
    "**Ejemplo**: a modo de repaso simule y analice el siguiente código:"
   ]
  },
  {
   "cell_type": "code",
   "execution_count": 17,
   "metadata": {
    "colab": {
     "autoexec": {
      "startup": false,
      "wait_interval": 0
     },
     "base_uri": "https://localhost:8080/",
     "height": 34
    },
    "colab_type": "code",
    "executionInfo": {
     "elapsed": 449,
     "status": "ok",
     "timestamp": 1531515405881,
     "user": {
      "displayName": "HENRY ALBERTO ARCILA RAMIREZ",
      "photoUrl": "https://lh3.googleusercontent.com/a/default-user=s128",
      "userId": "101819781408374541388"
     },
     "user_tz": 300
    },
    "id": "FxqjoE4fLIoo",
    "outputId": "a781521e-9fb2-4522-a378-a50dc641d31d"
   },
   "outputs": [
    {
     "data": {
      "text/html": [
       "<div class=\"text-center\"><strong><a style=\"box-sizing: border-box; padding: 0 5px; border: 1px solid #CFCFCF;\" target=\"_\" href=http://pythontutor.com/iframe-embed.html#code=%23include%20%3Cstdio.h%3E%0A%0A/%2A%20Matrix%20%2A/%0Aint%20t%5B2%5D%5B3%5D%5B4%5D%3B%0A%0A/%2A%20Declaracion%20de%20las%20funciones%20%2A/%0Avoid%20llenarMatrix%28int%20M%5B%5D%5B3%5D%5B4%5D%29%3B%20%0Avoid%20imprimirMatrix%28int%20M%5B%5D%5B3%5D%5B4%5D%29%3B%0Avoid%20imprimirDireccionesMatrix%28int%20M%5B%5D%5B3%5D%5B4%5D%29%3B%0A%0A/%2A%20Funcion%20principal%20%2A/%0Aint%20main%28%29%20%7B%0A%20%20llenarMatrix%28t%29%3B%0A%20%20%2A%28t%5B1%5D%5B1%5D%20%2B%202%29%20%3D%20-4%3B%20//%20t%5B1%5D%5B1%5D%5B2%5D%20%3D%20-4%3B%20%0A%20%20//%20Recorriendo%20las%20direcciones%20de%20la%20matrix%20de%20apuntadores%0A%20%20//%20asociada%0A%20%20int%20%2Aptr%3B%0A%20%20for%20%28int%20i%20%3D%200%3B%20i%20%3C%202%3B%20i%2B%2B%29%20%7B%0A%20%20%20%20for%20%28int%20j%20%3D%200%3B%20j%20%3C%203%3B%20j%2B%2B%29%20%7B%0A%20%20%20%20%20%20ptr%20%3D%20t%5Bi%5D%5Bj%5D%3B%0A%20%20%20%20%20%20printf%28%22t%5B%25d%5D%5B%25d%5D%20%3D%20%25p%5Cn%22%2Ci%2Cj%2Cptr%29%3B%0A%20%20%20%20%7D%0A%20%20%7D%0A%20%20printf%28%22%5CnMatrix%3A%5Cn%22%29%3B%0A%20%20imprimirMatrix%28t%29%3B%0A%20%20printf%28%22%5CnDirecciones%20de%20la%20Matrix%3A%5Cn%22%29%3B%0A%20%20imprimirDireccionesMatrix%28t%29%3B%0A%20%20return%200%3B%20%20%20%0A%7D%0A%0A/%2A%20Definicion%20de%20las%20funciones%20%2A/%0Avoid%20llenarMatrix%28int%20M%5B%5D%5B3%5D%5B4%5D%29%20%7B%0A%20%20int%20val%20%3D%201%3B%0A%20%20for%28int%20i%20%3D%200%3B%20i%20%3C%202%3B%20i%2B%2B%29%20%7B%0A%20%20%20%20for%28int%20j%20%3D%200%3B%20j%20%3C%203%3B%20j%2B%2B%29%20%7B%0A%20%20%20%20%20%20for%28int%20k%20%3D%200%3B%20k%20%3C%204%3B%20k%2B%2B%29%20%7B%0A%20%20%20%20%20%20%20%20M%5Bi%5D%5Bj%5D%5Bk%5D%20%3D%20val%2B%2B%3B%20%20%0A%20%20%20%20%20%20%7D%0A%20%20%20%20%7D%0A%20%20%7D%20%20%0A%7D%0A%0Avoid%20imprimirDireccionesMatrix%28int%20M%5B%5D%5B3%5D%5B4%5D%29%20%7B%0A%20%20for%28int%20i%20%3D%200%3B%20i%20%3C%202%3B%20i%2B%2B%29%20%7B%0A%20%20%20%20for%28int%20j%20%3D%200%3B%20j%20%3C%203%3B%20j%2B%2B%29%20%7B%0A%20%20%20%20%20%20for%28int%20k%20%3D%200%3B%20k%20%3C%204%3B%20k%2B%2B%29%20%7B%0A%20%20%20%20%20%20%20%20printf%28%22%26M%5B%25d%5D%5B%25d%5D%5B%25d%5D%20%3D%20%25p%5Cn%22%2C%20i%2C%20j%2C%20k%2CM%5Bi%5D%5Bj%5D%20%2B%20k%29%3B%20%20%0A%20%20%20%20%20%20%7D%20%20%20%20%20%20%0A%20%20%20%20%7D%0A%20%20%7D%20%20%0A%7D%0A%0Avoid%20imprimirMatrix%28int%20M%5B%5D%5B3%5D%5B4%5D%29%20%7B%0A%20%20printf%28%22-------------------------%5Cn%22%29%3B%0A%20%20for%28int%20i%20%3D%200%3B%20i%20%3C%202%3B%20i%2B%2B%29%20%7B%0A%20%20%20%20for%28int%20j%20%3D%200%3B%20j%20%3C%203%3B%20j%2B%2B%29%20%7B%0A%20%20%20%20%20%20for%28int%20k%20%3D%200%3B%20k%20%3C%204%3B%20k%2B%2B%29%20%7B%0A%20%20%20%20%20%20%20%20printf%28%22%255d%20%22%2C%20M%5Bi%5D%5Bj%5D%5Bk%5D%29%3B%20%20%0A%20%20%20%20%20%20%7D%0A%20%20%20%20%20%20printf%28%22%5Cn%22%29%3B%0A%20%20%20%20%7D%0A%20%20%20%20printf%28%22------------------------%5Cn%22%29%3B%0A%20%20%7D%20%20%0A%7D&origin=opt-frontend.js&cumulative=false&heapPrimitives=false&textReferences=false&curInstr=0&&verticalStack=false&py=c&rawInputLstJSON=%5B%5D&codeDivWidth=50%25&codeDivHeight=100%25>Python Tutor</a></strong></div>"
      ],
      "text/plain": [
       "<IPython.core.display.HTML object>"
      ]
     },
     "metadata": {
      "tags": []
     },
     "output_type": "display_data"
    }
   ],
   "source": [
    "%%tutor -l c -k\n",
    "#include <stdio.h>\n",
    "\n",
    "/* Matrix */\n",
    "int t[2][3][4];\n",
    "\n",
    "/* Declaracion de las funciones */\n",
    "void llenarMatrix(int M[][3][4]); \n",
    "void imprimirMatrix(int M[][3][4]);\n",
    "void imprimirDireccionesMatrix(int M[][3][4]);\n",
    "\n",
    "/* Funcion principal */\n",
    "int main() {\n",
    "  llenarMatrix(t);\n",
    "  *(t[1][1] + 2) = -4; // t[1][1][2] = -4; \n",
    "  // Recorriendo las direcciones de la matrix de apuntadores\n",
    "  // asociada\n",
    "  int *ptr;\n",
    "  for (int i = 0; i < 2; i++) {\n",
    "    for (int j = 0; j < 3; j++) {\n",
    "      ptr = t[i][j];\n",
    "      printf(\"t[%d][%d] = %p\\n\",i,j,ptr);\n",
    "    }\n",
    "  }\n",
    "  printf(\"\\nMatrix:\\n\");\n",
    "  imprimirMatrix(t);\n",
    "  printf(\"\\nDirecciones de la Matrix:\\n\");\n",
    "  imprimirDireccionesMatrix(t);\n",
    "  return 0;   \n",
    "}\n",
    "\n",
    "/* Definicion de las funciones */\n",
    "void llenarMatrix(int M[][3][4]) {\n",
    "  int val = 1;\n",
    "  for(int i = 0; i < 2; i++) {\n",
    "    for(int j = 0; j < 3; j++) {\n",
    "      for(int k = 0; k < 4; k++) {\n",
    "        M[i][j][k] = val++;  \n",
    "      }\n",
    "    }\n",
    "  }  \n",
    "}\n",
    "\n",
    "void imprimirDireccionesMatrix(int M[][3][4]) {\n",
    "  for(int i = 0; i < 2; i++) {\n",
    "    for(int j = 0; j < 3; j++) {\n",
    "      for(int k = 0; k < 4; k++) {\n",
    "        printf(\"&M[%d][%d][%d] = %p\\n\", i, j, k,M[i][j] + k);  \n",
    "      }      \n",
    "    }\n",
    "  }  \n",
    "}\n",
    "\n",
    "void imprimirMatrix(int M[][3][4]) {\n",
    "  printf(\"-------------------------\\n\");\n",
    "  for(int i = 0; i < 2; i++) {\n",
    "    for(int j = 0; j < 3; j++) {\n",
    "      for(int k = 0; k < 4; k++) {\n",
    "        printf(\"%5d \", M[i][j][k]);  \n",
    "      }\n",
    "      printf(\"\\n\");\n",
    "    }\n",
    "    printf(\"------------------------\\n\");\n",
    "  }  \n",
    "}"
   ]
  },
  {
   "cell_type": "markdown",
   "metadata": {
    "colab_type": "text",
    "id": "NYSYjY1TLS5t"
   },
   "source": [
    "La siguiente figura muestra la salida del programa y su representacion de la matrix. Notese como se almacena la matrix en memoria.\n",
    "\n",
    "![matrix_21](https://github.com/repos-SO-UdeA/laboratorios/blob/master/lab1/teoria/parte3/imagenes/ptr_matrix3_output2.png?raw=true)\n",
    "\n",
    "**Figura 21**. Salida del programa y representacion de la matrix.\n",
    "\n",
    "En la siguiente figura, se compara la salida con la representacion de la matrix en el mapa de memoria. Notese, las equivalencias:\n",
    "\n",
    "\n",
    "![matrix_22](https://github.com/repos-SO-UdeA/laboratorios/blob/master/lab1/teoria/parte3/imagenes/ptr_matrix3_output3.png?raw=true)\n",
    "\n",
    "**Figura 22**. Salida del programa y representacion en memoria de la matrix.\n",
    "\n",
    "**Caso de aplicacion**: \n",
    "\n",
    "Una de las mayores aplicaciones de los arreglos a apuntadores es que permiten trabajar con jagged arrays (matrices irregulares). Un array de este tipo es un array bidimensional que posee un numero de columnas diferentes por cada fila tal y como se muestra en la siguiente figura:\n",
    "\n",
    "![matrix_23](https://github.com/repos-SO-UdeA/laboratorios/blob/master/lab1/teoria/parte3/imagenes/irregular_matrix.png?raw=true)\n",
    "\n",
    "**Figura 23**. Matrix irregular.\n",
    "\n",
    "En el siguiente codigo se define la anterior matrix irregular. Adicionalmente, se imprimen en pantalla algunos de los valores asociados a esta:"
   ]
  },
  {
   "cell_type": "code",
   "execution_count": 18,
   "metadata": {
    "colab": {
     "autoexec": {
      "startup": false,
      "wait_interval": 0
     },
     "base_uri": "https://localhost:8080/",
     "height": 34
    },
    "colab_type": "code",
    "executionInfo": {
     "elapsed": 447,
     "status": "ok",
     "timestamp": 1531515570923,
     "user": {
      "displayName": "HENRY ALBERTO ARCILA RAMIREZ",
      "photoUrl": "https://lh3.googleusercontent.com/a/default-user=s128",
      "userId": "101819781408374541388"
     },
     "user_tz": 300
    },
    "id": "Qa6eAFMPLzXf",
    "outputId": "68722acb-59db-4191-d2fa-fe0bcc8733e3"
   },
   "outputs": [
    {
     "data": {
      "text/html": [
       "<div class=\"text-center\"><strong><a style=\"box-sizing: border-box; padding: 0 5px; border: 1px solid #CFCFCF;\" target=\"_\" href=http://pythontutor.com/iframe-embed.html#code=%23include%20%3Cstdio.h%3E%0A%0Aint%20main%28%29%20%7B%0A%20%20int%20F0%5B%5D%20%3D%20%7B1%2C2%2C3%2C4%7D%3B%0A%20%20int%20F1%5B%5D%20%3D%20%7B5%2C6%7D%3B%0A%20%20int%20F2%5B%5D%20%3D%20%7B7%2C8%2C9%7D%3B%0A%20%20int%20%2AP%5B3%5D%3B%0A%20%20P%5B0%5D%20%3D%20F0%3B%0A%20%20P%5B1%5D%20%3D%20F1%3B%0A%20%20P%5B2%5D%20%3D%20F2%3B%0A%20%20printf%28%22F0%5B2%5D%3A%20%25d%5Cn%22%2C%20F0%5B2%5D%29%3B%0A%20%20printf%28%22%2AP%5B0%5D%20%2B%202%3A%20%25%5Cn%22%2C%20%2AP%5B0%5D%20%2B%202%29%3B%0A%20%20printf%28%22%2A%2AP%20%2B%202%3A%20%20%25d%5Cn%22%2C%20%2A%2AP%20%2B%202%29%3B%0A%20%20printf%28%22F2%5B1%5D%3A%20%25d%5Cn%22%2C%20F2%5B1%5D%29%3B%0A%20%20printf%28%22%2AP%5B2%5D%20%2B%201%3A%20%25d%5Cn%22%2C%20%2AP%5B2%5D%20%2B%201%20%29%3B%0A%20%20printf%28%22%2A%28%2A%28P%20%2B%202%29%20%2B%201%29%3A%20%25d%5Cn%22%2C%20%2A%28%2A%28P%20%2B%202%29%20%2B%201%29%29%3B%0A%20%20return%200%3B%0A%7D&origin=opt-frontend.js&cumulative=false&heapPrimitives=false&textReferences=false&curInstr=0&&verticalStack=false&py=c&rawInputLstJSON=%5B%5D&codeDivWidth=50%25&codeDivHeight=100%25>Python Tutor</a></strong></div>"
      ],
      "text/plain": [
       "<IPython.core.display.HTML object>"
      ]
     },
     "metadata": {
      "tags": []
     },
     "output_type": "display_data"
    }
   ],
   "source": [
    "%%tutor -l c -k\n",
    "#include <stdio.h>\n",
    "\n",
    "int main() {\n",
    "  int F0[] = {1,2,3,4};\n",
    "  int F1[] = {5,6};\n",
    "  int F2[] = {7,8,9};\n",
    "  int *P[3];\n",
    "  P[0] = F0;\n",
    "  P[1] = F1;\n",
    "  P[2] = F2;\n",
    "  printf(\"F0[2]: %d\\n\", F0[2]);\n",
    "  printf(\"*P[0] + 2: %\\n\", *P[0] + 2);\n",
    "  printf(\"**P + 2:  %d\\n\", **P + 2);\n",
    "  printf(\"F2[1]: %d\\n\", F2[1]);\n",
    "  printf(\"*P[2] + 1: %d\\n\", *P[2] + 1 );\n",
    "  printf(\"*(*(P + 2) + 1): %d\\n\", *(*(P + 2) + 1));\n",
    "  return 0;\n",
    "}"
   ]
  },
  {
   "cell_type": "markdown",
   "metadata": {
    "colab_type": "text",
    "id": "yQKubiOnL6L2"
   },
   "source": [
    "La salida del programa anterior se muestra en la siguiente figura, el resultado de la figura anterior se muestra en la siguiente figura (para la parte del mapa de memoria asuma las direcciones para las variabled dadas en la figura y que la arquitectura es de 32 bits):\n",
    "\n",
    "![matrix_24](https://github.com/repos-SO-UdeA/laboratorios/blob/master/lab1/teoria/parte3/imagenes/irregular_matrix2.png?raw=true)\n",
    "\n",
    "**Figura 24**. Salida del programa que manipula la Matrix irregular.\n",
    "\n",
    "**Caso de aplicacion**: \n",
    "\n",
    "Los arreglos de apuntadores ofrecen a menudo un método conveniente para almacenar cadenas de caracteres.  En esta situación, cada elemento del array es un apuntador tipo carácter que indica el principio de una cadena de caracteres separada, por lo tanto un array de **n** elementos puede apuntar a diferentes cadenas de caracteres, de tal manera que cada cadena individual puede ser referenciada por su correspondiente apuntador. La siguiente figura muestra este hecho:\n",
    "\n",
    "```C\n",
    "char *myStrPtr[5] = { \"If anything can go wrong, it will\",\n",
    "                      \"Nothing is foolproof\",\n",
    "                      \"Every solution breeds new problems.\"};\n",
    "```\n",
    "\n",
    "La representacion der arreglo de apuntadores tipo char descrito anteriormente se muestra a continuacion:\n",
    "\n",
    "![matrix_25](https://github.com/repos-SO-UdeA/laboratorios/blob/master/lab1/teoria/parte3/imagenes/arreglos_apuntadores_char.png?raw=true)\n",
    "\n",
    "**Figura 25**. Arreglo de apuntadores tipo char.\n",
    "\n",
    "Ahora bien, para profundizar analice el siguiente código:\n"
   ]
  },
  {
   "cell_type": "code",
   "execution_count": 19,
   "metadata": {
    "colab": {
     "autoexec": {
      "startup": false,
      "wait_interval": 0
     },
     "base_uri": "https://localhost:8080/",
     "height": 34
    },
    "colab_type": "code",
    "executionInfo": {
     "elapsed": 476,
     "status": "ok",
     "timestamp": 1531515708441,
     "user": {
      "displayName": "HENRY ALBERTO ARCILA RAMIREZ",
      "photoUrl": "https://lh3.googleusercontent.com/a/default-user=s128",
      "userId": "101819781408374541388"
     },
     "user_tz": 300
    },
    "id": "a-01sNMPMDXP",
    "outputId": "a8848816-56f5-45ac-dd8d-5d87651fdebd"
   },
   "outputs": [
    {
     "data": {
      "text/html": [
       "<div class=\"text-center\"><strong><a style=\"box-sizing: border-box; padding: 0 5px; border: 1px solid #CFCFCF;\" target=\"_\" href=http://pythontutor.com/iframe-embed.html#code=%23include%20%3Cstdio.h%3E%0A%0Aint%20main%28%29%20%7B%0A%20%20char%20%2AmyStrPtr%5B5%5D%20%3D%20%7B%20%22Universidad%20de%20Antioquia%22%2C%0A%20%20%20%20%20%20%20%20%20%20%20%20%20%20%20%20%20%20%20%20%20%20%20%20%20%22Alma%20Mater%22%2C%0A%20%20%20%20%20%20%20%20%20%20%20%20%20%20%20%20%20%20%20%20%20%20%20%20%20%22De%20la%20patria.%22%7D%3B%0A%20%20int%20i%20%3D%200%3B%0A%20%20while%28myStrPtr%5Bi%5D%20%21%3D%20NULL%29%20%7B%0A%20%20%20%20printf%28%22%25s%5Cn%22%2CmyStrPtr%5Bi%5D%29%3B%0A%20%20%20%20i%2B%2B%3B%0A%20%20%7D%0A%20%20return%200%3B%0A%7D&origin=opt-frontend.js&cumulative=false&heapPrimitives=false&textReferences=false&curInstr=0&&verticalStack=false&py=c&rawInputLstJSON=%5B%5D&codeDivWidth=50%25&codeDivHeight=100%25>Python Tutor</a></strong></div>"
      ],
      "text/plain": [
       "<IPython.core.display.HTML object>"
      ]
     },
     "metadata": {
      "tags": []
     },
     "output_type": "display_data"
    }
   ],
   "source": [
    "%%tutor -l c -k\n",
    "#include <stdio.h>\n",
    "\n",
    "int main() {\n",
    "  char *myStrPtr[5] = { \"Universidad de Antioquia\",\n",
    "                         \"Alma Mater\",\n",
    "                         \"De la patria.\"};\n",
    "  int i = 0;\n",
    "  while(myStrPtr[i] != NULL) {\n",
    "    printf(\"%s\\n\",myStrPtr[i]);\n",
    "    i++;\n",
    "  }\n",
    "  return 0;\n",
    "}"
   ]
  },
  {
   "cell_type": "markdown",
   "metadata": {
    "colab_type": "text",
    "id": "o7kTjnriMN7Q"
   },
   "source": [
    "La salida del codigo anterio se muestra a continuacion:\n",
    "\n",
    "![matrix_27](https://github.com/repos-SO-UdeA/laboratorios/blob/master/lab1/teoria/parte3/imagenes/salida_char_ptrs.png?raw=true)\n",
    "\n",
    "**Figura 27**. Ejemplo empleando un arreglo de apuntadores tipo char.\n",
    "\n",
    "**Ejemplo**: A continuacion se muestra como accder y manipular matrices 3D (tomando como base el siguiente [enlace](https://www.codeproject.com/Articles/83080/Dynamic-Three-Dimensional-Arrays-in-C-C-C-Java)). Esto se explica por que en algun momento posterior puede ser de extrema utilidad, ademas, por que se resalta el uso de diferentes niveles de apuntadores. El codigo ejemplo se muestra a continución:"
   ]
  },
  {
   "cell_type": "code",
   "execution_count": 20,
   "metadata": {
    "colab": {
     "autoexec": {
      "startup": false,
      "wait_interval": 0
     },
     "base_uri": "https://localhost:8080/",
     "height": 34
    },
    "colab_type": "code",
    "executionInfo": {
     "elapsed": 460,
     "status": "ok",
     "timestamp": 1531515797849,
     "user": {
      "displayName": "HENRY ALBERTO ARCILA RAMIREZ",
      "photoUrl": "https://lh3.googleusercontent.com/a/default-user=s128",
      "userId": "101819781408374541388"
     },
     "user_tz": 300
    },
    "id": "asbc2kYtMRsF",
    "outputId": "ff6fac76-47e1-4a2c-942e-7af0504cb5fa"
   },
   "outputs": [
    {
     "data": {
      "text/html": [
       "<div class=\"text-center\"><strong><a style=\"box-sizing: border-box; padding: 0 5px; border: 1px solid #CFCFCF;\" target=\"_\" href=http://pythontutor.com/iframe-embed.html#code=%23include%20%3Cstdio.h%3E%0A%0A/%2A%2A%20Dimensiones%20de%20la%20matrix%20%2A/%0A%0Aconst%20int%20P%20%3D%202%3B%20//%20Planos%0Aconst%20int%20F%20%3D%202%3B%20//%20Filas%0Aconst%20int%20C%20%3D%203%3B%20//%20Columnas%0A%0A/%2A%2A%20Declaracion%20de%20las%20funciones%20%2A/%0A%0Avoid%20imprimirMatrix3D%28int%20%2A%2A%2A%20M3D%29%3B%0A%0A/%2A%2A%20Funcion%20principal%20%2A/%0A%0Aint%20main%28%29%20%7B%0A%20%20/%2A%20Vectores%3A%20Cada%20no%20de%20los%20cuales%20sera%20una%20fila%20de%20la%20matrix%2A/%0A%20%20int%20v0_0%5B%5D%20%3D%20%7B1%2C2%2C3%7D%3B%0A%20%20int%20v0_1%5B%5D%20%3D%20%7B4%2C5%2C6%7D%3B%0A%20%20int%20v1_0%5B%5D%20%3D%20%7B7%2C8%2C9%7D%3B%0A%20%20int%20v1_1%5B%5D%20%3D%20%7B10%2C11%2C12%7D%3B%0A%20%20/%2A%20Matrices%202D%3A%20Cada%20una%20sera%20un%20plano%20de%20la%20matrix%202D%20%2A/%0A%20%20int%20%2AV0%5B2%5D%3B%20%20%0A%20%20V0%5B0%5D%20%3D%20v0_0%3B%0A%20%20V0%5B1%5D%20%3D%20v0_1%3B%0A%20%20int%20%2AV1%5B2%5D%3B%0A%20%20V1%5B0%5D%20%3D%20v1_0%3B%0A%20%20V1%5B1%5D%20%3D%20v1_1%3B%0A%20%20/%2A%20Matrix%203D%3A%20Formada%20por%202%20matrices%202D%20%2A/%0A%20%20int%20%2A%2AM%5B2%5D%3B%0A%20%20M%5B0%5D%20%3D%20V0%3B%0A%20%20M%5B1%5D%20%3D%20V1%3B%0A%20%20/%2A%20Apuntador%20a%20la%20matrix%203D%20%2A/%0A%20%20int%20%2A%2A%2AMptr%20%3D%20M%3B%0A%20%20/%2A%20Cambio%20de%20valores%20de%20la%20matrix%20a%20traves%20del%20apuntador%2A/%0A%20%20%2A%28%2A%28%2A%28M%20%2B%200%29%20%2B%201%29%20%2B%202%29%20%3D%200%3B%20%20//%20M%5B0%5D%5B1%5D%5B2%5D%20%3D%200%3B%0A%20%20%2A%28%2A%28%2A%28M%20%2B%201%29%20%2B%200%29%20%2B%201%29%20%3D%20-5%3B%20//%20M%5B1%5D%5B0%5D%5B1%5D%20%3D%20-5%3B%0A%20%20%2A%28%2A%28M%5B1%5D%2B%201%29%20%2B%201%29%20%3D%20-15%3B%20%20%20%20%20//%20M%5B1%5D%5B1%5D%5B1%5D%20%3D%20-15%3B%0A%20%20/%2A%20Imprimiendo%20la%20matrix%203D%20%2A/%0A%20%20imprimirMatrix3D%28M%29%3B%20%20%0A%20%20return%200%3B%0A%7D%0A%0A/%2A%2A%20Definicion%20de%20las%20funciones%20%2A/%0Avoid%20imprimirMatrix3D%28int%20%2A%2A%2A%20M3D%29%20%7B%0A%20%20printf%28%22-------------------------%5Cn%22%29%3B%0A%20%20for%28int%20i%20%3D%200%3B%20i%20%3C%20P%3B%20i%2B%2B%29%20%7B%0A%20%20%20%20for%28int%20j%20%3D%200%3B%20j%20%3C%20F%3B%20j%2B%2B%29%20%7B%0A%20%20%20%20%20%20for%28int%20k%20%3D%200%3B%20k%20%3C%20C%3B%20k%2B%2B%29%20%7B%0A%20%20%20%20%20%20%20%20printf%28%22%255d%20%22%2C%20%2A%28%2A%28%2A%28M3D%20%2B%20i%29%20%2B%20j%29%20%2B%20k%29%29%3B%20%20%0A%20%20%20%20%20%20%7D%0A%20%20%20%20%20%20printf%28%22%5Cn%22%29%3B%0A%20%20%20%20%7D%0A%20%20%20%20printf%28%22------------------------%5Cn%22%29%3B%0A%20%20%7D%20%20%20%20%20%20%0A%7D&origin=opt-frontend.js&cumulative=false&heapPrimitives=false&textReferences=false&curInstr=0&&verticalStack=false&py=c&rawInputLstJSON=%5B%5D&codeDivWidth=50%25&codeDivHeight=100%25>Python Tutor</a></strong></div>"
      ],
      "text/plain": [
       "<IPython.core.display.HTML object>"
      ]
     },
     "metadata": {
      "tags": []
     },
     "output_type": "display_data"
    }
   ],
   "source": [
    "%%tutor -l c -k\n",
    "#include <stdio.h>\n",
    "\n",
    "/** Dimensiones de la matrix */\n",
    "\n",
    "const int P = 2; // Planos\n",
    "const int F = 2; // Filas\n",
    "const int C = 3; // Columnas\n",
    "\n",
    "/** Declaracion de las funciones */\n",
    "\n",
    "void imprimirMatrix3D(int *** M3D);\n",
    "\n",
    "/** Funcion principal */\n",
    "\n",
    "int main() {\n",
    "  /* Vectores: Cada no de los cuales sera una fila de la matrix*/\n",
    "  int v0_0[] = {1,2,3};\n",
    "  int v0_1[] = {4,5,6};\n",
    "  int v1_0[] = {7,8,9};\n",
    "  int v1_1[] = {10,11,12};\n",
    "  /* Matrices 2D: Cada una sera un plano de la matrix 2D */\n",
    "  int *V0[2];  \n",
    "  V0[0] = v0_0;\n",
    "  V0[1] = v0_1;\n",
    "  int *V1[2];\n",
    "  V1[0] = v1_0;\n",
    "  V1[1] = v1_1;\n",
    "  /* Matrix 3D: Formada por 2 matrices 2D */\n",
    "  int **M[2];\n",
    "  M[0] = V0;\n",
    "  M[1] = V1;\n",
    "  /* Apuntador a la matrix 3D */\n",
    "  int ***Mptr = M;\n",
    "  /* Cambio de valores de la matrix a traves del apuntador*/\n",
    "  *(*(*(M + 0) + 1) + 2) = 0;  // M[0][1][2] = 0;\n",
    "  *(*(*(M + 1) + 0) + 1) = -5; // M[1][0][1] = -5;\n",
    "  *(*(M[1]+ 1) + 1) = -15;     // M[1][1][1] = -15;\n",
    "  /* Imprimiendo la matrix 3D */\n",
    "  imprimirMatrix3D(M);  \n",
    "  return 0;\n",
    "}\n",
    "\n",
    "/** Definicion de las funciones */\n",
    "void imprimirMatrix3D(int *** M3D) {\n",
    "  printf(\"-------------------------\\n\");\n",
    "  for(int i = 0; i < P; i++) {\n",
    "    for(int j = 0; j < F; j++) {\n",
    "      for(int k = 0; k < C; k++) {\n",
    "        printf(\"%5d \", *(*(*(M3D + i) + j) + k));  \n",
    "      }\n",
    "      printf(\"\\n\");\n",
    "    }\n",
    "    printf(\"------------------------\\n\");\n",
    "  }      \n",
    "}"
   ]
  },
  {
   "cell_type": "markdown",
   "metadata": {
    "colab_type": "text",
    "id": "yRsOZA1qMfc_"
   },
   "source": [
    "La salida en pantalla y las variables se muestran en la siguiente figura, note los niveles jerarquico empleados en los apuntadores:\n",
    "\n",
    "![matrix_28](https://github.com/repos-SO-UdeA/laboratorios/blob/master/lab1/teoria/parte3/imagenes/ptr_matrix3D_output.png?raw=true)\n",
    "\n",
    "**Figura 28**. Matrix 3D y apuntadores.\n"
   ]
  },
  {
   "cell_type": "markdown",
   "metadata": {
    "colab_type": "text",
    "id": "31xSbiOHMoJ8"
   },
   "source": [
    "## 4. Enlaces de interés\n",
    "* https://www.geeksforgeeks.org/pass-2d-array-parameter-c/\n",
    "* https://www.programiz.com/c-programming/c-arrays-functions\n",
    "* https://www.programiz.com/c-programming/examples/matrix-multiplication-function\n",
    "* https://beginnersbook.com/2014/01/c-passing-array-to-function-example/\n",
    "* https://www.codeproject.com/Articles/83080/Dynamic-Three-Dimensional-Arrays-in-C-C-C-Java\n"
   ]
  }
 ],
 "metadata": {
  "colab": {
   "default_view": {},
   "name": "matrices&ptr.ipynb",
   "provenance": [],
   "version": "0.3.2",
   "views": {}
  },
  "kernelspec": {
   "display_name": "Python 3",
   "language": "python",
   "name": "python3"
  },
  "language_info": {
   "codemirror_mode": {
    "name": "ipython",
    "version": 3
   },
   "file_extension": ".py",
   "mimetype": "text/x-python",
   "name": "python",
   "nbconvert_exporter": "python",
   "pygments_lexer": "ipython3",
   "version": "3.7.4"
  }
 },
 "nbformat": 4,
 "nbformat_minor": 1
}
